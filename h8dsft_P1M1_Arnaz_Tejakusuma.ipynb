{
 "cells": [
  {
   "cell_type": "markdown",
   "metadata": {},
   "source": [
    "# Milestone 2"
   ]
  },
  {
   "cell_type": "markdown",
   "metadata": {},
   "source": [
    "# Introduction\n",
    "\n",
    "Nama : Arnaz Tejakusuma\n",
    "\n",
    "Batch : 012\n",
    "\n",
    "URL Heroku: https://arnaz-deployment-frontend.herokuapp.com"
   ]
  },
  {
   "cell_type": "markdown",
   "metadata": {},
   "source": [
    "# World Happiness Report\n",
    "\n",
    "Studi kasus yang digunakan untuk project kali ini adalah World Happiness Report. Di Indonesia, World Happiness Report mungkin lebih banyak dikenal dengan istilah Indeks Kebahagiaan Dunia. Laporan ini pertama kali dirilis oleh United Nations Sustainable Development Solutions Network (UNSDSN) bertepatan dengan International Day of Happiness pada tanggal 20 Maret 2012. Sejak saat itu, laporan ini terus dirilis oleh UNSDSN setiap tahunnya. Dalam pengerjaan laporan ini, UNSDSN bekerja sama dengan Gallup, Inc yang merupakan sebuah lembaga survei terkemuka.\n",
    "\n",
    "Dalam laporan ini, negara-negara di seluruh dunia diranking berdasarkan tingkat kebahagiaan penduduknya. Dalam melakukan penilaian, ada beberapa faktor yang dianggap dapat mempengaruhi tingkat kebahagiaan masyarakat di suatu negara, antara lain:\n",
    "\n",
    "- GDP per capita: besarnya pendapatan rata-rata penduduk di suatu negara\n",
    "\n",
    "- Social support: berkaitan dengan ketersediaan support system. Misalnya, apakah seseorang akan mendapatkan pertolongan dari keluarga, kerabat, atau teman ketika mengalami kesulitan. \n",
    "\n",
    "- Life expectancy: angka harapan hidup\n",
    "\n",
    "- Freedom to make life choices: berkaitan dengan kebebasan seseorang untuk mengekspresikan diri dan menyatakan pendapat pribadi di muka umum.\n",
    "\n",
    "- Generosity: berkaitan dengan amal atau donasi seseorang. Karena ada anggapan bahwa orang yang rajin berdonasi biasanya lebih bahagia, terlebih lagi jika donasi tersebut dilakukan dengan sukarela dan tanpa paksaan.\n",
    "\n",
    "- Perceptions of corruptions: tingkat kepercayaan masyarakat terhadap pemerintah dalam hal penanganan korupsi. Atau bagaimana masyarakat menilai situasi korupsi di negara mereka baik dalam pemerintahan atau lingkungan bisnis secara umum. \n",
    "\n",
    "Laporan ini merupakan laporan yang esensial, karena keenam faktor yang menjadi penenentu dalam laporan ini dapat digunakan untuk menilai tingkat keberhasilan dari pembangunan yang dilakukan oleh pemerintah. Selain itu, laporan ini juga dapat digunakan oleh pengambil keputusan sebagai bahan pertimbangan untuk membuat atau mempertajam kebijakan publik dengan tujuan meningkatkan kesejahtaraan masyarakat.\n",
    "\n",
    "Rentang nilai yang dapat diperoleh sebuah negara adalah 0-10. Dimana 0 merupakan nilai terendah dan 10 merupakan nilai tertinggi. Berdasarkan hasil laporan 5 tahun terakhir, Finlandia yang merupakan negara yang paling bahagia di dunia. Sebagai gambaran, Indonesia menduduki peringkat ke-87. Tepat berada ditengah-tengah, artinya Indonesia memang bukan merupakan negara yang paling tidak bahagia, namun tentunya masih banyak yang harus dilakukan oleh pemerintah atau pengambil keputusan untuk meningatkan kebahagiaan dan kesejahtaraan masyarakat secara umum.\n",
    "\n",
    "Sumber: https://happiness-report.s3.amazonaws.com/2021/Appendix1WHR2021C2.pdf, https://www.bloomberg.com/news/articles/2022-03-18/world-s-happiest-ranking-goes-to-finland-for-fifth-year-in-a-row, https://www.cnbcindonesia.com/lifestyle/20220321113046-33-324483/indonesia-no-87-dalam-daftar-negara-paling-bahagia-di-dunia"
   ]
  },
  {
   "cell_type": "markdown",
   "metadata": {},
   "source": [
    "# Dataset Description\n",
    "\n",
    "Dataset yang digunakan dalam project ini adalah World Happiness Report tahun 2019. Dataset ini berisi ranking dari 156 negara yang disurvei pada tahun 2019. Beserta kolom-kolom seperti 'GDP', 'Social_support', 'Life_expectancy', 'Generosity', dan 'Corruption' yang menjadi penentu tinggi atau rendahnya 'Score' sebuah negara dalam laporan tersebut. Dataset ini dipublish sendiri oleh UNSDSN di Kaggle dengan link sebagai berikut: https://www.kaggle.com/datasets/unsdsn/world-happiness"
   ]
  },
  {
   "cell_type": "markdown",
   "metadata": {},
   "source": [
    "# Objectives\n",
    "\n",
    "Project ini merupakan Milestone 2 di Fase 1 Program FTDS untuk mengevaluasi pemahaman mengenai materi machine learning. Dalam project ini, main objectives-nya adalah memprediksi 'Score' dari suatu negara berkaitan dengan tingkat kebahagiaan penduduknya. Prediksi akan dilakukan dengan konsep regression. Dalam pengerjaan project ini, akan dibuat model Linear Regression dan Polynomial Regression. Kedua model akan dibandingkan untuk melihat model mana yang memiliki performa lebih baik dalam memprediksi 'Score' negara-negara yang masuk dalam dataset inference. "
   ]
  },
  {
   "cell_type": "markdown",
   "metadata": {},
   "source": [
    "# Import libraries"
   ]
  },
  {
   "cell_type": "code",
   "execution_count": 1,
   "metadata": {},
   "outputs": [],
   "source": [
    "import pandas as pd\n",
    "import numpy as np\n",
    "import matplotlib.pyplot as plt\n",
    "import seaborn as sns\n",
    "\n",
    "from datetime import datetime as dt\n",
    "from sklearn.model_selection import train_test_split, GridSearchCV\n",
    "from sklearn.preprocessing import MinMaxScaler, OneHotEncoder\n",
    "from sklearn.linear_model import LinearRegression\n",
    "from sklearn.metrics import mean_absolute_error, mean_absolute_percentage_error, r2_score, mean_squared_error\n",
    "from sklearn.preprocessing import PolynomialFeatures\n",
    "from sklearn.pipeline import make_pipeline\n",
    "\n",
    "import plotly.offline as py\n",
    "import plotly.express as px\n",
    "import pickle"
   ]
  },
  {
   "cell_type": "markdown",
   "metadata": {},
   "source": [
    "# Data loading"
   ]
  },
  {
   "cell_type": "code",
   "execution_count": 2,
   "metadata": {},
   "outputs": [],
   "source": [
    "# Loading dataset\n",
    "df_ori = pd.read_csv('h8dsft_P1M2_Arnaz_Tejakusuma.csv')"
   ]
  },
  {
   "cell_type": "code",
   "execution_count": 3,
   "metadata": {},
   "outputs": [],
   "source": [
    "# Membuat copy dari dataset agar dataset asli tetap utuh dan dapat dicek sewaktu-waktu\n",
    "df_copy = df_ori.copy()"
   ]
  },
  {
   "cell_type": "markdown",
   "metadata": {},
   "source": [
    "# Menampilkan dataset"
   ]
  },
  {
   "cell_type": "code",
   "execution_count": 4,
   "metadata": {},
   "outputs": [],
   "source": [
    "# Mengganti display setting dari dataset agar tidak ada kolom yang terpotong\n",
    "pd.set_option('display.max.columns', None)"
   ]
  },
  {
   "cell_type": "code",
   "execution_count": 5,
   "metadata": {},
   "outputs": [
    {
     "data": {
      "text/html": [
       "<div>\n",
       "<style scoped>\n",
       "    .dataframe tbody tr th:only-of-type {\n",
       "        vertical-align: middle;\n",
       "    }\n",
       "\n",
       "    .dataframe tbody tr th {\n",
       "        vertical-align: top;\n",
       "    }\n",
       "\n",
       "    .dataframe thead th {\n",
       "        text-align: right;\n",
       "    }\n",
       "</style>\n",
       "<table border=\"1\" class=\"dataframe\">\n",
       "  <thead>\n",
       "    <tr style=\"text-align: right;\">\n",
       "      <th></th>\n",
       "      <th>Overall rank</th>\n",
       "      <th>Country or region</th>\n",
       "      <th>Score</th>\n",
       "      <th>GDP per capita</th>\n",
       "      <th>Social support</th>\n",
       "      <th>Healthy life expectancy</th>\n",
       "      <th>Freedom to make life choices</th>\n",
       "      <th>Generosity</th>\n",
       "      <th>Perceptions of corruption</th>\n",
       "    </tr>\n",
       "  </thead>\n",
       "  <tbody>\n",
       "    <tr>\n",
       "      <th>0</th>\n",
       "      <td>1</td>\n",
       "      <td>Finland</td>\n",
       "      <td>7.769</td>\n",
       "      <td>1.340</td>\n",
       "      <td>1.587</td>\n",
       "      <td>0.986</td>\n",
       "      <td>0.596</td>\n",
       "      <td>0.153</td>\n",
       "      <td>0.393</td>\n",
       "    </tr>\n",
       "    <tr>\n",
       "      <th>1</th>\n",
       "      <td>2</td>\n",
       "      <td>Denmark</td>\n",
       "      <td>7.600</td>\n",
       "      <td>1.383</td>\n",
       "      <td>1.573</td>\n",
       "      <td>0.996</td>\n",
       "      <td>0.592</td>\n",
       "      <td>0.252</td>\n",
       "      <td>0.410</td>\n",
       "    </tr>\n",
       "    <tr>\n",
       "      <th>2</th>\n",
       "      <td>3</td>\n",
       "      <td>Norway</td>\n",
       "      <td>7.554</td>\n",
       "      <td>1.488</td>\n",
       "      <td>1.582</td>\n",
       "      <td>1.028</td>\n",
       "      <td>0.603</td>\n",
       "      <td>0.271</td>\n",
       "      <td>0.341</td>\n",
       "    </tr>\n",
       "    <tr>\n",
       "      <th>3</th>\n",
       "      <td>4</td>\n",
       "      <td>Iceland</td>\n",
       "      <td>7.494</td>\n",
       "      <td>1.380</td>\n",
       "      <td>1.624</td>\n",
       "      <td>1.026</td>\n",
       "      <td>0.591</td>\n",
       "      <td>0.354</td>\n",
       "      <td>0.118</td>\n",
       "    </tr>\n",
       "    <tr>\n",
       "      <th>4</th>\n",
       "      <td>5</td>\n",
       "      <td>Netherlands</td>\n",
       "      <td>7.488</td>\n",
       "      <td>1.396</td>\n",
       "      <td>1.522</td>\n",
       "      <td>0.999</td>\n",
       "      <td>0.557</td>\n",
       "      <td>0.322</td>\n",
       "      <td>0.298</td>\n",
       "    </tr>\n",
       "  </tbody>\n",
       "</table>\n",
       "</div>"
      ],
      "text/plain": [
       "   Overall rank Country or region  Score  GDP per capita  Social support  \\\n",
       "0             1           Finland  7.769           1.340           1.587   \n",
       "1             2           Denmark  7.600           1.383           1.573   \n",
       "2             3            Norway  7.554           1.488           1.582   \n",
       "3             4           Iceland  7.494           1.380           1.624   \n",
       "4             5       Netherlands  7.488           1.396           1.522   \n",
       "\n",
       "   Healthy life expectancy  Freedom to make life choices  Generosity  \\\n",
       "0                    0.986                         0.596       0.153   \n",
       "1                    0.996                         0.592       0.252   \n",
       "2                    1.028                         0.603       0.271   \n",
       "3                    1.026                         0.591       0.354   \n",
       "4                    0.999                         0.557       0.322   \n",
       "\n",
       "   Perceptions of corruption  \n",
       "0                      0.393  \n",
       "1                      0.410  \n",
       "2                      0.341  \n",
       "3                      0.118  \n",
       "4                      0.298  "
      ]
     },
     "execution_count": 5,
     "metadata": {},
     "output_type": "execute_result"
    }
   ],
   "source": [
    "# Memastikan dataset berhasil diload dengan baik, menampilkan 5 baris awal dari dataset\n",
    "df_copy.head(5)"
   ]
  },
  {
   "cell_type": "code",
   "execution_count": 6,
   "metadata": {},
   "outputs": [
    {
     "data": {
      "text/html": [
       "<div>\n",
       "<style scoped>\n",
       "    .dataframe tbody tr th:only-of-type {\n",
       "        vertical-align: middle;\n",
       "    }\n",
       "\n",
       "    .dataframe tbody tr th {\n",
       "        vertical-align: top;\n",
       "    }\n",
       "\n",
       "    .dataframe thead th {\n",
       "        text-align: right;\n",
       "    }\n",
       "</style>\n",
       "<table border=\"1\" class=\"dataframe\">\n",
       "  <thead>\n",
       "    <tr style=\"text-align: right;\">\n",
       "      <th></th>\n",
       "      <th>Overall rank</th>\n",
       "      <th>Country or region</th>\n",
       "      <th>Score</th>\n",
       "      <th>GDP per capita</th>\n",
       "      <th>Social support</th>\n",
       "      <th>Healthy life expectancy</th>\n",
       "      <th>Freedom to make life choices</th>\n",
       "      <th>Generosity</th>\n",
       "      <th>Perceptions of corruption</th>\n",
       "    </tr>\n",
       "  </thead>\n",
       "  <tbody>\n",
       "    <tr>\n",
       "      <th>151</th>\n",
       "      <td>152</td>\n",
       "      <td>Rwanda</td>\n",
       "      <td>3.334</td>\n",
       "      <td>0.359</td>\n",
       "      <td>0.711</td>\n",
       "      <td>0.614</td>\n",
       "      <td>0.555</td>\n",
       "      <td>0.217</td>\n",
       "      <td>0.411</td>\n",
       "    </tr>\n",
       "    <tr>\n",
       "      <th>152</th>\n",
       "      <td>153</td>\n",
       "      <td>Tanzania</td>\n",
       "      <td>3.231</td>\n",
       "      <td>0.476</td>\n",
       "      <td>0.885</td>\n",
       "      <td>0.499</td>\n",
       "      <td>0.417</td>\n",
       "      <td>0.276</td>\n",
       "      <td>0.147</td>\n",
       "    </tr>\n",
       "    <tr>\n",
       "      <th>153</th>\n",
       "      <td>154</td>\n",
       "      <td>Afghanistan</td>\n",
       "      <td>3.203</td>\n",
       "      <td>0.350</td>\n",
       "      <td>0.517</td>\n",
       "      <td>0.361</td>\n",
       "      <td>0.000</td>\n",
       "      <td>0.158</td>\n",
       "      <td>0.025</td>\n",
       "    </tr>\n",
       "    <tr>\n",
       "      <th>154</th>\n",
       "      <td>155</td>\n",
       "      <td>Central African Republic</td>\n",
       "      <td>3.083</td>\n",
       "      <td>0.026</td>\n",
       "      <td>0.000</td>\n",
       "      <td>0.105</td>\n",
       "      <td>0.225</td>\n",
       "      <td>0.235</td>\n",
       "      <td>0.035</td>\n",
       "    </tr>\n",
       "    <tr>\n",
       "      <th>155</th>\n",
       "      <td>156</td>\n",
       "      <td>South Sudan</td>\n",
       "      <td>2.853</td>\n",
       "      <td>0.306</td>\n",
       "      <td>0.575</td>\n",
       "      <td>0.295</td>\n",
       "      <td>0.010</td>\n",
       "      <td>0.202</td>\n",
       "      <td>0.091</td>\n",
       "    </tr>\n",
       "  </tbody>\n",
       "</table>\n",
       "</div>"
      ],
      "text/plain": [
       "     Overall rank         Country or region  Score  GDP per capita  \\\n",
       "151           152                    Rwanda  3.334           0.359   \n",
       "152           153                  Tanzania  3.231           0.476   \n",
       "153           154               Afghanistan  3.203           0.350   \n",
       "154           155  Central African Republic  3.083           0.026   \n",
       "155           156               South Sudan  2.853           0.306   \n",
       "\n",
       "     Social support  Healthy life expectancy  Freedom to make life choices  \\\n",
       "151           0.711                    0.614                         0.555   \n",
       "152           0.885                    0.499                         0.417   \n",
       "153           0.517                    0.361                         0.000   \n",
       "154           0.000                    0.105                         0.225   \n",
       "155           0.575                    0.295                         0.010   \n",
       "\n",
       "     Generosity  Perceptions of corruption  \n",
       "151       0.217                      0.411  \n",
       "152       0.276                      0.147  \n",
       "153       0.158                      0.025  \n",
       "154       0.235                      0.035  \n",
       "155       0.202                      0.091  "
      ]
     },
     "execution_count": 6,
     "metadata": {},
     "output_type": "execute_result"
    }
   ],
   "source": [
    "# Memastikan dataset berhasil diload dengan baik, menampilkan 5 baris akhir dari dataset\n",
    "df_copy.tail(5)"
   ]
  },
  {
   "cell_type": "code",
   "execution_count": 7,
   "metadata": {},
   "outputs": [
    {
     "data": {
      "text/html": [
       "<div>\n",
       "<style scoped>\n",
       "    .dataframe tbody tr th:only-of-type {\n",
       "        vertical-align: middle;\n",
       "    }\n",
       "\n",
       "    .dataframe tbody tr th {\n",
       "        vertical-align: top;\n",
       "    }\n",
       "\n",
       "    .dataframe thead th {\n",
       "        text-align: right;\n",
       "    }\n",
       "</style>\n",
       "<table border=\"1\" class=\"dataframe\">\n",
       "  <thead>\n",
       "    <tr style=\"text-align: right;\">\n",
       "      <th></th>\n",
       "      <th>Overall rank</th>\n",
       "      <th>Country or region</th>\n",
       "      <th>Score</th>\n",
       "      <th>GDP per capita</th>\n",
       "      <th>Social support</th>\n",
       "      <th>Healthy life expectancy</th>\n",
       "      <th>Freedom to make life choices</th>\n",
       "      <th>Generosity</th>\n",
       "      <th>Perceptions of corruption</th>\n",
       "    </tr>\n",
       "  </thead>\n",
       "  <tbody>\n",
       "    <tr>\n",
       "      <th>93</th>\n",
       "      <td>94</td>\n",
       "      <td>Vietnam</td>\n",
       "      <td>5.175</td>\n",
       "      <td>0.741</td>\n",
       "      <td>1.346</td>\n",
       "      <td>0.851</td>\n",
       "      <td>0.543</td>\n",
       "      <td>0.147</td>\n",
       "      <td>0.073</td>\n",
       "    </tr>\n",
       "    <tr>\n",
       "      <th>69</th>\n",
       "      <td>70</td>\n",
       "      <td>Serbia</td>\n",
       "      <td>5.603</td>\n",
       "      <td>1.004</td>\n",
       "      <td>1.383</td>\n",
       "      <td>0.854</td>\n",
       "      <td>0.282</td>\n",
       "      <td>0.137</td>\n",
       "      <td>0.039</td>\n",
       "    </tr>\n",
       "    <tr>\n",
       "      <th>6</th>\n",
       "      <td>7</td>\n",
       "      <td>Sweden</td>\n",
       "      <td>7.343</td>\n",
       "      <td>1.387</td>\n",
       "      <td>1.487</td>\n",
       "      <td>1.009</td>\n",
       "      <td>0.574</td>\n",
       "      <td>0.267</td>\n",
       "      <td>0.373</td>\n",
       "    </tr>\n",
       "    <tr>\n",
       "      <th>47</th>\n",
       "      <td>48</td>\n",
       "      <td>Romania</td>\n",
       "      <td>6.070</td>\n",
       "      <td>1.162</td>\n",
       "      <td>1.232</td>\n",
       "      <td>0.825</td>\n",
       "      <td>0.462</td>\n",
       "      <td>0.083</td>\n",
       "      <td>0.005</td>\n",
       "    </tr>\n",
       "    <tr>\n",
       "      <th>27</th>\n",
       "      <td>28</td>\n",
       "      <td>Saudi Arabia</td>\n",
       "      <td>6.375</td>\n",
       "      <td>1.403</td>\n",
       "      <td>1.357</td>\n",
       "      <td>0.795</td>\n",
       "      <td>0.439</td>\n",
       "      <td>0.080</td>\n",
       "      <td>0.132</td>\n",
       "    </tr>\n",
       "  </tbody>\n",
       "</table>\n",
       "</div>"
      ],
      "text/plain": [
       "    Overall rank Country or region  Score  GDP per capita  Social support  \\\n",
       "93            94           Vietnam  5.175           0.741           1.346   \n",
       "69            70            Serbia  5.603           1.004           1.383   \n",
       "6              7            Sweden  7.343           1.387           1.487   \n",
       "47            48           Romania  6.070           1.162           1.232   \n",
       "27            28      Saudi Arabia  6.375           1.403           1.357   \n",
       "\n",
       "    Healthy life expectancy  Freedom to make life choices  Generosity  \\\n",
       "93                    0.851                         0.543       0.147   \n",
       "69                    0.854                         0.282       0.137   \n",
       "6                     1.009                         0.574       0.267   \n",
       "47                    0.825                         0.462       0.083   \n",
       "27                    0.795                         0.439       0.080   \n",
       "\n",
       "    Perceptions of corruption  \n",
       "93                      0.073  \n",
       "69                      0.039  \n",
       "6                       0.373  \n",
       "47                      0.005  \n",
       "27                      0.132  "
      ]
     },
     "execution_count": 7,
     "metadata": {},
     "output_type": "execute_result"
    }
   ],
   "source": [
    "# Memastikan dataset berhasil diload dengan baik, menampilkan 5 baris secara acak dari dataset\n",
    "df_copy.sample(5)"
   ]
  },
  {
   "cell_type": "code",
   "execution_count": 8,
   "metadata": {},
   "outputs": [],
   "source": [
    "# Mengganti nama kolom agar lebih mudah saat pengerjaan coding\n",
    "df_copy.rename(columns = {'Overall rank':'Rank', 'Country or region':'Country', 'GDP per capita': 'GDP', 'Social support': 'Social_support', 'Healthy life expectancy': 'Life_expectancy', 'Freedom to make life choices':'Freedom', 'Perceptions of corruption': 'Corruption'}, inplace = True)"
   ]
  },
  {
   "cell_type": "markdown",
   "metadata": {},
   "source": [
    "# Preview Dataset"
   ]
  },
  {
   "cell_type": "code",
   "execution_count": 9,
   "metadata": {},
   "outputs": [
    {
     "data": {
      "text/plain": [
       "(156, 9)"
      ]
     },
     "execution_count": 9,
     "metadata": {},
     "output_type": "execute_result"
    }
   ],
   "source": [
    "# Memastikan total jumlah baris dan kolom dari dataset\n",
    "df_copy.shape"
   ]
  },
  {
   "cell_type": "markdown",
   "metadata": {},
   "source": [
    "Dataset terdiri ini terdiri dari:\n",
    "\n",
    "- 156 baris\n",
    "- 9 kolom"
   ]
  },
  {
   "cell_type": "code",
   "execution_count": 10,
   "metadata": {},
   "outputs": [
    {
     "name": "stdout",
     "output_type": "stream",
     "text": [
      "<class 'pandas.core.frame.DataFrame'>\n",
      "RangeIndex: 156 entries, 0 to 155\n",
      "Data columns (total 9 columns):\n",
      " #   Column           Non-Null Count  Dtype  \n",
      "---  ------           --------------  -----  \n",
      " 0   Rank             156 non-null    int64  \n",
      " 1   Country          156 non-null    object \n",
      " 2   Score            156 non-null    float64\n",
      " 3   GDP              156 non-null    float64\n",
      " 4   Social_support   156 non-null    float64\n",
      " 5   Life_expectancy  156 non-null    float64\n",
      " 6   Freedom          156 non-null    float64\n",
      " 7   Generosity       156 non-null    float64\n",
      " 8   Corruption       156 non-null    float64\n",
      "dtypes: float64(7), int64(1), object(1)\n",
      "memory usage: 11.1+ KB\n"
     ]
    }
   ],
   "source": [
    "# Memeriksa tipe data\n",
    "df_copy.info()"
   ]
  },
  {
   "cell_type": "code",
   "execution_count": 11,
   "metadata": {},
   "outputs": [
    {
     "data": {
      "text/plain": [
       "Rank               0\n",
       "Country            0\n",
       "Score              0\n",
       "GDP                0\n",
       "Social_support     0\n",
       "Life_expectancy    0\n",
       "Freedom            0\n",
       "Generosity         0\n",
       "Corruption         0\n",
       "dtype: int64"
      ]
     },
     "execution_count": 11,
     "metadata": {},
     "output_type": "execute_result"
    }
   ],
   "source": [
    "# Memastikan kolom yang memiliki entry null\n",
    "df_copy.isnull().sum()"
   ]
  },
  {
   "cell_type": "markdown",
   "metadata": {},
   "source": [
    "Berdasarkan pengamatan singkat, dataset ini:\n",
    "- Terdiri dari 7 kolom bertipe float, 1 kolom bertipe object, dan 1 kolom bertipe integer.\n",
    "- Tidak ditemukan missing value dalam dataset ini."
   ]
  },
  {
   "cell_type": "code",
   "execution_count": 12,
   "metadata": {},
   "outputs": [
    {
     "data": {
      "text/html": [
       "<div>\n",
       "<style scoped>\n",
       "    .dataframe tbody tr th:only-of-type {\n",
       "        vertical-align: middle;\n",
       "    }\n",
       "\n",
       "    .dataframe tbody tr th {\n",
       "        vertical-align: top;\n",
       "    }\n",
       "\n",
       "    .dataframe thead th {\n",
       "        text-align: right;\n",
       "    }\n",
       "</style>\n",
       "<table border=\"1\" class=\"dataframe\">\n",
       "  <thead>\n",
       "    <tr style=\"text-align: right;\">\n",
       "      <th></th>\n",
       "      <th>count</th>\n",
       "      <th>mean</th>\n",
       "      <th>std</th>\n",
       "      <th>min</th>\n",
       "      <th>25%</th>\n",
       "      <th>50%</th>\n",
       "      <th>75%</th>\n",
       "      <th>max</th>\n",
       "    </tr>\n",
       "  </thead>\n",
       "  <tbody>\n",
       "    <tr>\n",
       "      <th>Rank</th>\n",
       "      <td>156.0</td>\n",
       "      <td>78.500000</td>\n",
       "      <td>45.177428</td>\n",
       "      <td>1.000</td>\n",
       "      <td>39.75000</td>\n",
       "      <td>78.5000</td>\n",
       "      <td>117.25000</td>\n",
       "      <td>156.000</td>\n",
       "    </tr>\n",
       "    <tr>\n",
       "      <th>Score</th>\n",
       "      <td>156.0</td>\n",
       "      <td>5.407096</td>\n",
       "      <td>1.113120</td>\n",
       "      <td>2.853</td>\n",
       "      <td>4.54450</td>\n",
       "      <td>5.3795</td>\n",
       "      <td>6.18450</td>\n",
       "      <td>7.769</td>\n",
       "    </tr>\n",
       "    <tr>\n",
       "      <th>GDP</th>\n",
       "      <td>156.0</td>\n",
       "      <td>0.905147</td>\n",
       "      <td>0.398389</td>\n",
       "      <td>0.000</td>\n",
       "      <td>0.60275</td>\n",
       "      <td>0.9600</td>\n",
       "      <td>1.23250</td>\n",
       "      <td>1.684</td>\n",
       "    </tr>\n",
       "    <tr>\n",
       "      <th>Social_support</th>\n",
       "      <td>156.0</td>\n",
       "      <td>1.208814</td>\n",
       "      <td>0.299191</td>\n",
       "      <td>0.000</td>\n",
       "      <td>1.05575</td>\n",
       "      <td>1.2715</td>\n",
       "      <td>1.45250</td>\n",
       "      <td>1.624</td>\n",
       "    </tr>\n",
       "    <tr>\n",
       "      <th>Life_expectancy</th>\n",
       "      <td>156.0</td>\n",
       "      <td>0.725244</td>\n",
       "      <td>0.242124</td>\n",
       "      <td>0.000</td>\n",
       "      <td>0.54775</td>\n",
       "      <td>0.7890</td>\n",
       "      <td>0.88175</td>\n",
       "      <td>1.141</td>\n",
       "    </tr>\n",
       "    <tr>\n",
       "      <th>Freedom</th>\n",
       "      <td>156.0</td>\n",
       "      <td>0.392571</td>\n",
       "      <td>0.143289</td>\n",
       "      <td>0.000</td>\n",
       "      <td>0.30800</td>\n",
       "      <td>0.4170</td>\n",
       "      <td>0.50725</td>\n",
       "      <td>0.631</td>\n",
       "    </tr>\n",
       "    <tr>\n",
       "      <th>Generosity</th>\n",
       "      <td>156.0</td>\n",
       "      <td>0.184846</td>\n",
       "      <td>0.095254</td>\n",
       "      <td>0.000</td>\n",
       "      <td>0.10875</td>\n",
       "      <td>0.1775</td>\n",
       "      <td>0.24825</td>\n",
       "      <td>0.566</td>\n",
       "    </tr>\n",
       "    <tr>\n",
       "      <th>Corruption</th>\n",
       "      <td>156.0</td>\n",
       "      <td>0.110603</td>\n",
       "      <td>0.094538</td>\n",
       "      <td>0.000</td>\n",
       "      <td>0.04700</td>\n",
       "      <td>0.0855</td>\n",
       "      <td>0.14125</td>\n",
       "      <td>0.453</td>\n",
       "    </tr>\n",
       "  </tbody>\n",
       "</table>\n",
       "</div>"
      ],
      "text/plain": [
       "                 count       mean        std    min       25%      50%  \\\n",
       "Rank             156.0  78.500000  45.177428  1.000  39.75000  78.5000   \n",
       "Score            156.0   5.407096   1.113120  2.853   4.54450   5.3795   \n",
       "GDP              156.0   0.905147   0.398389  0.000   0.60275   0.9600   \n",
       "Social_support   156.0   1.208814   0.299191  0.000   1.05575   1.2715   \n",
       "Life_expectancy  156.0   0.725244   0.242124  0.000   0.54775   0.7890   \n",
       "Freedom          156.0   0.392571   0.143289  0.000   0.30800   0.4170   \n",
       "Generosity       156.0   0.184846   0.095254  0.000   0.10875   0.1775   \n",
       "Corruption       156.0   0.110603   0.094538  0.000   0.04700   0.0855   \n",
       "\n",
       "                       75%      max  \n",
       "Rank             117.25000  156.000  \n",
       "Score              6.18450    7.769  \n",
       "GDP                1.23250    1.684  \n",
       "Social_support     1.45250    1.624  \n",
       "Life_expectancy    0.88175    1.141  \n",
       "Freedom            0.50725    0.631  \n",
       "Generosity         0.24825    0.566  \n",
       "Corruption         0.14125    0.453  "
      ]
     },
     "execution_count": 12,
     "metadata": {},
     "output_type": "execute_result"
    }
   ],
   "source": [
    "df_copy.describe().T"
   ]
  },
  {
   "cell_type": "markdown",
   "metadata": {},
   "source": [
    "Berdasarkan pengamatan singkat, tidak terdapat entry dengan value anomali dalam dataset ini."
   ]
  },
  {
   "cell_type": "markdown",
   "metadata": {},
   "source": [
    "# Exploratory Data Analysis (EDA)"
   ]
  },
  {
   "cell_type": "code",
   "execution_count": 13,
   "metadata": {},
   "outputs": [
    {
     "data": {
      "text/html": [
       "        <script type=\"text/javascript\">\n",
       "        window.PlotlyConfig = {MathJaxConfig: 'local'};\n",
       "        if (window.MathJax) {MathJax.Hub.Config({SVG: {font: \"STIX-Web\"}});}\n",
       "        if (typeof require !== 'undefined') {\n",
       "        require.undef(\"plotly\");\n",
       "        requirejs.config({\n",
       "            paths: {\n",
       "                'plotly': ['https://cdn.plot.ly/plotly-2.9.0.min']\n",
       "            }\n",
       "        });\n",
       "        require(['plotly'], function(Plotly) {\n",
       "            window._Plotly = Plotly;\n",
       "        });\n",
       "        }\n",
       "        </script>\n",
       "        "
      ]
     },
     "metadata": {},
     "output_type": "display_data"
    },
    {
     "data": {
      "application/vnd.plotly.v1+json": {
       "config": {
        "plotlyServerURL": "https://plot.ly"
       },
       "data": [
        {
         "coloraxis": "coloraxis",
         "customdata": [
          [
           "Finland",
           7.769
          ],
          [
           "Denmark",
           7.6
          ],
          [
           "Norway",
           7.554
          ],
          [
           "Iceland",
           7.494
          ],
          [
           "Netherlands",
           7.488
          ],
          [
           "Switzerland",
           7.48
          ],
          [
           "Sweden",
           7.343
          ],
          [
           "New Zealand",
           7.307
          ],
          [
           "Canada",
           7.278
          ],
          [
           "Austria",
           7.246
          ],
          [
           "Australia",
           7.228
          ],
          [
           "Costa Rica",
           7.167
          ],
          [
           "Israel",
           7.139
          ],
          [
           "Luxembourg",
           7.09
          ],
          [
           "United Kingdom",
           7.054
          ],
          [
           "Ireland",
           7.021
          ],
          [
           "Germany",
           6.985
          ],
          [
           "Belgium",
           6.923
          ],
          [
           "United States",
           6.892
          ],
          [
           "Czech Republic",
           6.852
          ],
          [
           "United Arab Emirates",
           6.825
          ],
          [
           "Malta",
           6.726
          ],
          [
           "Mexico",
           6.595
          ],
          [
           "France",
           6.592
          ],
          [
           "Taiwan",
           6.446
          ],
          [
           "Chile",
           6.444
          ],
          [
           "Guatemala",
           6.436
          ],
          [
           "Saudi Arabia",
           6.375
          ],
          [
           "Qatar",
           6.374
          ],
          [
           "Spain",
           6.354
          ],
          [
           "Panama",
           6.321
          ],
          [
           "Brazil",
           6.3
          ],
          [
           "Uruguay",
           6.293
          ],
          [
           "Singapore",
           6.262
          ],
          [
           "El Salvador",
           6.253
          ],
          [
           "Italy",
           6.223
          ],
          [
           "Bahrain",
           6.199
          ],
          [
           "Slovakia",
           6.198
          ],
          [
           "Trinidad & Tobago",
           6.192
          ],
          [
           "Poland",
           6.182
          ],
          [
           "Uzbekistan",
           6.174
          ],
          [
           "Lithuania",
           6.149
          ],
          [
           "Colombia",
           6.125
          ],
          [
           "Slovenia",
           6.118
          ],
          [
           "Nicaragua",
           6.105
          ],
          [
           "Kosovo",
           6.1
          ],
          [
           "Argentina",
           6.086
          ],
          [
           "Romania",
           6.07
          ],
          [
           "Cyprus",
           6.046
          ],
          [
           "Ecuador",
           6.028
          ],
          [
           "Kuwait",
           6.021
          ],
          [
           "Thailand",
           6.008
          ],
          [
           "Latvia",
           5.94
          ],
          [
           "South Korea",
           5.895
          ],
          [
           "Estonia",
           5.893
          ],
          [
           "Jamaica",
           5.89
          ],
          [
           "Mauritius",
           5.888
          ],
          [
           "Japan",
           5.886
          ],
          [
           "Honduras",
           5.86
          ],
          [
           "Kazakhstan",
           5.809
          ],
          [
           "Bolivia",
           5.779
          ],
          [
           "Hungary",
           5.758
          ],
          [
           "Paraguay",
           5.743
          ],
          [
           "Northern Cyprus",
           5.718
          ],
          [
           "Peru",
           5.697
          ],
          [
           "Portugal",
           5.693
          ],
          [
           "Pakistan",
           5.653
          ],
          [
           "Russia",
           5.648
          ],
          [
           "Philippines",
           5.631
          ],
          [
           "Serbia",
           5.603
          ],
          [
           "Moldova",
           5.529
          ],
          [
           "Libya",
           5.525
          ],
          [
           "Montenegro",
           5.523
          ],
          [
           "Tajikistan",
           5.467
          ],
          [
           "Croatia",
           5.432
          ],
          [
           "Hong Kong",
           5.43
          ],
          [
           "Dominican Republic",
           5.425
          ],
          [
           "Bosnia and Herzegovina",
           5.386
          ],
          [
           "Turkey",
           5.373
          ],
          [
           "Malaysia",
           5.339
          ],
          [
           "Belarus",
           5.323
          ],
          [
           "Greece",
           5.287
          ],
          [
           "Mongolia",
           5.285
          ],
          [
           "North Macedonia",
           5.274
          ],
          [
           "Nigeria",
           5.265
          ],
          [
           "Kyrgyzstan",
           5.261
          ],
          [
           "Turkmenistan",
           5.247
          ],
          [
           "Algeria",
           5.211
          ],
          [
           "Morocco",
           5.208
          ],
          [
           "Azerbaijan",
           5.208
          ],
          [
           "Lebanon",
           5.197
          ],
          [
           "Indonesia",
           5.192
          ],
          [
           "China",
           5.191
          ],
          [
           "Vietnam",
           5.175
          ],
          [
           "Bhutan",
           5.082
          ],
          [
           "Cameroon",
           5.044
          ],
          [
           "Bulgaria",
           5.011
          ],
          [
           "Ghana",
           4.996
          ],
          [
           "Ivory Coast",
           4.944
          ],
          [
           "Nepal",
           4.913
          ],
          [
           "Jordan",
           4.906
          ],
          [
           "Benin",
           4.883
          ],
          [
           "Congo (Brazzaville)",
           4.812
          ],
          [
           "Gabon",
           4.799
          ],
          [
           "Laos",
           4.796
          ],
          [
           "South Africa",
           4.722
          ],
          [
           "Albania",
           4.719
          ],
          [
           "Venezuela",
           4.707
          ],
          [
           "Cambodia",
           4.7
          ],
          [
           "Palestinian Territories",
           4.696
          ],
          [
           "Senegal",
           4.681
          ],
          [
           "Somalia",
           4.668
          ],
          [
           "Namibia",
           4.639
          ],
          [
           "Niger",
           4.628
          ],
          [
           "Burkina Faso",
           4.587
          ],
          [
           "Armenia",
           4.559
          ],
          [
           "Iran",
           4.548
          ],
          [
           "Guinea",
           4.534
          ],
          [
           "Georgia",
           4.519
          ],
          [
           "Gambia",
           4.516
          ],
          [
           "Kenya",
           4.509
          ],
          [
           "Mauritania",
           4.49
          ],
          [
           "Mozambique",
           4.466
          ],
          [
           "Tunisia",
           4.461
          ],
          [
           "Bangladesh",
           4.456
          ],
          [
           "Iraq",
           4.437
          ],
          [
           "Congo (Kinshasa)",
           4.418
          ],
          [
           "Mali",
           4.39
          ],
          [
           "Sierra Leone",
           4.374
          ],
          [
           "Sri Lanka",
           4.366
          ],
          [
           "Myanmar",
           4.36
          ],
          [
           "Chad",
           4.35
          ],
          [
           "Ukraine",
           4.332
          ],
          [
           "Ethiopia",
           4.286
          ],
          [
           "Swaziland",
           4.212
          ],
          [
           "Uganda",
           4.189
          ],
          [
           "Egypt",
           4.166
          ],
          [
           "Zambia",
           4.107
          ],
          [
           "Togo",
           4.085
          ],
          [
           "India",
           4.015
          ],
          [
           "Liberia",
           3.975
          ],
          [
           "Comoros",
           3.973
          ],
          [
           "Madagascar",
           3.933
          ],
          [
           "Lesotho",
           3.802
          ],
          [
           "Burundi",
           3.775
          ],
          [
           "Zimbabwe",
           3.663
          ],
          [
           "Haiti",
           3.597
          ],
          [
           "Botswana",
           3.488
          ],
          [
           "Syria",
           3.462
          ],
          [
           "Malawi",
           3.41
          ],
          [
           "Yemen",
           3.38
          ],
          [
           "Rwanda",
           3.334
          ],
          [
           "Tanzania",
           3.231
          ],
          [
           "Afghanistan",
           3.203
          ],
          [
           "Central African Republic",
           3.083
          ],
          [
           "South Sudan",
           2.853
          ]
         ],
         "geo": "geo",
         "hovertemplate": "<b>%{hovertext}</b><br><br>Score=%{z}<extra></extra>",
         "hovertext": [
          "Finland",
          "Denmark",
          "Norway",
          "Iceland",
          "Netherlands",
          "Switzerland",
          "Sweden",
          "New Zealand",
          "Canada",
          "Austria",
          "Australia",
          "Costa Rica",
          "Israel",
          "Luxembourg",
          "United Kingdom",
          "Ireland",
          "Germany",
          "Belgium",
          "United States",
          "Czech Republic",
          "United Arab Emirates",
          "Malta",
          "Mexico",
          "France",
          "Taiwan",
          "Chile",
          "Guatemala",
          "Saudi Arabia",
          "Qatar",
          "Spain",
          "Panama",
          "Brazil",
          "Uruguay",
          "Singapore",
          "El Salvador",
          "Italy",
          "Bahrain",
          "Slovakia",
          "Trinidad & Tobago",
          "Poland",
          "Uzbekistan",
          "Lithuania",
          "Colombia",
          "Slovenia",
          "Nicaragua",
          "Kosovo",
          "Argentina",
          "Romania",
          "Cyprus",
          "Ecuador",
          "Kuwait",
          "Thailand",
          "Latvia",
          "South Korea",
          "Estonia",
          "Jamaica",
          "Mauritius",
          "Japan",
          "Honduras",
          "Kazakhstan",
          "Bolivia",
          "Hungary",
          "Paraguay",
          "Northern Cyprus",
          "Peru",
          "Portugal",
          "Pakistan",
          "Russia",
          "Philippines",
          "Serbia",
          "Moldova",
          "Libya",
          "Montenegro",
          "Tajikistan",
          "Croatia",
          "Hong Kong",
          "Dominican Republic",
          "Bosnia and Herzegovina",
          "Turkey",
          "Malaysia",
          "Belarus",
          "Greece",
          "Mongolia",
          "North Macedonia",
          "Nigeria",
          "Kyrgyzstan",
          "Turkmenistan",
          "Algeria",
          "Morocco",
          "Azerbaijan",
          "Lebanon",
          "Indonesia",
          "China",
          "Vietnam",
          "Bhutan",
          "Cameroon",
          "Bulgaria",
          "Ghana",
          "Ivory Coast",
          "Nepal",
          "Jordan",
          "Benin",
          "Congo (Brazzaville)",
          "Gabon",
          "Laos",
          "South Africa",
          "Albania",
          "Venezuela",
          "Cambodia",
          "Palestinian Territories",
          "Senegal",
          "Somalia",
          "Namibia",
          "Niger",
          "Burkina Faso",
          "Armenia",
          "Iran",
          "Guinea",
          "Georgia",
          "Gambia",
          "Kenya",
          "Mauritania",
          "Mozambique",
          "Tunisia",
          "Bangladesh",
          "Iraq",
          "Congo (Kinshasa)",
          "Mali",
          "Sierra Leone",
          "Sri Lanka",
          "Myanmar",
          "Chad",
          "Ukraine",
          "Ethiopia",
          "Swaziland",
          "Uganda",
          "Egypt",
          "Zambia",
          "Togo",
          "India",
          "Liberia",
          "Comoros",
          "Madagascar",
          "Lesotho",
          "Burundi",
          "Zimbabwe",
          "Haiti",
          "Botswana",
          "Syria",
          "Malawi",
          "Yemen",
          "Rwanda",
          "Tanzania",
          "Afghanistan",
          "Central African Republic",
          "South Sudan"
         ],
         "locationmode": "country names",
         "locations": [
          "Finland",
          "Denmark",
          "Norway",
          "Iceland",
          "Netherlands",
          "Switzerland",
          "Sweden",
          "New Zealand",
          "Canada",
          "Austria",
          "Australia",
          "Costa Rica",
          "Israel",
          "Luxembourg",
          "United Kingdom",
          "Ireland",
          "Germany",
          "Belgium",
          "United States",
          "Czech Republic",
          "United Arab Emirates",
          "Malta",
          "Mexico",
          "France",
          "Taiwan",
          "Chile",
          "Guatemala",
          "Saudi Arabia",
          "Qatar",
          "Spain",
          "Panama",
          "Brazil",
          "Uruguay",
          "Singapore",
          "El Salvador",
          "Italy",
          "Bahrain",
          "Slovakia",
          "Trinidad & Tobago",
          "Poland",
          "Uzbekistan",
          "Lithuania",
          "Colombia",
          "Slovenia",
          "Nicaragua",
          "Kosovo",
          "Argentina",
          "Romania",
          "Cyprus",
          "Ecuador",
          "Kuwait",
          "Thailand",
          "Latvia",
          "South Korea",
          "Estonia",
          "Jamaica",
          "Mauritius",
          "Japan",
          "Honduras",
          "Kazakhstan",
          "Bolivia",
          "Hungary",
          "Paraguay",
          "Northern Cyprus",
          "Peru",
          "Portugal",
          "Pakistan",
          "Russia",
          "Philippines",
          "Serbia",
          "Moldova",
          "Libya",
          "Montenegro",
          "Tajikistan",
          "Croatia",
          "Hong Kong",
          "Dominican Republic",
          "Bosnia and Herzegovina",
          "Turkey",
          "Malaysia",
          "Belarus",
          "Greece",
          "Mongolia",
          "North Macedonia",
          "Nigeria",
          "Kyrgyzstan",
          "Turkmenistan",
          "Algeria",
          "Morocco",
          "Azerbaijan",
          "Lebanon",
          "Indonesia",
          "China",
          "Vietnam",
          "Bhutan",
          "Cameroon",
          "Bulgaria",
          "Ghana",
          "Ivory Coast",
          "Nepal",
          "Jordan",
          "Benin",
          "Congo (Brazzaville)",
          "Gabon",
          "Laos",
          "South Africa",
          "Albania",
          "Venezuela",
          "Cambodia",
          "Palestinian Territories",
          "Senegal",
          "Somalia",
          "Namibia",
          "Niger",
          "Burkina Faso",
          "Armenia",
          "Iran",
          "Guinea",
          "Georgia",
          "Gambia",
          "Kenya",
          "Mauritania",
          "Mozambique",
          "Tunisia",
          "Bangladesh",
          "Iraq",
          "Congo (Kinshasa)",
          "Mali",
          "Sierra Leone",
          "Sri Lanka",
          "Myanmar",
          "Chad",
          "Ukraine",
          "Ethiopia",
          "Swaziland",
          "Uganda",
          "Egypt",
          "Zambia",
          "Togo",
          "India",
          "Liberia",
          "Comoros",
          "Madagascar",
          "Lesotho",
          "Burundi",
          "Zimbabwe",
          "Haiti",
          "Botswana",
          "Syria",
          "Malawi",
          "Yemen",
          "Rwanda",
          "Tanzania",
          "Afghanistan",
          "Central African Republic",
          "South Sudan"
         ],
         "name": "",
         "type": "choropleth",
         "z": [
          7.769,
          7.6,
          7.554,
          7.494,
          7.488,
          7.48,
          7.343,
          7.307,
          7.278,
          7.246,
          7.228,
          7.167,
          7.139,
          7.09,
          7.054,
          7.021,
          6.985,
          6.923,
          6.892,
          6.852,
          6.825,
          6.726,
          6.595,
          6.592,
          6.446,
          6.444,
          6.436,
          6.375,
          6.374,
          6.354,
          6.321,
          6.3,
          6.293,
          6.262,
          6.253,
          6.223,
          6.199,
          6.198,
          6.192,
          6.182,
          6.174,
          6.149,
          6.125,
          6.118,
          6.105,
          6.1,
          6.086,
          6.07,
          6.046,
          6.028,
          6.021,
          6.008,
          5.94,
          5.895,
          5.893,
          5.89,
          5.888,
          5.886,
          5.86,
          5.809,
          5.779,
          5.758,
          5.743,
          5.718,
          5.697,
          5.693,
          5.653,
          5.648,
          5.631,
          5.603,
          5.529,
          5.525,
          5.523,
          5.467,
          5.432,
          5.43,
          5.425,
          5.386,
          5.373,
          5.339,
          5.323,
          5.287,
          5.285,
          5.274,
          5.265,
          5.261,
          5.247,
          5.211,
          5.208,
          5.208,
          5.197,
          5.192,
          5.191,
          5.175,
          5.082,
          5.044,
          5.011,
          4.996,
          4.944,
          4.913,
          4.906,
          4.883,
          4.812,
          4.799,
          4.796,
          4.722,
          4.719,
          4.707,
          4.7,
          4.696,
          4.681,
          4.668,
          4.639,
          4.628,
          4.587,
          4.559,
          4.548,
          4.534,
          4.519,
          4.516,
          4.509,
          4.49,
          4.466,
          4.461,
          4.456,
          4.437,
          4.418,
          4.39,
          4.374,
          4.366,
          4.36,
          4.35,
          4.332,
          4.286,
          4.212,
          4.189,
          4.166,
          4.107,
          4.085,
          4.015,
          3.975,
          3.973,
          3.933,
          3.802,
          3.775,
          3.663,
          3.597,
          3.488,
          3.462,
          3.41,
          3.38,
          3.334,
          3.231,
          3.203,
          3.083,
          2.853
         ]
        }
       ],
       "layout": {
        "coloraxis": {
         "colorbar": {
          "title": {
           "text": "Score"
          }
         },
         "colorscale": [
          [
           0,
           "#0d0887"
          ],
          [
           0.1111111111111111,
           "#46039f"
          ],
          [
           0.2222222222222222,
           "#7201a8"
          ],
          [
           0.3333333333333333,
           "#9c179e"
          ],
          [
           0.4444444444444444,
           "#bd3786"
          ],
          [
           0.5555555555555556,
           "#d8576b"
          ],
          [
           0.6666666666666666,
           "#ed7953"
          ],
          [
           0.7777777777777778,
           "#fb9f3a"
          ],
          [
           0.8888888888888888,
           "#fdca26"
          ],
          [
           1,
           "#f0f921"
          ]
         ]
        },
        "geo": {
         "center": {},
         "domain": {
          "x": [
           0,
           1
          ],
          "y": [
           0,
           1
          ]
         }
        },
        "height": 500,
        "legend": {
         "tracegroupgap": 0
        },
        "margin": {
         "b": 0,
         "l": 0,
         "r": 0,
         "t": 0
        },
        "template": {
         "data": {
          "bar": [
           {
            "error_x": {
             "color": "#2a3f5f"
            },
            "error_y": {
             "color": "#2a3f5f"
            },
            "marker": {
             "line": {
              "color": "#E5ECF6",
              "width": 0.5
             },
             "pattern": {
              "fillmode": "overlay",
              "size": 10,
              "solidity": 0.2
             }
            },
            "type": "bar"
           }
          ],
          "barpolar": [
           {
            "marker": {
             "line": {
              "color": "#E5ECF6",
              "width": 0.5
             },
             "pattern": {
              "fillmode": "overlay",
              "size": 10,
              "solidity": 0.2
             }
            },
            "type": "barpolar"
           }
          ],
          "carpet": [
           {
            "aaxis": {
             "endlinecolor": "#2a3f5f",
             "gridcolor": "white",
             "linecolor": "white",
             "minorgridcolor": "white",
             "startlinecolor": "#2a3f5f"
            },
            "baxis": {
             "endlinecolor": "#2a3f5f",
             "gridcolor": "white",
             "linecolor": "white",
             "minorgridcolor": "white",
             "startlinecolor": "#2a3f5f"
            },
            "type": "carpet"
           }
          ],
          "choropleth": [
           {
            "colorbar": {
             "outlinewidth": 0,
             "ticks": ""
            },
            "type": "choropleth"
           }
          ],
          "contour": [
           {
            "colorbar": {
             "outlinewidth": 0,
             "ticks": ""
            },
            "colorscale": [
             [
              0,
              "#0d0887"
             ],
             [
              0.1111111111111111,
              "#46039f"
             ],
             [
              0.2222222222222222,
              "#7201a8"
             ],
             [
              0.3333333333333333,
              "#9c179e"
             ],
             [
              0.4444444444444444,
              "#bd3786"
             ],
             [
              0.5555555555555556,
              "#d8576b"
             ],
             [
              0.6666666666666666,
              "#ed7953"
             ],
             [
              0.7777777777777778,
              "#fb9f3a"
             ],
             [
              0.8888888888888888,
              "#fdca26"
             ],
             [
              1,
              "#f0f921"
             ]
            ],
            "type": "contour"
           }
          ],
          "contourcarpet": [
           {
            "colorbar": {
             "outlinewidth": 0,
             "ticks": ""
            },
            "type": "contourcarpet"
           }
          ],
          "heatmap": [
           {
            "colorbar": {
             "outlinewidth": 0,
             "ticks": ""
            },
            "colorscale": [
             [
              0,
              "#0d0887"
             ],
             [
              0.1111111111111111,
              "#46039f"
             ],
             [
              0.2222222222222222,
              "#7201a8"
             ],
             [
              0.3333333333333333,
              "#9c179e"
             ],
             [
              0.4444444444444444,
              "#bd3786"
             ],
             [
              0.5555555555555556,
              "#d8576b"
             ],
             [
              0.6666666666666666,
              "#ed7953"
             ],
             [
              0.7777777777777778,
              "#fb9f3a"
             ],
             [
              0.8888888888888888,
              "#fdca26"
             ],
             [
              1,
              "#f0f921"
             ]
            ],
            "type": "heatmap"
           }
          ],
          "heatmapgl": [
           {
            "colorbar": {
             "outlinewidth": 0,
             "ticks": ""
            },
            "colorscale": [
             [
              0,
              "#0d0887"
             ],
             [
              0.1111111111111111,
              "#46039f"
             ],
             [
              0.2222222222222222,
              "#7201a8"
             ],
             [
              0.3333333333333333,
              "#9c179e"
             ],
             [
              0.4444444444444444,
              "#bd3786"
             ],
             [
              0.5555555555555556,
              "#d8576b"
             ],
             [
              0.6666666666666666,
              "#ed7953"
             ],
             [
              0.7777777777777778,
              "#fb9f3a"
             ],
             [
              0.8888888888888888,
              "#fdca26"
             ],
             [
              1,
              "#f0f921"
             ]
            ],
            "type": "heatmapgl"
           }
          ],
          "histogram": [
           {
            "marker": {
             "pattern": {
              "fillmode": "overlay",
              "size": 10,
              "solidity": 0.2
             }
            },
            "type": "histogram"
           }
          ],
          "histogram2d": [
           {
            "colorbar": {
             "outlinewidth": 0,
             "ticks": ""
            },
            "colorscale": [
             [
              0,
              "#0d0887"
             ],
             [
              0.1111111111111111,
              "#46039f"
             ],
             [
              0.2222222222222222,
              "#7201a8"
             ],
             [
              0.3333333333333333,
              "#9c179e"
             ],
             [
              0.4444444444444444,
              "#bd3786"
             ],
             [
              0.5555555555555556,
              "#d8576b"
             ],
             [
              0.6666666666666666,
              "#ed7953"
             ],
             [
              0.7777777777777778,
              "#fb9f3a"
             ],
             [
              0.8888888888888888,
              "#fdca26"
             ],
             [
              1,
              "#f0f921"
             ]
            ],
            "type": "histogram2d"
           }
          ],
          "histogram2dcontour": [
           {
            "colorbar": {
             "outlinewidth": 0,
             "ticks": ""
            },
            "colorscale": [
             [
              0,
              "#0d0887"
             ],
             [
              0.1111111111111111,
              "#46039f"
             ],
             [
              0.2222222222222222,
              "#7201a8"
             ],
             [
              0.3333333333333333,
              "#9c179e"
             ],
             [
              0.4444444444444444,
              "#bd3786"
             ],
             [
              0.5555555555555556,
              "#d8576b"
             ],
             [
              0.6666666666666666,
              "#ed7953"
             ],
             [
              0.7777777777777778,
              "#fb9f3a"
             ],
             [
              0.8888888888888888,
              "#fdca26"
             ],
             [
              1,
              "#f0f921"
             ]
            ],
            "type": "histogram2dcontour"
           }
          ],
          "mesh3d": [
           {
            "colorbar": {
             "outlinewidth": 0,
             "ticks": ""
            },
            "type": "mesh3d"
           }
          ],
          "parcoords": [
           {
            "line": {
             "colorbar": {
              "outlinewidth": 0,
              "ticks": ""
             }
            },
            "type": "parcoords"
           }
          ],
          "pie": [
           {
            "automargin": true,
            "type": "pie"
           }
          ],
          "scatter": [
           {
            "marker": {
             "colorbar": {
              "outlinewidth": 0,
              "ticks": ""
             }
            },
            "type": "scatter"
           }
          ],
          "scatter3d": [
           {
            "line": {
             "colorbar": {
              "outlinewidth": 0,
              "ticks": ""
             }
            },
            "marker": {
             "colorbar": {
              "outlinewidth": 0,
              "ticks": ""
             }
            },
            "type": "scatter3d"
           }
          ],
          "scattercarpet": [
           {
            "marker": {
             "colorbar": {
              "outlinewidth": 0,
              "ticks": ""
             }
            },
            "type": "scattercarpet"
           }
          ],
          "scattergeo": [
           {
            "marker": {
             "colorbar": {
              "outlinewidth": 0,
              "ticks": ""
             }
            },
            "type": "scattergeo"
           }
          ],
          "scattergl": [
           {
            "marker": {
             "colorbar": {
              "outlinewidth": 0,
              "ticks": ""
             }
            },
            "type": "scattergl"
           }
          ],
          "scattermapbox": [
           {
            "marker": {
             "colorbar": {
              "outlinewidth": 0,
              "ticks": ""
             }
            },
            "type": "scattermapbox"
           }
          ],
          "scatterpolar": [
           {
            "marker": {
             "colorbar": {
              "outlinewidth": 0,
              "ticks": ""
             }
            },
            "type": "scatterpolar"
           }
          ],
          "scatterpolargl": [
           {
            "marker": {
             "colorbar": {
              "outlinewidth": 0,
              "ticks": ""
             }
            },
            "type": "scatterpolargl"
           }
          ],
          "scatterternary": [
           {
            "marker": {
             "colorbar": {
              "outlinewidth": 0,
              "ticks": ""
             }
            },
            "type": "scatterternary"
           }
          ],
          "surface": [
           {
            "colorbar": {
             "outlinewidth": 0,
             "ticks": ""
            },
            "colorscale": [
             [
              0,
              "#0d0887"
             ],
             [
              0.1111111111111111,
              "#46039f"
             ],
             [
              0.2222222222222222,
              "#7201a8"
             ],
             [
              0.3333333333333333,
              "#9c179e"
             ],
             [
              0.4444444444444444,
              "#bd3786"
             ],
             [
              0.5555555555555556,
              "#d8576b"
             ],
             [
              0.6666666666666666,
              "#ed7953"
             ],
             [
              0.7777777777777778,
              "#fb9f3a"
             ],
             [
              0.8888888888888888,
              "#fdca26"
             ],
             [
              1,
              "#f0f921"
             ]
            ],
            "type": "surface"
           }
          ],
          "table": [
           {
            "cells": {
             "fill": {
              "color": "#EBF0F8"
             },
             "line": {
              "color": "white"
             }
            },
            "header": {
             "fill": {
              "color": "#C8D4E3"
             },
             "line": {
              "color": "white"
             }
            },
            "type": "table"
           }
          ]
         },
         "layout": {
          "annotationdefaults": {
           "arrowcolor": "#2a3f5f",
           "arrowhead": 0,
           "arrowwidth": 1
          },
          "autotypenumbers": "strict",
          "coloraxis": {
           "colorbar": {
            "outlinewidth": 0,
            "ticks": ""
           }
          },
          "colorscale": {
           "diverging": [
            [
             0,
             "#8e0152"
            ],
            [
             0.1,
             "#c51b7d"
            ],
            [
             0.2,
             "#de77ae"
            ],
            [
             0.3,
             "#f1b6da"
            ],
            [
             0.4,
             "#fde0ef"
            ],
            [
             0.5,
             "#f7f7f7"
            ],
            [
             0.6,
             "#e6f5d0"
            ],
            [
             0.7,
             "#b8e186"
            ],
            [
             0.8,
             "#7fbc41"
            ],
            [
             0.9,
             "#4d9221"
            ],
            [
             1,
             "#276419"
            ]
           ],
           "sequential": [
            [
             0,
             "#0d0887"
            ],
            [
             0.1111111111111111,
             "#46039f"
            ],
            [
             0.2222222222222222,
             "#7201a8"
            ],
            [
             0.3333333333333333,
             "#9c179e"
            ],
            [
             0.4444444444444444,
             "#bd3786"
            ],
            [
             0.5555555555555556,
             "#d8576b"
            ],
            [
             0.6666666666666666,
             "#ed7953"
            ],
            [
             0.7777777777777778,
             "#fb9f3a"
            ],
            [
             0.8888888888888888,
             "#fdca26"
            ],
            [
             1,
             "#f0f921"
            ]
           ],
           "sequentialminus": [
            [
             0,
             "#0d0887"
            ],
            [
             0.1111111111111111,
             "#46039f"
            ],
            [
             0.2222222222222222,
             "#7201a8"
            ],
            [
             0.3333333333333333,
             "#9c179e"
            ],
            [
             0.4444444444444444,
             "#bd3786"
            ],
            [
             0.5555555555555556,
             "#d8576b"
            ],
            [
             0.6666666666666666,
             "#ed7953"
            ],
            [
             0.7777777777777778,
             "#fb9f3a"
            ],
            [
             0.8888888888888888,
             "#fdca26"
            ],
            [
             1,
             "#f0f921"
            ]
           ]
          },
          "colorway": [
           "#636efa",
           "#EF553B",
           "#00cc96",
           "#ab63fa",
           "#FFA15A",
           "#19d3f3",
           "#FF6692",
           "#B6E880",
           "#FF97FF",
           "#FECB52"
          ],
          "font": {
           "color": "#2a3f5f"
          },
          "geo": {
           "bgcolor": "white",
           "lakecolor": "white",
           "landcolor": "#E5ECF6",
           "showlakes": true,
           "showland": true,
           "subunitcolor": "white"
          },
          "hoverlabel": {
           "align": "left"
          },
          "hovermode": "closest",
          "mapbox": {
           "style": "light"
          },
          "paper_bgcolor": "white",
          "plot_bgcolor": "#E5ECF6",
          "polar": {
           "angularaxis": {
            "gridcolor": "white",
            "linecolor": "white",
            "ticks": ""
           },
           "bgcolor": "#E5ECF6",
           "radialaxis": {
            "gridcolor": "white",
            "linecolor": "white",
            "ticks": ""
           }
          },
          "scene": {
           "xaxis": {
            "backgroundcolor": "#E5ECF6",
            "gridcolor": "white",
            "gridwidth": 2,
            "linecolor": "white",
            "showbackground": true,
            "ticks": "",
            "zerolinecolor": "white"
           },
           "yaxis": {
            "backgroundcolor": "#E5ECF6",
            "gridcolor": "white",
            "gridwidth": 2,
            "linecolor": "white",
            "showbackground": true,
            "ticks": "",
            "zerolinecolor": "white"
           },
           "zaxis": {
            "backgroundcolor": "#E5ECF6",
            "gridcolor": "white",
            "gridwidth": 2,
            "linecolor": "white",
            "showbackground": true,
            "ticks": "",
            "zerolinecolor": "white"
           }
          },
          "shapedefaults": {
           "line": {
            "color": "#2a3f5f"
           }
          },
          "ternary": {
           "aaxis": {
            "gridcolor": "white",
            "linecolor": "white",
            "ticks": ""
           },
           "baxis": {
            "gridcolor": "white",
            "linecolor": "white",
            "ticks": ""
           },
           "bgcolor": "#E5ECF6",
           "caxis": {
            "gridcolor": "white",
            "linecolor": "white",
            "ticks": ""
           }
          },
          "title": {
           "x": 0.05
          },
          "xaxis": {
           "automargin": true,
           "gridcolor": "white",
           "linecolor": "white",
           "ticks": "",
           "title": {
            "standoff": 15
           },
           "zerolinecolor": "white",
           "zerolinewidth": 2
          },
          "yaxis": {
           "automargin": true,
           "gridcolor": "white",
           "linecolor": "white",
           "ticks": "",
           "title": {
            "standoff": 15
           },
           "zerolinecolor": "white",
           "zerolinewidth": 2
          }
         }
        },
        "width": 1000
       }
      },
      "text/html": [
       "<div>                            <div id=\"d709b050-8078-4d33-a9ec-7412260a3e9d\" class=\"plotly-graph-div\" style=\"height:500px; width:1000px;\"></div>            <script type=\"text/javascript\">                require([\"plotly\"], function(Plotly) {                    window.PLOTLYENV=window.PLOTLYENV || {};                                    if (document.getElementById(\"d709b050-8078-4d33-a9ec-7412260a3e9d\")) {                    Plotly.newPlot(                        \"d709b050-8078-4d33-a9ec-7412260a3e9d\",                        [{\"coloraxis\":\"coloraxis\",\"customdata\":[[\"Finland\",7.769],[\"Denmark\",7.6],[\"Norway\",7.554],[\"Iceland\",7.494],[\"Netherlands\",7.488],[\"Switzerland\",7.48],[\"Sweden\",7.343],[\"New Zealand\",7.307],[\"Canada\",7.278],[\"Austria\",7.246],[\"Australia\",7.228],[\"Costa Rica\",7.167],[\"Israel\",7.139],[\"Luxembourg\",7.09],[\"United Kingdom\",7.054],[\"Ireland\",7.021],[\"Germany\",6.985],[\"Belgium\",6.923],[\"United States\",6.892],[\"Czech Republic\",6.852],[\"United Arab Emirates\",6.825],[\"Malta\",6.726],[\"Mexico\",6.595],[\"France\",6.592],[\"Taiwan\",6.446],[\"Chile\",6.444],[\"Guatemala\",6.436],[\"Saudi Arabia\",6.375],[\"Qatar\",6.374],[\"Spain\",6.354],[\"Panama\",6.321],[\"Brazil\",6.3],[\"Uruguay\",6.293],[\"Singapore\",6.262],[\"El Salvador\",6.253],[\"Italy\",6.223],[\"Bahrain\",6.199],[\"Slovakia\",6.198],[\"Trinidad & Tobago\",6.192],[\"Poland\",6.182],[\"Uzbekistan\",6.174],[\"Lithuania\",6.149],[\"Colombia\",6.125],[\"Slovenia\",6.118],[\"Nicaragua\",6.105],[\"Kosovo\",6.1],[\"Argentina\",6.086],[\"Romania\",6.07],[\"Cyprus\",6.046],[\"Ecuador\",6.028],[\"Kuwait\",6.021],[\"Thailand\",6.008],[\"Latvia\",5.94],[\"South Korea\",5.895],[\"Estonia\",5.893],[\"Jamaica\",5.89],[\"Mauritius\",5.888],[\"Japan\",5.886],[\"Honduras\",5.86],[\"Kazakhstan\",5.809],[\"Bolivia\",5.779],[\"Hungary\",5.758],[\"Paraguay\",5.743],[\"Northern Cyprus\",5.718],[\"Peru\",5.697],[\"Portugal\",5.693],[\"Pakistan\",5.653],[\"Russia\",5.648],[\"Philippines\",5.631],[\"Serbia\",5.603],[\"Moldova\",5.529],[\"Libya\",5.525],[\"Montenegro\",5.523],[\"Tajikistan\",5.467],[\"Croatia\",5.432],[\"Hong Kong\",5.43],[\"Dominican Republic\",5.425],[\"Bosnia and Herzegovina\",5.386],[\"Turkey\",5.373],[\"Malaysia\",5.339],[\"Belarus\",5.323],[\"Greece\",5.287],[\"Mongolia\",5.285],[\"North Macedonia\",5.274],[\"Nigeria\",5.265],[\"Kyrgyzstan\",5.261],[\"Turkmenistan\",5.247],[\"Algeria\",5.211],[\"Morocco\",5.208],[\"Azerbaijan\",5.208],[\"Lebanon\",5.197],[\"Indonesia\",5.192],[\"China\",5.191],[\"Vietnam\",5.175],[\"Bhutan\",5.082],[\"Cameroon\",5.044],[\"Bulgaria\",5.011],[\"Ghana\",4.996],[\"Ivory Coast\",4.944],[\"Nepal\",4.913],[\"Jordan\",4.906],[\"Benin\",4.883],[\"Congo (Brazzaville)\",4.812],[\"Gabon\",4.799],[\"Laos\",4.796],[\"South Africa\",4.722],[\"Albania\",4.719],[\"Venezuela\",4.707],[\"Cambodia\",4.7],[\"Palestinian Territories\",4.696],[\"Senegal\",4.681],[\"Somalia\",4.668],[\"Namibia\",4.639],[\"Niger\",4.628],[\"Burkina Faso\",4.587],[\"Armenia\",4.559],[\"Iran\",4.548],[\"Guinea\",4.534],[\"Georgia\",4.519],[\"Gambia\",4.516],[\"Kenya\",4.509],[\"Mauritania\",4.49],[\"Mozambique\",4.466],[\"Tunisia\",4.461],[\"Bangladesh\",4.456],[\"Iraq\",4.437],[\"Congo (Kinshasa)\",4.418],[\"Mali\",4.39],[\"Sierra Leone\",4.374],[\"Sri Lanka\",4.366],[\"Myanmar\",4.36],[\"Chad\",4.35],[\"Ukraine\",4.332],[\"Ethiopia\",4.286],[\"Swaziland\",4.212],[\"Uganda\",4.189],[\"Egypt\",4.166],[\"Zambia\",4.107],[\"Togo\",4.085],[\"India\",4.015],[\"Liberia\",3.975],[\"Comoros\",3.973],[\"Madagascar\",3.933],[\"Lesotho\",3.802],[\"Burundi\",3.775],[\"Zimbabwe\",3.663],[\"Haiti\",3.597],[\"Botswana\",3.488],[\"Syria\",3.462],[\"Malawi\",3.41],[\"Yemen\",3.38],[\"Rwanda\",3.334],[\"Tanzania\",3.231],[\"Afghanistan\",3.203],[\"Central African Republic\",3.083],[\"South Sudan\",2.853]],\"geo\":\"geo\",\"hovertemplate\":\"<b>%{hovertext}</b><br><br>Score=%{z}<extra></extra>\",\"hovertext\":[\"Finland\",\"Denmark\",\"Norway\",\"Iceland\",\"Netherlands\",\"Switzerland\",\"Sweden\",\"New Zealand\",\"Canada\",\"Austria\",\"Australia\",\"Costa Rica\",\"Israel\",\"Luxembourg\",\"United Kingdom\",\"Ireland\",\"Germany\",\"Belgium\",\"United States\",\"Czech Republic\",\"United Arab Emirates\",\"Malta\",\"Mexico\",\"France\",\"Taiwan\",\"Chile\",\"Guatemala\",\"Saudi Arabia\",\"Qatar\",\"Spain\",\"Panama\",\"Brazil\",\"Uruguay\",\"Singapore\",\"El Salvador\",\"Italy\",\"Bahrain\",\"Slovakia\",\"Trinidad & Tobago\",\"Poland\",\"Uzbekistan\",\"Lithuania\",\"Colombia\",\"Slovenia\",\"Nicaragua\",\"Kosovo\",\"Argentina\",\"Romania\",\"Cyprus\",\"Ecuador\",\"Kuwait\",\"Thailand\",\"Latvia\",\"South Korea\",\"Estonia\",\"Jamaica\",\"Mauritius\",\"Japan\",\"Honduras\",\"Kazakhstan\",\"Bolivia\",\"Hungary\",\"Paraguay\",\"Northern Cyprus\",\"Peru\",\"Portugal\",\"Pakistan\",\"Russia\",\"Philippines\",\"Serbia\",\"Moldova\",\"Libya\",\"Montenegro\",\"Tajikistan\",\"Croatia\",\"Hong Kong\",\"Dominican Republic\",\"Bosnia and Herzegovina\",\"Turkey\",\"Malaysia\",\"Belarus\",\"Greece\",\"Mongolia\",\"North Macedonia\",\"Nigeria\",\"Kyrgyzstan\",\"Turkmenistan\",\"Algeria\",\"Morocco\",\"Azerbaijan\",\"Lebanon\",\"Indonesia\",\"China\",\"Vietnam\",\"Bhutan\",\"Cameroon\",\"Bulgaria\",\"Ghana\",\"Ivory Coast\",\"Nepal\",\"Jordan\",\"Benin\",\"Congo (Brazzaville)\",\"Gabon\",\"Laos\",\"South Africa\",\"Albania\",\"Venezuela\",\"Cambodia\",\"Palestinian Territories\",\"Senegal\",\"Somalia\",\"Namibia\",\"Niger\",\"Burkina Faso\",\"Armenia\",\"Iran\",\"Guinea\",\"Georgia\",\"Gambia\",\"Kenya\",\"Mauritania\",\"Mozambique\",\"Tunisia\",\"Bangladesh\",\"Iraq\",\"Congo (Kinshasa)\",\"Mali\",\"Sierra Leone\",\"Sri Lanka\",\"Myanmar\",\"Chad\",\"Ukraine\",\"Ethiopia\",\"Swaziland\",\"Uganda\",\"Egypt\",\"Zambia\",\"Togo\",\"India\",\"Liberia\",\"Comoros\",\"Madagascar\",\"Lesotho\",\"Burundi\",\"Zimbabwe\",\"Haiti\",\"Botswana\",\"Syria\",\"Malawi\",\"Yemen\",\"Rwanda\",\"Tanzania\",\"Afghanistan\",\"Central African Republic\",\"South Sudan\"],\"locationmode\":\"country names\",\"locations\":[\"Finland\",\"Denmark\",\"Norway\",\"Iceland\",\"Netherlands\",\"Switzerland\",\"Sweden\",\"New Zealand\",\"Canada\",\"Austria\",\"Australia\",\"Costa Rica\",\"Israel\",\"Luxembourg\",\"United Kingdom\",\"Ireland\",\"Germany\",\"Belgium\",\"United States\",\"Czech Republic\",\"United Arab Emirates\",\"Malta\",\"Mexico\",\"France\",\"Taiwan\",\"Chile\",\"Guatemala\",\"Saudi Arabia\",\"Qatar\",\"Spain\",\"Panama\",\"Brazil\",\"Uruguay\",\"Singapore\",\"El Salvador\",\"Italy\",\"Bahrain\",\"Slovakia\",\"Trinidad & Tobago\",\"Poland\",\"Uzbekistan\",\"Lithuania\",\"Colombia\",\"Slovenia\",\"Nicaragua\",\"Kosovo\",\"Argentina\",\"Romania\",\"Cyprus\",\"Ecuador\",\"Kuwait\",\"Thailand\",\"Latvia\",\"South Korea\",\"Estonia\",\"Jamaica\",\"Mauritius\",\"Japan\",\"Honduras\",\"Kazakhstan\",\"Bolivia\",\"Hungary\",\"Paraguay\",\"Northern Cyprus\",\"Peru\",\"Portugal\",\"Pakistan\",\"Russia\",\"Philippines\",\"Serbia\",\"Moldova\",\"Libya\",\"Montenegro\",\"Tajikistan\",\"Croatia\",\"Hong Kong\",\"Dominican Republic\",\"Bosnia and Herzegovina\",\"Turkey\",\"Malaysia\",\"Belarus\",\"Greece\",\"Mongolia\",\"North Macedonia\",\"Nigeria\",\"Kyrgyzstan\",\"Turkmenistan\",\"Algeria\",\"Morocco\",\"Azerbaijan\",\"Lebanon\",\"Indonesia\",\"China\",\"Vietnam\",\"Bhutan\",\"Cameroon\",\"Bulgaria\",\"Ghana\",\"Ivory Coast\",\"Nepal\",\"Jordan\",\"Benin\",\"Congo (Brazzaville)\",\"Gabon\",\"Laos\",\"South Africa\",\"Albania\",\"Venezuela\",\"Cambodia\",\"Palestinian Territories\",\"Senegal\",\"Somalia\",\"Namibia\",\"Niger\",\"Burkina Faso\",\"Armenia\",\"Iran\",\"Guinea\",\"Georgia\",\"Gambia\",\"Kenya\",\"Mauritania\",\"Mozambique\",\"Tunisia\",\"Bangladesh\",\"Iraq\",\"Congo (Kinshasa)\",\"Mali\",\"Sierra Leone\",\"Sri Lanka\",\"Myanmar\",\"Chad\",\"Ukraine\",\"Ethiopia\",\"Swaziland\",\"Uganda\",\"Egypt\",\"Zambia\",\"Togo\",\"India\",\"Liberia\",\"Comoros\",\"Madagascar\",\"Lesotho\",\"Burundi\",\"Zimbabwe\",\"Haiti\",\"Botswana\",\"Syria\",\"Malawi\",\"Yemen\",\"Rwanda\",\"Tanzania\",\"Afghanistan\",\"Central African Republic\",\"South Sudan\"],\"name\":\"\",\"z\":[7.769,7.6,7.554,7.494,7.488,7.48,7.343,7.307,7.278,7.246,7.228,7.167,7.139,7.09,7.054,7.021,6.985,6.923,6.892,6.852,6.825,6.726,6.595,6.592,6.446,6.444,6.436,6.375,6.374,6.354,6.321,6.3,6.293,6.262,6.253,6.223,6.199,6.198,6.192,6.182,6.174,6.149,6.125,6.118,6.105,6.1,6.086,6.07,6.046,6.028,6.021,6.008,5.94,5.895,5.893,5.89,5.888,5.886,5.86,5.809,5.779,5.758,5.743,5.718,5.697,5.693,5.653,5.648,5.631,5.603,5.529,5.525,5.523,5.467,5.432,5.43,5.425,5.386,5.373,5.339,5.323,5.287,5.285,5.274,5.265,5.261,5.247,5.211,5.208,5.208,5.197,5.192,5.191,5.175,5.082,5.044,5.011,4.996,4.944,4.913,4.906,4.883,4.812,4.799,4.796,4.722,4.719,4.707,4.7,4.696,4.681,4.668,4.639,4.628,4.587,4.559,4.548,4.534,4.519,4.516,4.509,4.49,4.466,4.461,4.456,4.437,4.418,4.39,4.374,4.366,4.36,4.35,4.332,4.286,4.212,4.189,4.166,4.107,4.085,4.015,3.975,3.973,3.933,3.802,3.775,3.663,3.597,3.488,3.462,3.41,3.38,3.334,3.231,3.203,3.083,2.853],\"type\":\"choropleth\"}],                        {\"template\":{\"data\":{\"bar\":[{\"error_x\":{\"color\":\"#2a3f5f\"},\"error_y\":{\"color\":\"#2a3f5f\"},\"marker\":{\"line\":{\"color\":\"#E5ECF6\",\"width\":0.5},\"pattern\":{\"fillmode\":\"overlay\",\"size\":10,\"solidity\":0.2}},\"type\":\"bar\"}],\"barpolar\":[{\"marker\":{\"line\":{\"color\":\"#E5ECF6\",\"width\":0.5},\"pattern\":{\"fillmode\":\"overlay\",\"size\":10,\"solidity\":0.2}},\"type\":\"barpolar\"}],\"carpet\":[{\"aaxis\":{\"endlinecolor\":\"#2a3f5f\",\"gridcolor\":\"white\",\"linecolor\":\"white\",\"minorgridcolor\":\"white\",\"startlinecolor\":\"#2a3f5f\"},\"baxis\":{\"endlinecolor\":\"#2a3f5f\",\"gridcolor\":\"white\",\"linecolor\":\"white\",\"minorgridcolor\":\"white\",\"startlinecolor\":\"#2a3f5f\"},\"type\":\"carpet\"}],\"choropleth\":[{\"colorbar\":{\"outlinewidth\":0,\"ticks\":\"\"},\"type\":\"choropleth\"}],\"contour\":[{\"colorbar\":{\"outlinewidth\":0,\"ticks\":\"\"},\"colorscale\":[[0.0,\"#0d0887\"],[0.1111111111111111,\"#46039f\"],[0.2222222222222222,\"#7201a8\"],[0.3333333333333333,\"#9c179e\"],[0.4444444444444444,\"#bd3786\"],[0.5555555555555556,\"#d8576b\"],[0.6666666666666666,\"#ed7953\"],[0.7777777777777778,\"#fb9f3a\"],[0.8888888888888888,\"#fdca26\"],[1.0,\"#f0f921\"]],\"type\":\"contour\"}],\"contourcarpet\":[{\"colorbar\":{\"outlinewidth\":0,\"ticks\":\"\"},\"type\":\"contourcarpet\"}],\"heatmap\":[{\"colorbar\":{\"outlinewidth\":0,\"ticks\":\"\"},\"colorscale\":[[0.0,\"#0d0887\"],[0.1111111111111111,\"#46039f\"],[0.2222222222222222,\"#7201a8\"],[0.3333333333333333,\"#9c179e\"],[0.4444444444444444,\"#bd3786\"],[0.5555555555555556,\"#d8576b\"],[0.6666666666666666,\"#ed7953\"],[0.7777777777777778,\"#fb9f3a\"],[0.8888888888888888,\"#fdca26\"],[1.0,\"#f0f921\"]],\"type\":\"heatmap\"}],\"heatmapgl\":[{\"colorbar\":{\"outlinewidth\":0,\"ticks\":\"\"},\"colorscale\":[[0.0,\"#0d0887\"],[0.1111111111111111,\"#46039f\"],[0.2222222222222222,\"#7201a8\"],[0.3333333333333333,\"#9c179e\"],[0.4444444444444444,\"#bd3786\"],[0.5555555555555556,\"#d8576b\"],[0.6666666666666666,\"#ed7953\"],[0.7777777777777778,\"#fb9f3a\"],[0.8888888888888888,\"#fdca26\"],[1.0,\"#f0f921\"]],\"type\":\"heatmapgl\"}],\"histogram\":[{\"marker\":{\"pattern\":{\"fillmode\":\"overlay\",\"size\":10,\"solidity\":0.2}},\"type\":\"histogram\"}],\"histogram2d\":[{\"colorbar\":{\"outlinewidth\":0,\"ticks\":\"\"},\"colorscale\":[[0.0,\"#0d0887\"],[0.1111111111111111,\"#46039f\"],[0.2222222222222222,\"#7201a8\"],[0.3333333333333333,\"#9c179e\"],[0.4444444444444444,\"#bd3786\"],[0.5555555555555556,\"#d8576b\"],[0.6666666666666666,\"#ed7953\"],[0.7777777777777778,\"#fb9f3a\"],[0.8888888888888888,\"#fdca26\"],[1.0,\"#f0f921\"]],\"type\":\"histogram2d\"}],\"histogram2dcontour\":[{\"colorbar\":{\"outlinewidth\":0,\"ticks\":\"\"},\"colorscale\":[[0.0,\"#0d0887\"],[0.1111111111111111,\"#46039f\"],[0.2222222222222222,\"#7201a8\"],[0.3333333333333333,\"#9c179e\"],[0.4444444444444444,\"#bd3786\"],[0.5555555555555556,\"#d8576b\"],[0.6666666666666666,\"#ed7953\"],[0.7777777777777778,\"#fb9f3a\"],[0.8888888888888888,\"#fdca26\"],[1.0,\"#f0f921\"]],\"type\":\"histogram2dcontour\"}],\"mesh3d\":[{\"colorbar\":{\"outlinewidth\":0,\"ticks\":\"\"},\"type\":\"mesh3d\"}],\"parcoords\":[{\"line\":{\"colorbar\":{\"outlinewidth\":0,\"ticks\":\"\"}},\"type\":\"parcoords\"}],\"pie\":[{\"automargin\":true,\"type\":\"pie\"}],\"scatter\":[{\"marker\":{\"colorbar\":{\"outlinewidth\":0,\"ticks\":\"\"}},\"type\":\"scatter\"}],\"scatter3d\":[{\"line\":{\"colorbar\":{\"outlinewidth\":0,\"ticks\":\"\"}},\"marker\":{\"colorbar\":{\"outlinewidth\":0,\"ticks\":\"\"}},\"type\":\"scatter3d\"}],\"scattercarpet\":[{\"marker\":{\"colorbar\":{\"outlinewidth\":0,\"ticks\":\"\"}},\"type\":\"scattercarpet\"}],\"scattergeo\":[{\"marker\":{\"colorbar\":{\"outlinewidth\":0,\"ticks\":\"\"}},\"type\":\"scattergeo\"}],\"scattergl\":[{\"marker\":{\"colorbar\":{\"outlinewidth\":0,\"ticks\":\"\"}},\"type\":\"scattergl\"}],\"scattermapbox\":[{\"marker\":{\"colorbar\":{\"outlinewidth\":0,\"ticks\":\"\"}},\"type\":\"scattermapbox\"}],\"scatterpolar\":[{\"marker\":{\"colorbar\":{\"outlinewidth\":0,\"ticks\":\"\"}},\"type\":\"scatterpolar\"}],\"scatterpolargl\":[{\"marker\":{\"colorbar\":{\"outlinewidth\":0,\"ticks\":\"\"}},\"type\":\"scatterpolargl\"}],\"scatterternary\":[{\"marker\":{\"colorbar\":{\"outlinewidth\":0,\"ticks\":\"\"}},\"type\":\"scatterternary\"}],\"surface\":[{\"colorbar\":{\"outlinewidth\":0,\"ticks\":\"\"},\"colorscale\":[[0.0,\"#0d0887\"],[0.1111111111111111,\"#46039f\"],[0.2222222222222222,\"#7201a8\"],[0.3333333333333333,\"#9c179e\"],[0.4444444444444444,\"#bd3786\"],[0.5555555555555556,\"#d8576b\"],[0.6666666666666666,\"#ed7953\"],[0.7777777777777778,\"#fb9f3a\"],[0.8888888888888888,\"#fdca26\"],[1.0,\"#f0f921\"]],\"type\":\"surface\"}],\"table\":[{\"cells\":{\"fill\":{\"color\":\"#EBF0F8\"},\"line\":{\"color\":\"white\"}},\"header\":{\"fill\":{\"color\":\"#C8D4E3\"},\"line\":{\"color\":\"white\"}},\"type\":\"table\"}]},\"layout\":{\"annotationdefaults\":{\"arrowcolor\":\"#2a3f5f\",\"arrowhead\":0,\"arrowwidth\":1},\"autotypenumbers\":\"strict\",\"coloraxis\":{\"colorbar\":{\"outlinewidth\":0,\"ticks\":\"\"}},\"colorscale\":{\"diverging\":[[0,\"#8e0152\"],[0.1,\"#c51b7d\"],[0.2,\"#de77ae\"],[0.3,\"#f1b6da\"],[0.4,\"#fde0ef\"],[0.5,\"#f7f7f7\"],[0.6,\"#e6f5d0\"],[0.7,\"#b8e186\"],[0.8,\"#7fbc41\"],[0.9,\"#4d9221\"],[1,\"#276419\"]],\"sequential\":[[0.0,\"#0d0887\"],[0.1111111111111111,\"#46039f\"],[0.2222222222222222,\"#7201a8\"],[0.3333333333333333,\"#9c179e\"],[0.4444444444444444,\"#bd3786\"],[0.5555555555555556,\"#d8576b\"],[0.6666666666666666,\"#ed7953\"],[0.7777777777777778,\"#fb9f3a\"],[0.8888888888888888,\"#fdca26\"],[1.0,\"#f0f921\"]],\"sequentialminus\":[[0.0,\"#0d0887\"],[0.1111111111111111,\"#46039f\"],[0.2222222222222222,\"#7201a8\"],[0.3333333333333333,\"#9c179e\"],[0.4444444444444444,\"#bd3786\"],[0.5555555555555556,\"#d8576b\"],[0.6666666666666666,\"#ed7953\"],[0.7777777777777778,\"#fb9f3a\"],[0.8888888888888888,\"#fdca26\"],[1.0,\"#f0f921\"]]},\"colorway\":[\"#636efa\",\"#EF553B\",\"#00cc96\",\"#ab63fa\",\"#FFA15A\",\"#19d3f3\",\"#FF6692\",\"#B6E880\",\"#FF97FF\",\"#FECB52\"],\"font\":{\"color\":\"#2a3f5f\"},\"geo\":{\"bgcolor\":\"white\",\"lakecolor\":\"white\",\"landcolor\":\"#E5ECF6\",\"showlakes\":true,\"showland\":true,\"subunitcolor\":\"white\"},\"hoverlabel\":{\"align\":\"left\"},\"hovermode\":\"closest\",\"mapbox\":{\"style\":\"light\"},\"paper_bgcolor\":\"white\",\"plot_bgcolor\":\"#E5ECF6\",\"polar\":{\"angularaxis\":{\"gridcolor\":\"white\",\"linecolor\":\"white\",\"ticks\":\"\"},\"bgcolor\":\"#E5ECF6\",\"radialaxis\":{\"gridcolor\":\"white\",\"linecolor\":\"white\",\"ticks\":\"\"}},\"scene\":{\"xaxis\":{\"backgroundcolor\":\"#E5ECF6\",\"gridcolor\":\"white\",\"gridwidth\":2,\"linecolor\":\"white\",\"showbackground\":true,\"ticks\":\"\",\"zerolinecolor\":\"white\"},\"yaxis\":{\"backgroundcolor\":\"#E5ECF6\",\"gridcolor\":\"white\",\"gridwidth\":2,\"linecolor\":\"white\",\"showbackground\":true,\"ticks\":\"\",\"zerolinecolor\":\"white\"},\"zaxis\":{\"backgroundcolor\":\"#E5ECF6\",\"gridcolor\":\"white\",\"gridwidth\":2,\"linecolor\":\"white\",\"showbackground\":true,\"ticks\":\"\",\"zerolinecolor\":\"white\"}},\"shapedefaults\":{\"line\":{\"color\":\"#2a3f5f\"}},\"ternary\":{\"aaxis\":{\"gridcolor\":\"white\",\"linecolor\":\"white\",\"ticks\":\"\"},\"baxis\":{\"gridcolor\":\"white\",\"linecolor\":\"white\",\"ticks\":\"\"},\"bgcolor\":\"#E5ECF6\",\"caxis\":{\"gridcolor\":\"white\",\"linecolor\":\"white\",\"ticks\":\"\"}},\"title\":{\"x\":0.05},\"xaxis\":{\"automargin\":true,\"gridcolor\":\"white\",\"linecolor\":\"white\",\"ticks\":\"\",\"title\":{\"standoff\":15},\"zerolinecolor\":\"white\",\"zerolinewidth\":2},\"yaxis\":{\"automargin\":true,\"gridcolor\":\"white\",\"linecolor\":\"white\",\"ticks\":\"\",\"title\":{\"standoff\":15},\"zerolinecolor\":\"white\",\"zerolinewidth\":2}}},\"geo\":{\"domain\":{\"x\":[0.0,1.0],\"y\":[0.0,1.0]},\"center\":{}},\"coloraxis\":{\"colorbar\":{\"title\":{\"text\":\"Score\"}},\"colorscale\":[[0.0,\"#0d0887\"],[0.1111111111111111,\"#46039f\"],[0.2222222222222222,\"#7201a8\"],[0.3333333333333333,\"#9c179e\"],[0.4444444444444444,\"#bd3786\"],[0.5555555555555556,\"#d8576b\"],[0.6666666666666666,\"#ed7953\"],[0.7777777777777778,\"#fb9f3a\"],[0.8888888888888888,\"#fdca26\"],[1.0,\"#f0f921\"]]},\"legend\":{\"tracegroupgap\":0},\"margin\":{\"t\":0,\"r\":0,\"l\":0,\"b\":0},\"width\":1000,\"height\":500},                        {\"responsive\": true}                    ).then(function(){\n",
       "                            \n",
       "var gd = document.getElementById('d709b050-8078-4d33-a9ec-7412260a3e9d');\n",
       "var x = new MutationObserver(function (mutations, observer) {{\n",
       "        var display = window.getComputedStyle(gd).display;\n",
       "        if (!display || display === 'none') {{\n",
       "            console.log([gd, 'removed!']);\n",
       "            Plotly.purge(gd);\n",
       "            observer.disconnect();\n",
       "        }}\n",
       "}});\n",
       "\n",
       "// Listen for the removal of the full notebook cells\n",
       "var notebookContainer = gd.closest('#notebook-container');\n",
       "if (notebookContainer) {{\n",
       "    x.observe(notebookContainer, {childList: true});\n",
       "}}\n",
       "\n",
       "// Listen for the clearing of the current output cell\n",
       "var outputEl = gd.closest('.output');\n",
       "if (outputEl) {{\n",
       "    x.observe(outputEl, {childList: true});\n",
       "}}\n",
       "\n",
       "                        })                };                });            </script>        </div>"
      ]
     },
     "metadata": {},
     "output_type": "display_data"
    }
   ],
   "source": [
    "py.init_notebook_mode(connected=True)\n",
    "\n",
    "fig = px.choropleth(df_copy, locations='Country',\n",
    "                    locationmode = \"country names\",\n",
    "                    color=\"Score\",\n",
    "                    hover_name = 'Country',\n",
    "                    hover_data={'Country':False,\n",
    "                                'Score': True\n",
    "                               }\n",
    "                   )\n",
    "fig.update_layout(width=1000, height=500, margin={\"r\":0,\"t\":0,\"l\":0,\"b\":0})\n",
    "fig.show()\n",
    "\n",
    "# Syntax ini didapatkan dari sebuah postingan Kaggle yang diunggah oleh thamaraliz dan telah dimodifikasi sesuai dengan keperluan untuk project ini.\n",
    "# Sumber: https://www.kaggle.com/code/thamaraliz/basic-eda-world-happiness-report-2019"
   ]
  },
  {
   "cell_type": "code",
   "execution_count": 14,
   "metadata": {},
   "outputs": [
    {
     "data": {
      "image/png": "[encoded data removed]",
      "text/plain": [
       "<Figure size 1440x360 with 2 Axes>"
      ]
     },
     "metadata": {
      "needs_background": "light"
     },
     "output_type": "display_data"
    }
   ],
   "source": [
    "plt.figure(figsize = (20,5))\n",
    "plt.subplot (1,2,1)\n",
    "ax = sns.barplot(x='Score', y='Country', data=df_copy.head(10), palette=None)\n",
    "plt.title(\"The 10 Happiest Countries in the World\", fontsize = 16, pad=10)\n",
    "ax.set_xlabel(\"Score\", fontsize=14, labelpad=5)\n",
    "ax.set_ylabel(\"\")\n",
    "ax.tick_params(labelsize=12)\n",
    "plt.subplot(1,2,2)\n",
    "ax = sns.barplot(x='Score', y='Country', data=df_copy.tail(10), palette='gray')\n",
    "plt.title(\"The 10 Saddest Countries in the World\", fontsize = 16, pad=10)\n",
    "ax.set_xlabel(\"Score\", fontsize=14, labelpad=5)\n",
    "ax.set_ylabel(\"\")\n",
    "ax.tick_params(labelsize=12)\n",
    "plt.show()"
   ]
  },
  {
   "cell_type": "markdown",
   "metadata": {},
   "source": [
    "Finlandia telah menempati urutan pertama sebagai negara paling bahagia di dunia selama 5 tahun terakhir. Namun bagaimana dengan negara-negara lain yang masuk dalam top 10? ternyata top 10 negara-negara paling bahagia di dunia seluruhnya berada di Eropa Barat, Skandinavia, atau Amerika Utara. Sebenarnya tidak ada yang mengejutkan dari negara-negara yang masuk dalam top 10 ini. Negara-negara tersebut merupakan negara yang sudah maju, memiliki pemerintahan berjalan dengan baik, dan memiliki fasilitas publik yang baik. Faktor-faktor ini tentunya memengaruhi tingkat kebahagiaan dari penduduknya. \n",
    "\n",
    "Sedangkan top 10 negara yang paling tidak bahagia di dunia ditempati oleh negara-negara yang berada di Timur Tengah dan Afrika. Seluruh negara yang ada dalam list ini sedang mengalami permasalahan yang kompleks. Syria, South Sudan, Afghanistan, dan Yemen misalnya sedang dilanda konflik atau perang yang berkepanjangan. Sedangkan negara-negara lain dalam list ini ada yang masuk dalam ketegori failed states atau memiliki tingkat kemiskinan yang sangat tinggi. "
   ]
  },
  {
   "cell_type": "code",
   "execution_count": 15,
   "metadata": {},
   "outputs": [
    {
     "data": {
      "image/png": "[encoded data removed]",
      "text/plain": [
       "<Figure size 1440x360 with 3 Axes>"
      ]
     },
     "metadata": {
      "needs_background": "light"
     },
     "output_type": "display_data"
    }
   ],
   "source": [
    "plt.figure(figsize=(20,5))\n",
    "plt.subplot(1,3,1)\n",
    "sns.scatterplot(x='GDP', y='Score', data=df_copy, palette=None)\n",
    "plt.title('Higher GDP per Capita, More Happiness?')\n",
    "top10_GDP = df_copy.sort_values(by='GDP', ascending=False)\n",
    "plt.subplot(1,3,2)\n",
    "ax = sns.barplot(x='GDP', y='Country', data=top10_GDP.head(10), palette='husl')\n",
    "plt.title(\"Top 10 GDP per Capita\", fontsize = 16, pad=10)\n",
    "ax.set_xlabel(\"GDP per capita\", fontsize=14, labelpad=5)\n",
    "ax.set_ylabel(\"\")\n",
    "ax.tick_params(labelsize=12)\n",
    "low10_GDP = df_copy.sort_values(by='GDP', ascending=False)\n",
    "plt.subplot(1,3,3)\n",
    "ax = sns.barplot(x='GDP', y='Country', data=low10_GDP.tail(10), palette='gray')\n",
    "plt.title(\"Top 10 Lowest GDP per Capita\", fontsize = 16, pad=10)\n",
    "ax.set_xlabel(\"GDP per capita\", fontsize=14, labelpad=5)\n",
    "ax.set_ylabel(\"\")\n",
    "ax.tick_params(labelsize=12)\n",
    "plt.show()"
   ]
  },
  {
   "cell_type": "markdown",
   "metadata": {},
   "source": [
    "Berdasarkan scatter plot yang terbentuk, ternyata 'Score' dan 'GDP' berkorelasi positif. Artinya, secara umum dapat disimpulkan bahwa semakin makmur sebuah negara, maka penduduknya akan cenderung lebih bahagia. Namun hal ini tentunya tidak dapat dijadikan satu-satunya patokan. Misalnya adalam kasus ini, Qatar merupakan negara dengan top 10 GDP per Capita tertinggi di dunia. Tetapi Qatar tidak masuk dalam top 10 negara yang paling bahagia. Faktor-faktor lain seperti 'Life_expectancy' atau 'Freedom' tentunya akan memiliki pengaruh juga. "
   ]
  },
  {
   "cell_type": "code",
   "execution_count": 16,
   "metadata": {},
   "outputs": [
    {
     "data": {
      "image/png": "[encoded data removed]",
      "text/plain": [
       "<Figure size 1440x360 with 3 Axes>"
      ]
     },
     "metadata": {
      "needs_background": "light"
     },
     "output_type": "display_data"
    }
   ],
   "source": [
    "plt.figure(figsize=(20,5))\n",
    "plt.subplot(1,3,1)\n",
    "sns.scatterplot(x='Social_support', y='Score', data=df_copy, palette=None)\n",
    "plt.title('Connection Between Social Support and Happiness')\n",
    "top10_SS = df_copy.sort_values(by='Social_support', ascending=False)\n",
    "plt.subplot(1,3,2)\n",
    "ax = sns.barplot(x='Social_support', y='Country', data=top10_SS.head(10), palette='husl')\n",
    "plt.title(\"Top 10 Most Supportive Countries\", fontsize = 16, pad=10)\n",
    "ax.set_xlabel(\"Social Support\", fontsize=14, labelpad=5)\n",
    "ax.set_ylabel(\"\")\n",
    "ax.tick_params(labelsize=12)\n",
    "low10_SS = df_copy.sort_values(by='Social_support', ascending=False)\n",
    "plt.subplot(1,3,3)\n",
    "ax = sns.barplot(x='Social_support', y='Country', data=top10_SS.tail(10), palette='gray')\n",
    "plt.title(\"Top 10 Unsupportive Countries\", fontsize = 16, pad=10)\n",
    "ax.set_xlabel(\"Social Support\", fontsize=14, labelpad=5)\n",
    "ax.set_ylabel(\"\")\n",
    "ax.tick_params(labelsize=12)\n",
    "plt.show()"
   ]
  },
  {
   "cell_type": "markdown",
   "metadata": {},
   "source": [
    "Berdasarkan scatter plot yang terbentuk, dapat kita lihat bahwa adanya social support ternyata berkorelasi positif dengan tingkat kebahagiaan. Hal ini sepertinya mengkonfirmasi kodrat manusia sebagai makhluk sosial. Namun ada hal yang menarik dari top 10 tertinggi dan terendah dari kategori ini. Disini terlihat bahwa top 10 tertinggi ditempati oleh negara-negara maju yang makmur, sedangkan top 10 terendah ditempati oleh negara-negara yang dilanda konflik atau sangat miskin. Hal ini seperti memunculkan argumen bahwa seseorang harus makmur terlebih dahulu sebelum menolong atau peduli terhadap sesama. Sedangkan jika dalam keadaan sulit atau tidak menguntungkan, yang berlaku adalah prinsip survival of the fittest."
   ]
  },
  {
   "cell_type": "code",
   "execution_count": 17,
   "metadata": {},
   "outputs": [
    {
     "data": {
      "image/png": "[encoded data removed]",
      "text/plain": [
       "<Figure size 1440x360 with 3 Axes>"
      ]
     },
     "metadata": {
      "needs_background": "light"
     },
     "output_type": "display_data"
    }
   ],
   "source": [
    "plt.figure(figsize=(20,5))\n",
    "plt.subplot(1,3,1)\n",
    "sns.scatterplot(x='Life_expectancy', y='Score', data=df_copy, palette=None)\n",
    "plt.title('Do Happy People Live a Longer life?')\n",
    "top10_LE = df_copy.sort_values(by='Life_expectancy', ascending=False)\n",
    "plt.subplot(1,3,2)\n",
    "ax = sns.barplot(x='Life_expectancy', y='Country', data=top10_LE.head(10), palette='husl')\n",
    "plt.title(\"Top 10 Countries with Highest Life Expectancy\", fontsize = 16, pad=10)\n",
    "ax.set_xlabel(\"Life Expectancy\", fontsize=14, labelpad=5)\n",
    "ax.set_ylabel(\"\")\n",
    "ax.tick_params(labelsize=12)\n",
    "low10_LE = df_copy.sort_values(by='Life_expectancy', ascending=False)\n",
    "plt.subplot(1,3,3)\n",
    "ax = sns.barplot(x='Life_expectancy', y='Country', data=low10_LE.tail(10), palette='gray')\n",
    "plt.title(\"Top 10 Countries with Lowest Life Expectancy\", fontsize = 16, pad=10)\n",
    "ax.set_xlabel(\"Life Expectancy\", fontsize=14, labelpad=5)\n",
    "ax.set_ylabel(\"\")\n",
    "ax.tick_params(labelsize=12)\n",
    "plt.show()"
   ]
  },
  {
   "cell_type": "markdown",
   "metadata": {},
   "source": [
    "Dari scatter plot diatas, secara umum kita dapat menyimpulkan bahwa 'Life_expectancy' berkorelasi positif dengan 'Score' artinya jika seseorang hidup bahagia, maka angka harapan hidupnya cenderung meningkat. Namun demikian, sama halnya dengan 'GDP', 'Life_expectancy' semata tidak dapat dijadikan satu-satunya faktor. Dari bar plot diatas terlihat bahwa Singapore dan Hong Kong merupakan negara-negara dengan angka harapan hidup tertinggi. Namun apakah Singapore dan Hong Kong merupakan negara paling bahagia? Ternyata tidak, Singapore bahkan hanya menempati urutan ke-34, sedangkan Hong Kong ada di urutan ke-76. Seperti yang kita ketahui, kedua negara tersebut merupakan negara yang kecil dan masyarakatnya sangat kompetitif. Hal ini tentunya berkaitan langsung dengan tingkat kebahagiaan penduduknya."
   ]
  },
  {
   "cell_type": "code",
   "execution_count": 18,
   "metadata": {},
   "outputs": [
    {
     "data": {
      "image/png": "[encoded data removed]",
      "text/plain": [
       "<Figure size 1440x360 with 3 Axes>"
      ]
     },
     "metadata": {
      "needs_background": "light"
     },
     "output_type": "display_data"
    }
   ],
   "source": [
    "plt.figure(figsize=(20,5))\n",
    "plt.subplot(1,3,1)\n",
    "sns.scatterplot(x='Freedom', y='Score', data=df_copy, palette=None)\n",
    "plt.title('Does Freedom Lead to Happiness?')\n",
    "top10_FR = df_copy.sort_values(by='Freedom', ascending=False)\n",
    "plt.subplot(1,3,2)\n",
    "ax = sns.barplot(x='Freedom', y='Country', data=top10_FR.head(10), palette='husl')\n",
    "plt.title(\"Top 10 Countries Freest Countries in the World\", fontsize = 16, pad=10)\n",
    "ax.set_xlabel(\"Freedom\", fontsize=14, labelpad=5)\n",
    "ax.set_ylabel(\"\")\n",
    "ax.tick_params(labelsize=12)\n",
    "low10_FR = df_copy.sort_values(by='Freedom', ascending=False)\n",
    "plt.subplot(1,3,3)\n",
    "ax = sns.barplot(x='Freedom', y='Country', data=low10_FR.tail(10), palette='gray')\n",
    "plt.title(\"Top 10 Countries Least Free Countries in the World\", fontsize = 16, pad=10)\n",
    "ax.set_xlabel(\"Freedom\", fontsize=14, labelpad=5)\n",
    "ax.set_ylabel(\"\")\n",
    "ax.tick_params(labelsize=12)\n",
    "plt.show()"
   ]
  },
  {
   "cell_type": "markdown",
   "metadata": {},
   "source": [
    "Secara umum, kebebasan untuk mengkespresikan diri dan menyatakan pendapat di muka publik berkorelasi positif dengan tingkat kebahagiaan penduduk. Disini yang cukup menarik adalah negara yang menempati urutan tertinggi disini adalah Uzbekistan. Sebuah negara pecahan Soviet yang namanya jarang kita dengar dan masih tergolong negara berkembang. Lebih mengejutkannya lagi, secara keseluruhan urutan yang diduduki oleh Uzbekistan cukup tinggi, yakni peringkat ke-41."
   ]
  },
  {
   "cell_type": "code",
   "execution_count": 19,
   "metadata": {},
   "outputs": [
    {
     "data": {
      "image/png": "[encoded data removed]",
      "text/plain": [
       "<Figure size 1440x360 with 3 Axes>"
      ]
     },
     "metadata": {
      "needs_background": "light"
     },
     "output_type": "display_data"
    }
   ],
   "source": [
    "plt.figure(figsize=(20,5))\n",
    "plt.subplot(1,3,1)\n",
    "sns.scatterplot(x='Generosity', y='Score', data=df_copy, palette=None)\n",
    "plt.title('Does Giving Make You Happier?')\n",
    "top10_GR = df_copy.sort_values(by='Generosity', ascending=False)\n",
    "plt.subplot(1,3,2)\n",
    "ax = sns.barplot(x='Generosity', y='Country', data=top10_GR.head(10), palette='husl')\n",
    "plt.title(\"Top 10 Most Generous Countries\", fontsize = 16, pad=10)\n",
    "ax.set_xlabel(\"Generosity\", fontsize=14, labelpad=5)\n",
    "ax.set_ylabel(\"\")\n",
    "ax.tick_params(labelsize=12)\n",
    "low10_GR = df_copy.sort_values(by='Generosity', ascending=False)\n",
    "plt.subplot(1,3,3)\n",
    "ax = sns.barplot(x='Generosity', y='Country', data=low10_GR.tail(10), palette='gray')\n",
    "plt.title(\"Top 10 Least Generous Countries\", fontsize = 16, pad=10)\n",
    "ax.set_xlabel(\"Generosity\", fontsize=14, labelpad=5)\n",
    "ax.set_ylabel(\"\")\n",
    "ax.tick_params(labelsize=12)\n",
    "plt.show()"
   ]
  },
  {
   "cell_type": "markdown",
   "metadata": {},
   "source": [
    "Scatter plot yang terbentuk kurang bisa menggambarkan hubungan antara 'Generosity' dengan 'Score', namun demikian, yang paling menarik dari hasil penelusuran data disini tentunya adalah Indonesia yang menduduki peringkat atas dalam hal 'Generosity', selama ini orang Indonesia selalu dikenal sebagai orang-orang yang ramah dan tidak ragu untuk menolong orang lain. Tetapi yang tidak disangka adalah hal ini ternyata bukan sebuah ungkapan belaka, namun memiliki bukti tertulis dalam laporan sekredibel World Happiness Report. Menarik untuk dicari tahu lebih lanjut faktor apakah yang membuat orang Indonesia suka menolong orang lain. Mungkinkah hal ini berkaitan dengan nilai yang ditanamkan sejak dini seperti semangat untuk gotong royong? "
   ]
  },
  {
   "cell_type": "code",
   "execution_count": 20,
   "metadata": {},
   "outputs": [
    {
     "data": {
      "image/png": "[encoded data removed]",
      "text/plain": [
       "<Figure size 1440x360 with 3 Axes>"
      ]
     },
     "metadata": {
      "needs_background": "light"
     },
     "output_type": "display_data"
    }
   ],
   "source": [
    "plt.figure(figsize=(20,5))\n",
    "plt.subplot(1,3,1)\n",
    "sns.scatterplot(x='Corruption', y='Score', data=df_copy, palette=None)\n",
    "plt.title('Does Corruption Affect Happiness?')\n",
    "top10_CR = df_copy.sort_values(by='Corruption', ascending=False)\n",
    "plt.subplot(1,3,2)\n",
    "ax = sns.barplot(x='Corruption', y='Country', data=top10_CR.head(10), palette='husl')\n",
    "plt.title(\"Top 10 Least Corrupt Countries\", fontsize = 16, pad=10)\n",
    "ax.set_xlabel(\"Corruption\", fontsize=14, labelpad=5)\n",
    "ax.set_ylabel(\"\")\n",
    "ax.tick_params(labelsize=12)\n",
    "low10_CR= df_copy.sort_values(by='Corruption', ascending=False)\n",
    "plt.subplot(1,3,3)\n",
    "ax = sns.barplot(x='Corruption', y='Country', data=low10_CR.tail(10), palette='gray')\n",
    "plt.title(\"Top 10 Most Corrupt Countries\", fontsize = 16, pad=10)\n",
    "ax.set_xlabel(\"Corruption\", fontsize=14, labelpad=5)\n",
    "ax.set_ylabel(\"\")\n",
    "ax.tick_params(labelsize=12)\n",
    "plt.show()"
   ]
  },
  {
   "cell_type": "markdown",
   "metadata": {},
   "source": [
    "Scatter plot disini tidak terlalu bisa menggambarkan hubungan antara 'Corruption' dengan 'Score', disini negara-negara yang paling tidak korup ditempati oleh negara-negara yang cukup familiar. Kita juga sudah sering mendengar bahwa Singapore merupakan negara dengan pemerintahan yang paling bersih di dunia. Yang menarik adalah Rwanda, dimana negara ini menduduki pertingkat kedua setelah Singapore, namun disaat yang bersamaan juga termasuk dalam top 10 negara yang paling tidak bahagia di dunia. Cukup menarik untuk mencari tahu apa yang terjadi di negara Rwanda. Karena jika mendengar kata Rwanda, kemungkinan hal pertama yang terlintas dalam pikiran kita adalah peristiwa Rwandan Genocide pada tahun 1994. "
   ]
  },
  {
   "cell_type": "markdown",
   "metadata": {},
   "source": [
    "# Data Preprocessing"
   ]
  },
  {
   "cell_type": "code",
   "execution_count": 21,
   "metadata": {},
   "outputs": [
    {
     "data": {
      "text/html": [
       "<div>\n",
       "<style scoped>\n",
       "    .dataframe tbody tr th:only-of-type {\n",
       "        vertical-align: middle;\n",
       "    }\n",
       "\n",
       "    .dataframe tbody tr th {\n",
       "        vertical-align: top;\n",
       "    }\n",
       "\n",
       "    .dataframe thead th {\n",
       "        text-align: right;\n",
       "    }\n",
       "</style>\n",
       "<table border=\"1\" class=\"dataframe\">\n",
       "  <thead>\n",
       "    <tr style=\"text-align: right;\">\n",
       "      <th></th>\n",
       "      <th>Rank</th>\n",
       "      <th>Country</th>\n",
       "      <th>Score</th>\n",
       "      <th>GDP</th>\n",
       "      <th>Social_support</th>\n",
       "      <th>Life_expectancy</th>\n",
       "      <th>Freedom</th>\n",
       "      <th>Generosity</th>\n",
       "      <th>Corruption</th>\n",
       "    </tr>\n",
       "  </thead>\n",
       "  <tbody>\n",
       "    <tr>\n",
       "      <th>16</th>\n",
       "      <td>17</td>\n",
       "      <td>Germany</td>\n",
       "      <td>6.985</td>\n",
       "      <td>1.373</td>\n",
       "      <td>1.454</td>\n",
       "      <td>0.987</td>\n",
       "      <td>0.495</td>\n",
       "      <td>0.261</td>\n",
       "      <td>0.265</td>\n",
       "    </tr>\n",
       "    <tr>\n",
       "      <th>81</th>\n",
       "      <td>82</td>\n",
       "      <td>Greece</td>\n",
       "      <td>5.287</td>\n",
       "      <td>1.181</td>\n",
       "      <td>1.156</td>\n",
       "      <td>0.999</td>\n",
       "      <td>0.067</td>\n",
       "      <td>0.000</td>\n",
       "      <td>0.034</td>\n",
       "    </tr>\n",
       "    <tr>\n",
       "      <th>152</th>\n",
       "      <td>153</td>\n",
       "      <td>Tanzania</td>\n",
       "      <td>3.231</td>\n",
       "      <td>0.476</td>\n",
       "      <td>0.885</td>\n",
       "      <td>0.499</td>\n",
       "      <td>0.417</td>\n",
       "      <td>0.276</td>\n",
       "      <td>0.147</td>\n",
       "    </tr>\n",
       "    <tr>\n",
       "      <th>53</th>\n",
       "      <td>54</td>\n",
       "      <td>South Korea</td>\n",
       "      <td>5.895</td>\n",
       "      <td>1.301</td>\n",
       "      <td>1.219</td>\n",
       "      <td>1.036</td>\n",
       "      <td>0.159</td>\n",
       "      <td>0.175</td>\n",
       "      <td>0.056</td>\n",
       "    </tr>\n",
       "    <tr>\n",
       "      <th>55</th>\n",
       "      <td>56</td>\n",
       "      <td>Jamaica</td>\n",
       "      <td>5.890</td>\n",
       "      <td>0.831</td>\n",
       "      <td>1.478</td>\n",
       "      <td>0.831</td>\n",
       "      <td>0.490</td>\n",
       "      <td>0.107</td>\n",
       "      <td>0.028</td>\n",
       "    </tr>\n",
       "    <tr>\n",
       "      <th>77</th>\n",
       "      <td>78</td>\n",
       "      <td>Bosnia and Herzegovina</td>\n",
       "      <td>5.386</td>\n",
       "      <td>0.945</td>\n",
       "      <td>1.212</td>\n",
       "      <td>0.845</td>\n",
       "      <td>0.212</td>\n",
       "      <td>0.263</td>\n",
       "      <td>0.006</td>\n",
       "    </tr>\n",
       "    <tr>\n",
       "      <th>127</th>\n",
       "      <td>128</td>\n",
       "      <td>Mali</td>\n",
       "      <td>4.390</td>\n",
       "      <td>0.385</td>\n",
       "      <td>1.105</td>\n",
       "      <td>0.308</td>\n",
       "      <td>0.327</td>\n",
       "      <td>0.153</td>\n",
       "      <td>0.052</td>\n",
       "    </tr>\n",
       "    <tr>\n",
       "      <th>97</th>\n",
       "      <td>98</td>\n",
       "      <td>Ghana</td>\n",
       "      <td>4.996</td>\n",
       "      <td>0.611</td>\n",
       "      <td>0.868</td>\n",
       "      <td>0.486</td>\n",
       "      <td>0.381</td>\n",
       "      <td>0.245</td>\n",
       "      <td>0.040</td>\n",
       "    </tr>\n",
       "    <tr>\n",
       "      <th>104</th>\n",
       "      <td>105</td>\n",
       "      <td>Laos</td>\n",
       "      <td>4.796</td>\n",
       "      <td>0.764</td>\n",
       "      <td>1.030</td>\n",
       "      <td>0.551</td>\n",
       "      <td>0.547</td>\n",
       "      <td>0.266</td>\n",
       "      <td>0.164</td>\n",
       "    </tr>\n",
       "    <tr>\n",
       "      <th>113</th>\n",
       "      <td>114</td>\n",
       "      <td>Niger</td>\n",
       "      <td>4.628</td>\n",
       "      <td>0.138</td>\n",
       "      <td>0.774</td>\n",
       "      <td>0.366</td>\n",
       "      <td>0.318</td>\n",
       "      <td>0.188</td>\n",
       "      <td>0.102</td>\n",
       "    </tr>\n",
       "  </tbody>\n",
       "</table>\n",
       "</div>"
      ],
      "text/plain": [
       "     Rank                 Country  Score    GDP  Social_support  \\\n",
       "16     17                 Germany  6.985  1.373           1.454   \n",
       "81     82                  Greece  5.287  1.181           1.156   \n",
       "152   153                Tanzania  3.231  0.476           0.885   \n",
       "53     54             South Korea  5.895  1.301           1.219   \n",
       "55     56                 Jamaica  5.890  0.831           1.478   \n",
       "77     78  Bosnia and Herzegovina  5.386  0.945           1.212   \n",
       "127   128                    Mali  4.390  0.385           1.105   \n",
       "97     98                   Ghana  4.996  0.611           0.868   \n",
       "104   105                    Laos  4.796  0.764           1.030   \n",
       "113   114                   Niger  4.628  0.138           0.774   \n",
       "\n",
       "     Life_expectancy  Freedom  Generosity  Corruption  \n",
       "16             0.987    0.495       0.261       0.265  \n",
       "81             0.999    0.067       0.000       0.034  \n",
       "152            0.499    0.417       0.276       0.147  \n",
       "53             1.036    0.159       0.175       0.056  \n",
       "55             0.831    0.490       0.107       0.028  \n",
       "77             0.845    0.212       0.263       0.006  \n",
       "127            0.308    0.327       0.153       0.052  \n",
       "97             0.486    0.381       0.245       0.040  \n",
       "104            0.551    0.547       0.266       0.164  \n",
       "113            0.366    0.318       0.188       0.102  "
      ]
     },
     "execution_count": 21,
     "metadata": {},
     "output_type": "execute_result"
    }
   ],
   "source": [
    "# Membuat dataframe inference, mengambil 10 entry yang nantinya digunakan untuk menguji model yang dibuat\n",
    "df_inf = df_copy.sample(10, random_state=17)\n",
    "df_inf"
   ]
  },
  {
   "cell_type": "code",
   "execution_count": 22,
   "metadata": {},
   "outputs": [
    {
     "data": {
      "text/html": [
       "<div>\n",
       "<style scoped>\n",
       "    .dataframe tbody tr th:only-of-type {\n",
       "        vertical-align: middle;\n",
       "    }\n",
       "\n",
       "    .dataframe tbody tr th {\n",
       "        vertical-align: top;\n",
       "    }\n",
       "\n",
       "    .dataframe thead th {\n",
       "        text-align: right;\n",
       "    }\n",
       "</style>\n",
       "<table border=\"1\" class=\"dataframe\">\n",
       "  <thead>\n",
       "    <tr style=\"text-align: right;\">\n",
       "      <th></th>\n",
       "      <th>Rank</th>\n",
       "      <th>Country</th>\n",
       "      <th>Score</th>\n",
       "      <th>GDP</th>\n",
       "      <th>Social_support</th>\n",
       "      <th>Life_expectancy</th>\n",
       "      <th>Freedom</th>\n",
       "      <th>Generosity</th>\n",
       "      <th>Corruption</th>\n",
       "    </tr>\n",
       "  </thead>\n",
       "  <tbody>\n",
       "    <tr>\n",
       "      <th>0</th>\n",
       "      <td>1</td>\n",
       "      <td>Finland</td>\n",
       "      <td>7.769</td>\n",
       "      <td>1.340</td>\n",
       "      <td>1.587</td>\n",
       "      <td>0.986</td>\n",
       "      <td>0.596</td>\n",
       "      <td>0.153</td>\n",
       "      <td>0.393</td>\n",
       "    </tr>\n",
       "    <tr>\n",
       "      <th>1</th>\n",
       "      <td>2</td>\n",
       "      <td>Denmark</td>\n",
       "      <td>7.600</td>\n",
       "      <td>1.383</td>\n",
       "      <td>1.573</td>\n",
       "      <td>0.996</td>\n",
       "      <td>0.592</td>\n",
       "      <td>0.252</td>\n",
       "      <td>0.410</td>\n",
       "    </tr>\n",
       "    <tr>\n",
       "      <th>2</th>\n",
       "      <td>3</td>\n",
       "      <td>Norway</td>\n",
       "      <td>7.554</td>\n",
       "      <td>1.488</td>\n",
       "      <td>1.582</td>\n",
       "      <td>1.028</td>\n",
       "      <td>0.603</td>\n",
       "      <td>0.271</td>\n",
       "      <td>0.341</td>\n",
       "    </tr>\n",
       "    <tr>\n",
       "      <th>3</th>\n",
       "      <td>4</td>\n",
       "      <td>Iceland</td>\n",
       "      <td>7.494</td>\n",
       "      <td>1.380</td>\n",
       "      <td>1.624</td>\n",
       "      <td>1.026</td>\n",
       "      <td>0.591</td>\n",
       "      <td>0.354</td>\n",
       "      <td>0.118</td>\n",
       "    </tr>\n",
       "    <tr>\n",
       "      <th>4</th>\n",
       "      <td>5</td>\n",
       "      <td>Netherlands</td>\n",
       "      <td>7.488</td>\n",
       "      <td>1.396</td>\n",
       "      <td>1.522</td>\n",
       "      <td>0.999</td>\n",
       "      <td>0.557</td>\n",
       "      <td>0.322</td>\n",
       "      <td>0.298</td>\n",
       "    </tr>\n",
       "    <tr>\n",
       "      <th>...</th>\n",
       "      <td>...</td>\n",
       "      <td>...</td>\n",
       "      <td>...</td>\n",
       "      <td>...</td>\n",
       "      <td>...</td>\n",
       "      <td>...</td>\n",
       "      <td>...</td>\n",
       "      <td>...</td>\n",
       "      <td>...</td>\n",
       "    </tr>\n",
       "    <tr>\n",
       "      <th>150</th>\n",
       "      <td>151</td>\n",
       "      <td>Yemen</td>\n",
       "      <td>3.380</td>\n",
       "      <td>0.287</td>\n",
       "      <td>1.163</td>\n",
       "      <td>0.463</td>\n",
       "      <td>0.143</td>\n",
       "      <td>0.108</td>\n",
       "      <td>0.077</td>\n",
       "    </tr>\n",
       "    <tr>\n",
       "      <th>151</th>\n",
       "      <td>152</td>\n",
       "      <td>Rwanda</td>\n",
       "      <td>3.334</td>\n",
       "      <td>0.359</td>\n",
       "      <td>0.711</td>\n",
       "      <td>0.614</td>\n",
       "      <td>0.555</td>\n",
       "      <td>0.217</td>\n",
       "      <td>0.411</td>\n",
       "    </tr>\n",
       "    <tr>\n",
       "      <th>153</th>\n",
       "      <td>154</td>\n",
       "      <td>Afghanistan</td>\n",
       "      <td>3.203</td>\n",
       "      <td>0.350</td>\n",
       "      <td>0.517</td>\n",
       "      <td>0.361</td>\n",
       "      <td>0.000</td>\n",
       "      <td>0.158</td>\n",
       "      <td>0.025</td>\n",
       "    </tr>\n",
       "    <tr>\n",
       "      <th>154</th>\n",
       "      <td>155</td>\n",
       "      <td>Central African Republic</td>\n",
       "      <td>3.083</td>\n",
       "      <td>0.026</td>\n",
       "      <td>0.000</td>\n",
       "      <td>0.105</td>\n",
       "      <td>0.225</td>\n",
       "      <td>0.235</td>\n",
       "      <td>0.035</td>\n",
       "    </tr>\n",
       "    <tr>\n",
       "      <th>155</th>\n",
       "      <td>156</td>\n",
       "      <td>South Sudan</td>\n",
       "      <td>2.853</td>\n",
       "      <td>0.306</td>\n",
       "      <td>0.575</td>\n",
       "      <td>0.295</td>\n",
       "      <td>0.010</td>\n",
       "      <td>0.202</td>\n",
       "      <td>0.091</td>\n",
       "    </tr>\n",
       "  </tbody>\n",
       "</table>\n",
       "<p>146 rows × 9 columns</p>\n",
       "</div>"
      ],
      "text/plain": [
       "     Rank                   Country  Score    GDP  Social_support  \\\n",
       "0       1                   Finland  7.769  1.340           1.587   \n",
       "1       2                   Denmark  7.600  1.383           1.573   \n",
       "2       3                    Norway  7.554  1.488           1.582   \n",
       "3       4                   Iceland  7.494  1.380           1.624   \n",
       "4       5               Netherlands  7.488  1.396           1.522   \n",
       "..    ...                       ...    ...    ...             ...   \n",
       "150   151                     Yemen  3.380  0.287           1.163   \n",
       "151   152                    Rwanda  3.334  0.359           0.711   \n",
       "153   154               Afghanistan  3.203  0.350           0.517   \n",
       "154   155  Central African Republic  3.083  0.026           0.000   \n",
       "155   156               South Sudan  2.853  0.306           0.575   \n",
       "\n",
       "     Life_expectancy  Freedom  Generosity  Corruption  \n",
       "0              0.986    0.596       0.153       0.393  \n",
       "1              0.996    0.592       0.252       0.410  \n",
       "2              1.028    0.603       0.271       0.341  \n",
       "3              1.026    0.591       0.354       0.118  \n",
       "4              0.999    0.557       0.322       0.298  \n",
       "..               ...      ...         ...         ...  \n",
       "150            0.463    0.143       0.108       0.077  \n",
       "151            0.614    0.555       0.217       0.411  \n",
       "153            0.361    0.000       0.158       0.025  \n",
       "154            0.105    0.225       0.235       0.035  \n",
       "155            0.295    0.010       0.202       0.091  \n",
       "\n",
       "[146 rows x 9 columns]"
      ]
     },
     "execution_count": 22,
     "metadata": {},
     "output_type": "execute_result"
    }
   ],
   "source": [
    "# Mendrop data yang telah dipilih menjadi inference dari dataset\n",
    "df_train = df_copy.drop(df_inf.index)\n",
    "df_train"
   ]
  },
  {
   "cell_type": "code",
   "execution_count": 23,
   "metadata": {},
   "outputs": [],
   "source": [
    "# Mereset index agar tidak terjadi kesalahan yang disebabkan oleh index yang belum direset\n",
    "df_train.reset_index(drop=True, inplace=True)\n",
    "df_inf.reset_index(drop=True, inplace=True)"
   ]
  },
  {
   "cell_type": "markdown",
   "metadata": {},
   "source": [
    "# Membagi Dataset Menjadi X (feature) dan y (target)"
   ]
  },
  {
   "cell_type": "code",
   "execution_count": 24,
   "metadata": {},
   "outputs": [
    {
     "data": {
      "text/html": [
       "<div>\n",
       "<style scoped>\n",
       "    .dataframe tbody tr th:only-of-type {\n",
       "        vertical-align: middle;\n",
       "    }\n",
       "\n",
       "    .dataframe tbody tr th {\n",
       "        vertical-align: top;\n",
       "    }\n",
       "\n",
       "    .dataframe thead th {\n",
       "        text-align: right;\n",
       "    }\n",
       "</style>\n",
       "<table border=\"1\" class=\"dataframe\">\n",
       "  <thead>\n",
       "    <tr style=\"text-align: right;\">\n",
       "      <th></th>\n",
       "      <th>Rank</th>\n",
       "      <th>Country</th>\n",
       "      <th>GDP</th>\n",
       "      <th>Social_support</th>\n",
       "      <th>Life_expectancy</th>\n",
       "      <th>Freedom</th>\n",
       "      <th>Generosity</th>\n",
       "      <th>Corruption</th>\n",
       "    </tr>\n",
       "  </thead>\n",
       "  <tbody>\n",
       "    <tr>\n",
       "      <th>0</th>\n",
       "      <td>1</td>\n",
       "      <td>Finland</td>\n",
       "      <td>1.340</td>\n",
       "      <td>1.587</td>\n",
       "      <td>0.986</td>\n",
       "      <td>0.596</td>\n",
       "      <td>0.153</td>\n",
       "      <td>0.393</td>\n",
       "    </tr>\n",
       "    <tr>\n",
       "      <th>1</th>\n",
       "      <td>2</td>\n",
       "      <td>Denmark</td>\n",
       "      <td>1.383</td>\n",
       "      <td>1.573</td>\n",
       "      <td>0.996</td>\n",
       "      <td>0.592</td>\n",
       "      <td>0.252</td>\n",
       "      <td>0.410</td>\n",
       "    </tr>\n",
       "    <tr>\n",
       "      <th>2</th>\n",
       "      <td>3</td>\n",
       "      <td>Norway</td>\n",
       "      <td>1.488</td>\n",
       "      <td>1.582</td>\n",
       "      <td>1.028</td>\n",
       "      <td>0.603</td>\n",
       "      <td>0.271</td>\n",
       "      <td>0.341</td>\n",
       "    </tr>\n",
       "    <tr>\n",
       "      <th>3</th>\n",
       "      <td>4</td>\n",
       "      <td>Iceland</td>\n",
       "      <td>1.380</td>\n",
       "      <td>1.624</td>\n",
       "      <td>1.026</td>\n",
       "      <td>0.591</td>\n",
       "      <td>0.354</td>\n",
       "      <td>0.118</td>\n",
       "    </tr>\n",
       "    <tr>\n",
       "      <th>4</th>\n",
       "      <td>5</td>\n",
       "      <td>Netherlands</td>\n",
       "      <td>1.396</td>\n",
       "      <td>1.522</td>\n",
       "      <td>0.999</td>\n",
       "      <td>0.557</td>\n",
       "      <td>0.322</td>\n",
       "      <td>0.298</td>\n",
       "    </tr>\n",
       "    <tr>\n",
       "      <th>...</th>\n",
       "      <td>...</td>\n",
       "      <td>...</td>\n",
       "      <td>...</td>\n",
       "      <td>...</td>\n",
       "      <td>...</td>\n",
       "      <td>...</td>\n",
       "      <td>...</td>\n",
       "      <td>...</td>\n",
       "    </tr>\n",
       "    <tr>\n",
       "      <th>141</th>\n",
       "      <td>151</td>\n",
       "      <td>Yemen</td>\n",
       "      <td>0.287</td>\n",
       "      <td>1.163</td>\n",
       "      <td>0.463</td>\n",
       "      <td>0.143</td>\n",
       "      <td>0.108</td>\n",
       "      <td>0.077</td>\n",
       "    </tr>\n",
       "    <tr>\n",
       "      <th>142</th>\n",
       "      <td>152</td>\n",
       "      <td>Rwanda</td>\n",
       "      <td>0.359</td>\n",
       "      <td>0.711</td>\n",
       "      <td>0.614</td>\n",
       "      <td>0.555</td>\n",
       "      <td>0.217</td>\n",
       "      <td>0.411</td>\n",
       "    </tr>\n",
       "    <tr>\n",
       "      <th>143</th>\n",
       "      <td>154</td>\n",
       "      <td>Afghanistan</td>\n",
       "      <td>0.350</td>\n",
       "      <td>0.517</td>\n",
       "      <td>0.361</td>\n",
       "      <td>0.000</td>\n",
       "      <td>0.158</td>\n",
       "      <td>0.025</td>\n",
       "    </tr>\n",
       "    <tr>\n",
       "      <th>144</th>\n",
       "      <td>155</td>\n",
       "      <td>Central African Republic</td>\n",
       "      <td>0.026</td>\n",
       "      <td>0.000</td>\n",
       "      <td>0.105</td>\n",
       "      <td>0.225</td>\n",
       "      <td>0.235</td>\n",
       "      <td>0.035</td>\n",
       "    </tr>\n",
       "    <tr>\n",
       "      <th>145</th>\n",
       "      <td>156</td>\n",
       "      <td>South Sudan</td>\n",
       "      <td>0.306</td>\n",
       "      <td>0.575</td>\n",
       "      <td>0.295</td>\n",
       "      <td>0.010</td>\n",
       "      <td>0.202</td>\n",
       "      <td>0.091</td>\n",
       "    </tr>\n",
       "  </tbody>\n",
       "</table>\n",
       "<p>146 rows × 8 columns</p>\n",
       "</div>"
      ],
      "text/plain": [
       "     Rank                   Country    GDP  Social_support  Life_expectancy  \\\n",
       "0       1                   Finland  1.340           1.587            0.986   \n",
       "1       2                   Denmark  1.383           1.573            0.996   \n",
       "2       3                    Norway  1.488           1.582            1.028   \n",
       "3       4                   Iceland  1.380           1.624            1.026   \n",
       "4       5               Netherlands  1.396           1.522            0.999   \n",
       "..    ...                       ...    ...             ...              ...   \n",
       "141   151                     Yemen  0.287           1.163            0.463   \n",
       "142   152                    Rwanda  0.359           0.711            0.614   \n",
       "143   154               Afghanistan  0.350           0.517            0.361   \n",
       "144   155  Central African Republic  0.026           0.000            0.105   \n",
       "145   156               South Sudan  0.306           0.575            0.295   \n",
       "\n",
       "     Freedom  Generosity  Corruption  \n",
       "0      0.596       0.153       0.393  \n",
       "1      0.592       0.252       0.410  \n",
       "2      0.603       0.271       0.341  \n",
       "3      0.591       0.354       0.118  \n",
       "4      0.557       0.322       0.298  \n",
       "..       ...         ...         ...  \n",
       "141    0.143       0.108       0.077  \n",
       "142    0.555       0.217       0.411  \n",
       "143    0.000       0.158       0.025  \n",
       "144    0.225       0.235       0.035  \n",
       "145    0.010       0.202       0.091  \n",
       "\n",
       "[146 rows x 8 columns]"
      ]
     },
     "execution_count": 24,
     "metadata": {},
     "output_type": "execute_result"
    }
   ],
   "source": [
    "# Membagi antara X(feature) dengan y(target)\n",
    "X = df_train.drop('Score', axis=1)\n",
    "y = df_train['Score']\n",
    "X"
   ]
  },
  {
   "cell_type": "code",
   "execution_count": 25,
   "metadata": {},
   "outputs": [
    {
     "name": "stdout",
     "output_type": "stream",
     "text": [
      "Train size: (116, 8)\n",
      "Test size: (30, 8)\n"
     ]
    }
   ],
   "source": [
    "# Membagi antara train dan test set, train set presentasenya adalah 80% dan test set presentasenya adalah 30%\n",
    "X_train, X_test, y_train, y_test = train_test_split(X, y, test_size=0.2, random_state=17)\n",
    "\n",
    "print('Train size:' , X_train.shape)\n",
    "print('Test size:', X_test.shape)"
   ]
  },
  {
   "cell_type": "markdown",
   "metadata": {},
   "source": [
    "# Feature Selection"
   ]
  },
  {
   "cell_type": "code",
   "execution_count": 26,
   "metadata": {},
   "outputs": [
    {
     "data": {
      "text/plain": [
       "<AxesSubplot:>"
      ]
     },
     "execution_count": 26,
     "metadata": {},
     "output_type": "execute_result"
    },
    {
     "data": {
      "image/png": "[encoded data removed]",
      "text/plain": [
       "<Figure size 720x720 with 2 Axes>"
      ]
     },
     "metadata": {
      "needs_background": "light"
     },
     "output_type": "display_data"
    }
   ],
   "source": [
    "# Cek korelasi antara target dengan feature menggunakan heatmap\n",
    "plt.figure(figsize=(10,10))\n",
    "sns.heatmap(df_copy.corr(), annot=True, cmap='RdYlGn')"
   ]
  },
  {
   "cell_type": "markdown",
   "metadata": {},
   "source": [
    "Berdasarkan heatmap diatas, semua kategori numerikal yang dapat dijadikan feature memiliki hubungan dengan kolom target yaitu 'Score' \n",
    "Namun demikian yang dipilih menjadi feature adalah kolom yang dengan nilai korelasi yang tinggi yaitu 'GDP', 'Social_support', 'Life_expectancy', 'Freedom', dan 'Corruption' untuk kolom 'Generosity' tidak dipilih menjadi feature karena nilai korelasinya rendah, selain itu berdasarkan scatter plot di bagian EDA, terlihat bahwa tidak ada korelasi yang kuat antara 'Generosity' dengan 'Score'"
   ]
  },
  {
   "cell_type": "code",
   "execution_count": 27,
   "metadata": {},
   "outputs": [
    {
     "data": {
      "text/html": [
       "<div>\n",
       "<style scoped>\n",
       "    .dataframe tbody tr th:only-of-type {\n",
       "        vertical-align: middle;\n",
       "    }\n",
       "\n",
       "    .dataframe tbody tr th {\n",
       "        vertical-align: top;\n",
       "    }\n",
       "\n",
       "    .dataframe thead th {\n",
       "        text-align: right;\n",
       "    }\n",
       "</style>\n",
       "<table border=\"1\" class=\"dataframe\">\n",
       "  <thead>\n",
       "    <tr style=\"text-align: right;\">\n",
       "      <th></th>\n",
       "      <th>Country</th>\n",
       "      <th>GDP</th>\n",
       "      <th>Social_support</th>\n",
       "      <th>Life_expectancy</th>\n",
       "      <th>Freedom</th>\n",
       "      <th>Corruption</th>\n",
       "    </tr>\n",
       "  </thead>\n",
       "  <tbody>\n",
       "    <tr>\n",
       "      <th>103</th>\n",
       "      <td>Senegal</td>\n",
       "      <td>0.450</td>\n",
       "      <td>1.134</td>\n",
       "      <td>0.571</td>\n",
       "      <td>0.292</td>\n",
       "      <td>0.072</td>\n",
       "    </tr>\n",
       "    <tr>\n",
       "      <th>52</th>\n",
       "      <td>Estonia</td>\n",
       "      <td>1.237</td>\n",
       "      <td>1.528</td>\n",
       "      <td>0.874</td>\n",
       "      <td>0.495</td>\n",
       "      <td>0.161</td>\n",
       "    </tr>\n",
       "    <tr>\n",
       "      <th>34</th>\n",
       "      <td>Italy</td>\n",
       "      <td>1.294</td>\n",
       "      <td>1.488</td>\n",
       "      <td>1.039</td>\n",
       "      <td>0.231</td>\n",
       "      <td>0.030</td>\n",
       "    </tr>\n",
       "    <tr>\n",
       "      <th>37</th>\n",
       "      <td>Trinidad &amp; Tobago</td>\n",
       "      <td>1.231</td>\n",
       "      <td>1.477</td>\n",
       "      <td>0.713</td>\n",
       "      <td>0.489</td>\n",
       "      <td>0.016</td>\n",
       "    </tr>\n",
       "    <tr>\n",
       "      <th>139</th>\n",
       "      <td>Syria</td>\n",
       "      <td>0.619</td>\n",
       "      <td>0.378</td>\n",
       "      <td>0.440</td>\n",
       "      <td>0.013</td>\n",
       "      <td>0.141</td>\n",
       "    </tr>\n",
       "    <tr>\n",
       "      <th>...</th>\n",
       "      <td>...</td>\n",
       "      <td>...</td>\n",
       "      <td>...</td>\n",
       "      <td>...</td>\n",
       "      <td>...</td>\n",
       "      <td>...</td>\n",
       "    </tr>\n",
       "    <tr>\n",
       "      <th>22</th>\n",
       "      <td>France</td>\n",
       "      <td>1.324</td>\n",
       "      <td>1.472</td>\n",
       "      <td>1.045</td>\n",
       "      <td>0.436</td>\n",
       "      <td>0.183</td>\n",
       "    </tr>\n",
       "    <tr>\n",
       "      <th>57</th>\n",
       "      <td>Bolivia</td>\n",
       "      <td>0.776</td>\n",
       "      <td>1.209</td>\n",
       "      <td>0.706</td>\n",
       "      <td>0.511</td>\n",
       "      <td>0.064</td>\n",
       "    </tr>\n",
       "    <tr>\n",
       "      <th>134</th>\n",
       "      <td>Lesotho</td>\n",
       "      <td>0.489</td>\n",
       "      <td>1.169</td>\n",
       "      <td>0.168</td>\n",
       "      <td>0.359</td>\n",
       "      <td>0.093</td>\n",
       "    </tr>\n",
       "    <tr>\n",
       "      <th>143</th>\n",
       "      <td>Afghanistan</td>\n",
       "      <td>0.350</td>\n",
       "      <td>0.517</td>\n",
       "      <td>0.361</td>\n",
       "      <td>0.000</td>\n",
       "      <td>0.025</td>\n",
       "    </tr>\n",
       "    <tr>\n",
       "      <th>111</th>\n",
       "      <td>Gambia</td>\n",
       "      <td>0.308</td>\n",
       "      <td>0.939</td>\n",
       "      <td>0.428</td>\n",
       "      <td>0.382</td>\n",
       "      <td>0.167</td>\n",
       "    </tr>\n",
       "  </tbody>\n",
       "</table>\n",
       "<p>116 rows × 6 columns</p>\n",
       "</div>"
      ],
      "text/plain": [
       "               Country    GDP  Social_support  Life_expectancy  Freedom  \\\n",
       "103            Senegal  0.450           1.134            0.571    0.292   \n",
       "52             Estonia  1.237           1.528            0.874    0.495   \n",
       "34               Italy  1.294           1.488            1.039    0.231   \n",
       "37   Trinidad & Tobago  1.231           1.477            0.713    0.489   \n",
       "139              Syria  0.619           0.378            0.440    0.013   \n",
       "..                 ...    ...             ...              ...      ...   \n",
       "22              France  1.324           1.472            1.045    0.436   \n",
       "57             Bolivia  0.776           1.209            0.706    0.511   \n",
       "134            Lesotho  0.489           1.169            0.168    0.359   \n",
       "143        Afghanistan  0.350           0.517            0.361    0.000   \n",
       "111             Gambia  0.308           0.939            0.428    0.382   \n",
       "\n",
       "     Corruption  \n",
       "103       0.072  \n",
       "52        0.161  \n",
       "34        0.030  \n",
       "37        0.016  \n",
       "139       0.141  \n",
       "..          ...  \n",
       "22        0.183  \n",
       "57        0.064  \n",
       "134       0.093  \n",
       "143       0.025  \n",
       "111       0.167  \n",
       "\n",
       "[116 rows x 6 columns]"
      ]
     },
     "execution_count": 27,
     "metadata": {},
     "output_type": "execute_result"
    }
   ],
   "source": [
    "# Membuat variabel yang berisikan kolom-kolom yang dipilih menjadi feature\n",
    "X_train_fix = X_train[['Country', 'GDP', 'Social_support', 'Life_expectancy', 'Freedom', 'Corruption']]\n",
    "X_test_fix = X_test[['Country', 'GDP', 'Social_support', 'Life_expectancy', 'Freedom', 'Corruption']]\n",
    "X_train_fix"
   ]
  },
  {
   "cell_type": "markdown",
   "metadata": {},
   "source": [
    "# Handling Missing Values"
   ]
  },
  {
   "cell_type": "code",
   "execution_count": 28,
   "metadata": {},
   "outputs": [
    {
     "data": {
      "text/plain": [
       "Country            0\n",
       "GDP                0\n",
       "Social_support     0\n",
       "Life_expectancy    0\n",
       "Freedom            0\n",
       "Corruption         0\n",
       "dtype: int64"
      ]
     },
     "execution_count": 28,
     "metadata": {},
     "output_type": "execute_result"
    }
   ],
   "source": [
    "# Memeriksa missing value dalam train set\n",
    "X_train_fix.isnull().sum()"
   ]
  },
  {
   "cell_type": "code",
   "execution_count": 29,
   "metadata": {},
   "outputs": [
    {
     "data": {
      "text/plain": [
       "0"
      ]
     },
     "execution_count": 29,
     "metadata": {},
     "output_type": "execute_result"
    }
   ],
   "source": [
    "# Memeriksa missing value dalam train set\n",
    "y_train.isnull().sum()"
   ]
  },
  {
   "cell_type": "code",
   "execution_count": 30,
   "metadata": {},
   "outputs": [
    {
     "data": {
      "text/plain": [
       "Country            0\n",
       "GDP                0\n",
       "Social_support     0\n",
       "Life_expectancy    0\n",
       "Freedom            0\n",
       "Corruption         0\n",
       "dtype: int64"
      ]
     },
     "execution_count": 30,
     "metadata": {},
     "output_type": "execute_result"
    }
   ],
   "source": [
    "# Memeriksa missing value dalam test set\n",
    "X_test_fix.isnull().sum()"
   ]
  },
  {
   "cell_type": "code",
   "execution_count": 31,
   "metadata": {},
   "outputs": [
    {
     "data": {
      "text/plain": [
       "0"
      ]
     },
     "execution_count": 31,
     "metadata": {},
     "output_type": "execute_result"
    }
   ],
   "source": [
    "# Memeriksa missing value dalam test set\n",
    "y_test.isnull().sum()"
   ]
  },
  {
   "cell_type": "markdown",
   "metadata": {},
   "source": [
    "Tidak terdapat entry yang dengan value null dalam dataset ini. Dengan demikian kita dapat melanjutkan ke proses selanjutnya."
   ]
  },
  {
   "cell_type": "markdown",
   "metadata": {},
   "source": [
    "# Membagi Kolom Numerikal dan Kategorikal"
   ]
  },
  {
   "cell_type": "code",
   "execution_count": 32,
   "metadata": {},
   "outputs": [
    {
     "name": "stdout",
     "output_type": "stream",
     "text": [
      "Numerical Columns :  ['GDP', 'Social_support', 'Life_expectancy', 'Freedom', 'Corruption']\n",
      "Categorical Columns :  ['Country']\n"
     ]
    }
   ],
   "source": [
    "# Membuat variabel yang berdasarkan tipe kolom\n",
    "num_cols = X_train_fix.select_dtypes(include=np.number).columns.tolist()\n",
    "cat_cols = X_train_fix.select_dtypes(include=['object']).columns.tolist()\n",
    "\n",
    "print('Numerical Columns : ', num_cols)\n",
    "print('Categorical Columns : ', cat_cols)"
   ]
  },
  {
   "cell_type": "code",
   "execution_count": 33,
   "metadata": {},
   "outputs": [],
   "source": [
    "# Membagi train dan test set berdasarkan tipe kolom\n",
    "X_train_num = X_train_fix[num_cols]\n",
    "X_train_cat = X_train_fix[cat_cols]\n",
    "\n",
    "X_test_num = X_test_fix[num_cols]\n",
    "X_test_cat = X_test_fix[cat_cols]"
   ]
  },
  {
   "cell_type": "code",
   "execution_count": 34,
   "metadata": {},
   "outputs": [],
   "source": [
    "from sklearn.compose import ColumnTransformer"
   ]
  },
  {
   "cell_type": "code",
   "execution_count": 42,
   "metadata": {},
   "outputs": [],
   "source": [
    "# Membuat pipeline untuk scaling dan encoding\n",
    "pipe_SE = ColumnTransformer([('MinMaxScaler',MinMaxScaler(),num_cols),\n",
    "                    ('OHE',OneHotEncoder(handle_unknown='ignore'), cat_cols)\n",
    "\n",
    "])"
   ]
  },
  {
   "cell_type": "markdown",
   "metadata": {},
   "source": [
    "# Handling Outliers\n",
    "\n",
    "Dalam dataset ini tidak akan dilakukan proses handling outliers. Tujuannya untuk menjaga kemurnian dataset, sehingga hasil prediksi yang dikeluarkan juga akan lebih tepat dan sesuai dengan keadaan di lapangan. Selain itu entry dalam dataset ini juga sangat sedikit, sehingga modifikasi data harus sangat diminimalisir."
   ]
  },
  {
   "cell_type": "markdown",
   "metadata": {},
   "source": [
    "# Feature Scaling"
   ]
  },
  {
   "cell_type": "code",
   "execution_count": 36,
   "metadata": {},
   "outputs": [
    {
     "name": "stdout",
     "output_type": "stream",
     "text": [
      "GDP Skewness: -0.4323999215008287\n",
      "Social_support Skewness: -1.1384453442834197\n",
      "Life_expectancy Skewness: -0.6573319484022595\n",
      "Freedom Skewness: -0.7623725649556242\n",
      "Corruption Skewness: 1.531998384494091\n"
     ]
    }
   ],
   "source": [
    "for i in X_train_num.columns:\n",
    "    print(i, 'Skewness:', X_train_num[i].skew())"
   ]
  },
  {
   "cell_type": "markdown",
   "metadata": {},
   "source": [
    "Menentukan skewness dataset untuk memilih scaler yang paling tepat untuk digunakan dalam proses scaling. Disini terlihat bahwa dataset bersifat skewed, sehingga scaler yang digunakan adalah MinMaxScaler. "
   ]
  },
  {
   "cell_type": "code",
   "execution_count": 37,
   "metadata": {},
   "outputs": [
    {
     "data": {
      "text/plain": [
       "array([[0.2672209 , 0.69827586, 0.50043821, 0.46275753, 0.15144766],\n",
       "       [0.73456057, 0.9408867 , 0.76599474, 0.7844691 , 0.34966592],\n",
       "       [0.76840855, 0.91625616, 0.91060473, 0.36608558, 0.05790646],\n",
       "       [0.73099762, 0.90948276, 0.62489045, 0.77496038, 0.02672606],\n",
       "       [0.3675772 , 0.23275862, 0.38562664, 0.02060222, 0.30512249],\n",
       "       [0.62410926, 0.83805419, 0.76336547, 0.31220285, 0.16926503],\n",
       "       [0.57007126, 0.83189655, 0.41104294, 0.61648177, 0.11358575],\n",
       "       [0.72505938, 0.72105911, 0.72567923, 0.80507132, 0.04454343],\n",
       "       [0.33372922, 0.57142857, 0.63365469, 0.83518225, 0.30957684],\n",
       "       [0.56294537, 0.94273399, 0.58457493, 0.50237718, 0.07572383],\n",
       "       [0.3260095 , 0.56034483, 0.29009641, 0.60380349, 0.07349666],\n",
       "       [0.61817102, 0.70504926, 0.47151621, 0.72107765, 0.21380846],\n",
       "       [0.32719715, 0.88546798, 0.63365469, 0.80507132, 0.04231626],\n",
       "       [0.81235154, 0.88054187, 0.80105171, 0.5562599 , 0.20712695],\n",
       "       [0.15914489, 0.51785714, 0.21209465, 0.48969889, 0.09131403],\n",
       "       [0.19714964, 0.65825123, 0.38825592, 0.56418384, 0.1247216 ],\n",
       "       [0.50475059, 0.64963054, 0.71428571, 0.44849445, 0.13363029],\n",
       "       [0.68586698, 0.77955665, 0.80105171, 0.46909667, 0.04008909],\n",
       "       [0.55285036, 0.74076355, 0.57843996, 0.77812995, 0.05345212],\n",
       "       [0.74703088, 0.93780788, 0.83523225, 0.89381933, 0.11804009],\n",
       "       [0.33788599, 0.49753695, 0.20333041, 0.55784469, 0.19153675],\n",
       "       [0.23337292, 0.26908867, 0.3479404 , 0.55309033, 0.17371938],\n",
       "       [0.73515439, 0.93288177, 0.71691499, 0.46117274, 0.08463252],\n",
       "       [0.82897862, 0.93719212, 0.87554777, 0.88272583, 0.65478842],\n",
       "       [0.20783848, 0.47167488, 0.16827344, 0.27575277, 0.16481069],\n",
       "       [0.82125891, 0.96859606, 0.87291849, 0.93819334, 0.90423163],\n",
       "       [0.48159145, 0.70751232, 0.        , 0.49603803, 0.29175947],\n",
       "       [0.56235154, 0.52216749, 0.76599474, 0.60697306, 0.05122494],\n",
       "       [0.75356295, 0.91564039, 0.80631025, 0.72424723, 0.07126949],\n",
       "       [0.16270784, 0.56403941, 0.48641543, 0.23454834, 0.08240535],\n",
       "       [0.4827791 , 0.81342365, 0.52936021, 0.72424723, 0.36302895],\n",
       "       [0.68824228, 0.8429803 , 0.80631025, 0.56576862, 0.11581292],\n",
       "       [0.7915677 , 0.94704433, 0.87291849, 0.71315372, 0.61024499],\n",
       "       [0.72505938, 0.88115764, 0.87554777, 0.80507132, 0.0467706 ],\n",
       "       [0.61935867, 0.70628079, 0.6739702 , 0.5562599 , 0.39643653],\n",
       "       [0.41211401, 0.8158867 , 0.7318142 , 0.68938193, 0.27394209],\n",
       "       [0.69002375, 0.75862069, 0.72304996, 0.73217116, 0.00222717],\n",
       "       [0.47921615, 0.79618227, 0.57581069, 0.88431062, 0.22939866],\n",
       "       [0.64845606, 0.8817734 , 0.77212971, 0.74643423, 0.10244989],\n",
       "       [0.44833729, 0.47105911, 0.51533742, 0.78922345, 0.18040089],\n",
       "       [0.59501188, 0.71428571, 0.68799299, 0.1362916 , 0.24498886],\n",
       "       [0.75      , 0.75307882, 0.91323401, 0.64342314, 0.08240535],\n",
       "       [0.47149644, 0.76477833, 0.69149869, 0.681458  , 0.155902  ],\n",
       "       [0.50771971, 0.90825123, 0.6809816 , 0.81458003, 0.16926503],\n",
       "       [0.4216152 , 0.72721675, 0.48641543, 0.83201268, 0.37416481],\n",
       "       [0.39964371, 0.49199507, 0.44522349, 0.58954041, 0.19821826],\n",
       "       [0.81947743, 1.        , 0.89921122, 0.93660856, 0.25389755],\n",
       "       [0.47505938, 0.78140394, 0.65381245, 0.84786054, 0.16481069],\n",
       "       [0.54216152, 0.63977833, 0.56441718, 0.38193344, 0.1403118 ],\n",
       "       [0.75771971, 0.89593596, 0.90184049, 0.58795563, 0.17371938],\n",
       "       [0.63539192, 0.81465517, 0.75460123, 0.68621236, 0.15367483],\n",
       "       [0.19180523, 0.42364532, 0.39351446, 0.04120444, 0.23608018],\n",
       "       [0.12114014, 0.60714286, 0.34180543, 0.78288431, 0.29844098],\n",
       "       [0.5219715 , 0.80849754, 0.41805434, 0.63549921, 0.11581292],\n",
       "       [0.8087886 , 0.84236453, 0.76336547, 0.84944532, 0.23608018],\n",
       "       [0.        , 0.42980296, 0.23488168, 0.8858954 , 0.59242762],\n",
       "       [0.73990499, 0.92610837, 0.77212971, 0.52931854, 0.02227171],\n",
       "       [0.89014252, 0.95628079, 0.87554777, 0.8177496 , 0.68151448],\n",
       "       [0.7719715 , 0.93596059, 0.87554777, 0.89381933, 0.32739421],\n",
       "       [0.63361045, 0.9020936 , 0.69149869, 0.37242472, 0.30734967],\n",
       "       [0.70249406, 0.89408867, 0.63628396, 0.52931854, 0.06013363],\n",
       "       [0.85391924, 0.78633005, 0.98334794, 0.69730586, 0.63028953],\n",
       "       [0.49703088, 0.75431034, 0.71428571, 0.60697306, 0.28062361],\n",
       "       [0.44002375, 0.82881773, 0.74583699, 0.86053883, 0.15367483],\n",
       "       [0.65320665, 0.51847291, 0.68799299, 0.48335975, 0.26948775],\n",
       "       [0.61935867, 0.60344828, 0.50306748, 0.38193344, 0.18930958],\n",
       "       [0.70249406, 0.83743842, 0.70815074, 0.30903328, 0.22717149],\n",
       "       [0.41330166, 0.6841133 , 0.21472393, 0.67511886, 0.08240535],\n",
       "       [0.2131829 , 0.43780788, 0.53812445, 0.87955626, 0.9064588 ],\n",
       "       [0.33847981, 0.71859606, 0.42857143, 0.10459588, 0.18708241],\n",
       "       [0.64845606, 0.93165025, 0.71428571, 0.49286846, 0.        ],\n",
       "       [0.83313539, 0.83559113, 0.69675723, 0.69572108, 0.28507795],\n",
       "       [0.16270784, 0.466133  , 0.44259422, 0.22503962, 0.16481069],\n",
       "       [0.61104513, 0.69273399, 0.7826468 , 0.82567353, 0.21380846],\n",
       "       [0.304038  , 0.60529557, 0.50920245, 0.68304279, 0.1091314 ],\n",
       "       [0.70486936, 0.9020936 , 0.71165644, 0.41838352, 0.13363029],\n",
       "       [0.81057007, 0.92672414, 0.91060473, 0.92551506, 0.67706013],\n",
       "       [0.75      , 0.77093596, 0.91323401, 0.66085578, 0.3518931 ],\n",
       "       [0.48693587, 0.85591133, 0.64767748, 0.28209192, 0.01336303],\n",
       "       [0.62351544, 0.86761084, 0.72567923, 0.88272583, 0.05345212],\n",
       "       [0.47565321, 0.48152709, 0.68536372, 0.66244057, 0.16035635],\n",
       "       [0.19655582, 0.65024631, 0.33304119, 0.40412044, 0.24276169],\n",
       "       [1.        , 0.80849754, 0.76336547, 0.87955626, 0.36302895],\n",
       "       [0.69655582, 0.92857143, 0.63891323, 0.64976228, 0.20489978],\n",
       "       [0.95546318, 0.91071429, 0.88694128, 0.83359746, 0.69487751],\n",
       "       [0.78800475, 0.87376847, 0.95354952, 0.70522979, 0.30289532],\n",
       "       [0.52375297, 0.75862069, 0.66432954, 0.77496038, 0.00445434],\n",
       "       [0.88361045, 0.97413793, 0.90096407, 0.95562599, 0.75055679],\n",
       "       [0.71615202, 0.88546798, 0.77475898, 0.76545166, 0.10244989],\n",
       "       [0.39014252, 0.76785714, 0.58895706, 0.35657686, 0.13808463],\n",
       "       [0.86223278, 0.93965517, 0.92199825, 0.90649762, 0.75501114],\n",
       "       [0.57007126, 0.78448276, 0.74846626, 0.72107765, 0.05122494],\n",
       "       [0.93349169, 0.90086207, 1.        , 0.88114105, 1.        ],\n",
       "       [0.89073634, 0.81219212, 0.70815074, 0.78129952, 0.20712695],\n",
       "       [0.34085511, 0.6908867 , 0.55828221, 0.96513471, 0.12917595],\n",
       "       [0.22565321, 0.51046798, 0.32865907, 0.52614897, 0.18262806],\n",
       "       [0.52612827, 0.41009852, 0.65907099, 0.54833597, 0.35634744],\n",
       "       [0.02731591, 0.27524631, 0.33304119, 0.34865293, 0.39198218],\n",
       "       [0.59619952, 0.88608374, 0.7028922 , 0.61806656, 0.18262806],\n",
       "       [0.01543943, 0.        , 0.09202454, 0.35657686, 0.06904232],\n",
       "       [0.8236342 , 0.91564039, 0.88431201, 0.90966719, 0.82182628],\n",
       "       [0.402019  , 0.5455665 , 0.46888694, 0.49603803, 0.20935412],\n",
       "       [0.04334917, 0.56773399, 0.38825592, 0.58637084, 0.06458797],\n",
       "       [0.81472684, 0.95320197, 0.90797546, 0.88272583, 0.63697105],\n",
       "       [0.58491686, 0.8682266 , 0.73707274, 0.74484945, 0.06681514],\n",
       "       [0.85095012, 0.89716749, 0.76599474, 0.71949287, 0.27616927],\n",
       "       [0.16330166, 0.35221675, 0.35933392, 0.46434231, 0.18040089],\n",
       "       [0.77375297, 0.95874384, 0.89921122, 0.92709984, 0.83741648],\n",
       "       [0.44239905, 0.94150246, 0.66257669, 1.        , 0.52561247],\n",
       "       [0.61995249, 0.8023399 , 0.58983348, 0.659271  , 0.32962138],\n",
       "       [0.66745843, 0.9020936 , 0.78089395, 0.82884311, 0.32516704],\n",
       "       [0.78622328, 0.90640394, 0.91586328, 0.69096672, 0.3986637 ],\n",
       "       [0.4608076 , 0.74445813, 0.61875548, 0.80982567, 0.13363029],\n",
       "       [0.29038005, 0.71982759, 0.14723926, 0.56893819, 0.19821826],\n",
       "       [0.20783848, 0.31834975, 0.31638913, 0.        , 0.0467706 ],\n",
       "       [0.18289786, 0.57820197, 0.37510955, 0.60538827, 0.36302895]])"
      ]
     },
     "execution_count": 37,
     "metadata": {},
     "output_type": "execute_result"
    }
   ],
   "source": [
    "# Normalisasi menggunakan MinMaxScaler karena dataset bersifat skewed\n",
    "scaler = MinMaxScaler()\n",
    "\n",
    "# Fit hanya untuk train set\n",
    "scaler.fit(X_train_num)\n",
    "\n",
    "# Transfrom train dan test set\n",
    "X_train_num_scaled = scaler.transform(X_train_num)\n",
    "X_test_num_scaled = scaler.transform(X_test_num)\n",
    "X_train_num_scaled"
   ]
  },
  {
   "cell_type": "code",
   "execution_count": 38,
   "metadata": {},
   "outputs": [
    {
     "data": {
      "text/plain": [
       "array([[0.2672209026128266, 0.6982758620689653, 0.5004382120946538,\n",
       "        0.46275752773375595, 0.15144766146993316, 'Senegal'],\n",
       "       [0.734560570071259, 0.940886699507389, 0.7659947414548641,\n",
       "        0.7844690966719493, 0.34966592427616927, 'Estonia'],\n",
       "       [0.7684085510688836, 0.9162561576354679, 0.9106047326906221,\n",
       "        0.3660855784469097, 0.057906458797327386, 'Italy'],\n",
       "       [0.7309976247030879, 0.9094827586206896, 0.6248904469763366,\n",
       "        0.7749603803486529, 0.026726057906458794, 'Trinidad & Tobago'],\n",
       "       [0.3675771971496437, 0.23275862068965514, 0.38562664329535495,\n",
       "        0.020602218700475437, 0.30512249443207123, 'Syria'],\n",
       "       [0.6241092636579572, 0.8380541871921181, 0.7633654688869412,\n",
       "        0.312202852614897, 0.16926503340757237, 'Montenegro'],\n",
       "       [0.5700712589073634, 0.8318965517241378, 0.41104294478527603,\n",
       "        0.6164817749603804, 0.1135857461024499, 'South Africa'],\n",
       "       [0.7250593824228029, 0.7210591133004925, 0.7256792287467134,\n",
       "        0.8050713153724247, 0.044543429844097995, 'Malaysia'],\n",
       "       [0.333729216152019, 0.5714285714285714, 0.6336546888694128,\n",
       "        0.8351822503961965, 0.309576837416481, 'Bangladesh'],\n",
       "       [0.5629453681710214, 0.942733990147783, 0.5845749342681859,\n",
       "        0.5023771790808241, 0.0757238307349666, 'Mongolia'],\n",
       "       [0.3260095011876485, 0.5603448275862069, 0.29009640666082387,\n",
       "        0.6038034865293186, 0.07349665924276169, 'Cameroon'],\n",
       "       [0.6181710213776721, 0.7050492610837438, 0.4715162138475022,\n",
       "        0.7210776545166403, 0.21380846325167038, 'Botswana'],\n",
       "       [0.3271971496437055, 0.8854679802955664, 0.6336546888694128,\n",
       "        0.8050713153724247, 0.042316258351893093, 'Kyrgyzstan'],\n",
       "       [0.8123515439429929, 0.880541871921182, 0.8010517090271692,\n",
       "        0.5562599049128367, 0.20712694877505566, 'Taiwan'],\n",
       "       [0.15914489311163896, 0.5178571428571428, 0.21209465381244522,\n",
       "        0.4896988906497623, 0.09131403118040089, 'Sierra Leone'],\n",
       "       [0.19714964370546317, 0.6582512315270935, 0.38825591586327785,\n",
       "        0.5641838351822503, 0.12472160356347438, 'Uganda'],\n",
       "       [0.504750593824228, 0.649630541871921, 0.7142857142857142,\n",
       "        0.4484944532488114, 0.13363028953229397, 'Armenia'],\n",
       "       [0.6858669833729216, 0.7795566502463053, 0.8010517090271692,\n",
       "        0.46909667194928684, 0.04008908685968819, 'Croatia'],\n",
       "       [0.5528503562945368, 0.7407635467980295, 0.5784399649430324,\n",
       "        0.7781299524564184, 0.053452115812917596, 'Indonesia'],\n",
       "       [0.7470308788598574, 0.9378078817733988, 0.8352322524101665,\n",
       "        0.8938193343898573, 0.11804008908685969, 'Slovenia'],\n",
       "       [0.3378859857482185, 0.49753694581280783, 0.203330411919369,\n",
       "        0.5578446909667195, 0.19153674832962136, 'Ivory Coast'],\n",
       "       [0.2333729216152019, 0.2690886699507389, 0.3479404031551271,\n",
       "        0.5530903328050712, 0.17371937639198218, 'Benin'],\n",
       "       [0.7351543942992874, 0.9328817733990146, 0.7169149868536371,\n",
       "        0.4611727416798732, 0.0846325167037862, 'Lithuania'],\n",
       "       [0.8289786223277908, 0.9371921182266009, 0.8755477651183172,\n",
       "        0.8827258320126784, 0.6547884187082406, 'Netherlands'],\n",
       "       [0.20783847980997622, 0.4716748768472906, 0.16827344434706398,\n",
       "        0.2757527733755943, 0.16481069042316257, 'Chad'],\n",
       "       [0.8212589073634204, 0.9685960591133004, 0.8729184925503944,\n",
       "        0.9381933438985737, 0.9042316258351892, 'Denmark'],\n",
       "       [0.4815914489311164, 0.7075123152709358, 0.0, 0.4960380348652932,\n",
       "        0.29175946547884185, 'Swaziland'],\n",
       "       [0.5623515439429928, 0.522167487684729, 0.7659947414548641,\n",
       "        0.6069730586370841, 0.051224944320712694, 'Albania'],\n",
       "       [0.7535629453681709, 0.9156403940886699, 0.8063102541630149,\n",
       "        0.7242472266244058, 0.07126948775055679, 'Czech Republic'],\n",
       "       [0.16270783847981, 0.564039408866995, 0.4864154250657319,\n",
       "        0.23454833597464342, 0.0824053452115813, 'Madagascar'],\n",
       "       [0.48277909738717334, 0.813423645320197, 0.5293602103418055,\n",
       "        0.7242472266244058, 0.36302895322939865, 'Bhutan'],\n",
       "       [0.6882422802850356, 0.8429802955665023, 0.8063102541630149,\n",
       "        0.5657686212361331, 0.1158129175946548, 'Chile'],\n",
       "       [0.7915676959619952, 0.9470443349753693, 0.8729184925503944,\n",
       "        0.7131537242472267, 0.6102449888641426, 'United Kingdom'],\n",
       "       [0.7250593824228029, 0.8811576354679802, 0.8755477651183172,\n",
       "        0.8050713153724247, 0.0467706013363029, 'Portugal'],\n",
       "       [0.6193586698337291, 0.7062807881773399, 0.6739702015775636,\n",
       "        0.5562599049128367, 0.3964365256124721, 'Azerbaijan'],\n",
       "       [0.4121140142517814, 0.815886699507389, 0.7318141980718668,\n",
       "        0.6893819334389858, 0.27394209354120264, 'Nicaragua'],\n",
       "       [0.6900237529691211, 0.7586206896551723, 0.7230499561787905,\n",
       "        0.7321711568938194, 0.0022271714922049, 'Romania'],\n",
       "       [0.47921615201900236, 0.7961822660098521, 0.5758106923751096,\n",
       "        0.8843106180665611, 0.22939866369710465, 'Philippines'],\n",
       "       [0.6484560570071259, 0.8817733990147781, 0.7721297107800176,\n",
       "        0.7464342313787639, 0.1024498886414254, 'Argentina'],\n",
       "       [0.4483372921615202, 0.47105911330049255, 0.5153374233128835,\n",
       "        0.7892234548335975, 0.1804008908685969, 'India'],\n",
       "       [0.5950118764845606, 0.7142857142857142, 0.6879929886064856,\n",
       "        0.1362916006339144, 0.24498886414253895, 'Algeria'],\n",
       "       [0.7499999999999999, 0.7530788177339901, 0.9132340052585451,\n",
       "        0.6434231378763867, 0.0824053452115813, 'Cyprus'],\n",
       "       [0.47149643705463185, 0.7647783251231526, 0.6914986853637161,\n",
       "        0.6814580031695721, 0.15590200445434296, 'El Salvador'],\n",
       "       [0.5077197149643705, 0.9082512315270935, 0.6809815950920246,\n",
       "        0.8145800316957211, 0.16926503340757237, 'Paraguay'],\n",
       "       [0.4216152019002375, 0.7272167487684729, 0.4864154250657319,\n",
       "        0.8320126782884311, 0.3741648106904231, 'Myanmar'],\n",
       "       [0.3996437054631829, 0.49199507389162556, 0.44522348816827345,\n",
       "        0.589540412044374, 0.19821826280623606, 'Congo (Brazzaville)'],\n",
       "       [0.8194774346793349, 0.9999999999999999, 0.8992112182296231,\n",
       "        0.936608557844691, 0.25389755011135856, 'Iceland'],\n",
       "       [0.4750593824228029, 0.7814039408866993, 0.6538124452234881,\n",
       "        0.8478605388272584, 0.16481069042316257, 'Guatemala'],\n",
       "       [0.5421615201900237, 0.6397783251231526, 0.5644171779141104,\n",
       "        0.3819334389857369, 0.1403118040089087, 'Egypt'],\n",
       "       [0.7577197149643705, 0.8959359605911329, 0.9018404907975459,\n",
       "        0.5879556259904913, 0.17371937639198218, 'Israel'],\n",
       "       [0.6353919239904988, 0.8146551724137929, 0.754601226993865,\n",
       "        0.6862123613312203, 0.15367483296213807, 'Mexico'],\n",
       "       [0.19180522565320665, 0.42364532019704426, 0.39351446099912357,\n",
       "        0.04120443740095087, 0.23608017817371937, 'Haiti'],\n",
       "       [0.12114014251781471, 0.6071428571428571, 0.3418054338299737,\n",
       "        0.7828843106180665, 0.2984409799554566, 'Mozambique'],\n",
       "       [0.5219714964370546, 0.8084975369458126, 0.41805433829973704,\n",
       "        0.6354992076069731, 0.1158129175946548, 'Namibia'],\n",
       "       [0.8087885985748219, 0.8423645320197044, 0.7633654688869412,\n",
       "        0.8494453248811411, 0.23608017817371937, 'Bahrain'],\n",
       "       [0.0, 0.4298029556650245, 0.2348816827344435, 0.8858954041204439,\n",
       "        0.5924276169265034, 'Somalia'],\n",
       "       [0.7399049881235155, 0.9261083743842363, 0.7721297107800176,\n",
       "        0.5293185419968305, 0.022271714922048998, 'Slovakia'],\n",
       "       [0.8901425178147269, 0.9562807881773397, 0.8755477651183172,\n",
       "        0.8177496038034866, 0.6815144766146993, 'Ireland'],\n",
       "       [0.7719714964370546, 0.9359605911330048, 0.8755477651183172,\n",
       "        0.8938193343898573, 0.3273942093541202, 'Malta'],\n",
       "       [0.6336104513064132, 0.9020935960591132, 0.6914986853637161,\n",
       "        0.37242472266244053, 0.30734966592427615, 'Belarus'],\n",
       "       [0.7024940617577197, 0.8940886699507388, 0.6362839614373357,\n",
       "        0.5293185419968305, 0.06013363028953229, 'Russia'],\n",
       "       [0.8539192399049881, 0.7863300492610836, 0.9833479404031552,\n",
       "        0.6973058637083994, 0.6302895322939867, 'Hong Kong'],\n",
       "       [0.4970308788598575, 0.7543103448275862, 0.7142857142857142,\n",
       "        0.6069730586370841, 0.2806236080178174, 'Jordan'],\n",
       "       [0.4400237529691211, 0.8288177339901477, 0.7458369851007888,\n",
       "        0.8605388272583202, 0.15367483296213807, 'Vietnam'],\n",
       "       [0.653206650831354, 0.5184729064039408, 0.6879929886064856,\n",
       "        0.48335974643423135, 0.26948775055679286, 'Iran'],\n",
       "       [0.6193586698337291, 0.6034482758620688, 0.5030674846625767,\n",
       "        0.3819334389857369, 0.18930957683741645, 'Iraq'],\n",
       "       [0.7024940617577197, 0.8374384236453202, 0.708150744960561,\n",
       "        0.3090332805071316, 0.22717149220489977, 'Turkey'],\n",
       "       [0.4133016627078384, 0.6841133004926108, 0.2147239263803681,\n",
       "        0.6751188589540412, 0.0824053452115813, 'Nigeria'],\n",
       "       [0.21318289786223277, 0.4378078817733989, 0.5381244522348817,\n",
       "        0.8795562599049129, 0.9064587973273942, 'Rwanda'],\n",
       "       [0.338479809976247, 0.7185960591133004, 0.42857142857142855,\n",
       "        0.10459587955625992, 0.18708240534521156, 'Mauritania'],\n",
       "       [0.6484560570071259, 0.9316502463054185, 0.7142857142857142,\n",
       "        0.4928684627575277, 0.0, 'Bulgaria'],\n",
       "       [0.8331353919239904, 0.8355911330049259, 0.6967572304995618,\n",
       "        0.6957210776545166, 0.28507795100222716, 'Saudi Arabia'],\n",
       "       [0.16270783847981, 0.4661330049261083, 0.44259421560035056,\n",
       "        0.22503961965134706, 0.16481069042316257, 'Comoros'],\n",
       "       [0.6110451306413301, 0.6927339901477831, 0.782646801051709,\n",
       "        0.8256735340729002, 0.21380846325167038, 'China'],\n",
       "       [0.30403800475059384, 0.605295566502463, 0.50920245398773,\n",
       "        0.6830427892234548, 0.1091314031180401, 'Kenya'],\n",
       "       [0.7048693586698337, 0.9020935960591132, 0.7116564417177914,\n",
       "        0.41838351822503966, 0.13363028953229397, 'Latvia'],\n",
       "       [0.8105700712589073, 0.9267241379310343, 0.9106047326906221,\n",
       "        0.9255150554675119, 0.6770601336302896, 'Canada'],\n",
       "       [0.7499999999999999, 0.7709359605911329, 0.9132340052585451,\n",
       "        0.6608557844690967, 0.3518930957683742, 'Northern Cyprus'],\n",
       "       [0.4869358669833729, 0.8559113300492609, 0.6476774758983348,\n",
       "        0.2820919175911252, 0.013363028953229399, 'Ukraine'],\n",
       "       [0.6235154394299287, 0.8676108374384235, 0.7256792287467134,\n",
       "        0.8827258320126784, 0.053452115812917596, 'Thailand'],\n",
       "       [0.4756532066508314, 0.48152709359605905, 0.6853637160385627,\n",
       "        0.6624405705229793, 0.16035634743875277, 'Morocco'],\n",
       "       [0.1965558194774347, 0.6502463054187192, 0.33304119193689746,\n",
       "        0.4041204437400951, 0.2427616926503341, 'Burkina Faso'],\n",
       "       [0.9999999999999999, 0.8084975369458126, 0.7633654688869412,\n",
       "        0.8795562599049129, 0.36302895322939865, 'Qatar'],\n",
       "       [0.6965558194774347, 0.9285714285714285, 0.6389132340052586,\n",
       "        0.6497622820919176, 0.20489977728285078, 'Kazakhstan'],\n",
       "       [0.9554631828978621, 0.9107142857142857, 0.8869412795793163,\n",
       "        0.8335974643423139, 0.6948775055679288, 'Luxembourg'],\n",
       "       [0.7880047505938241, 0.8737684729064038, 0.953549517966696,\n",
       "        0.705229793977813, 0.3028953229398664, 'Japan'],\n",
       "       [0.5237529691211401, 0.7586206896551723, 0.6643295354951797,\n",
       "        0.7749603803486529, 0.0044543429844098, 'Kosovo'],\n",
       "       [0.8836104513064132, 0.9741379310344827, 0.9009640666082384,\n",
       "        0.9556259904912837, 0.7505567928730513, 'Norway'],\n",
       "       [0.7161520190023752, 0.8854679802955664, 0.7747589833479404,\n",
       "        0.7654516640253566, 0.1024498886414254, 'Poland'],\n",
       "       [0.39014251781472686, 0.7678571428571428, 0.588957055214724,\n",
       "        0.35657686212361334, 0.13808463251670378,\n",
       "        'Palestinian Territories'],\n",
       "       [0.8622327790973872, 0.939655172413793, 0.9219982471516214,\n",
       "        0.9064976228209192, 0.7550111358574612, 'Switzerland'],\n",
       "       [0.5700712589073634, 0.7844827586206896, 0.7484662576687117,\n",
       "        0.7210776545166403, 0.051224944320712694, 'Peru'],\n",
       "       [0.9334916864608076, 0.9008620689655171, 1.0, 0.8811410459587956,\n",
       "        1.0, 'Singapore'],\n",
       "       [0.8907363420427553, 0.8121921182266009, 0.708150744960561,\n",
       "        0.7812995245641838, 0.20712694877505566, 'Kuwait'],\n",
       "       [0.340855106888361, 0.6908866995073891, 0.558282208588957,\n",
       "        0.96513470681458, 0.12917594654788417, 'Cambodia'],\n",
       "       [0.22565320665083136, 0.5104679802955664, 0.32865907099035935,\n",
       "        0.526148969889065, 0.18262806236080176, 'Guinea'],\n",
       "       [0.5261282660332541, 0.41009852216748766, 0.6590709903593339,\n",
       "        0.5483359746434231, 0.35634743875278396, 'Georgia'],\n",
       "       [0.02731591448931116, 0.2752463054187192, 0.33304119193689746,\n",
       "        0.3486529318541997, 0.39198218262806234, 'Burundi'],\n",
       "       [0.5961995249406176, 0.8860837438423644, 0.7028921998247152,\n",
       "        0.6180665610142632, 0.18262806236080176, 'Brazil'],\n",
       "       [0.015439429928741092, 0.0, 0.09202453987730061,\n",
       "        0.35657686212361334, 0.0690423162583519,\n",
       "        'Central African Republic'],\n",
       "       [0.8236342042755345, 0.9156403940886699, 0.8843120070113935,\n",
       "        0.9096671949286845, 0.8218262806236081, 'Sweden'],\n",
       "       [0.4020190023752969, 0.5455665024630542, 0.46888694127957936,\n",
       "        0.4960380348652932, 0.20935412026726058, 'Pakistan'],\n",
       "       [0.04334916864608076, 0.5677339901477833, 0.38825591586327785,\n",
       "        0.5863708399366085, 0.0645879732739421, 'Liberia'],\n",
       "       [0.8147268408551069, 0.9532019704433496, 0.9079754601226994,\n",
       "        0.8827258320126784, 0.6369710467706013, 'Australia'],\n",
       "       [0.584916864608076, 0.8682266009852215, 0.7370727432077125,\n",
       "        0.7448494453248811, 0.066815144766147, 'Colombia'],\n",
       "       [0.8509501187648456, 0.897167487684729, 0.7659947414548641,\n",
       "        0.7194928684627576, 0.27616926503340755, 'United States'],\n",
       "       [0.1633016627078385, 0.3522167487684728, 0.3593339176161262,\n",
       "        0.4643423137876386, 0.1804008908685969, 'Togo'],\n",
       "       [0.7737529691211401, 0.9587438423645318, 0.8992112182296231,\n",
       "        0.9270998415213946, 0.8374164810690423, 'New Zealand'],\n",
       "       [0.44239904988123513, 0.941502463054187, 0.6625766871165644, 1.0,\n",
       "        0.5256124721603563, 'Uzbekistan'],\n",
       "       [0.6199524940617577, 0.8023399014778324, 0.5898334794040316,\n",
       "        0.659270998415214, 0.32962138084632514, 'Libya'],\n",
       "       [0.667458432304038, 0.9020935960591132, 0.7808939526730938,\n",
       "        0.8288431061806657, 0.32516703786191536, 'Uruguay'],\n",
       "       [0.7862232779097388, 0.9064039408866994, 0.9158632778264679,\n",
       "        0.6909667194928685, 0.39866369710467703, 'France'],\n",
       "       [0.46080760095011875, 0.7444581280788177, 0.6187554776511831,\n",
       "        0.809825673534073, 0.13363028953229397, 'Bolivia'],\n",
       "       [0.2903800475059382, 0.7198275862068965, 0.147239263803681,\n",
       "        0.5689381933438986, 0.19821826280623606, 'Lesotho'],\n",
       "       [0.20783847980997622, 0.31834975369458124, 0.31638913234005256,\n",
       "        0.0, 0.0467706013363029, 'Afghanistan'],\n",
       "       [0.1828978622327791, 0.5782019704433496, 0.37510955302366344,\n",
       "        0.6053882725832013, 0.36302895322939865, 'Gambia']], dtype=object)"
      ]
     },
     "execution_count": 38,
     "metadata": {},
     "output_type": "execute_result"
    }
   ],
   "source": [
    "# Concat numerical columns and cetegorical columns \n",
    "X_train_final = np.concatenate([X_train_num_scaled, X_train_cat], axis =1)\n",
    "X_test_final = np.concatenate([X_test_num_scaled, X_test_cat], axis =1)\n",
    "X_train_final\n"
   ]
  },
  {
   "cell_type": "markdown",
   "metadata": {},
   "source": [
    "# Model Definition\n",
    "\n",
    "- Menggunakan algoritma Linear Regression, Polynomial Regression Degree 2, Polynomial Regression Degree 3, dan Polynomial Regression Degree 4. Keempat algoritma akan diuji dan dibandingkan untuk kemudian dilihat algoritma mana yang performanya paling baik.\n",
    "\n",
    "- Metrics yang akan dipakai untuk mengevaluasi adalah MAE dan MAPE untuk melihat jumlah dan presentase errornya, sedangkan r2score untuk melihat tingkat ketepatan."
   ]
  },
  {
   "cell_type": "code",
   "execution_count": 47,
   "metadata": {},
   "outputs": [],
   "source": [
    "# Numeric Features Scaling\n",
    "num_pipe = Pipeline([('scaling', MinMaxScaler())])\n",
    "\n",
    "# Categorical Features Encoding\n",
    "cat_pipe = Pipeline([('encode', OneHotEncoder(handle_unknown='ignore'))])\n",
    "\n",
    "# Preprocessing Pipeline\n",
    "preprocess = ColumnTransformer([\n",
    "    ('num',num_pipe, X_train.select_dtypes(include=['float64', 'int64']).columns),\n",
    "    ('cat',cat_pipe, X_train.select_dtypes(include=['object']).columns)\n",
    "])"
   ]
  },
  {
   "cell_type": "code",
   "execution_count": 49,
   "metadata": {},
   "outputs": [],
   "source": [
    "poly_lr_pipe = Pipeline([('preprocessing', preprocess), ('poly', PolynomialFeatures()), ('model', LinearRegression())])"
   ]
  },
  {
   "cell_type": "code",
   "execution_count": 50,
   "metadata": {},
   "outputs": [],
   "source": [
    "poly_params = {'poly__degree': [2, 3, 4]}"
   ]
  },
  {
   "cell_type": "code",
   "execution_count": 51,
   "metadata": {},
   "outputs": [],
   "source": [
    "poly = GridSearchCV(poly_lr_pipe, param_grid=poly_params, cv=5, n_jobs=-1)"
   ]
  },
  {
   "cell_type": "code",
   "execution_count": null,
   "metadata": {},
   "outputs": [],
   "source": [
    "poly.fit(X_train, y_train)"
   ]
  },
  {
   "cell_type": "code",
   "execution_count": 39,
   "metadata": {},
   "outputs": [],
   "source": [
    "from sklearn.pipeline import Pipeline"
   ]
  },
  {
   "cell_type": "code",
   "execution_count": 40,
   "metadata": {},
   "outputs": [],
   "source": [
    "poly_lr_pipe = Pipeline([('preprocessing', pipe_SE), ('poly', PolynomialFeatures()), ('model', LinearRegression())])"
   ]
  },
  {
   "cell_type": "code",
   "execution_count": 41,
   "metadata": {},
   "outputs": [
    {
     "ename": "ValueError",
     "evalue": "Specifying the columns using strings is only supported for pandas DataFrames",
     "output_type": "error",
     "traceback": [
      "\u001b[0;31m---------------------------------------------------------------------------\u001b[0m",
      "\u001b[0;31mAttributeError\u001b[0m                            Traceback (most recent call last)",
      "File \u001b[0;32m~/opt/anaconda3/lib/python3.9/site-packages/sklearn/utils/__init__.py:392\u001b[0m, in \u001b[0;36m_get_column_indices\u001b[0;34m(X, key)\u001b[0m\n\u001b[1;32m    <a href='file:///Users/arnaztejakusuma/opt/anaconda3/lib/python3.9/site-packages/sklearn/utils/__init__.py?line=390'>391</a>\u001b[0m \u001b[39mtry\u001b[39;00m:\n\u001b[0;32m--> <a href='file:///Users/arnaztejakusuma/opt/anaconda3/lib/python3.9/site-packages/sklearn/utils/__init__.py?line=391'>392</a>\u001b[0m     all_columns \u001b[39m=\u001b[39m X\u001b[39m.\u001b[39;49mcolumns\n\u001b[1;32m    <a href='file:///Users/arnaztejakusuma/opt/anaconda3/lib/python3.9/site-packages/sklearn/utils/__init__.py?line=392'>393</a>\u001b[0m \u001b[39mexcept\u001b[39;00m \u001b[39mAttributeError\u001b[39;00m:\n",
      "\u001b[0;31mAttributeError\u001b[0m: 'numpy.ndarray' object has no attribute 'columns'",
      "\nDuring handling of the above exception, another exception occurred:\n",
      "\u001b[0;31mValueError\u001b[0m                                Traceback (most recent call last)",
      "\u001b[1;32m/Users/arnaztejakusuma/Desktop/P1_M2_Copy/h8dsft_P1M1_Arnaz_Tejakusuma.ipynb Cell 72'\u001b[0m in \u001b[0;36m<cell line: 1>\u001b[0;34m()\u001b[0m\n\u001b[0;32m----> <a href='vscode-notebook-cell:/Users/arnaztejakusuma/Desktop/P1_M2_Copy/h8dsft_P1M1_Arnaz_Tejakusuma.ipynb#ch0000112?line=0'>1</a>\u001b[0m poly_lr_pipe\u001b[39m.\u001b[39;49mfit(X_train_final,y_train)\n",
      "File \u001b[0;32m~/opt/anaconda3/lib/python3.9/site-packages/sklearn/pipeline.py:378\u001b[0m, in \u001b[0;36mPipeline.fit\u001b[0;34m(self, X, y, **fit_params)\u001b[0m\n\u001b[1;32m    <a href='file:///Users/arnaztejakusuma/opt/anaconda3/lib/python3.9/site-packages/sklearn/pipeline.py?line=351'>352</a>\u001b[0m \u001b[39m\"\"\"Fit the model.\u001b[39;00m\n\u001b[1;32m    <a href='file:///Users/arnaztejakusuma/opt/anaconda3/lib/python3.9/site-packages/sklearn/pipeline.py?line=352'>353</a>\u001b[0m \n\u001b[1;32m    <a href='file:///Users/arnaztejakusuma/opt/anaconda3/lib/python3.9/site-packages/sklearn/pipeline.py?line=353'>354</a>\u001b[0m \u001b[39mFit all the transformers one after the other and transform the\u001b[39;00m\n\u001b[0;32m   (...)\u001b[0m\n\u001b[1;32m    <a href='file:///Users/arnaztejakusuma/opt/anaconda3/lib/python3.9/site-packages/sklearn/pipeline.py?line=374'>375</a>\u001b[0m \u001b[39m    Pipeline with fitted steps.\u001b[39;00m\n\u001b[1;32m    <a href='file:///Users/arnaztejakusuma/opt/anaconda3/lib/python3.9/site-packages/sklearn/pipeline.py?line=375'>376</a>\u001b[0m \u001b[39m\"\"\"\u001b[39;00m\n\u001b[1;32m    <a href='file:///Users/arnaztejakusuma/opt/anaconda3/lib/python3.9/site-packages/sklearn/pipeline.py?line=376'>377</a>\u001b[0m fit_params_steps \u001b[39m=\u001b[39m \u001b[39mself\u001b[39m\u001b[39m.\u001b[39m_check_fit_params(\u001b[39m*\u001b[39m\u001b[39m*\u001b[39mfit_params)\n\u001b[0;32m--> <a href='file:///Users/arnaztejakusuma/opt/anaconda3/lib/python3.9/site-packages/sklearn/pipeline.py?line=377'>378</a>\u001b[0m Xt \u001b[39m=\u001b[39m \u001b[39mself\u001b[39;49m\u001b[39m.\u001b[39;49m_fit(X, y, \u001b[39m*\u001b[39;49m\u001b[39m*\u001b[39;49mfit_params_steps)\n\u001b[1;32m    <a href='file:///Users/arnaztejakusuma/opt/anaconda3/lib/python3.9/site-packages/sklearn/pipeline.py?line=378'>379</a>\u001b[0m \u001b[39mwith\u001b[39;00m _print_elapsed_time(\u001b[39m\"\u001b[39m\u001b[39mPipeline\u001b[39m\u001b[39m\"\u001b[39m, \u001b[39mself\u001b[39m\u001b[39m.\u001b[39m_log_message(\u001b[39mlen\u001b[39m(\u001b[39mself\u001b[39m\u001b[39m.\u001b[39msteps) \u001b[39m-\u001b[39m \u001b[39m1\u001b[39m)):\n\u001b[1;32m    <a href='file:///Users/arnaztejakusuma/opt/anaconda3/lib/python3.9/site-packages/sklearn/pipeline.py?line=379'>380</a>\u001b[0m     \u001b[39mif\u001b[39;00m \u001b[39mself\u001b[39m\u001b[39m.\u001b[39m_final_estimator \u001b[39m!=\u001b[39m \u001b[39m\"\u001b[39m\u001b[39mpassthrough\u001b[39m\u001b[39m\"\u001b[39m:\n",
      "File \u001b[0;32m~/opt/anaconda3/lib/python3.9/site-packages/sklearn/pipeline.py:336\u001b[0m, in \u001b[0;36mPipeline._fit\u001b[0;34m(self, X, y, **fit_params_steps)\u001b[0m\n\u001b[1;32m    <a href='file:///Users/arnaztejakusuma/opt/anaconda3/lib/python3.9/site-packages/sklearn/pipeline.py?line=333'>334</a>\u001b[0m     cloned_transformer \u001b[39m=\u001b[39m clone(transformer)\n\u001b[1;32m    <a href='file:///Users/arnaztejakusuma/opt/anaconda3/lib/python3.9/site-packages/sklearn/pipeline.py?line=334'>335</a>\u001b[0m \u001b[39m# Fit or load from cache the current transformer\u001b[39;00m\n\u001b[0;32m--> <a href='file:///Users/arnaztejakusuma/opt/anaconda3/lib/python3.9/site-packages/sklearn/pipeline.py?line=335'>336</a>\u001b[0m X, fitted_transformer \u001b[39m=\u001b[39m fit_transform_one_cached(\n\u001b[1;32m    <a href='file:///Users/arnaztejakusuma/opt/anaconda3/lib/python3.9/site-packages/sklearn/pipeline.py?line=336'>337</a>\u001b[0m     cloned_transformer,\n\u001b[1;32m    <a href='file:///Users/arnaztejakusuma/opt/anaconda3/lib/python3.9/site-packages/sklearn/pipeline.py?line=337'>338</a>\u001b[0m     X,\n\u001b[1;32m    <a href='file:///Users/arnaztejakusuma/opt/anaconda3/lib/python3.9/site-packages/sklearn/pipeline.py?line=338'>339</a>\u001b[0m     y,\n\u001b[1;32m    <a href='file:///Users/arnaztejakusuma/opt/anaconda3/lib/python3.9/site-packages/sklearn/pipeline.py?line=339'>340</a>\u001b[0m     \u001b[39mNone\u001b[39;49;00m,\n\u001b[1;32m    <a href='file:///Users/arnaztejakusuma/opt/anaconda3/lib/python3.9/site-packages/sklearn/pipeline.py?line=340'>341</a>\u001b[0m     message_clsname\u001b[39m=\u001b[39;49m\u001b[39m\"\u001b[39;49m\u001b[39mPipeline\u001b[39;49m\u001b[39m\"\u001b[39;49m,\n\u001b[1;32m    <a href='file:///Users/arnaztejakusuma/opt/anaconda3/lib/python3.9/site-packages/sklearn/pipeline.py?line=341'>342</a>\u001b[0m     message\u001b[39m=\u001b[39;49m\u001b[39mself\u001b[39;49m\u001b[39m.\u001b[39;49m_log_message(step_idx),\n\u001b[1;32m    <a href='file:///Users/arnaztejakusuma/opt/anaconda3/lib/python3.9/site-packages/sklearn/pipeline.py?line=342'>343</a>\u001b[0m     \u001b[39m*\u001b[39;49m\u001b[39m*\u001b[39;49mfit_params_steps[name],\n\u001b[1;32m    <a href='file:///Users/arnaztejakusuma/opt/anaconda3/lib/python3.9/site-packages/sklearn/pipeline.py?line=343'>344</a>\u001b[0m )\n\u001b[1;32m    <a href='file:///Users/arnaztejakusuma/opt/anaconda3/lib/python3.9/site-packages/sklearn/pipeline.py?line=344'>345</a>\u001b[0m \u001b[39m# Replace the transformer of the step with the fitted\u001b[39;00m\n\u001b[1;32m    <a href='file:///Users/arnaztejakusuma/opt/anaconda3/lib/python3.9/site-packages/sklearn/pipeline.py?line=345'>346</a>\u001b[0m \u001b[39m# transformer. This is necessary when loading the transformer\u001b[39;00m\n\u001b[1;32m    <a href='file:///Users/arnaztejakusuma/opt/anaconda3/lib/python3.9/site-packages/sklearn/pipeline.py?line=346'>347</a>\u001b[0m \u001b[39m# from the cache.\u001b[39;00m\n\u001b[1;32m    <a href='file:///Users/arnaztejakusuma/opt/anaconda3/lib/python3.9/site-packages/sklearn/pipeline.py?line=347'>348</a>\u001b[0m \u001b[39mself\u001b[39m\u001b[39m.\u001b[39msteps[step_idx] \u001b[39m=\u001b[39m (name, fitted_transformer)\n",
      "File \u001b[0;32m~/opt/anaconda3/lib/python3.9/site-packages/joblib/memory.py:349\u001b[0m, in \u001b[0;36mNotMemorizedFunc.__call__\u001b[0;34m(self, *args, **kwargs)\u001b[0m\n\u001b[1;32m    <a href='file:///Users/arnaztejakusuma/opt/anaconda3/lib/python3.9/site-packages/joblib/memory.py?line=347'>348</a>\u001b[0m \u001b[39mdef\u001b[39;00m \u001b[39m__call__\u001b[39m(\u001b[39mself\u001b[39m, \u001b[39m*\u001b[39margs, \u001b[39m*\u001b[39m\u001b[39m*\u001b[39mkwargs):\n\u001b[0;32m--> <a href='file:///Users/arnaztejakusuma/opt/anaconda3/lib/python3.9/site-packages/joblib/memory.py?line=348'>349</a>\u001b[0m     \u001b[39mreturn\u001b[39;00m \u001b[39mself\u001b[39;49m\u001b[39m.\u001b[39;49mfunc(\u001b[39m*\u001b[39;49margs, \u001b[39m*\u001b[39;49m\u001b[39m*\u001b[39;49mkwargs)\n",
      "File \u001b[0;32m~/opt/anaconda3/lib/python3.9/site-packages/sklearn/pipeline.py:870\u001b[0m, in \u001b[0;36m_fit_transform_one\u001b[0;34m(transformer, X, y, weight, message_clsname, message, **fit_params)\u001b[0m\n\u001b[1;32m    <a href='file:///Users/arnaztejakusuma/opt/anaconda3/lib/python3.9/site-packages/sklearn/pipeline.py?line=867'>868</a>\u001b[0m \u001b[39mwith\u001b[39;00m _print_elapsed_time(message_clsname, message):\n\u001b[1;32m    <a href='file:///Users/arnaztejakusuma/opt/anaconda3/lib/python3.9/site-packages/sklearn/pipeline.py?line=868'>869</a>\u001b[0m     \u001b[39mif\u001b[39;00m \u001b[39mhasattr\u001b[39m(transformer, \u001b[39m\"\u001b[39m\u001b[39mfit_transform\u001b[39m\u001b[39m\"\u001b[39m):\n\u001b[0;32m--> <a href='file:///Users/arnaztejakusuma/opt/anaconda3/lib/python3.9/site-packages/sklearn/pipeline.py?line=869'>870</a>\u001b[0m         res \u001b[39m=\u001b[39m transformer\u001b[39m.\u001b[39;49mfit_transform(X, y, \u001b[39m*\u001b[39;49m\u001b[39m*\u001b[39;49mfit_params)\n\u001b[1;32m    <a href='file:///Users/arnaztejakusuma/opt/anaconda3/lib/python3.9/site-packages/sklearn/pipeline.py?line=870'>871</a>\u001b[0m     \u001b[39melse\u001b[39;00m:\n\u001b[1;32m    <a href='file:///Users/arnaztejakusuma/opt/anaconda3/lib/python3.9/site-packages/sklearn/pipeline.py?line=871'>872</a>\u001b[0m         res \u001b[39m=\u001b[39m transformer\u001b[39m.\u001b[39mfit(X, y, \u001b[39m*\u001b[39m\u001b[39m*\u001b[39mfit_params)\u001b[39m.\u001b[39mtransform(X)\n",
      "File \u001b[0;32m~/opt/anaconda3/lib/python3.9/site-packages/sklearn/compose/_column_transformer.py:670\u001b[0m, in \u001b[0;36mColumnTransformer.fit_transform\u001b[0;34m(self, X, y)\u001b[0m\n\u001b[1;32m    <a href='file:///Users/arnaztejakusuma/opt/anaconda3/lib/python3.9/site-packages/sklearn/compose/_column_transformer.py?line=667'>668</a>\u001b[0m \u001b[39mself\u001b[39m\u001b[39m.\u001b[39m_check_n_features(X, reset\u001b[39m=\u001b[39m\u001b[39mTrue\u001b[39;00m)\n\u001b[1;32m    <a href='file:///Users/arnaztejakusuma/opt/anaconda3/lib/python3.9/site-packages/sklearn/compose/_column_transformer.py?line=668'>669</a>\u001b[0m \u001b[39mself\u001b[39m\u001b[39m.\u001b[39m_validate_transformers()\n\u001b[0;32m--> <a href='file:///Users/arnaztejakusuma/opt/anaconda3/lib/python3.9/site-packages/sklearn/compose/_column_transformer.py?line=669'>670</a>\u001b[0m \u001b[39mself\u001b[39;49m\u001b[39m.\u001b[39;49m_validate_column_callables(X)\n\u001b[1;32m    <a href='file:///Users/arnaztejakusuma/opt/anaconda3/lib/python3.9/site-packages/sklearn/compose/_column_transformer.py?line=670'>671</a>\u001b[0m \u001b[39mself\u001b[39m\u001b[39m.\u001b[39m_validate_remainder(X)\n\u001b[1;32m    <a href='file:///Users/arnaztejakusuma/opt/anaconda3/lib/python3.9/site-packages/sklearn/compose/_column_transformer.py?line=672'>673</a>\u001b[0m result \u001b[39m=\u001b[39m \u001b[39mself\u001b[39m\u001b[39m.\u001b[39m_fit_transform(X, y, _fit_transform_one)\n",
      "File \u001b[0;32m~/opt/anaconda3/lib/python3.9/site-packages/sklearn/compose/_column_transformer.py:357\u001b[0m, in \u001b[0;36mColumnTransformer._validate_column_callables\u001b[0;34m(self, X)\u001b[0m\n\u001b[1;32m    <a href='file:///Users/arnaztejakusuma/opt/anaconda3/lib/python3.9/site-packages/sklearn/compose/_column_transformer.py?line=354'>355</a>\u001b[0m         columns \u001b[39m=\u001b[39m columns(X)\n\u001b[1;32m    <a href='file:///Users/arnaztejakusuma/opt/anaconda3/lib/python3.9/site-packages/sklearn/compose/_column_transformer.py?line=355'>356</a>\u001b[0m     all_columns\u001b[39m.\u001b[39mappend(columns)\n\u001b[0;32m--> <a href='file:///Users/arnaztejakusuma/opt/anaconda3/lib/python3.9/site-packages/sklearn/compose/_column_transformer.py?line=356'>357</a>\u001b[0m     transformer_to_input_indices[name] \u001b[39m=\u001b[39m _get_column_indices(X, columns)\n\u001b[1;32m    <a href='file:///Users/arnaztejakusuma/opt/anaconda3/lib/python3.9/site-packages/sklearn/compose/_column_transformer.py?line=358'>359</a>\u001b[0m \u001b[39mself\u001b[39m\u001b[39m.\u001b[39m_columns \u001b[39m=\u001b[39m all_columns\n\u001b[1;32m    <a href='file:///Users/arnaztejakusuma/opt/anaconda3/lib/python3.9/site-packages/sklearn/compose/_column_transformer.py?line=359'>360</a>\u001b[0m \u001b[39mself\u001b[39m\u001b[39m.\u001b[39m_transformer_to_input_indices \u001b[39m=\u001b[39m transformer_to_input_indices\n",
      "File \u001b[0;32m~/opt/anaconda3/lib/python3.9/site-packages/sklearn/utils/__init__.py:394\u001b[0m, in \u001b[0;36m_get_column_indices\u001b[0;34m(X, key)\u001b[0m\n\u001b[1;32m    <a href='file:///Users/arnaztejakusuma/opt/anaconda3/lib/python3.9/site-packages/sklearn/utils/__init__.py?line=391'>392</a>\u001b[0m     all_columns \u001b[39m=\u001b[39m X\u001b[39m.\u001b[39mcolumns\n\u001b[1;32m    <a href='file:///Users/arnaztejakusuma/opt/anaconda3/lib/python3.9/site-packages/sklearn/utils/__init__.py?line=392'>393</a>\u001b[0m \u001b[39mexcept\u001b[39;00m \u001b[39mAttributeError\u001b[39;00m:\n\u001b[0;32m--> <a href='file:///Users/arnaztejakusuma/opt/anaconda3/lib/python3.9/site-packages/sklearn/utils/__init__.py?line=393'>394</a>\u001b[0m     \u001b[39mraise\u001b[39;00m \u001b[39mValueError\u001b[39;00m(\n\u001b[1;32m    <a href='file:///Users/arnaztejakusuma/opt/anaconda3/lib/python3.9/site-packages/sklearn/utils/__init__.py?line=394'>395</a>\u001b[0m         \u001b[39m\"\u001b[39m\u001b[39mSpecifying the columns using strings is only \u001b[39m\u001b[39m\"\u001b[39m\n\u001b[1;32m    <a href='file:///Users/arnaztejakusuma/opt/anaconda3/lib/python3.9/site-packages/sklearn/utils/__init__.py?line=395'>396</a>\u001b[0m         \u001b[39m\"\u001b[39m\u001b[39msupported for pandas DataFrames\u001b[39m\u001b[39m\"\u001b[39m\n\u001b[1;32m    <a href='file:///Users/arnaztejakusuma/opt/anaconda3/lib/python3.9/site-packages/sklearn/utils/__init__.py?line=396'>397</a>\u001b[0m     )\n\u001b[1;32m    <a href='file:///Users/arnaztejakusuma/opt/anaconda3/lib/python3.9/site-packages/sklearn/utils/__init__.py?line=397'>398</a>\u001b[0m \u001b[39mif\u001b[39;00m \u001b[39misinstance\u001b[39m(key, \u001b[39mstr\u001b[39m):\n\u001b[1;32m    <a href='file:///Users/arnaztejakusuma/opt/anaconda3/lib/python3.9/site-packages/sklearn/utils/__init__.py?line=398'>399</a>\u001b[0m     columns \u001b[39m=\u001b[39m [key]\n",
      "\u001b[0;31mValueError\u001b[0m: Specifying the columns using strings is only supported for pandas DataFrames"
     ]
    }
   ],
   "source": [
    "poly_lr_pipe.fit(X_train_final,y_train)"
   ]
  },
  {
   "cell_type": "markdown",
   "metadata": {},
   "source": [
    "# Model I (Linear Regression)"
   ]
  },
  {
   "cell_type": "code",
   "execution_count": null,
   "metadata": {},
   "outputs": [
    {
     "data": {
      "text/html": [
       "<style>#sk-container-id-1 {color: black;background-color: white;}#sk-container-id-1 pre{padding: 0;}#sk-container-id-1 div.sk-toggleable {background-color: white;}#sk-container-id-1 label.sk-toggleable__label {cursor: pointer;display: block;width: 100%;margin-bottom: 0;padding: 0.3em;box-sizing: border-box;text-align: center;}#sk-container-id-1 label.sk-toggleable__label-arrow:before {content: \"▸\";float: left;margin-right: 0.25em;color: #696969;}#sk-container-id-1 label.sk-toggleable__label-arrow:hover:before {color: black;}#sk-container-id-1 div.sk-estimator:hover label.sk-toggleable__label-arrow:before {color: black;}#sk-container-id-1 div.sk-toggleable__content {max-height: 0;max-width: 0;overflow: hidden;text-align: left;background-color: #f0f8ff;}#sk-container-id-1 div.sk-toggleable__content pre {margin: 0.2em;color: black;border-radius: 0.25em;background-color: #f0f8ff;}#sk-container-id-1 input.sk-toggleable__control:checked~div.sk-toggleable__content {max-height: 200px;max-width: 100%;overflow: auto;}#sk-container-id-1 input.sk-toggleable__control:checked~label.sk-toggleable__label-arrow:before {content: \"▾\";}#sk-container-id-1 div.sk-estimator input.sk-toggleable__control:checked~label.sk-toggleable__label {background-color: #d4ebff;}#sk-container-id-1 div.sk-label input.sk-toggleable__control:checked~label.sk-toggleable__label {background-color: #d4ebff;}#sk-container-id-1 input.sk-hidden--visually {border: 0;clip: rect(1px 1px 1px 1px);clip: rect(1px, 1px, 1px, 1px);height: 1px;margin: -1px;overflow: hidden;padding: 0;position: absolute;width: 1px;}#sk-container-id-1 div.sk-estimator {font-family: monospace;background-color: #f0f8ff;border: 1px dotted black;border-radius: 0.25em;box-sizing: border-box;margin-bottom: 0.5em;}#sk-container-id-1 div.sk-estimator:hover {background-color: #d4ebff;}#sk-container-id-1 div.sk-parallel-item::after {content: \"\";width: 100%;border-bottom: 1px solid gray;flex-grow: 1;}#sk-container-id-1 div.sk-label:hover label.sk-toggleable__label {background-color: #d4ebff;}#sk-container-id-1 div.sk-serial::before {content: \"\";position: absolute;border-left: 1px solid gray;box-sizing: border-box;top: 0;bottom: 0;left: 50%;z-index: 0;}#sk-container-id-1 div.sk-serial {display: flex;flex-direction: column;align-items: center;background-color: white;padding-right: 0.2em;padding-left: 0.2em;position: relative;}#sk-container-id-1 div.sk-item {position: relative;z-index: 1;}#sk-container-id-1 div.sk-parallel {display: flex;align-items: stretch;justify-content: center;background-color: white;position: relative;}#sk-container-id-1 div.sk-item::before, #sk-container-id-1 div.sk-parallel-item::before {content: \"\";position: absolute;border-left: 1px solid gray;box-sizing: border-box;top: 0;bottom: 0;left: 50%;z-index: -1;}#sk-container-id-1 div.sk-parallel-item {display: flex;flex-direction: column;z-index: 1;position: relative;background-color: white;}#sk-container-id-1 div.sk-parallel-item:first-child::after {align-self: flex-end;width: 50%;}#sk-container-id-1 div.sk-parallel-item:last-child::after {align-self: flex-start;width: 50%;}#sk-container-id-1 div.sk-parallel-item:only-child::after {width: 0;}#sk-container-id-1 div.sk-dashed-wrapped {border: 1px dashed gray;margin: 0 0.4em 0.5em 0.4em;box-sizing: border-box;padding-bottom: 0.4em;background-color: white;}#sk-container-id-1 div.sk-label label {font-family: monospace;font-weight: bold;display: inline-block;line-height: 1.2em;}#sk-container-id-1 div.sk-label-container {text-align: center;}#sk-container-id-1 div.sk-container {/* jupyter's `normalize.less` sets `[hidden] { display: none; }` but bootstrap.min.css set `[hidden] { display: none !important; }` so we also need the `!important` here to be able to override the default hidden behavior on the sphinx rendered scikit-learn.org. See: https://github.com/scikit-learn/scikit-learn/issues/21755 */display: inline-block !important;position: relative;}#sk-container-id-1 div.sk-text-repr-fallback {display: none;}</style><div id=\"sk-container-id-1\" class=\"sk-top-container\"><div class=\"sk-text-repr-fallback\"><pre>LinearRegression()</pre><b>In a Jupyter environment, please rerun this cell to show the HTML representation or trust the notebook. <br />On GitHub, the HTML representation is unable to render, please try loading this page with nbviewer.org.</b></div><div class=\"sk-container\" hidden><div class=\"sk-item\"><div class=\"sk-estimator sk-toggleable\"><input class=\"sk-toggleable__control sk-hidden--visually\" id=\"sk-estimator-id-1\" type=\"checkbox\" checked><label for=\"sk-estimator-id-1\" class=\"sk-toggleable__label sk-toggleable__label-arrow\">LinearRegression</label><div class=\"sk-toggleable__content\"><pre>LinearRegression()</pre></div></div></div></div></div>"
      ],
      "text/plain": [
       "LinearRegression()"
      ]
     },
     "execution_count": 43,
     "metadata": {},
     "output_type": "execute_result"
    }
   ],
   "source": [
    "# Modelling\n",
    "model_lin_reg = LinearRegression()\n",
    "\n",
    "# Model Training\n",
    "model_lin_reg.fit(X_train_final, y_train)"
   ]
  },
  {
   "cell_type": "code",
   "execution_count": null,
   "metadata": {},
   "outputs": [],
   "source": [
    "# Model Evaluation\n",
    "# Predict against train-set and test-set\n",
    "y_pred_train_I = model_lin_reg.predict(X_train_final)\n",
    "y_pred_test_I = model_lin_reg.predict(X_test_final)"
   ]
  },
  {
   "cell_type": "code",
   "execution_count": null,
   "metadata": {},
   "outputs": [
    {
     "name": "stdout",
     "output_type": "stream",
     "text": [
      "Error - Train Set: 0.41321129819472086\n",
      "Error - Test Set: 0.4499633231572574\n"
     ]
    }
   ],
   "source": [
    "# Model Evaluation using MAE\n",
    "print('Error - Train Set:', mean_absolute_error(y_train, y_pred_train_I))\n",
    "print('Error - Test Set:', mean_absolute_error(y_test, y_pred_test_I))"
   ]
  },
  {
   "cell_type": "code",
   "execution_count": null,
   "metadata": {},
   "outputs": [
    {
     "name": "stdout",
     "output_type": "stream",
     "text": [
      "Error - Train Set :  0.08090700344738855\n",
      "Error - Test Set  :  0.0940610975879448\n"
     ]
    }
   ],
   "source": [
    "# Model Evaluation using MAPE\n",
    "print('Error - Train Set : ', mean_absolute_percentage_error(y_train, y_pred_train_I))\n",
    "print('Error - Test Set  : ', mean_absolute_percentage_error(y_test, y_pred_test_I))"
   ]
  },
  {
   "cell_type": "code",
   "execution_count": null,
   "metadata": {},
   "outputs": [
    {
     "name": "stdout",
     "output_type": "stream",
     "text": [
      "Score - train set :  0.7725854350983213\n",
      "Score - test set  :  0.7985314171795328\n"
     ]
    }
   ],
   "source": [
    "# Model Evaluation using r2score\n",
    "print('Score - train set : ', r2_score(y_train, y_pred_train_I))\n",
    "print('Score - test set  : ', r2_score(y_test, y_pred_test_I))"
   ]
  },
  {
   "cell_type": "markdown",
   "metadata": {},
   "source": [
    "Hasil evaluasi Model I dengan Linear Regression biasa ternyata cukup baik. Berdasarkan r2score, model ini merupakan good fit karena score train set 0.77 dan test set 0.79. Jumlah error dalam MAPE dan MAE memang terlihat sangat tinggi. Namun hal ini tidak perlu dikhawatirkan, karena objectives dari project ini adalah memprediksi kolom 'Score' yang outputnya berupa bilangan desimal dengan jumlah angka di belakang koma yang sangat banyak. Sehingga tidak memungkinkan bagi model untuk memberikan output yang 100% tepat. Selama modelnya masih good fit, artinya model tersebut masih dapat digunakan."
   ]
  },
  {
   "cell_type": "markdown",
   "metadata": {},
   "source": [
    "# Model Evalutation II (Polynomial Regression Degree 2)"
   ]
  },
  {
   "cell_type": "code",
   "execution_count": null,
   "metadata": {},
   "outputs": [
    {
     "data": {
      "text/html": [
       "<style>#sk-container-id-2 {color: black;background-color: white;}#sk-container-id-2 pre{padding: 0;}#sk-container-id-2 div.sk-toggleable {background-color: white;}#sk-container-id-2 label.sk-toggleable__label {cursor: pointer;display: block;width: 100%;margin-bottom: 0;padding: 0.3em;box-sizing: border-box;text-align: center;}#sk-container-id-2 label.sk-toggleable__label-arrow:before {content: \"▸\";float: left;margin-right: 0.25em;color: #696969;}#sk-container-id-2 label.sk-toggleable__label-arrow:hover:before {color: black;}#sk-container-id-2 div.sk-estimator:hover label.sk-toggleable__label-arrow:before {color: black;}#sk-container-id-2 div.sk-toggleable__content {max-height: 0;max-width: 0;overflow: hidden;text-align: left;background-color: #f0f8ff;}#sk-container-id-2 div.sk-toggleable__content pre {margin: 0.2em;color: black;border-radius: 0.25em;background-color: #f0f8ff;}#sk-container-id-2 input.sk-toggleable__control:checked~div.sk-toggleable__content {max-height: 200px;max-width: 100%;overflow: auto;}#sk-container-id-2 input.sk-toggleable__control:checked~label.sk-toggleable__label-arrow:before {content: \"▾\";}#sk-container-id-2 div.sk-estimator input.sk-toggleable__control:checked~label.sk-toggleable__label {background-color: #d4ebff;}#sk-container-id-2 div.sk-label input.sk-toggleable__control:checked~label.sk-toggleable__label {background-color: #d4ebff;}#sk-container-id-2 input.sk-hidden--visually {border: 0;clip: rect(1px 1px 1px 1px);clip: rect(1px, 1px, 1px, 1px);height: 1px;margin: -1px;overflow: hidden;padding: 0;position: absolute;width: 1px;}#sk-container-id-2 div.sk-estimator {font-family: monospace;background-color: #f0f8ff;border: 1px dotted black;border-radius: 0.25em;box-sizing: border-box;margin-bottom: 0.5em;}#sk-container-id-2 div.sk-estimator:hover {background-color: #d4ebff;}#sk-container-id-2 div.sk-parallel-item::after {content: \"\";width: 100%;border-bottom: 1px solid gray;flex-grow: 1;}#sk-container-id-2 div.sk-label:hover label.sk-toggleable__label {background-color: #d4ebff;}#sk-container-id-2 div.sk-serial::before {content: \"\";position: absolute;border-left: 1px solid gray;box-sizing: border-box;top: 0;bottom: 0;left: 50%;z-index: 0;}#sk-container-id-2 div.sk-serial {display: flex;flex-direction: column;align-items: center;background-color: white;padding-right: 0.2em;padding-left: 0.2em;position: relative;}#sk-container-id-2 div.sk-item {position: relative;z-index: 1;}#sk-container-id-2 div.sk-parallel {display: flex;align-items: stretch;justify-content: center;background-color: white;position: relative;}#sk-container-id-2 div.sk-item::before, #sk-container-id-2 div.sk-parallel-item::before {content: \"\";position: absolute;border-left: 1px solid gray;box-sizing: border-box;top: 0;bottom: 0;left: 50%;z-index: -1;}#sk-container-id-2 div.sk-parallel-item {display: flex;flex-direction: column;z-index: 1;position: relative;background-color: white;}#sk-container-id-2 div.sk-parallel-item:first-child::after {align-self: flex-end;width: 50%;}#sk-container-id-2 div.sk-parallel-item:last-child::after {align-self: flex-start;width: 50%;}#sk-container-id-2 div.sk-parallel-item:only-child::after {width: 0;}#sk-container-id-2 div.sk-dashed-wrapped {border: 1px dashed gray;margin: 0 0.4em 0.5em 0.4em;box-sizing: border-box;padding-bottom: 0.4em;background-color: white;}#sk-container-id-2 div.sk-label label {font-family: monospace;font-weight: bold;display: inline-block;line-height: 1.2em;}#sk-container-id-2 div.sk-label-container {text-align: center;}#sk-container-id-2 div.sk-container {/* jupyter's `normalize.less` sets `[hidden] { display: none; }` but bootstrap.min.css set `[hidden] { display: none !important; }` so we also need the `!important` here to be able to override the default hidden behavior on the sphinx rendered scikit-learn.org. See: https://github.com/scikit-learn/scikit-learn/issues/21755 */display: inline-block !important;position: relative;}#sk-container-id-2 div.sk-text-repr-fallback {display: none;}</style><div id=\"sk-container-id-2\" class=\"sk-top-container\"><div class=\"sk-text-repr-fallback\"><pre>Pipeline(steps=[(&#x27;polynomialfeatures&#x27;, PolynomialFeatures()),\n",
       "                (&#x27;linearregression&#x27;, LinearRegression())])</pre><b>In a Jupyter environment, please rerun this cell to show the HTML representation or trust the notebook. <br />On GitHub, the HTML representation is unable to render, please try loading this page with nbviewer.org.</b></div><div class=\"sk-container\" hidden><div class=\"sk-item sk-dashed-wrapped\"><div class=\"sk-label-container\"><div class=\"sk-label sk-toggleable\"><input class=\"sk-toggleable__control sk-hidden--visually\" id=\"sk-estimator-id-2\" type=\"checkbox\" ><label for=\"sk-estimator-id-2\" class=\"sk-toggleable__label sk-toggleable__label-arrow\">Pipeline</label><div class=\"sk-toggleable__content\"><pre>Pipeline(steps=[(&#x27;polynomialfeatures&#x27;, PolynomialFeatures()),\n",
       "                (&#x27;linearregression&#x27;, LinearRegression())])</pre></div></div></div><div class=\"sk-serial\"><div class=\"sk-item\"><div class=\"sk-estimator sk-toggleable\"><input class=\"sk-toggleable__control sk-hidden--visually\" id=\"sk-estimator-id-3\" type=\"checkbox\" ><label for=\"sk-estimator-id-3\" class=\"sk-toggleable__label sk-toggleable__label-arrow\">PolynomialFeatures</label><div class=\"sk-toggleable__content\"><pre>PolynomialFeatures()</pre></div></div></div><div class=\"sk-item\"><div class=\"sk-estimator sk-toggleable\"><input class=\"sk-toggleable__control sk-hidden--visually\" id=\"sk-estimator-id-4\" type=\"checkbox\" ><label for=\"sk-estimator-id-4\" class=\"sk-toggleable__label sk-toggleable__label-arrow\">LinearRegression</label><div class=\"sk-toggleable__content\"><pre>LinearRegression()</pre></div></div></div></div></div></div></div>"
      ],
      "text/plain": [
       "Pipeline(steps=[('polynomialfeatures', PolynomialFeatures()),\n",
       "                ('linearregression', LinearRegression())])"
      ]
     },
     "execution_count": 48,
     "metadata": {},
     "output_type": "execute_result"
    }
   ],
   "source": [
    "# Modelling\n",
    "model_poly_2 = make_pipeline(PolynomialFeatures(2), LinearRegression())\n",
    "\n",
    "# Model training\n",
    "model_poly_2.fit(X_train_final, y_train)"
   ]
  },
  {
   "cell_type": "code",
   "execution_count": null,
   "metadata": {},
   "outputs": [],
   "source": [
    "# Model Evaluation\n",
    "# Predict against train-set and test-set\n",
    "y_pred_train_II = model_poly_2.predict(X_train_final)\n",
    "y_pred_test_II = model_poly_2.predict(X_test_final)"
   ]
  },
  {
   "cell_type": "code",
   "execution_count": null,
   "metadata": {},
   "outputs": [
    {
     "name": "stdout",
     "output_type": "stream",
     "text": [
      "Error - Train Set: 0.32917975835647495\n",
      "Error - Test Set: 0.42862959963086306\n"
     ]
    }
   ],
   "source": [
    "# Model Evaluation using MAE\n",
    "print('Error - Train Set:', mean_absolute_error(y_train, y_pred_train_II))\n",
    "print('Error - Test Set:', mean_absolute_error(y_test, y_pred_test_II))"
   ]
  },
  {
   "cell_type": "code",
   "execution_count": null,
   "metadata": {},
   "outputs": [
    {
     "name": "stdout",
     "output_type": "stream",
     "text": [
      "Error - Train Set :  0.06422437852045351\n",
      "Error - Test Set  :  0.09157500133851881\n"
     ]
    }
   ],
   "source": [
    "# Model Evaluation using MAPE\n",
    "print('Error - Train Set : ', mean_absolute_percentage_error(y_train, y_pred_train_II))\n",
    "print('Error - Test Set  : ', mean_absolute_percentage_error(y_test, y_pred_test_II))"
   ]
  },
  {
   "cell_type": "code",
   "execution_count": null,
   "metadata": {},
   "outputs": [
    {
     "name": "stdout",
     "output_type": "stream",
     "text": [
      "Score - Train Set :  0.8450861177824635\n",
      "Score - Test Set  :  0.8047488846594234\n"
     ]
    }
   ],
   "source": [
    "# Model Evaluation using r2score\n",
    "print('Score - Train Set : ', r2_score(y_train, y_pred_train_II))\n",
    "print('Score - Test Set  : ', r2_score(y_test, y_pred_test_II))"
   ]
  },
  {
   "cell_type": "markdown",
   "metadata": {},
   "source": [
    "Hasil evaluasi Model II dengan Polynomial Regression degree 2 ternyata cukup overfit. Berdasarkan r2score, terdapat perbedaan sekitar 4% antara train set yang mendapatkan 0.84 dengan test set yang mendapatkan 0.80. Memang perbedaan sekitar 4% tidak terlalu besar, namun menurut saya model ini tetap overfit.\n",
    "\n",
    "Sama dengan Jumlah error dalam MAPE dan MAE Model I, model ini juga memiliki jumlah error dalam MAPE dan MAE yang sangat tinggi. Namun hal ini sebenarnya bukan masalah, karena objectives dari project ini adalah memprediksi kolom 'Score' yang outputnya berupa bilangan desimal dengan jumlah angka di belakang koma yang sangat banyak, tidak memungkinkan bagi model untuk mengeluarkan angka yang 100% tepat. Namun demikian model ini tidak akan saya gunakan karena menurut saya model ini overfit."
   ]
  },
  {
   "cell_type": "markdown",
   "metadata": {},
   "source": [
    "# Model Evalutation III (Polynomial Regression Degree 3)"
   ]
  },
  {
   "cell_type": "code",
   "execution_count": null,
   "metadata": {},
   "outputs": [
    {
     "data": {
      "text/html": [
       "<style>#sk-container-id-3 {color: black;background-color: white;}#sk-container-id-3 pre{padding: 0;}#sk-container-id-3 div.sk-toggleable {background-color: white;}#sk-container-id-3 label.sk-toggleable__label {cursor: pointer;display: block;width: 100%;margin-bottom: 0;padding: 0.3em;box-sizing: border-box;text-align: center;}#sk-container-id-3 label.sk-toggleable__label-arrow:before {content: \"▸\";float: left;margin-right: 0.25em;color: #696969;}#sk-container-id-3 label.sk-toggleable__label-arrow:hover:before {color: black;}#sk-container-id-3 div.sk-estimator:hover label.sk-toggleable__label-arrow:before {color: black;}#sk-container-id-3 div.sk-toggleable__content {max-height: 0;max-width: 0;overflow: hidden;text-align: left;background-color: #f0f8ff;}#sk-container-id-3 div.sk-toggleable__content pre {margin: 0.2em;color: black;border-radius: 0.25em;background-color: #f0f8ff;}#sk-container-id-3 input.sk-toggleable__control:checked~div.sk-toggleable__content {max-height: 200px;max-width: 100%;overflow: auto;}#sk-container-id-3 input.sk-toggleable__control:checked~label.sk-toggleable__label-arrow:before {content: \"▾\";}#sk-container-id-3 div.sk-estimator input.sk-toggleable__control:checked~label.sk-toggleable__label {background-color: #d4ebff;}#sk-container-id-3 div.sk-label input.sk-toggleable__control:checked~label.sk-toggleable__label {background-color: #d4ebff;}#sk-container-id-3 input.sk-hidden--visually {border: 0;clip: rect(1px 1px 1px 1px);clip: rect(1px, 1px, 1px, 1px);height: 1px;margin: -1px;overflow: hidden;padding: 0;position: absolute;width: 1px;}#sk-container-id-3 div.sk-estimator {font-family: monospace;background-color: #f0f8ff;border: 1px dotted black;border-radius: 0.25em;box-sizing: border-box;margin-bottom: 0.5em;}#sk-container-id-3 div.sk-estimator:hover {background-color: #d4ebff;}#sk-container-id-3 div.sk-parallel-item::after {content: \"\";width: 100%;border-bottom: 1px solid gray;flex-grow: 1;}#sk-container-id-3 div.sk-label:hover label.sk-toggleable__label {background-color: #d4ebff;}#sk-container-id-3 div.sk-serial::before {content: \"\";position: absolute;border-left: 1px solid gray;box-sizing: border-box;top: 0;bottom: 0;left: 50%;z-index: 0;}#sk-container-id-3 div.sk-serial {display: flex;flex-direction: column;align-items: center;background-color: white;padding-right: 0.2em;padding-left: 0.2em;position: relative;}#sk-container-id-3 div.sk-item {position: relative;z-index: 1;}#sk-container-id-3 div.sk-parallel {display: flex;align-items: stretch;justify-content: center;background-color: white;position: relative;}#sk-container-id-3 div.sk-item::before, #sk-container-id-3 div.sk-parallel-item::before {content: \"\";position: absolute;border-left: 1px solid gray;box-sizing: border-box;top: 0;bottom: 0;left: 50%;z-index: -1;}#sk-container-id-3 div.sk-parallel-item {display: flex;flex-direction: column;z-index: 1;position: relative;background-color: white;}#sk-container-id-3 div.sk-parallel-item:first-child::after {align-self: flex-end;width: 50%;}#sk-container-id-3 div.sk-parallel-item:last-child::after {align-self: flex-start;width: 50%;}#sk-container-id-3 div.sk-parallel-item:only-child::after {width: 0;}#sk-container-id-3 div.sk-dashed-wrapped {border: 1px dashed gray;margin: 0 0.4em 0.5em 0.4em;box-sizing: border-box;padding-bottom: 0.4em;background-color: white;}#sk-container-id-3 div.sk-label label {font-family: monospace;font-weight: bold;display: inline-block;line-height: 1.2em;}#sk-container-id-3 div.sk-label-container {text-align: center;}#sk-container-id-3 div.sk-container {/* jupyter's `normalize.less` sets `[hidden] { display: none; }` but bootstrap.min.css set `[hidden] { display: none !important; }` so we also need the `!important` here to be able to override the default hidden behavior on the sphinx rendered scikit-learn.org. See: https://github.com/scikit-learn/scikit-learn/issues/21755 */display: inline-block !important;position: relative;}#sk-container-id-3 div.sk-text-repr-fallback {display: none;}</style><div id=\"sk-container-id-3\" class=\"sk-top-container\"><div class=\"sk-text-repr-fallback\"><pre>Pipeline(steps=[(&#x27;polynomialfeatures&#x27;, PolynomialFeatures(degree=3)),\n",
       "                (&#x27;linearregression&#x27;, LinearRegression())])</pre><b>In a Jupyter environment, please rerun this cell to show the HTML representation or trust the notebook. <br />On GitHub, the HTML representation is unable to render, please try loading this page with nbviewer.org.</b></div><div class=\"sk-container\" hidden><div class=\"sk-item sk-dashed-wrapped\"><div class=\"sk-label-container\"><div class=\"sk-label sk-toggleable\"><input class=\"sk-toggleable__control sk-hidden--visually\" id=\"sk-estimator-id-5\" type=\"checkbox\" ><label for=\"sk-estimator-id-5\" class=\"sk-toggleable__label sk-toggleable__label-arrow\">Pipeline</label><div class=\"sk-toggleable__content\"><pre>Pipeline(steps=[(&#x27;polynomialfeatures&#x27;, PolynomialFeatures(degree=3)),\n",
       "                (&#x27;linearregression&#x27;, LinearRegression())])</pre></div></div></div><div class=\"sk-serial\"><div class=\"sk-item\"><div class=\"sk-estimator sk-toggleable\"><input class=\"sk-toggleable__control sk-hidden--visually\" id=\"sk-estimator-id-6\" type=\"checkbox\" ><label for=\"sk-estimator-id-6\" class=\"sk-toggleable__label sk-toggleable__label-arrow\">PolynomialFeatures</label><div class=\"sk-toggleable__content\"><pre>PolynomialFeatures(degree=3)</pre></div></div></div><div class=\"sk-item\"><div class=\"sk-estimator sk-toggleable\"><input class=\"sk-toggleable__control sk-hidden--visually\" id=\"sk-estimator-id-7\" type=\"checkbox\" ><label for=\"sk-estimator-id-7\" class=\"sk-toggleable__label sk-toggleable__label-arrow\">LinearRegression</label><div class=\"sk-toggleable__content\"><pre>LinearRegression()</pre></div></div></div></div></div></div></div>"
      ],
      "text/plain": [
       "Pipeline(steps=[('polynomialfeatures', PolynomialFeatures(degree=3)),\n",
       "                ('linearregression', LinearRegression())])"
      ]
     },
     "execution_count": 53,
     "metadata": {},
     "output_type": "execute_result"
    }
   ],
   "source": [
    "# Modelling\n",
    "model_poly_3 = make_pipeline(PolynomialFeatures(3), LinearRegression())\n",
    "\n",
    "# Model training\n",
    "model_poly_3.fit(X_train_final, y_train)"
   ]
  },
  {
   "cell_type": "code",
   "execution_count": null,
   "metadata": {},
   "outputs": [],
   "source": [
    "# Model Evaluation\n",
    "# Predict against train-set and test-set\n",
    "y_pred_train_III = model_poly_3.predict(X_train_final)\n",
    "y_pred_test_III = model_poly_3.predict(X_test_final)"
   ]
  },
  {
   "cell_type": "code",
   "execution_count": null,
   "metadata": {},
   "outputs": [
    {
     "name": "stdout",
     "output_type": "stream",
     "text": [
      "Error - Train Set: 0.22439698949353445\n",
      "Error - Test Set: 0.6383843749999999\n"
     ]
    }
   ],
   "source": [
    "# Model Evaluation using MAE\n",
    "print('Error - Train Set:', mean_absolute_error(y_train, y_pred_train_III))\n",
    "print('Error - Test Set:', mean_absolute_error(y_test, y_pred_test_III))"
   ]
  },
  {
   "cell_type": "code",
   "execution_count": null,
   "metadata": {},
   "outputs": [
    {
     "name": "stdout",
     "output_type": "stream",
     "text": [
      "Error - Train Set :  0.041708435733627765\n",
      "Error - Test Set  :  0.13567478368189317\n"
     ]
    }
   ],
   "source": [
    "# Model Evaluation using MAPE\n",
    "print('Error - Train Set : ', mean_absolute_percentage_error(y_train, y_pred_train_III))\n",
    "print('Error - Test Set  : ', mean_absolute_percentage_error(y_test, y_pred_test_III))"
   ]
  },
  {
   "cell_type": "code",
   "execution_count": null,
   "metadata": {},
   "outputs": [
    {
     "name": "stdout",
     "output_type": "stream",
     "text": [
      "Score - Train Set :  0.9255968259275015\n",
      "Score - Test Set  :  0.5135443007548792\n"
     ]
    }
   ],
   "source": [
    "# Model Evaluation using r2score\n",
    "print('Score - Train Set : ', r2_score(y_train, y_pred_train_III))\n",
    "print('Score - Test Set  : ', r2_score(y_test, y_pred_test_III))"
   ]
  },
  {
   "cell_type": "markdown",
   "metadata": {},
   "source": [
    "# Model Evalutation IV (Polynomial Regression Degree 4)"
   ]
  },
  {
   "cell_type": "code",
   "execution_count": null,
   "metadata": {},
   "outputs": [
    {
     "data": {
      "text/html": [
       "<style>#sk-container-id-4 {color: black;background-color: white;}#sk-container-id-4 pre{padding: 0;}#sk-container-id-4 div.sk-toggleable {background-color: white;}#sk-container-id-4 label.sk-toggleable__label {cursor: pointer;display: block;width: 100%;margin-bottom: 0;padding: 0.3em;box-sizing: border-box;text-align: center;}#sk-container-id-4 label.sk-toggleable__label-arrow:before {content: \"▸\";float: left;margin-right: 0.25em;color: #696969;}#sk-container-id-4 label.sk-toggleable__label-arrow:hover:before {color: black;}#sk-container-id-4 div.sk-estimator:hover label.sk-toggleable__label-arrow:before {color: black;}#sk-container-id-4 div.sk-toggleable__content {max-height: 0;max-width: 0;overflow: hidden;text-align: left;background-color: #f0f8ff;}#sk-container-id-4 div.sk-toggleable__content pre {margin: 0.2em;color: black;border-radius: 0.25em;background-color: #f0f8ff;}#sk-container-id-4 input.sk-toggleable__control:checked~div.sk-toggleable__content {max-height: 200px;max-width: 100%;overflow: auto;}#sk-container-id-4 input.sk-toggleable__control:checked~label.sk-toggleable__label-arrow:before {content: \"▾\";}#sk-container-id-4 div.sk-estimator input.sk-toggleable__control:checked~label.sk-toggleable__label {background-color: #d4ebff;}#sk-container-id-4 div.sk-label input.sk-toggleable__control:checked~label.sk-toggleable__label {background-color: #d4ebff;}#sk-container-id-4 input.sk-hidden--visually {border: 0;clip: rect(1px 1px 1px 1px);clip: rect(1px, 1px, 1px, 1px);height: 1px;margin: -1px;overflow: hidden;padding: 0;position: absolute;width: 1px;}#sk-container-id-4 div.sk-estimator {font-family: monospace;background-color: #f0f8ff;border: 1px dotted black;border-radius: 0.25em;box-sizing: border-box;margin-bottom: 0.5em;}#sk-container-id-4 div.sk-estimator:hover {background-color: #d4ebff;}#sk-container-id-4 div.sk-parallel-item::after {content: \"\";width: 100%;border-bottom: 1px solid gray;flex-grow: 1;}#sk-container-id-4 div.sk-label:hover label.sk-toggleable__label {background-color: #d4ebff;}#sk-container-id-4 div.sk-serial::before {content: \"\";position: absolute;border-left: 1px solid gray;box-sizing: border-box;top: 0;bottom: 0;left: 50%;z-index: 0;}#sk-container-id-4 div.sk-serial {display: flex;flex-direction: column;align-items: center;background-color: white;padding-right: 0.2em;padding-left: 0.2em;position: relative;}#sk-container-id-4 div.sk-item {position: relative;z-index: 1;}#sk-container-id-4 div.sk-parallel {display: flex;align-items: stretch;justify-content: center;background-color: white;position: relative;}#sk-container-id-4 div.sk-item::before, #sk-container-id-4 div.sk-parallel-item::before {content: \"\";position: absolute;border-left: 1px solid gray;box-sizing: border-box;top: 0;bottom: 0;left: 50%;z-index: -1;}#sk-container-id-4 div.sk-parallel-item {display: flex;flex-direction: column;z-index: 1;position: relative;background-color: white;}#sk-container-id-4 div.sk-parallel-item:first-child::after {align-self: flex-end;width: 50%;}#sk-container-id-4 div.sk-parallel-item:last-child::after {align-self: flex-start;width: 50%;}#sk-container-id-4 div.sk-parallel-item:only-child::after {width: 0;}#sk-container-id-4 div.sk-dashed-wrapped {border: 1px dashed gray;margin: 0 0.4em 0.5em 0.4em;box-sizing: border-box;padding-bottom: 0.4em;background-color: white;}#sk-container-id-4 div.sk-label label {font-family: monospace;font-weight: bold;display: inline-block;line-height: 1.2em;}#sk-container-id-4 div.sk-label-container {text-align: center;}#sk-container-id-4 div.sk-container {/* jupyter's `normalize.less` sets `[hidden] { display: none; }` but bootstrap.min.css set `[hidden] { display: none !important; }` so we also need the `!important` here to be able to override the default hidden behavior on the sphinx rendered scikit-learn.org. See: https://github.com/scikit-learn/scikit-learn/issues/21755 */display: inline-block !important;position: relative;}#sk-container-id-4 div.sk-text-repr-fallback {display: none;}</style><div id=\"sk-container-id-4\" class=\"sk-top-container\"><div class=\"sk-text-repr-fallback\"><pre>Pipeline(steps=[(&#x27;polynomialfeatures&#x27;, PolynomialFeatures(degree=4)),\n",
       "                (&#x27;linearregression&#x27;, LinearRegression())])</pre><b>In a Jupyter environment, please rerun this cell to show the HTML representation or trust the notebook. <br />On GitHub, the HTML representation is unable to render, please try loading this page with nbviewer.org.</b></div><div class=\"sk-container\" hidden><div class=\"sk-item sk-dashed-wrapped\"><div class=\"sk-label-container\"><div class=\"sk-label sk-toggleable\"><input class=\"sk-toggleable__control sk-hidden--visually\" id=\"sk-estimator-id-8\" type=\"checkbox\" ><label for=\"sk-estimator-id-8\" class=\"sk-toggleable__label sk-toggleable__label-arrow\">Pipeline</label><div class=\"sk-toggleable__content\"><pre>Pipeline(steps=[(&#x27;polynomialfeatures&#x27;, PolynomialFeatures(degree=4)),\n",
       "                (&#x27;linearregression&#x27;, LinearRegression())])</pre></div></div></div><div class=\"sk-serial\"><div class=\"sk-item\"><div class=\"sk-estimator sk-toggleable\"><input class=\"sk-toggleable__control sk-hidden--visually\" id=\"sk-estimator-id-9\" type=\"checkbox\" ><label for=\"sk-estimator-id-9\" class=\"sk-toggleable__label sk-toggleable__label-arrow\">PolynomialFeatures</label><div class=\"sk-toggleable__content\"><pre>PolynomialFeatures(degree=4)</pre></div></div></div><div class=\"sk-item\"><div class=\"sk-estimator sk-toggleable\"><input class=\"sk-toggleable__control sk-hidden--visually\" id=\"sk-estimator-id-10\" type=\"checkbox\" ><label for=\"sk-estimator-id-10\" class=\"sk-toggleable__label sk-toggleable__label-arrow\">LinearRegression</label><div class=\"sk-toggleable__content\"><pre>LinearRegression()</pre></div></div></div></div></div></div></div>"
      ],
      "text/plain": [
       "Pipeline(steps=[('polynomialfeatures', PolynomialFeatures(degree=4)),\n",
       "                ('linearregression', LinearRegression())])"
      ]
     },
     "execution_count": 58,
     "metadata": {},
     "output_type": "execute_result"
    }
   ],
   "source": [
    "# Modelling\n",
    "model_poly_4 = make_pipeline(PolynomialFeatures(4), LinearRegression())\n",
    "\n",
    "# Model training\n",
    "model_poly_4.fit(X_train_final, y_train)"
   ]
  },
  {
   "cell_type": "code",
   "execution_count": null,
   "metadata": {},
   "outputs": [],
   "source": [
    "# Model Evaluation\n",
    "# Predict against train-set and test-set\n",
    "y_pred_train_IV = model_poly_4.predict(X_train_final)\n",
    "y_pred_test_IV = model_poly_4.predict(X_test_final)"
   ]
  },
  {
   "cell_type": "code",
   "execution_count": null,
   "metadata": {},
   "outputs": [
    {
     "name": "stdout",
     "output_type": "stream",
     "text": [
      "Error - Train Set: 2.0314171800644794e-12\n",
      "Error - Test Set: 2.8376158885750167\n"
     ]
    }
   ],
   "source": [
    "# Model Evaluation using MAE\n",
    "print('Error - Train Set:', mean_absolute_error(y_train, y_pred_train_IV))\n",
    "print('Error - Test Set:', mean_absolute_error(y_test, y_pred_test_IV))"
   ]
  },
  {
   "cell_type": "code",
   "execution_count": null,
   "metadata": {},
   "outputs": [
    {
     "name": "stdout",
     "output_type": "stream",
     "text": [
      "Error - Train Set :  3.9896162902389423e-13\n",
      "Error - Test Set  :  0.6298674648589205\n"
     ]
    }
   ],
   "source": [
    "# Model Evaluation using MAPE\n",
    "print('Error - Train Set : ', mean_absolute_percentage_error(y_train, y_pred_train_IV))\n",
    "print('Error - Test Set  : ', mean_absolute_percentage_error(y_test, y_pred_test_IV))"
   ]
  },
  {
   "cell_type": "code",
   "execution_count": null,
   "metadata": {},
   "outputs": [
    {
     "name": "stdout",
     "output_type": "stream",
     "text": [
      "Score - Train Set :  1.0\n",
      "Score - Test Set  :  -10.97641716521602\n"
     ]
    }
   ],
   "source": [
    "# Model Evaluation using r2score\n",
    "print('Score - Train Set : ', r2_score(y_train, y_pred_train_IV))\n",
    "print('Score - Test Set  : ', r2_score(y_test, y_pred_test_IV))"
   ]
  },
  {
   "cell_type": "markdown",
   "metadata": {},
   "source": [
    "Hasil evaluasi Model III dan IV dengan Polynomial Regression degree 3 dan degree 4 ternyata kurang baik, karena mengalami overfit yang cukup parah. Untuk Polynomial Regression Degree 3 score train set 0.92 sedangkan score test set hanya 0.51, sedangkan Polynomial Regression Degree 4 r2scorenya lebih rendah lagi. Kedua model ini tidak bisa digunakan karena hasil prediksi yang dikeluarkan pasti akan melenceng terlalu jauh. \n",
    "\n",
    "Karena Linear Regresssion merupakan model dengan r2score tertinggi, maka model inilah yang akan digunakan untuk diuji dengan data inference."
   ]
  },
  {
   "cell_type": "markdown",
   "metadata": {},
   "source": [
    "# Grid Search\n",
    "\n",
    "Untuk mendapatkan parameter terbaik dari sebuah model sebenarnya kita dapat melakukan tuning parameter dengan melakukan GridSearch. Namun karena model terbaik berdasarkan hasil hasil uji train dan test set adalah model I (Linear Regression), sepertinya tidak perlu melakukan proses GridSearch. Model Linear Regression tidak memiliki parameter yang dapat di tune, sehingga tidak dapat dilakukan proses GridSearch untuk model ini. Dengan demikian, model akan langsung diuji dengan dataset inference.\n",
    "\n",
    "Sumber: https://stackoverflow.com/questions/60454618/is-it-possible-to-tune-the-linear-regression-hyperparameter-in-sklearn"
   ]
  },
  {
   "cell_type": "markdown",
   "metadata": {},
   "source": [
    "# Model Testing"
   ]
  },
  {
   "cell_type": "code",
   "execution_count": null,
   "metadata": {},
   "outputs": [
    {
     "data": {
      "text/html": [
       "<div>\n",
       "<style scoped>\n",
       "    .dataframe tbody tr th:only-of-type {\n",
       "        vertical-align: middle;\n",
       "    }\n",
       "\n",
       "    .dataframe tbody tr th {\n",
       "        vertical-align: top;\n",
       "    }\n",
       "\n",
       "    .dataframe thead th {\n",
       "        text-align: right;\n",
       "    }\n",
       "</style>\n",
       "<table border=\"1\" class=\"dataframe\">\n",
       "  <thead>\n",
       "    <tr style=\"text-align: right;\">\n",
       "      <th></th>\n",
       "      <th>Rank</th>\n",
       "      <th>Country</th>\n",
       "      <th>Score</th>\n",
       "      <th>GDP</th>\n",
       "      <th>Social_support</th>\n",
       "      <th>Life_expectancy</th>\n",
       "      <th>Freedom</th>\n",
       "      <th>Generosity</th>\n",
       "      <th>Corruption</th>\n",
       "    </tr>\n",
       "  </thead>\n",
       "  <tbody>\n",
       "    <tr>\n",
       "      <th>0</th>\n",
       "      <td>17</td>\n",
       "      <td>Germany</td>\n",
       "      <td>6.985</td>\n",
       "      <td>1.373</td>\n",
       "      <td>1.454</td>\n",
       "      <td>0.987</td>\n",
       "      <td>0.495</td>\n",
       "      <td>0.261</td>\n",
       "      <td>0.265</td>\n",
       "    </tr>\n",
       "    <tr>\n",
       "      <th>1</th>\n",
       "      <td>82</td>\n",
       "      <td>Greece</td>\n",
       "      <td>5.287</td>\n",
       "      <td>1.181</td>\n",
       "      <td>1.156</td>\n",
       "      <td>0.999</td>\n",
       "      <td>0.067</td>\n",
       "      <td>0.000</td>\n",
       "      <td>0.034</td>\n",
       "    </tr>\n",
       "    <tr>\n",
       "      <th>2</th>\n",
       "      <td>153</td>\n",
       "      <td>Tanzania</td>\n",
       "      <td>3.231</td>\n",
       "      <td>0.476</td>\n",
       "      <td>0.885</td>\n",
       "      <td>0.499</td>\n",
       "      <td>0.417</td>\n",
       "      <td>0.276</td>\n",
       "      <td>0.147</td>\n",
       "    </tr>\n",
       "    <tr>\n",
       "      <th>3</th>\n",
       "      <td>54</td>\n",
       "      <td>South Korea</td>\n",
       "      <td>5.895</td>\n",
       "      <td>1.301</td>\n",
       "      <td>1.219</td>\n",
       "      <td>1.036</td>\n",
       "      <td>0.159</td>\n",
       "      <td>0.175</td>\n",
       "      <td>0.056</td>\n",
       "    </tr>\n",
       "    <tr>\n",
       "      <th>4</th>\n",
       "      <td>56</td>\n",
       "      <td>Jamaica</td>\n",
       "      <td>5.890</td>\n",
       "      <td>0.831</td>\n",
       "      <td>1.478</td>\n",
       "      <td>0.831</td>\n",
       "      <td>0.490</td>\n",
       "      <td>0.107</td>\n",
       "      <td>0.028</td>\n",
       "    </tr>\n",
       "    <tr>\n",
       "      <th>5</th>\n",
       "      <td>78</td>\n",
       "      <td>Bosnia and Herzegovina</td>\n",
       "      <td>5.386</td>\n",
       "      <td>0.945</td>\n",
       "      <td>1.212</td>\n",
       "      <td>0.845</td>\n",
       "      <td>0.212</td>\n",
       "      <td>0.263</td>\n",
       "      <td>0.006</td>\n",
       "    </tr>\n",
       "    <tr>\n",
       "      <th>6</th>\n",
       "      <td>128</td>\n",
       "      <td>Mali</td>\n",
       "      <td>4.390</td>\n",
       "      <td>0.385</td>\n",
       "      <td>1.105</td>\n",
       "      <td>0.308</td>\n",
       "      <td>0.327</td>\n",
       "      <td>0.153</td>\n",
       "      <td>0.052</td>\n",
       "    </tr>\n",
       "    <tr>\n",
       "      <th>7</th>\n",
       "      <td>98</td>\n",
       "      <td>Ghana</td>\n",
       "      <td>4.996</td>\n",
       "      <td>0.611</td>\n",
       "      <td>0.868</td>\n",
       "      <td>0.486</td>\n",
       "      <td>0.381</td>\n",
       "      <td>0.245</td>\n",
       "      <td>0.040</td>\n",
       "    </tr>\n",
       "    <tr>\n",
       "      <th>8</th>\n",
       "      <td>105</td>\n",
       "      <td>Laos</td>\n",
       "      <td>4.796</td>\n",
       "      <td>0.764</td>\n",
       "      <td>1.030</td>\n",
       "      <td>0.551</td>\n",
       "      <td>0.547</td>\n",
       "      <td>0.266</td>\n",
       "      <td>0.164</td>\n",
       "    </tr>\n",
       "    <tr>\n",
       "      <th>9</th>\n",
       "      <td>114</td>\n",
       "      <td>Niger</td>\n",
       "      <td>4.628</td>\n",
       "      <td>0.138</td>\n",
       "      <td>0.774</td>\n",
       "      <td>0.366</td>\n",
       "      <td>0.318</td>\n",
       "      <td>0.188</td>\n",
       "      <td>0.102</td>\n",
       "    </tr>\n",
       "  </tbody>\n",
       "</table>\n",
       "</div>"
      ],
      "text/plain": [
       "   Rank                 Country  Score    GDP  Social_support  \\\n",
       "0    17                 Germany  6.985  1.373           1.454   \n",
       "1    82                  Greece  5.287  1.181           1.156   \n",
       "2   153                Tanzania  3.231  0.476           0.885   \n",
       "3    54             South Korea  5.895  1.301           1.219   \n",
       "4    56                 Jamaica  5.890  0.831           1.478   \n",
       "5    78  Bosnia and Herzegovina  5.386  0.945           1.212   \n",
       "6   128                    Mali  4.390  0.385           1.105   \n",
       "7    98                   Ghana  4.996  0.611           0.868   \n",
       "8   105                    Laos  4.796  0.764           1.030   \n",
       "9   114                   Niger  4.628  0.138           0.774   \n",
       "\n",
       "   Life_expectancy  Freedom  Generosity  Corruption  \n",
       "0            0.987    0.495       0.261       0.265  \n",
       "1            0.999    0.067       0.000       0.034  \n",
       "2            0.499    0.417       0.276       0.147  \n",
       "3            1.036    0.159       0.175       0.056  \n",
       "4            0.831    0.490       0.107       0.028  \n",
       "5            0.845    0.212       0.263       0.006  \n",
       "6            0.308    0.327       0.153       0.052  \n",
       "7            0.486    0.381       0.245       0.040  \n",
       "8            0.551    0.547       0.266       0.164  \n",
       "9            0.366    0.318       0.188       0.102  "
      ]
     },
     "execution_count": 63,
     "metadata": {},
     "output_type": "execute_result"
    }
   ],
   "source": [
    "# menunjukan dataset inference\n",
    "df_inf"
   ]
  },
  {
   "cell_type": "code",
   "execution_count": null,
   "metadata": {},
   "outputs": [],
   "source": [
    "# split numerical and categorial columns\n",
    "df_inf_num = df_inf[num_cols]\n",
    "df_inf_cat = df_inf[cat_cols]"
   ]
  },
  {
   "cell_type": "code",
   "execution_count": null,
   "metadata": {},
   "outputs": [],
   "source": [
    "# Feature scaling and encoding\n",
    "df_inf_num_scaled = scaler.transform(df_inf_num)"
   ]
  },
  {
   "cell_type": "code",
   "execution_count": null,
   "metadata": {},
   "outputs": [
    {
     "data": {
      "text/plain": [
       "array([[0.81532067, 0.8953202 , 0.86503067, 0.7844691 , 0.58129176],\n",
       "       [0.70130641, 0.71182266, 0.87554777, 0.10618067, 0.06681514],\n",
       "       [0.28266033, 0.54495074, 0.43733567, 0.66085578, 0.31848552],\n",
       "       [0.77256532, 0.75061576, 0.90797546, 0.25198098, 0.11581292],\n",
       "       [0.49346793, 0.91009852, 0.7283085 , 0.77654517, 0.05345212],\n",
       "       [0.5611639 , 0.74630542, 0.74057844, 0.33597464, 0.00445434],\n",
       "       [0.22862233, 0.68041872, 0.26993865, 0.51822504, 0.10690423],\n",
       "       [0.3628266 , 0.53448276, 0.42594216, 0.60380349, 0.08017817],\n",
       "       [0.45368171, 0.63423645, 0.48290973, 0.86687797, 0.35634744],\n",
       "       [0.08194774, 0.47660099, 0.32077125, 0.50396197, 0.21826281]])"
      ]
     },
     "execution_count": 66,
     "metadata": {},
     "output_type": "execute_result"
    }
   ],
   "source": [
    "# Concat columns\n",
    "df_inf_final = np.concatenate([df_inf_num_scaled, df_inf_cat], axis=1)\n",
    "df_inf_final"
   ]
  },
  {
   "cell_type": "code",
   "execution_count": null,
   "metadata": {},
   "outputs": [
    {
     "data": {
      "text/plain": [
       "array([6.5774725 , 5.26847757, 4.60552595, 5.6144163 , 5.8415461 ,\n",
       "       5.20593823, 4.40053298, 4.51559347, 5.22994207, 3.92847836])"
      ]
     },
     "execution_count": 67,
     "metadata": {},
     "output_type": "execute_result"
    }
   ],
   "source": [
    "# Prediksi menggunakan Model I (linear regression)\n",
    "y_pred_inf = model_lin_reg.predict(df_inf_final)\n",
    "y_pred_inf"
   ]
  },
  {
   "cell_type": "code",
   "execution_count": null,
   "metadata": {},
   "outputs": [
    {
     "data": {
      "text/html": [
       "<div>\n",
       "<style scoped>\n",
       "    .dataframe tbody tr th:only-of-type {\n",
       "        vertical-align: middle;\n",
       "    }\n",
       "\n",
       "    .dataframe tbody tr th {\n",
       "        vertical-align: top;\n",
       "    }\n",
       "\n",
       "    .dataframe thead th {\n",
       "        text-align: right;\n",
       "    }\n",
       "</style>\n",
       "<table border=\"1\" class=\"dataframe\">\n",
       "  <thead>\n",
       "    <tr style=\"text-align: right;\">\n",
       "      <th></th>\n",
       "      <th>Score - Prediction</th>\n",
       "    </tr>\n",
       "  </thead>\n",
       "  <tbody>\n",
       "    <tr>\n",
       "      <th>0</th>\n",
       "      <td>6.577472</td>\n",
       "    </tr>\n",
       "    <tr>\n",
       "      <th>1</th>\n",
       "      <td>5.268478</td>\n",
       "    </tr>\n",
       "    <tr>\n",
       "      <th>2</th>\n",
       "      <td>4.605526</td>\n",
       "    </tr>\n",
       "    <tr>\n",
       "      <th>3</th>\n",
       "      <td>5.614416</td>\n",
       "    </tr>\n",
       "    <tr>\n",
       "      <th>4</th>\n",
       "      <td>5.841546</td>\n",
       "    </tr>\n",
       "    <tr>\n",
       "      <th>5</th>\n",
       "      <td>5.205938</td>\n",
       "    </tr>\n",
       "    <tr>\n",
       "      <th>6</th>\n",
       "      <td>4.400533</td>\n",
       "    </tr>\n",
       "    <tr>\n",
       "      <th>7</th>\n",
       "      <td>4.515593</td>\n",
       "    </tr>\n",
       "    <tr>\n",
       "      <th>8</th>\n",
       "      <td>5.229942</td>\n",
       "    </tr>\n",
       "    <tr>\n",
       "      <th>9</th>\n",
       "      <td>3.928478</td>\n",
       "    </tr>\n",
       "  </tbody>\n",
       "</table>\n",
       "</div>"
      ],
      "text/plain": [
       "   Score - Prediction\n",
       "0            6.577472\n",
       "1            5.268478\n",
       "2            4.605526\n",
       "3            5.614416\n",
       "4            5.841546\n",
       "5            5.205938\n",
       "6            4.400533\n",
       "7            4.515593\n",
       "8            5.229942\n",
       "9            3.928478"
      ]
     },
     "execution_count": 68,
     "metadata": {},
     "output_type": "execute_result"
    }
   ],
   "source": [
    "# Membentuk hasil prediksi menjadi sebuah dataframe\n",
    "y_pred_inf_df = pd.DataFrame(y_pred_inf, columns=['Score - Prediction'])\n",
    "y_pred_inf_df"
   ]
  },
  {
   "cell_type": "code",
   "execution_count": null,
   "metadata": {},
   "outputs": [
    {
     "data": {
      "text/html": [
       "<div>\n",
       "<style scoped>\n",
       "    .dataframe tbody tr th:only-of-type {\n",
       "        vertical-align: middle;\n",
       "    }\n",
       "\n",
       "    .dataframe tbody tr th {\n",
       "        vertical-align: top;\n",
       "    }\n",
       "\n",
       "    .dataframe thead th {\n",
       "        text-align: right;\n",
       "    }\n",
       "</style>\n",
       "<table border=\"1\" class=\"dataframe\">\n",
       "  <thead>\n",
       "    <tr style=\"text-align: right;\">\n",
       "      <th></th>\n",
       "      <th>Rank</th>\n",
       "      <th>Country</th>\n",
       "      <th>Score</th>\n",
       "      <th>GDP</th>\n",
       "      <th>Social_support</th>\n",
       "      <th>Life_expectancy</th>\n",
       "      <th>Freedom</th>\n",
       "      <th>Generosity</th>\n",
       "      <th>Corruption</th>\n",
       "      <th>Score - Prediction</th>\n",
       "    </tr>\n",
       "  </thead>\n",
       "  <tbody>\n",
       "    <tr>\n",
       "      <th>0</th>\n",
       "      <td>17</td>\n",
       "      <td>Germany</td>\n",
       "      <td>6.985</td>\n",
       "      <td>1.373</td>\n",
       "      <td>1.454</td>\n",
       "      <td>0.987</td>\n",
       "      <td>0.495</td>\n",
       "      <td>0.261</td>\n",
       "      <td>0.265</td>\n",
       "      <td>6.577472</td>\n",
       "    </tr>\n",
       "    <tr>\n",
       "      <th>1</th>\n",
       "      <td>82</td>\n",
       "      <td>Greece</td>\n",
       "      <td>5.287</td>\n",
       "      <td>1.181</td>\n",
       "      <td>1.156</td>\n",
       "      <td>0.999</td>\n",
       "      <td>0.067</td>\n",
       "      <td>0.000</td>\n",
       "      <td>0.034</td>\n",
       "      <td>5.268478</td>\n",
       "    </tr>\n",
       "    <tr>\n",
       "      <th>2</th>\n",
       "      <td>153</td>\n",
       "      <td>Tanzania</td>\n",
       "      <td>3.231</td>\n",
       "      <td>0.476</td>\n",
       "      <td>0.885</td>\n",
       "      <td>0.499</td>\n",
       "      <td>0.417</td>\n",
       "      <td>0.276</td>\n",
       "      <td>0.147</td>\n",
       "      <td>4.605526</td>\n",
       "    </tr>\n",
       "    <tr>\n",
       "      <th>3</th>\n",
       "      <td>54</td>\n",
       "      <td>South Korea</td>\n",
       "      <td>5.895</td>\n",
       "      <td>1.301</td>\n",
       "      <td>1.219</td>\n",
       "      <td>1.036</td>\n",
       "      <td>0.159</td>\n",
       "      <td>0.175</td>\n",
       "      <td>0.056</td>\n",
       "      <td>5.614416</td>\n",
       "    </tr>\n",
       "    <tr>\n",
       "      <th>4</th>\n",
       "      <td>56</td>\n",
       "      <td>Jamaica</td>\n",
       "      <td>5.890</td>\n",
       "      <td>0.831</td>\n",
       "      <td>1.478</td>\n",
       "      <td>0.831</td>\n",
       "      <td>0.490</td>\n",
       "      <td>0.107</td>\n",
       "      <td>0.028</td>\n",
       "      <td>5.841546</td>\n",
       "    </tr>\n",
       "    <tr>\n",
       "      <th>5</th>\n",
       "      <td>78</td>\n",
       "      <td>Bosnia and Herzegovina</td>\n",
       "      <td>5.386</td>\n",
       "      <td>0.945</td>\n",
       "      <td>1.212</td>\n",
       "      <td>0.845</td>\n",
       "      <td>0.212</td>\n",
       "      <td>0.263</td>\n",
       "      <td>0.006</td>\n",
       "      <td>5.205938</td>\n",
       "    </tr>\n",
       "    <tr>\n",
       "      <th>6</th>\n",
       "      <td>128</td>\n",
       "      <td>Mali</td>\n",
       "      <td>4.390</td>\n",
       "      <td>0.385</td>\n",
       "      <td>1.105</td>\n",
       "      <td>0.308</td>\n",
       "      <td>0.327</td>\n",
       "      <td>0.153</td>\n",
       "      <td>0.052</td>\n",
       "      <td>4.400533</td>\n",
       "    </tr>\n",
       "    <tr>\n",
       "      <th>7</th>\n",
       "      <td>98</td>\n",
       "      <td>Ghana</td>\n",
       "      <td>4.996</td>\n",
       "      <td>0.611</td>\n",
       "      <td>0.868</td>\n",
       "      <td>0.486</td>\n",
       "      <td>0.381</td>\n",
       "      <td>0.245</td>\n",
       "      <td>0.040</td>\n",
       "      <td>4.515593</td>\n",
       "    </tr>\n",
       "    <tr>\n",
       "      <th>8</th>\n",
       "      <td>105</td>\n",
       "      <td>Laos</td>\n",
       "      <td>4.796</td>\n",
       "      <td>0.764</td>\n",
       "      <td>1.030</td>\n",
       "      <td>0.551</td>\n",
       "      <td>0.547</td>\n",
       "      <td>0.266</td>\n",
       "      <td>0.164</td>\n",
       "      <td>5.229942</td>\n",
       "    </tr>\n",
       "    <tr>\n",
       "      <th>9</th>\n",
       "      <td>114</td>\n",
       "      <td>Niger</td>\n",
       "      <td>4.628</td>\n",
       "      <td>0.138</td>\n",
       "      <td>0.774</td>\n",
       "      <td>0.366</td>\n",
       "      <td>0.318</td>\n",
       "      <td>0.188</td>\n",
       "      <td>0.102</td>\n",
       "      <td>3.928478</td>\n",
       "    </tr>\n",
       "  </tbody>\n",
       "</table>\n",
       "</div>"
      ],
      "text/plain": [
       "   Rank                 Country  Score    GDP  Social_support  \\\n",
       "0    17                 Germany  6.985  1.373           1.454   \n",
       "1    82                  Greece  5.287  1.181           1.156   \n",
       "2   153                Tanzania  3.231  0.476           0.885   \n",
       "3    54             South Korea  5.895  1.301           1.219   \n",
       "4    56                 Jamaica  5.890  0.831           1.478   \n",
       "5    78  Bosnia and Herzegovina  5.386  0.945           1.212   \n",
       "6   128                    Mali  4.390  0.385           1.105   \n",
       "7    98                   Ghana  4.996  0.611           0.868   \n",
       "8   105                    Laos  4.796  0.764           1.030   \n",
       "9   114                   Niger  4.628  0.138           0.774   \n",
       "\n",
       "   Life_expectancy  Freedom  Generosity  Corruption  Score - Prediction  \n",
       "0            0.987    0.495       0.261       0.265            6.577472  \n",
       "1            0.999    0.067       0.000       0.034            5.268478  \n",
       "2            0.499    0.417       0.276       0.147            4.605526  \n",
       "3            1.036    0.159       0.175       0.056            5.614416  \n",
       "4            0.831    0.490       0.107       0.028            5.841546  \n",
       "5            0.845    0.212       0.263       0.006            5.205938  \n",
       "6            0.308    0.327       0.153       0.052            4.400533  \n",
       "7            0.486    0.381       0.245       0.040            4.515593  \n",
       "8            0.551    0.547       0.266       0.164            5.229942  \n",
       "9            0.366    0.318       0.188       0.102            3.928478  "
      ]
     },
     "execution_count": 69,
     "metadata": {},
     "output_type": "execute_result"
    }
   ],
   "source": [
    "pd.concat([df_inf, y_pred_inf_df], axis =1)"
   ]
  },
  {
   "cell_type": "markdown",
   "metadata": {},
   "source": [
    "Secara umum, hasil prediksi yang dikeluarkan oleh model Linear Regression sudah memenuhi harapan. Prediksi yang dikeluarkan memang tidak akan 100% tepat. Namun hal ini tidak perlu dikhawatirkan mengingat bentuk outputnya yang merupakan bilangan desimal dengan jumlah angka di belakang koma yang cukup banyak. Mustahil bagi model untuk melakukan komputasi dan menghasilkan bilangan desimal yang 100% tepat.\n",
    "\n",
    "yang menjadi catatan disini mungkin r2score model ini yang nilainya masih berkisar diantara 0.77-0.79. Artinya performa model seharusnya masih dapat ditingkatkan. Hanya saja karena kebetulan model yang performanya paling baik adalah Linear Regression, maka tidak memungkinkan untuk dilakukan proses GridSearch karena model ini tidak memiliki parameter untuk dituning. Untuk future improvement kita bisa lakukan prediksi dengan algoritma lain yang tentunya memiliki cukup banyak parameter, sehingga dapat dilakukan proses GridSearch untuk menemukan parameter terbaik dari model tersebut."
   ]
  },
  {
   "cell_type": "markdown",
   "metadata": {},
   "source": [
    "# Conclusion\n",
    "\n",
    "# Dataset Secara Umum\n",
    "\n",
    "Project kali ini mengangkat tema World Happiness Report. Dataset yang digunakan untuk project ini merupakan laporan tahun 2019. Selain meranking negara-negara di dunia berdasarkan tingkat kebahagiaan penduduknya, dataset ini juga memuat faktor-faktor yang memengaruhi tinggi atau rendahnya tingkat kebahagiaan di suatu negara. Faktor-faktor yang memiliki pengaruh adalah GDP, social support, life expectancy, freedom, generosity, dan persepsi korupsi. \n",
    "\n",
    "Eksplorasi data yang dilakukan dalam ini berfokus pada keenam contributing factors diatas. dari hasil eksplorasi data, ada hal yang dapat digarisbawahi:\n",
    "\n",
    "- Bahwa the Global North/South Divide masih terjadi, dimana masih terdapat gap atau ketimpangan dalam hal yang berhubungan dengan pembangunan dan distribusi kekayaan antara negara-negara Global North* dengan negara-negara Global South** \n",
    "\n",
    "- Negara-negara Global North secara umum lebih makmur dan maju daripada negara-negara Global South. Dari hasil EDA terlihat bahwa top 10 teratas setiap kategori dikuasai oleh negara-negara Global North, sedangkan top 10 terbawah setiap kategori ditempati oleh negara-negara Global South. \n",
    "\n",
    "- Gap atau ketimpangan antara negara-negara ini tentunya terjadi karena banyak faktor seperti sosial, ekonomi, dan politik. Mulai dari ketersediaan fasilitas publik, kesehatan, dan pendidikan; kekuatan ekonomi dan industri suatu negara; hubungan dan perdagangan internasional; konflik dan perang; kerentanan terhadap bencana alam; dan tentunya bagaimana cara sebuah negara diperintah. \n",
    "\n",
    "Sekarang tinggal bagaimana laporan ini tidak menjadi laporan yang terbit setiap tahun semata. Negara-negara di dunia harus berupaya untuk bekerjasama dalam berbagai bidang sehingga dapat mengurangi global inequality. \n",
    "\n",
    "*North America, Western Europe, Scandinavia, Australia, New Zealand, mungkin ditambah beberapa negara Asia seperti Jepang, Korea Selatan, Taiwan, dan Singapura.\n",
    "**Negara-negara yang terletak di belahan bumi bagian Selatan dan beriklim tropis.\n",
    "\n",
    "Sumber: https://www.rgs.org/CMSPages/GetFile.aspx?nodeguid=9c1ce781-9117-4741-af0a-a6a8b75f32b4&lang=en-GB\n",
    "\n",
    "\n",
    "# Penjelasan Mengenai Model dan Future Improvement\n",
    "\n",
    "Dalam pengerjaan project ini, telah dibuat 4 model yaitu:\n",
    "- Linear Regression\n",
    "- Polynomial Regression Degree 2\n",
    "- Polynomial Regression Degree 3\n",
    "- Polynomial Regression Degree 4\n",
    "\n",
    "Secara performa, kedua model Polynomial Regression dapat dikatakan kurang baik. Berdasarkan r2score, model Polynomial Regression Degree 2 mengalami sedikit overfit, ada perbedaan sekitar 4% antara train dengan test set. Ketika diuji dengan train set, score model ini mencapai 0.84, sedangkan ketika diuji dengan test set, performanya turun menjadi 0.80.\n",
    "\n",
    "Model Polynomial Regression Degree 3 dan Degree 4 mengalami overfit yang cukup parah, hasil r2score ketika diuji dengan train set mencapai 0.92, sedangkan setelah diuji dengan test set performanya turun menjadi 0.51. Untuk Degree 4, performa modelnya lebih rendah lagi.\n",
    "\n",
    "Model yang performanya paling baik adalah Linear Regression. Model ini merupakan good fit, karena perbedaan hasil uji train dan test set tidak berbeda jauh. ketika diuji dengan train set r2scorenya mendapatkan 0.77 dan ketika diuji dengan test set r2scorenya naik sedikit menjadi 0.79. Sehingga dapat disimpulkan bahwa model inilah yang performanya paling baik dan stabil. \n",
    "\n",
    "Sedangkan untuk evaluasi MAE dan MAPE, seluruh model mendapatkan nilai yang kurang baik. Namun hal ini tidak perlu dikhawatirkan karena memang hasil prediksi yang diharapkan berupa bilangan desimal dengan jumlah angka di belakang koma yang cukup banyak. Sehingga mustahil bagi model untuk mengeluarkan hasil prediksi yang 100% tepat. Selama model yang digunakan merupakan model yang good fit, maka hal ini tidak menjadi masalah. Hal ini sudah dibuktikan dengan menguji model Linear Regression dengan data inference. Hasilnya cukup memuaskan, karena hasil prediksi yang dikeluarkan oleh model Linear Regression sudah sesuai dengan harapan.\n"
   ]
  },
  {
   "cell_type": "markdown",
   "metadata": {},
   "source": [
    "# Save Model\n",
    "\n",
    "Syntax save model dijadikan comment agar tidak mengenerate file pickle baru setiap kali notebook dirun ulang."
   ]
  },
  {
   "cell_type": "code",
   "execution_count": null,
   "metadata": {},
   "outputs": [],
   "source": [
    "# with open('model.pkl', 'wb') as f:\n",
    "#     pickle.dump(model_lin_reg, f)"
   ]
  },
  {
   "cell_type": "code",
   "execution_count": null,
   "metadata": {},
   "outputs": [],
   "source": [
    "# with open('scaler.pkl', 'wb') as f:\n",
    "#     pickle.dump(scaler, f)"
   ]
  }
 ],
 "metadata": {
  "interpreter": {
   "hash": "c656109590d48192edc5049bd821f9c22d25396e84daa2fca2c0589f5186d14f"
  },
  "kernelspec": {
   "display_name": "Python 3.9.12 ('base')",
   "language": "python",
   "name": "python3"
  },
  "language_info": {
   "codemirror_mode": {
    "name": "ipython",
    "version": 3
   },
   "file_extension": ".py",
   "mimetype": "text/x-python",
   "name": "python",
   "nbconvert_exporter": "python",
   "pygments_lexer": "ipython3",
   "version": "3.9.12"
  },
  "orig_nbformat": 4
 },
 "nbformat": 4,
 "nbformat_minor": 2
}
