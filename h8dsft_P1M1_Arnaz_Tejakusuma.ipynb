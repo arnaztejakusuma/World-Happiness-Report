{
 "cells": [
  {
   "cell_type": "markdown",
   "metadata": {},
   "source": [
    "# Milestone 2"
   ]
  },
  {
   "cell_type": "markdown",
   "metadata": {},
   "source": [
    "# Introduction\n",
    "\n",
    "Nama: Arnaz Tejakusuma\n",
    "\n",
    "Batch: 012\n",
    "\n",
    "APP URL: https://arnaz-deployment-frontend.herokuapp.com"
   ]
  },
  {
   "cell_type": "markdown",
   "metadata": {},
   "source": [
    "# World Happiness Report\n",
    "\n",
    "Studi kasus yang digunakan untuk project kali ini adalah World Happiness Report. Di Indonesia, World Happiness Report mungkin lebih banyak dikenal dengan istilah Indeks Kebahagiaan Dunia. Laporan ini pertama kali dirilis oleh United Nations Sustainable Development Solutions Network (UNSDSN) bertepatan dengan International Day of Happiness pada tanggal 20 Maret 2012. Sejak saat itu, laporan ini terus dirilis oleh UNSDSN setiap tahunnya. Dalam pengerjaan laporan ini, UNSDSN bekerja sama dengan Gallup, Inc yang merupakan sebuah lembaga survei terkemuka.\n",
    "\n",
    "Dalam laporan ini, negara-negara di seluruh dunia diranking berdasarkan tingkat kebahagiaan penduduknya. Dalam melakukan penilaian, ada beberapa faktor yang dianggap dapat mempengaruhi tingkat kebahagiaan masyarakat di suatu negara, antara lain:\n",
    "\n",
    "- GDP per capita: besarnya pendapatan rata-rata penduduk di suatu negara\n",
    "\n",
    "- Social support: berkaitan dengan ketersediaan support system. Misalnya, apakah seseorang akan mendapatkan pertolongan dari keluarga, kerabat, atau teman ketika mengalami kesulitan. \n",
    "\n",
    "- Life expectancy: angka harapan hidup\n",
    "\n",
    "- Freedom to make life choices: berkaitan dengan kebebasan seseorang untuk mengekspresikan diri dan menyatakan pendapat pribadi di muka umum.\n",
    "\n",
    "- Generosity: berkaitan dengan amal atau donasi seseorang. Karena ada anggapan bahwa orang yang rajin berdonasi biasanya lebih bahagia, terlebih lagi jika donasi tersebut dilakukan dengan sukarela dan tanpa paksaan.\n",
    "\n",
    "- Perceptions of corruptions: tingkat kepercayaan masyarakat terhadap pemerintah dalam hal penanganan korupsi. Atau bagaimana masyarakat menilai situasi korupsi di negara mereka baik dalam pemerintahan atau lingkungan bisnis secara umum. \n",
    "\n",
    "Laporan ini merupakan laporan yang esensial, karena keenam faktor yang menjadi penenentu dalam laporan ini dapat digunakan untuk menilai tingkat keberhasilan dari pembangunan yang dilakukan oleh pemerintah. Selain itu, laporan ini juga dapat digunakan oleh pengambil keputusan sebagai bahan pertimbangan untuk membuat atau mempertajam kebijakan publik dengan tujuan meningkatkan kesejahtaraan masyarakat.\n",
    "\n",
    "Rentang nilai yang dapat diperoleh sebuah negara adalah 0-10. Dimana 0 merupakan nilai terendah dan 10 merupakan nilai tertinggi. Berdasarkan hasil laporan 5 tahun terakhir, Finlandia yang merupakan negara yang paling bahagia di dunia. Sebagai gambaran, Indonesia menduduki peringkat ke-87. Tepat berada ditengah-tengah, artinya Indonesia memang bukan merupakan negara yang paling tidak bahagia, namun tentunya masih banyak yang harus dilakukan oleh pemerintah atau pengambil keputusan untuk meningatkan kebahagiaan dan kesejahtaraan masyarakat secara umum.\n",
    "\n",
    "Sumber: https://happiness-report.s3.amazonaws.com/2021/Appendix1WHR2021C2.pdf, https://www.bloomberg.com/news/articles/2022-03-18/world-s-happiest-ranking-goes-to-finland-for-fifth-year-in-a-row, https://www.cnbcindonesia.com/lifestyle/20220321113046-33-324483/indonesia-no-87-dalam-daftar-negara-paling-bahagia-di-dunia"
   ]
  },
  {
   "cell_type": "markdown",
   "metadata": {},
   "source": [
    "# Dataset Description\n",
    "\n",
    "Dataset yang digunakan dalam project ini adalah World Happiness Report tahun 2019. Dataset ini berisi ranking dari 156 negara yang disurvei pada tahun 2019. Beserta kolom-kolom seperti 'GDP', 'Social_support', 'Life_expectancy', 'Generosity', dan 'Corruption' yang menjadi penentu tinggi atau rendahnya 'Score' sebuah negara dalam laporan tersebut. Dataset ini dipublish sendiri oleh UNSDSN di Kaggle dengan link sebagai berikut: https://www.kaggle.com/datasets/unsdsn/world-happiness"
   ]
  },
  {
   "cell_type": "markdown",
   "metadata": {},
   "source": [
    "# Objectives\n",
    "\n",
    "Project ini merupakan Milestone 2 di Fase 1 Program FTDS untuk mengevaluasi pemahaman mengenai materi machine learning. Dalam project ini, main objectives-nya adalah memprediksi 'Score' dari suatu negara berkaitan dengan tingkat kebahagiaan penduduknya. Prediksi akan dilakukan dengan konsep regression. Dalam pengerjaan project ini, akan dibuat model Linear Regression dan Polynomial Regression. Kedua model akan dibandingkan untuk melihat model mana yang memiliki performa lebih baik dalam memprediksi 'Score' negara-negara yang masuk dalam dataset inference. "
   ]
  },
  {
   "cell_type": "markdown",
   "metadata": {},
   "source": [
    "# Import Libraries"
   ]
  },
  {
   "cell_type": "code",
   "execution_count": 234,
   "metadata": {},
   "outputs": [],
   "source": [
    "import pandas as pd\n",
    "import numpy as np\n",
    "import matplotlib.pyplot as plt\n",
    "import seaborn as sns\n",
    "\n",
    "from datetime import datetime as dt\n",
    "from sklearn.model_selection import train_test_split, GridSearchCV\n",
    "from sklearn.preprocessing import StandardScaler\n",
    "from sklearn.preprocessing import MinMaxScaler\n",
    "from sklearn.preprocessing import OneHotEncoder, OrdinalEncoder, LabelEncoder\n",
    "from sklearn.linear_model import LinearRegression, ElasticNet\n",
    "from sklearn.metrics import mean_absolute_error, mean_squared_error, mean_absolute_percentage_error, r2_score\n",
    "from sklearn.preprocessing import PolynomialFeatures\n",
    "from sklearn.pipeline import make_pipeline\n",
    "from sklearn.pipeline import Pipeline\n",
    "from sklearn.compose import ColumnTransformer\n",
    "import plotly.offline as py\n",
    "import plotly.express as px\n",
    "import pickle"
   ]
  },
  {
   "cell_type": "markdown",
   "metadata": {},
   "source": [
    "# Data Loading"
   ]
  },
  {
   "cell_type": "code",
   "execution_count": 58,
   "metadata": {},
   "outputs": [],
   "source": [
    "# Loading dataset\n",
    "df_ori = pd.read_csv('h8dsft_P1M2_Arnaz_Tejakusuma.csv')"
   ]
  },
  {
   "cell_type": "code",
   "execution_count": 59,
   "metadata": {},
   "outputs": [],
   "source": [
    "# Membuat copy dari dataset agar dataset asli tetap utuh dan dapat dicek sewaktu-waktu\n",
    "df_copy = df_ori.copy()"
   ]
  },
  {
   "cell_type": "markdown",
   "metadata": {},
   "source": [
    "# Menampilkan Dataset"
   ]
  },
  {
   "cell_type": "code",
   "execution_count": 60,
   "metadata": {},
   "outputs": [],
   "source": [
    "# Mengganti display setting dari dataset agar tidak ada kolom yang terpotong\n",
    "pd.set_option('display.max.columns', None)"
   ]
  },
  {
   "cell_type": "code",
   "execution_count": 61,
   "metadata": {},
   "outputs": [
    {
     "data": {
      "text/html": [
       "<div>\n",
       "<style scoped>\n",
       "    .dataframe tbody tr th:only-of-type {\n",
       "        vertical-align: middle;\n",
       "    }\n",
       "\n",
       "    .dataframe tbody tr th {\n",
       "        vertical-align: top;\n",
       "    }\n",
       "\n",
       "    .dataframe thead th {\n",
       "        text-align: right;\n",
       "    }\n",
       "</style>\n",
       "<table border=\"1\" class=\"dataframe\">\n",
       "  <thead>\n",
       "    <tr style=\"text-align: right;\">\n",
       "      <th></th>\n",
       "      <th>Overall rank</th>\n",
       "      <th>Country or region</th>\n",
       "      <th>Score</th>\n",
       "      <th>GDP per capita</th>\n",
       "      <th>Social support</th>\n",
       "      <th>Healthy life expectancy</th>\n",
       "      <th>Freedom to make life choices</th>\n",
       "      <th>Generosity</th>\n",
       "      <th>Perceptions of corruption</th>\n",
       "    </tr>\n",
       "  </thead>\n",
       "  <tbody>\n",
       "    <tr>\n",
       "      <th>0</th>\n",
       "      <td>1</td>\n",
       "      <td>Finland</td>\n",
       "      <td>7.769</td>\n",
       "      <td>1.340</td>\n",
       "      <td>1.587</td>\n",
       "      <td>0.986</td>\n",
       "      <td>0.596</td>\n",
       "      <td>0.153</td>\n",
       "      <td>0.393</td>\n",
       "    </tr>\n",
       "    <tr>\n",
       "      <th>1</th>\n",
       "      <td>2</td>\n",
       "      <td>Denmark</td>\n",
       "      <td>7.600</td>\n",
       "      <td>1.383</td>\n",
       "      <td>1.573</td>\n",
       "      <td>0.996</td>\n",
       "      <td>0.592</td>\n",
       "      <td>0.252</td>\n",
       "      <td>0.410</td>\n",
       "    </tr>\n",
       "    <tr>\n",
       "      <th>2</th>\n",
       "      <td>3</td>\n",
       "      <td>Norway</td>\n",
       "      <td>7.554</td>\n",
       "      <td>1.488</td>\n",
       "      <td>1.582</td>\n",
       "      <td>1.028</td>\n",
       "      <td>0.603</td>\n",
       "      <td>0.271</td>\n",
       "      <td>0.341</td>\n",
       "    </tr>\n",
       "    <tr>\n",
       "      <th>3</th>\n",
       "      <td>4</td>\n",
       "      <td>Iceland</td>\n",
       "      <td>7.494</td>\n",
       "      <td>1.380</td>\n",
       "      <td>1.624</td>\n",
       "      <td>1.026</td>\n",
       "      <td>0.591</td>\n",
       "      <td>0.354</td>\n",
       "      <td>0.118</td>\n",
       "    </tr>\n",
       "    <tr>\n",
       "      <th>4</th>\n",
       "      <td>5</td>\n",
       "      <td>Netherlands</td>\n",
       "      <td>7.488</td>\n",
       "      <td>1.396</td>\n",
       "      <td>1.522</td>\n",
       "      <td>0.999</td>\n",
       "      <td>0.557</td>\n",
       "      <td>0.322</td>\n",
       "      <td>0.298</td>\n",
       "    </tr>\n",
       "  </tbody>\n",
       "</table>\n",
       "</div>"
      ],
      "text/plain": [
       "   Overall rank Country or region  Score  GDP per capita  Social support  \\\n",
       "0             1           Finland  7.769           1.340           1.587   \n",
       "1             2           Denmark  7.600           1.383           1.573   \n",
       "2             3            Norway  7.554           1.488           1.582   \n",
       "3             4           Iceland  7.494           1.380           1.624   \n",
       "4             5       Netherlands  7.488           1.396           1.522   \n",
       "\n",
       "   Healthy life expectancy  Freedom to make life choices  Generosity  \\\n",
       "0                    0.986                         0.596       0.153   \n",
       "1                    0.996                         0.592       0.252   \n",
       "2                    1.028                         0.603       0.271   \n",
       "3                    1.026                         0.591       0.354   \n",
       "4                    0.999                         0.557       0.322   \n",
       "\n",
       "   Perceptions of corruption  \n",
       "0                      0.393  \n",
       "1                      0.410  \n",
       "2                      0.341  \n",
       "3                      0.118  \n",
       "4                      0.298  "
      ]
     },
     "execution_count": 61,
     "metadata": {},
     "output_type": "execute_result"
    }
   ],
   "source": [
    "# Memastikan dataset berhasil diload dengan baik, menampilkan 5 baris awal dari dataset\n",
    "df_copy.head(5)"
   ]
  },
  {
   "cell_type": "code",
   "execution_count": 62,
   "metadata": {},
   "outputs": [
    {
     "data": {
      "text/html": [
       "<div>\n",
       "<style scoped>\n",
       "    .dataframe tbody tr th:only-of-type {\n",
       "        vertical-align: middle;\n",
       "    }\n",
       "\n",
       "    .dataframe tbody tr th {\n",
       "        vertical-align: top;\n",
       "    }\n",
       "\n",
       "    .dataframe thead th {\n",
       "        text-align: right;\n",
       "    }\n",
       "</style>\n",
       "<table border=\"1\" class=\"dataframe\">\n",
       "  <thead>\n",
       "    <tr style=\"text-align: right;\">\n",
       "      <th></th>\n",
       "      <th>Overall rank</th>\n",
       "      <th>Country or region</th>\n",
       "      <th>Score</th>\n",
       "      <th>GDP per capita</th>\n",
       "      <th>Social support</th>\n",
       "      <th>Healthy life expectancy</th>\n",
       "      <th>Freedom to make life choices</th>\n",
       "      <th>Generosity</th>\n",
       "      <th>Perceptions of corruption</th>\n",
       "    </tr>\n",
       "  </thead>\n",
       "  <tbody>\n",
       "    <tr>\n",
       "      <th>151</th>\n",
       "      <td>152</td>\n",
       "      <td>Rwanda</td>\n",
       "      <td>3.334</td>\n",
       "      <td>0.359</td>\n",
       "      <td>0.711</td>\n",
       "      <td>0.614</td>\n",
       "      <td>0.555</td>\n",
       "      <td>0.217</td>\n",
       "      <td>0.411</td>\n",
       "    </tr>\n",
       "    <tr>\n",
       "      <th>152</th>\n",
       "      <td>153</td>\n",
       "      <td>Tanzania</td>\n",
       "      <td>3.231</td>\n",
       "      <td>0.476</td>\n",
       "      <td>0.885</td>\n",
       "      <td>0.499</td>\n",
       "      <td>0.417</td>\n",
       "      <td>0.276</td>\n",
       "      <td>0.147</td>\n",
       "    </tr>\n",
       "    <tr>\n",
       "      <th>153</th>\n",
       "      <td>154</td>\n",
       "      <td>Afghanistan</td>\n",
       "      <td>3.203</td>\n",
       "      <td>0.350</td>\n",
       "      <td>0.517</td>\n",
       "      <td>0.361</td>\n",
       "      <td>0.000</td>\n",
       "      <td>0.158</td>\n",
       "      <td>0.025</td>\n",
       "    </tr>\n",
       "    <tr>\n",
       "      <th>154</th>\n",
       "      <td>155</td>\n",
       "      <td>Central African Republic</td>\n",
       "      <td>3.083</td>\n",
       "      <td>0.026</td>\n",
       "      <td>0.000</td>\n",
       "      <td>0.105</td>\n",
       "      <td>0.225</td>\n",
       "      <td>0.235</td>\n",
       "      <td>0.035</td>\n",
       "    </tr>\n",
       "    <tr>\n",
       "      <th>155</th>\n",
       "      <td>156</td>\n",
       "      <td>South Sudan</td>\n",
       "      <td>2.853</td>\n",
       "      <td>0.306</td>\n",
       "      <td>0.575</td>\n",
       "      <td>0.295</td>\n",
       "      <td>0.010</td>\n",
       "      <td>0.202</td>\n",
       "      <td>0.091</td>\n",
       "    </tr>\n",
       "  </tbody>\n",
       "</table>\n",
       "</div>"
      ],
      "text/plain": [
       "     Overall rank         Country or region  Score  GDP per capita  \\\n",
       "151           152                    Rwanda  3.334           0.359   \n",
       "152           153                  Tanzania  3.231           0.476   \n",
       "153           154               Afghanistan  3.203           0.350   \n",
       "154           155  Central African Republic  3.083           0.026   \n",
       "155           156               South Sudan  2.853           0.306   \n",
       "\n",
       "     Social support  Healthy life expectancy  Freedom to make life choices  \\\n",
       "151           0.711                    0.614                         0.555   \n",
       "152           0.885                    0.499                         0.417   \n",
       "153           0.517                    0.361                         0.000   \n",
       "154           0.000                    0.105                         0.225   \n",
       "155           0.575                    0.295                         0.010   \n",
       "\n",
       "     Generosity  Perceptions of corruption  \n",
       "151       0.217                      0.411  \n",
       "152       0.276                      0.147  \n",
       "153       0.158                      0.025  \n",
       "154       0.235                      0.035  \n",
       "155       0.202                      0.091  "
      ]
     },
     "execution_count": 62,
     "metadata": {},
     "output_type": "execute_result"
    }
   ],
   "source": [
    "# Memastikan dataset berhasil diload dengan baik, menampilkan 5 baris akhir dari dataset\n",
    "df_copy.tail(5)"
   ]
  },
  {
   "cell_type": "code",
   "execution_count": 63,
   "metadata": {},
   "outputs": [
    {
     "data": {
      "text/html": [
       "<div>\n",
       "<style scoped>\n",
       "    .dataframe tbody tr th:only-of-type {\n",
       "        vertical-align: middle;\n",
       "    }\n",
       "\n",
       "    .dataframe tbody tr th {\n",
       "        vertical-align: top;\n",
       "    }\n",
       "\n",
       "    .dataframe thead th {\n",
       "        text-align: right;\n",
       "    }\n",
       "</style>\n",
       "<table border=\"1\" class=\"dataframe\">\n",
       "  <thead>\n",
       "    <tr style=\"text-align: right;\">\n",
       "      <th></th>\n",
       "      <th>Overall rank</th>\n",
       "      <th>Country or region</th>\n",
       "      <th>Score</th>\n",
       "      <th>GDP per capita</th>\n",
       "      <th>Social support</th>\n",
       "      <th>Healthy life expectancy</th>\n",
       "      <th>Freedom to make life choices</th>\n",
       "      <th>Generosity</th>\n",
       "      <th>Perceptions of corruption</th>\n",
       "    </tr>\n",
       "  </thead>\n",
       "  <tbody>\n",
       "    <tr>\n",
       "      <th>133</th>\n",
       "      <td>134</td>\n",
       "      <td>Ethiopia</td>\n",
       "      <td>4.286</td>\n",
       "      <td>0.336</td>\n",
       "      <td>1.033</td>\n",
       "      <td>0.532</td>\n",
       "      <td>0.344</td>\n",
       "      <td>0.209</td>\n",
       "      <td>0.100</td>\n",
       "    </tr>\n",
       "    <tr>\n",
       "      <th>63</th>\n",
       "      <td>64</td>\n",
       "      <td>Northern Cyprus</td>\n",
       "      <td>5.718</td>\n",
       "      <td>1.263</td>\n",
       "      <td>1.252</td>\n",
       "      <td>1.042</td>\n",
       "      <td>0.417</td>\n",
       "      <td>0.191</td>\n",
       "      <td>0.162</td>\n",
       "    </tr>\n",
       "    <tr>\n",
       "      <th>131</th>\n",
       "      <td>132</td>\n",
       "      <td>Chad</td>\n",
       "      <td>4.350</td>\n",
       "      <td>0.350</td>\n",
       "      <td>0.766</td>\n",
       "      <td>0.192</td>\n",
       "      <td>0.174</td>\n",
       "      <td>0.198</td>\n",
       "      <td>0.078</td>\n",
       "    </tr>\n",
       "    <tr>\n",
       "      <th>30</th>\n",
       "      <td>31</td>\n",
       "      <td>Panama</td>\n",
       "      <td>6.321</td>\n",
       "      <td>1.149</td>\n",
       "      <td>1.442</td>\n",
       "      <td>0.910</td>\n",
       "      <td>0.516</td>\n",
       "      <td>0.109</td>\n",
       "      <td>0.054</td>\n",
       "    </tr>\n",
       "    <tr>\n",
       "      <th>138</th>\n",
       "      <td>139</td>\n",
       "      <td>Togo</td>\n",
       "      <td>4.085</td>\n",
       "      <td>0.275</td>\n",
       "      <td>0.572</td>\n",
       "      <td>0.410</td>\n",
       "      <td>0.293</td>\n",
       "      <td>0.177</td>\n",
       "      <td>0.085</td>\n",
       "    </tr>\n",
       "  </tbody>\n",
       "</table>\n",
       "</div>"
      ],
      "text/plain": [
       "     Overall rank Country or region  Score  GDP per capita  Social support  \\\n",
       "133           134          Ethiopia  4.286           0.336           1.033   \n",
       "63             64   Northern Cyprus  5.718           1.263           1.252   \n",
       "131           132              Chad  4.350           0.350           0.766   \n",
       "30             31            Panama  6.321           1.149           1.442   \n",
       "138           139              Togo  4.085           0.275           0.572   \n",
       "\n",
       "     Healthy life expectancy  Freedom to make life choices  Generosity  \\\n",
       "133                    0.532                         0.344       0.209   \n",
       "63                     1.042                         0.417       0.191   \n",
       "131                    0.192                         0.174       0.198   \n",
       "30                     0.910                         0.516       0.109   \n",
       "138                    0.410                         0.293       0.177   \n",
       "\n",
       "     Perceptions of corruption  \n",
       "133                      0.100  \n",
       "63                       0.162  \n",
       "131                      0.078  \n",
       "30                       0.054  \n",
       "138                      0.085  "
      ]
     },
     "execution_count": 63,
     "metadata": {},
     "output_type": "execute_result"
    }
   ],
   "source": [
    "# Memastikan dataset berhasil diload dengan baik, menampilkan 5 baris secara acak dari dataset\n",
    "df_copy.sample(5)"
   ]
  },
  {
   "cell_type": "code",
   "execution_count": 64,
   "metadata": {},
   "outputs": [],
   "source": [
    "# Mengganti nama kolom agar lebih mudah saat pengerjaan coding\n",
    "df_copy.rename(columns = {'Overall rank':'Rank', 'Country or region':'Country', 'GDP per capita': 'GDP', 'Social support': 'Social_support', 'Healthy life expectancy': 'Life_expectancy', 'Freedom to make life choices':'Freedom', 'Perceptions of corruption': 'Corruption'}, inplace = True)"
   ]
  },
  {
   "cell_type": "markdown",
   "metadata": {},
   "source": [
    "# Preview Dataset"
   ]
  },
  {
   "cell_type": "code",
   "execution_count": 9,
   "metadata": {},
   "outputs": [
    {
     "data": {
      "text/plain": [
       "(156, 9)"
      ]
     },
     "execution_count": 9,
     "metadata": {},
     "output_type": "execute_result"
    }
   ],
   "source": [
    "# Memastikan total jumlah baris dan kolom dari dataset\n",
    "df_copy.shape"
   ]
  },
  {
   "cell_type": "markdown",
   "metadata": {},
   "source": [
    "Dataset terdiri ini terdiri dari:\n",
    "\n",
    "- 156 baris\n",
    "- 9 kolom"
   ]
  },
  {
   "cell_type": "code",
   "execution_count": 10,
   "metadata": {},
   "outputs": [
    {
     "name": "stdout",
     "output_type": "stream",
     "text": [
      "<class 'pandas.core.frame.DataFrame'>\n",
      "RangeIndex: 156 entries, 0 to 155\n",
      "Data columns (total 9 columns):\n",
      " #   Column           Non-Null Count  Dtype  \n",
      "---  ------           --------------  -----  \n",
      " 0   Rank             156 non-null    int64  \n",
      " 1   Country          156 non-null    object \n",
      " 2   Score            156 non-null    float64\n",
      " 3   GDP              156 non-null    float64\n",
      " 4   Social_support   156 non-null    float64\n",
      " 5   Life_expectancy  156 non-null    float64\n",
      " 6   Freedom          156 non-null    float64\n",
      " 7   Generosity       156 non-null    float64\n",
      " 8   Corruption       156 non-null    float64\n",
      "dtypes: float64(7), int64(1), object(1)\n",
      "memory usage: 11.1+ KB\n"
     ]
    }
   ],
   "source": [
    "# Memeriksa tipe data\n",
    "df_copy.info()"
   ]
  },
  {
   "cell_type": "code",
   "execution_count": 11,
   "metadata": {},
   "outputs": [
    {
     "data": {
      "text/plain": [
       "Rank               0\n",
       "Country            0\n",
       "Score              0\n",
       "GDP                0\n",
       "Social_support     0\n",
       "Life_expectancy    0\n",
       "Freedom            0\n",
       "Generosity         0\n",
       "Corruption         0\n",
       "dtype: int64"
      ]
     },
     "execution_count": 11,
     "metadata": {},
     "output_type": "execute_result"
    }
   ],
   "source": [
    "# Memastikan kolom yang memiliki entry null\n",
    "df_copy.isnull().sum()"
   ]
  },
  {
   "cell_type": "markdown",
   "metadata": {},
   "source": [
    "Berdasarkan pengamatan singkat, dataset ini:\n",
    "- Terdiri dari 7 kolom bertipe float, 1 kolom bertipe object, dan 1 kolom bertipe integer.\n",
    "- Tidak ditemukan missing value dalam dataset ini."
   ]
  },
  {
   "cell_type": "code",
   "execution_count": 12,
   "metadata": {},
   "outputs": [
    {
     "data": {
      "text/html": [
       "<div>\n",
       "<style scoped>\n",
       "    .dataframe tbody tr th:only-of-type {\n",
       "        vertical-align: middle;\n",
       "    }\n",
       "\n",
       "    .dataframe tbody tr th {\n",
       "        vertical-align: top;\n",
       "    }\n",
       "\n",
       "    .dataframe thead th {\n",
       "        text-align: right;\n",
       "    }\n",
       "</style>\n",
       "<table border=\"1\" class=\"dataframe\">\n",
       "  <thead>\n",
       "    <tr style=\"text-align: right;\">\n",
       "      <th></th>\n",
       "      <th>count</th>\n",
       "      <th>mean</th>\n",
       "      <th>std</th>\n",
       "      <th>min</th>\n",
       "      <th>25%</th>\n",
       "      <th>50%</th>\n",
       "      <th>75%</th>\n",
       "      <th>max</th>\n",
       "    </tr>\n",
       "  </thead>\n",
       "  <tbody>\n",
       "    <tr>\n",
       "      <th>Rank</th>\n",
       "      <td>156.0</td>\n",
       "      <td>78.500000</td>\n",
       "      <td>45.177428</td>\n",
       "      <td>1.000</td>\n",
       "      <td>39.75000</td>\n",
       "      <td>78.5000</td>\n",
       "      <td>117.25000</td>\n",
       "      <td>156.000</td>\n",
       "    </tr>\n",
       "    <tr>\n",
       "      <th>Score</th>\n",
       "      <td>156.0</td>\n",
       "      <td>5.407096</td>\n",
       "      <td>1.113120</td>\n",
       "      <td>2.853</td>\n",
       "      <td>4.54450</td>\n",
       "      <td>5.3795</td>\n",
       "      <td>6.18450</td>\n",
       "      <td>7.769</td>\n",
       "    </tr>\n",
       "    <tr>\n",
       "      <th>GDP</th>\n",
       "      <td>156.0</td>\n",
       "      <td>0.905147</td>\n",
       "      <td>0.398389</td>\n",
       "      <td>0.000</td>\n",
       "      <td>0.60275</td>\n",
       "      <td>0.9600</td>\n",
       "      <td>1.23250</td>\n",
       "      <td>1.684</td>\n",
       "    </tr>\n",
       "    <tr>\n",
       "      <th>Social_support</th>\n",
       "      <td>156.0</td>\n",
       "      <td>1.208814</td>\n",
       "      <td>0.299191</td>\n",
       "      <td>0.000</td>\n",
       "      <td>1.05575</td>\n",
       "      <td>1.2715</td>\n",
       "      <td>1.45250</td>\n",
       "      <td>1.624</td>\n",
       "    </tr>\n",
       "    <tr>\n",
       "      <th>Life_expectancy</th>\n",
       "      <td>156.0</td>\n",
       "      <td>0.725244</td>\n",
       "      <td>0.242124</td>\n",
       "      <td>0.000</td>\n",
       "      <td>0.54775</td>\n",
       "      <td>0.7890</td>\n",
       "      <td>0.88175</td>\n",
       "      <td>1.141</td>\n",
       "    </tr>\n",
       "    <tr>\n",
       "      <th>Freedom</th>\n",
       "      <td>156.0</td>\n",
       "      <td>0.392571</td>\n",
       "      <td>0.143289</td>\n",
       "      <td>0.000</td>\n",
       "      <td>0.30800</td>\n",
       "      <td>0.4170</td>\n",
       "      <td>0.50725</td>\n",
       "      <td>0.631</td>\n",
       "    </tr>\n",
       "    <tr>\n",
       "      <th>Generosity</th>\n",
       "      <td>156.0</td>\n",
       "      <td>0.184846</td>\n",
       "      <td>0.095254</td>\n",
       "      <td>0.000</td>\n",
       "      <td>0.10875</td>\n",
       "      <td>0.1775</td>\n",
       "      <td>0.24825</td>\n",
       "      <td>0.566</td>\n",
       "    </tr>\n",
       "    <tr>\n",
       "      <th>Corruption</th>\n",
       "      <td>156.0</td>\n",
       "      <td>0.110603</td>\n",
       "      <td>0.094538</td>\n",
       "      <td>0.000</td>\n",
       "      <td>0.04700</td>\n",
       "      <td>0.0855</td>\n",
       "      <td>0.14125</td>\n",
       "      <td>0.453</td>\n",
       "    </tr>\n",
       "  </tbody>\n",
       "</table>\n",
       "</div>"
      ],
      "text/plain": [
       "                 count       mean        std    min       25%      50%  \\\n",
       "Rank             156.0  78.500000  45.177428  1.000  39.75000  78.5000   \n",
       "Score            156.0   5.407096   1.113120  2.853   4.54450   5.3795   \n",
       "GDP              156.0   0.905147   0.398389  0.000   0.60275   0.9600   \n",
       "Social_support   156.0   1.208814   0.299191  0.000   1.05575   1.2715   \n",
       "Life_expectancy  156.0   0.725244   0.242124  0.000   0.54775   0.7890   \n",
       "Freedom          156.0   0.392571   0.143289  0.000   0.30800   0.4170   \n",
       "Generosity       156.0   0.184846   0.095254  0.000   0.10875   0.1775   \n",
       "Corruption       156.0   0.110603   0.094538  0.000   0.04700   0.0855   \n",
       "\n",
       "                       75%      max  \n",
       "Rank             117.25000  156.000  \n",
       "Score              6.18450    7.769  \n",
       "GDP                1.23250    1.684  \n",
       "Social_support     1.45250    1.624  \n",
       "Life_expectancy    0.88175    1.141  \n",
       "Freedom            0.50725    0.631  \n",
       "Generosity         0.24825    0.566  \n",
       "Corruption         0.14125    0.453  "
      ]
     },
     "execution_count": 12,
     "metadata": {},
     "output_type": "execute_result"
    }
   ],
   "source": [
    "df_copy.describe().T"
   ]
  },
  {
   "cell_type": "markdown",
   "metadata": {},
   "source": [
    "Berdasarkan pengamatan singkat, tidak terdapat entry dengan value anomali dalam dataset ini."
   ]
  },
  {
   "cell_type": "markdown",
   "metadata": {},
   "source": [
    "# Exploratory Data Analysis (EDA)"
   ]
  },
  {
   "cell_type": "code",
   "execution_count": 129,
   "metadata": {},
   "outputs": [
    {
     "data": {
      "image/png": "[encoded data removed]",
      "text/plain": [
       "<Figure size 1440x360 with 2 Axes>"
      ]
     },
     "metadata": {},
     "output_type": "display_data"
    }
   ],
   "source": [
    "plt.figure(figsize = (20,5))\n",
    "plt.subplot (1,2,1)\n",
    "ax = sns.barplot(x='Score', y='Country', data=df_copy.head(10), palette=None)\n",
    "plt.title(\"The 10 Happiest Countries in the World\", fontsize = 16, pad=10)\n",
    "ax.set_xlabel(\"Score\", fontsize=14, labelpad=5)\n",
    "ax.set_ylabel(\"\")\n",
    "ax.tick_params(labelsize=12)\n",
    "plt.subplot(1,2,2)\n",
    "ax = sns.barplot(x='Score', y='Country', data=df_copy.tail(10), palette='gray')\n",
    "plt.title(\"The 10 Saddest Countries in the World\", fontsize = 16, pad=10)\n",
    "ax.set_xlabel(\"Score\", fontsize=14, labelpad=5)\n",
    "ax.set_ylabel(\"\")\n",
    "ax.tick_params(labelsize=12)\n",
    "plt.show()"
   ]
  },
  {
   "cell_type": "markdown",
   "metadata": {},
   "source": [
    "Finlandia telah menempati urutan pertama sebagai negara paling bahagia di dunia selama 5 tahun terakhir. Namun bagaimana dengan negara-negara lain yang masuk dalam top 10? ternyata top 10 negara-negara paling bahagia di dunia seluruhnya berada di Eropa Barat, Skandinavia, atau Amerika Utara. Sebenarnya tidak ada yang mengejutkan dari negara-negara yang masuk dalam top 10 ini. Negara-negara tersebut merupakan negara yang sudah maju, memiliki pemerintahan berjalan dengan baik, dan memiliki fasilitas publik yang baik. Faktor-faktor ini tentunya memengaruhi tingkat kebahagiaan dari penduduknya. \n",
    "\n",
    "Sedangkan top 10 negara yang paling tidak bahagia di dunia ditempati oleh negara-negara yang berada di Timur Tengah dan Afrika. Seluruh negara yang ada dalam list ini sedang mengalami permasalahan yang kompleks. Syria, South Sudan, Afghanistan, dan Yemen misalnya sedang dilanda konflik atau perang yang berkepanjangan. Sedangkan negara-negara lain dalam list ini ada yang masuk dalam ketegori failed states atau memiliki tingkat kemiskinan yang sangat tinggi. "
   ]
  },
  {
   "cell_type": "code",
   "execution_count": 148,
   "metadata": {},
   "outputs": [
    {
     "data": {
      "image/png": "[encoded data removed]",
      "text/plain": [
       "<Figure size 1440x360 with 3 Axes>"
      ]
     },
     "metadata": {},
     "output_type": "display_data"
    }
   ],
   "source": [
    "plt.figure(figsize=(20,5))\n",
    "plt.subplot(1,3,1)\n",
    "sns.scatterplot(x='GDP', y='Score', data=df_copy, palette=None)\n",
    "plt.title('Higher GDP per Capita, More Happiness?')\n",
    "top10_GDP = df_copy.sort_values(by='GDP', ascending=False)\n",
    "plt.subplot(1,3,2)\n",
    "ax = sns.barplot(x='GDP', y='Country', data=top10_GDP.head(10), palette='husl')\n",
    "plt.title(\"Top 10 GDP per Capita\", fontsize = 16, pad=10)\n",
    "ax.set_xlabel(\"GDP per capita\", fontsize=14, labelpad=5)\n",
    "ax.set_ylabel(\"\")\n",
    "ax.tick_params(labelsize=12)\n",
    "low10_GDP = df_copy.sort_values(by='GDP', ascending=False)\n",
    "plt.subplot(1,3,3)\n",
    "ax = sns.barplot(x='GDP', y='Country', data=low10_GDP.tail(10), palette='gray')\n",
    "plt.title(\"Top 10 Lowest GDP per Capita\", fontsize = 16, pad=10)\n",
    "ax.set_xlabel(\"GDP per capita\", fontsize=14, labelpad=5)\n",
    "ax.set_ylabel(\"\")\n",
    "ax.tick_params(labelsize=12)\n",
    "plt.show()\n"
   ]
  },
  {
   "cell_type": "markdown",
   "metadata": {},
   "source": [
    "Berdasarkan scatter plot yang terbentuk, ternyata 'Score' dan 'GDP' berkorelasi positif. Artinya, secara umum dapat disimpulkan bahwa semakin makmur sebuah negara, maka penduduknya akan cenderung lebih bahagia. Namun hal ini tentunya tidak dapat dijadikan satu-satunya patokan. Misalnya adalam kasus ini, Qatar merupakan negara dengan top 10 GDP per Capita tertinggi di dunia. Tetapi Qatar tidak masuk dalam top 10 negara yang paling bahagia. Faktor-faktor lain seperti 'Life_expectancy' atau 'Freedom' tentunya akan memiliki pengaruh juga. "
   ]
  },
  {
   "cell_type": "code",
   "execution_count": 149,
   "metadata": {},
   "outputs": [
    {
     "data": {
      "image/png": "[encoded data removed]",
      "text/plain": [
       "<Figure size 1440x360 with 3 Axes>"
      ]
     },
     "metadata": {},
     "output_type": "display_data"
    }
   ],
   "source": [
    "plt.figure(figsize=(20,5))\n",
    "plt.subplot(1,3,1)\n",
    "sns.scatterplot(x='Social_support', y='Score', data=df_copy, palette=None)\n",
    "plt.title('Connection Between Social Support and Happiness')\n",
    "top10_SS = df_copy.sort_values(by='Social_support', ascending=False)\n",
    "plt.subplot(1,3,2)\n",
    "ax = sns.barplot(x='Social_support', y='Country', data=top10_SS.head(10), palette='husl')\n",
    "plt.title(\"Top 10 Most Supportive Countries\", fontsize = 16, pad=10)\n",
    "ax.set_xlabel(\"Social Support\", fontsize=14, labelpad=5)\n",
    "ax.set_ylabel(\"\")\n",
    "ax.tick_params(labelsize=12)\n",
    "low10_SS = df_copy.sort_values(by='Social_support', ascending=False)\n",
    "plt.subplot(1,3,3)\n",
    "ax = sns.barplot(x='Social_support', y='Country', data=top10_SS.tail(10), palette='gray')\n",
    "plt.title(\"Top 10 Unsupportive Countries\", fontsize = 16, pad=10)\n",
    "ax.set_xlabel(\"Social Support\", fontsize=14, labelpad=5)\n",
    "ax.set_ylabel(\"\")\n",
    "ax.tick_params(labelsize=12)\n",
    "plt.show()"
   ]
  },
  {
   "cell_type": "markdown",
   "metadata": {},
   "source": [
    "Berdasarkan scatter plot yang terbentuk, dapat kita lihat bahwa adanya social support ternyata berkorelasi positif dengan tingkat kebahagiaan. Hal ini sepertinya mengkonfirmasi kodrat manusia sebagai makhluk sosial. Namun ada hal yang menarik dari top 10 tertinggi dan terendah dari kategori ini. Disini terlihat bahwa top 10 tertinggi ditempati oleh negara-negara maju yang makmur, sedangkan top 10 terendah ditempati oleh negara-negara yang dilanda konflik atau sangat miskin. Hal ini seperti memunculkan argumen bahwa seseorang harus makmur terlebih dahulu sebelum menolong atau peduli terhadap sesama. Sedangkan jika dalam keadaan sulit atau tidak menguntungkan, yang berlaku adalah prinsip survival of the fittest."
   ]
  },
  {
   "cell_type": "code",
   "execution_count": 150,
   "metadata": {},
   "outputs": [
    {
     "data": {
      "image/png": "[encoded data removed]",
      "text/plain": [
       "<Figure size 1440x360 with 3 Axes>"
      ]
     },
     "metadata": {},
     "output_type": "display_data"
    }
   ],
   "source": [
    "plt.figure(figsize=(20,5))\n",
    "plt.subplot(1,3,1)\n",
    "sns.scatterplot(x='Life_expectancy', y='Score', data=df_copy, palette=None)\n",
    "plt.title('Do Happy People Live a Longer life?')\n",
    "top10_LE = df_copy.sort_values(by='Life_expectancy', ascending=False)\n",
    "plt.subplot(1,3,2)\n",
    "ax = sns.barplot(x='Life_expectancy', y='Country', data=top10_LE.head(10), palette='husl')\n",
    "plt.title(\"Top 10 Countries with Highest Life Expectancy\", fontsize = 16, pad=10)\n",
    "ax.set_xlabel(\"Life Expectancy\", fontsize=14, labelpad=5)\n",
    "ax.set_ylabel(\"\")\n",
    "ax.tick_params(labelsize=12)\n",
    "low10_LE = df_copy.sort_values(by='Life_expectancy', ascending=False)\n",
    "plt.subplot(1,3,3)\n",
    "ax = sns.barplot(x='Life_expectancy', y='Country', data=low10_LE.tail(10), palette='gray')\n",
    "plt.title(\"Top 10 Countries with Lowest Life Expectancy\", fontsize = 16, pad=10)\n",
    "ax.set_xlabel(\"Life Expectancy\", fontsize=14, labelpad=5)\n",
    "ax.set_ylabel(\"\")\n",
    "ax.tick_params(labelsize=12)\n",
    "plt.show()"
   ]
  },
  {
   "cell_type": "markdown",
   "metadata": {},
   "source": [
    "Dari scatter plot diatas, secara umum kita dapat menyimpulkan bahwa 'Life_expectancy' berkorelasi positif dengan 'Score' artinya jika seseorang hidup bahagia, maka angka harapan hidupnya cenderung meningkat. Namun demikian, sama halnya dengan 'GDP', 'Life_expectancy' semata tidak dapat dijadikan satu-satunya faktor. Dari bar plot diatas terlihat bahwa Singapore dan Hong Kong merupakan negara-negara dengan angka harapan hidup tertinggi. Namun apakah Singapore dan Hong Kong merupakan negara paling bahagia? Ternyata tidak, Singapore bahkan hanya menempati urutan ke-34, sedangkan Hong Kong ada di urutan ke-76. Seperti yang kita ketahui, kedua negara tersebut merupakan negara yang kecil dan masyarakatnya sangat kompetitif. Hal ini tentunya berkaitan langsung dengan tingkat kebahagiaan penduduknya."
   ]
  },
  {
   "cell_type": "code",
   "execution_count": 297,
   "metadata": {},
   "outputs": [
    {
     "data": {
      "image/png": "[encoded data removed]",
      "text/plain": [
       "<Figure size 1440x360 with 3 Axes>"
      ]
     },
     "metadata": {},
     "output_type": "display_data"
    }
   ],
   "source": [
    "plt.figure(figsize=(20,5))\n",
    "plt.subplot(1,3,1)\n",
    "sns.scatterplot(x='Freedom', y='Score', data=df_copy, palette=None)\n",
    "plt.title('Does Freedom Lead to Happiness?')\n",
    "top10_FR = df_copy.sort_values(by='Freedom', ascending=False)\n",
    "plt.subplot(1,3,2)\n",
    "ax = sns.barplot(x='Freedom', y='Country', data=top10_FR.head(10), palette='husl')\n",
    "plt.title(\"Top 10 Countries Freest Countries in the World\", fontsize = 16, pad=10)\n",
    "ax.set_xlabel(\"Freedom\", fontsize=14, labelpad=5)\n",
    "ax.set_ylabel(\"\")\n",
    "ax.tick_params(labelsize=12)\n",
    "low10_FR = df_copy.sort_values(by='Freedom', ascending=False)\n",
    "plt.subplot(1,3,3)\n",
    "ax = sns.barplot(x='Freedom', y='Country', data=low10_FR.tail(10), palette='gray')\n",
    "plt.title(\"Top 10 Countries Least Free Countries in the World\", fontsize = 16, pad=10)\n",
    "ax.set_xlabel(\"Freedom\", fontsize=14, labelpad=5)\n",
    "ax.set_ylabel(\"\")\n",
    "ax.tick_params(labelsize=12)\n",
    "plt.show()"
   ]
  },
  {
   "cell_type": "markdown",
   "metadata": {},
   "source": [
    "Secara umum, kebebasan untuk mengkespresikan diri dan menyatakan pendapat di muka publik berkorelasi positif dengan tingkat kebahagiaan penduduk. Disini yang cukup menarik adalah negara yang menempati urutan tertinggi disini adalah Uzbekistan. Sebuah negara pecahan Soviet yang namanya jarang kita dengar dan masih tergolong negara berkembang. Lebih mengejutkannya lagi, secara keseluruhan urutan yang diduduki oleh Uzbekistan cukup tinggi, yakni peringkat ke-41."
   ]
  },
  {
   "cell_type": "code",
   "execution_count": 162,
   "metadata": {},
   "outputs": [
    {
     "data": {
      "image/png": "[encoded data removed]",
      "text/plain": [
       "<Figure size 1440x360 with 3 Axes>"
      ]
     },
     "metadata": {},
     "output_type": "display_data"
    }
   ],
   "source": [
    "plt.figure(figsize=(20,5))\n",
    "plt.subplot(1,3,1)\n",
    "sns.scatterplot(x='Generosity', y='Score', data=df_copy, palette=None)\n",
    "plt.title('Does Giving Make You Happier?')\n",
    "top10_GR = df_copy.sort_values(by='Generosity', ascending=False)\n",
    "plt.subplot(1,3,2)\n",
    "ax = sns.barplot(x='Generosity', y='Country', data=top10_GR.head(10), palette='husl')\n",
    "plt.title(\"Top 10 Most Generous Countries\", fontsize = 16, pad=10)\n",
    "ax.set_xlabel(\"Generosity\", fontsize=14, labelpad=5)\n",
    "ax.set_ylabel(\"\")\n",
    "ax.tick_params(labelsize=12)\n",
    "low10_GR = df_copy.sort_values(by='Generosity', ascending=False)\n",
    "plt.subplot(1,3,3)\n",
    "ax = sns.barplot(x='Generosity', y='Country', data=low10_GR.tail(10), palette='gray')\n",
    "plt.title(\"Top 10 Least Generous Countries\", fontsize = 16, pad=10)\n",
    "ax.set_xlabel(\"Generosity\", fontsize=14, labelpad=5)\n",
    "ax.set_ylabel(\"\")\n",
    "ax.tick_params(labelsize=12)\n",
    "plt.show()"
   ]
  },
  {
   "cell_type": "markdown",
   "metadata": {},
   "source": [
    "Scatter plot yang terbentuk kurang bisa menggambarkan hubungan antara 'Generosity' dengan 'Score', namun demikian, yang paling menarik dari hasil penelusuran data disini tentunya adalah Indonesia yang menduduki peringkat atas dalam hal 'Generosity', selama ini orang Indonesia selalu dikenal sebagai orang-orang yang ramah dan tidak ragu untuk menolong orang lain. Tetapi yang tidak disangka adalah hal ini ternyata bukan sebuah ungkapan belaka, namun memiliki bukti tertulis dalam laporan sekredibel World Happiness Report. Menarik untuk dicari tahu lebih lanjut faktor apakah yang membuat orang Indonesia suka menolong orang lain. Mungkinkah hal ini berkaitan dengan nilai yang ditanamkan sejak dini seperti semangat untuk gotong royong? "
   ]
  },
  {
   "cell_type": "code",
   "execution_count": 161,
   "metadata": {},
   "outputs": [
    {
     "data": {
      "image/png": "[encoded data removed]",
      "text/plain": [
       "<Figure size 1440x360 with 3 Axes>"
      ]
     },
     "metadata": {},
     "output_type": "display_data"
    }
   ],
   "source": [
    "plt.figure(figsize=(20,5))\n",
    "plt.subplot(1,3,1)\n",
    "sns.scatterplot(x='Corruption', y='Score', data=df_copy, palette=None)\n",
    "plt.title('Does Corruption Affect Happiness?')\n",
    "top10_CR = df_copy.sort_values(by='Corruption', ascending=False)\n",
    "plt.subplot(1,3,2)\n",
    "ax = sns.barplot(x='Corruption', y='Country', data=top10_CR.head(10), palette='husl')\n",
    "plt.title(\"Top 10 Least Corrupt Countries\", fontsize = 16, pad=10)\n",
    "ax.set_xlabel(\"Corruption\", fontsize=14, labelpad=5)\n",
    "ax.set_ylabel(\"\")\n",
    "ax.tick_params(labelsize=12)\n",
    "low10_CR= df_copy.sort_values(by='Corruption', ascending=False)\n",
    "plt.subplot(1,3,3)\n",
    "ax = sns.barplot(x='Corruption', y='Country', data=low10_CR.tail(10), palette='gray')\n",
    "plt.title(\"Top 10 Most Corrupt Countries\", fontsize = 16, pad=10)\n",
    "ax.set_xlabel(\"Corruption\", fontsize=14, labelpad=5)\n",
    "ax.set_ylabel(\"\")\n",
    "ax.tick_params(labelsize=12)\n",
    "plt.show()"
   ]
  },
  {
   "cell_type": "markdown",
   "metadata": {},
   "source": [
    "Scatter plot disini tidak terlalu bisa menggambarkan hubungan antara 'Corruption' dengan 'Score', disini negara-negara yang paling tidak korup ditempati oleh negara-negara yang cukup familiar. Kita juga sudah sering mendengar bahwa Singapore merupakan negara dengan pemerintahan yang paling bersih di dunia. Yang menarik adalah Rwanda, dimana negara ini menduduki pertingkat kedua setelah Singapore, namun disaat yang bersamaan juga termasuk dalam top 10 negara yang paling tidak bahagia di dunia. Cukup menarik untuk mencari tahu apa yang terjadi di negara Rwanda. Karena jika mendengar kata Rwanda, kemungkinan hal pertama yang terlintas dalam pikiran kita adalah peristiwa Rwandan Genocide pada tahun 1994. "
   ]
  },
  {
   "cell_type": "markdown",
   "metadata": {},
   "source": [
    "# Data Preprocessing"
   ]
  },
  {
   "cell_type": "code",
   "execution_count": 13,
   "metadata": {},
   "outputs": [
    {
     "data": {
      "text/html": [
       "<div>\n",
       "<style scoped>\n",
       "    .dataframe tbody tr th:only-of-type {\n",
       "        vertical-align: middle;\n",
       "    }\n",
       "\n",
       "    .dataframe tbody tr th {\n",
       "        vertical-align: top;\n",
       "    }\n",
       "\n",
       "    .dataframe thead th {\n",
       "        text-align: right;\n",
       "    }\n",
       "</style>\n",
       "<table border=\"1\" class=\"dataframe\">\n",
       "  <thead>\n",
       "    <tr style=\"text-align: right;\">\n",
       "      <th></th>\n",
       "      <th>Rank</th>\n",
       "      <th>Country</th>\n",
       "      <th>Score</th>\n",
       "      <th>GDP</th>\n",
       "      <th>Social_support</th>\n",
       "      <th>Life_expectancy</th>\n",
       "      <th>Freedom</th>\n",
       "      <th>Generosity</th>\n",
       "      <th>Corruption</th>\n",
       "    </tr>\n",
       "  </thead>\n",
       "  <tbody>\n",
       "    <tr>\n",
       "      <th>16</th>\n",
       "      <td>17</td>\n",
       "      <td>Germany</td>\n",
       "      <td>6.985</td>\n",
       "      <td>1.373</td>\n",
       "      <td>1.454</td>\n",
       "      <td>0.987</td>\n",
       "      <td>0.495</td>\n",
       "      <td>0.261</td>\n",
       "      <td>0.265</td>\n",
       "    </tr>\n",
       "    <tr>\n",
       "      <th>81</th>\n",
       "      <td>82</td>\n",
       "      <td>Greece</td>\n",
       "      <td>5.287</td>\n",
       "      <td>1.181</td>\n",
       "      <td>1.156</td>\n",
       "      <td>0.999</td>\n",
       "      <td>0.067</td>\n",
       "      <td>0.000</td>\n",
       "      <td>0.034</td>\n",
       "    </tr>\n",
       "    <tr>\n",
       "      <th>152</th>\n",
       "      <td>153</td>\n",
       "      <td>Tanzania</td>\n",
       "      <td>3.231</td>\n",
       "      <td>0.476</td>\n",
       "      <td>0.885</td>\n",
       "      <td>0.499</td>\n",
       "      <td>0.417</td>\n",
       "      <td>0.276</td>\n",
       "      <td>0.147</td>\n",
       "    </tr>\n",
       "    <tr>\n",
       "      <th>53</th>\n",
       "      <td>54</td>\n",
       "      <td>South Korea</td>\n",
       "      <td>5.895</td>\n",
       "      <td>1.301</td>\n",
       "      <td>1.219</td>\n",
       "      <td>1.036</td>\n",
       "      <td>0.159</td>\n",
       "      <td>0.175</td>\n",
       "      <td>0.056</td>\n",
       "    </tr>\n",
       "    <tr>\n",
       "      <th>55</th>\n",
       "      <td>56</td>\n",
       "      <td>Jamaica</td>\n",
       "      <td>5.890</td>\n",
       "      <td>0.831</td>\n",
       "      <td>1.478</td>\n",
       "      <td>0.831</td>\n",
       "      <td>0.490</td>\n",
       "      <td>0.107</td>\n",
       "      <td>0.028</td>\n",
       "    </tr>\n",
       "    <tr>\n",
       "      <th>77</th>\n",
       "      <td>78</td>\n",
       "      <td>Bosnia and Herzegovina</td>\n",
       "      <td>5.386</td>\n",
       "      <td>0.945</td>\n",
       "      <td>1.212</td>\n",
       "      <td>0.845</td>\n",
       "      <td>0.212</td>\n",
       "      <td>0.263</td>\n",
       "      <td>0.006</td>\n",
       "    </tr>\n",
       "    <tr>\n",
       "      <th>127</th>\n",
       "      <td>128</td>\n",
       "      <td>Mali</td>\n",
       "      <td>4.390</td>\n",
       "      <td>0.385</td>\n",
       "      <td>1.105</td>\n",
       "      <td>0.308</td>\n",
       "      <td>0.327</td>\n",
       "      <td>0.153</td>\n",
       "      <td>0.052</td>\n",
       "    </tr>\n",
       "    <tr>\n",
       "      <th>97</th>\n",
       "      <td>98</td>\n",
       "      <td>Ghana</td>\n",
       "      <td>4.996</td>\n",
       "      <td>0.611</td>\n",
       "      <td>0.868</td>\n",
       "      <td>0.486</td>\n",
       "      <td>0.381</td>\n",
       "      <td>0.245</td>\n",
       "      <td>0.040</td>\n",
       "    </tr>\n",
       "    <tr>\n",
       "      <th>104</th>\n",
       "      <td>105</td>\n",
       "      <td>Laos</td>\n",
       "      <td>4.796</td>\n",
       "      <td>0.764</td>\n",
       "      <td>1.030</td>\n",
       "      <td>0.551</td>\n",
       "      <td>0.547</td>\n",
       "      <td>0.266</td>\n",
       "      <td>0.164</td>\n",
       "    </tr>\n",
       "    <tr>\n",
       "      <th>113</th>\n",
       "      <td>114</td>\n",
       "      <td>Niger</td>\n",
       "      <td>4.628</td>\n",
       "      <td>0.138</td>\n",
       "      <td>0.774</td>\n",
       "      <td>0.366</td>\n",
       "      <td>0.318</td>\n",
       "      <td>0.188</td>\n",
       "      <td>0.102</td>\n",
       "    </tr>\n",
       "  </tbody>\n",
       "</table>\n",
       "</div>"
      ],
      "text/plain": [
       "     Rank                 Country  Score    GDP  Social_support  \\\n",
       "16     17                 Germany  6.985  1.373           1.454   \n",
       "81     82                  Greece  5.287  1.181           1.156   \n",
       "152   153                Tanzania  3.231  0.476           0.885   \n",
       "53     54             South Korea  5.895  1.301           1.219   \n",
       "55     56                 Jamaica  5.890  0.831           1.478   \n",
       "77     78  Bosnia and Herzegovina  5.386  0.945           1.212   \n",
       "127   128                    Mali  4.390  0.385           1.105   \n",
       "97     98                   Ghana  4.996  0.611           0.868   \n",
       "104   105                    Laos  4.796  0.764           1.030   \n",
       "113   114                   Niger  4.628  0.138           0.774   \n",
       "\n",
       "     Life_expectancy  Freedom  Generosity  Corruption  \n",
       "16             0.987    0.495       0.261       0.265  \n",
       "81             0.999    0.067       0.000       0.034  \n",
       "152            0.499    0.417       0.276       0.147  \n",
       "53             1.036    0.159       0.175       0.056  \n",
       "55             0.831    0.490       0.107       0.028  \n",
       "77             0.845    0.212       0.263       0.006  \n",
       "127            0.308    0.327       0.153       0.052  \n",
       "97             0.486    0.381       0.245       0.040  \n",
       "104            0.551    0.547       0.266       0.164  \n",
       "113            0.366    0.318       0.188       0.102  "
      ]
     },
     "execution_count": 13,
     "metadata": {},
     "output_type": "execute_result"
    }
   ],
   "source": [
    "# Membuat dataframe inference, mengambil 10 entry yang nantinya digunakan untuk menguji model yang dibuat\n",
    "df_inf = df_copy.sample(10, random_state=17)\n",
    "df_inf"
   ]
  },
  {
   "cell_type": "code",
   "execution_count": 14,
   "metadata": {},
   "outputs": [
    {
     "data": {
      "text/html": [
       "<div>\n",
       "<style scoped>\n",
       "    .dataframe tbody tr th:only-of-type {\n",
       "        vertical-align: middle;\n",
       "    }\n",
       "\n",
       "    .dataframe tbody tr th {\n",
       "        vertical-align: top;\n",
       "    }\n",
       "\n",
       "    .dataframe thead th {\n",
       "        text-align: right;\n",
       "    }\n",
       "</style>\n",
       "<table border=\"1\" class=\"dataframe\">\n",
       "  <thead>\n",
       "    <tr style=\"text-align: right;\">\n",
       "      <th></th>\n",
       "      <th>Rank</th>\n",
       "      <th>Country</th>\n",
       "      <th>Score</th>\n",
       "      <th>GDP</th>\n",
       "      <th>Social_support</th>\n",
       "      <th>Life_expectancy</th>\n",
       "      <th>Freedom</th>\n",
       "      <th>Generosity</th>\n",
       "      <th>Corruption</th>\n",
       "    </tr>\n",
       "  </thead>\n",
       "  <tbody>\n",
       "    <tr>\n",
       "      <th>0</th>\n",
       "      <td>1</td>\n",
       "      <td>Finland</td>\n",
       "      <td>7.769</td>\n",
       "      <td>1.340</td>\n",
       "      <td>1.587</td>\n",
       "      <td>0.986</td>\n",
       "      <td>0.596</td>\n",
       "      <td>0.153</td>\n",
       "      <td>0.393</td>\n",
       "    </tr>\n",
       "    <tr>\n",
       "      <th>1</th>\n",
       "      <td>2</td>\n",
       "      <td>Denmark</td>\n",
       "      <td>7.600</td>\n",
       "      <td>1.383</td>\n",
       "      <td>1.573</td>\n",
       "      <td>0.996</td>\n",
       "      <td>0.592</td>\n",
       "      <td>0.252</td>\n",
       "      <td>0.410</td>\n",
       "    </tr>\n",
       "    <tr>\n",
       "      <th>2</th>\n",
       "      <td>3</td>\n",
       "      <td>Norway</td>\n",
       "      <td>7.554</td>\n",
       "      <td>1.488</td>\n",
       "      <td>1.582</td>\n",
       "      <td>1.028</td>\n",
       "      <td>0.603</td>\n",
       "      <td>0.271</td>\n",
       "      <td>0.341</td>\n",
       "    </tr>\n",
       "    <tr>\n",
       "      <th>3</th>\n",
       "      <td>4</td>\n",
       "      <td>Iceland</td>\n",
       "      <td>7.494</td>\n",
       "      <td>1.380</td>\n",
       "      <td>1.624</td>\n",
       "      <td>1.026</td>\n",
       "      <td>0.591</td>\n",
       "      <td>0.354</td>\n",
       "      <td>0.118</td>\n",
       "    </tr>\n",
       "    <tr>\n",
       "      <th>4</th>\n",
       "      <td>5</td>\n",
       "      <td>Netherlands</td>\n",
       "      <td>7.488</td>\n",
       "      <td>1.396</td>\n",
       "      <td>1.522</td>\n",
       "      <td>0.999</td>\n",
       "      <td>0.557</td>\n",
       "      <td>0.322</td>\n",
       "      <td>0.298</td>\n",
       "    </tr>\n",
       "    <tr>\n",
       "      <th>...</th>\n",
       "      <td>...</td>\n",
       "      <td>...</td>\n",
       "      <td>...</td>\n",
       "      <td>...</td>\n",
       "      <td>...</td>\n",
       "      <td>...</td>\n",
       "      <td>...</td>\n",
       "      <td>...</td>\n",
       "      <td>...</td>\n",
       "    </tr>\n",
       "    <tr>\n",
       "      <th>150</th>\n",
       "      <td>151</td>\n",
       "      <td>Yemen</td>\n",
       "      <td>3.380</td>\n",
       "      <td>0.287</td>\n",
       "      <td>1.163</td>\n",
       "      <td>0.463</td>\n",
       "      <td>0.143</td>\n",
       "      <td>0.108</td>\n",
       "      <td>0.077</td>\n",
       "    </tr>\n",
       "    <tr>\n",
       "      <th>151</th>\n",
       "      <td>152</td>\n",
       "      <td>Rwanda</td>\n",
       "      <td>3.334</td>\n",
       "      <td>0.359</td>\n",
       "      <td>0.711</td>\n",
       "      <td>0.614</td>\n",
       "      <td>0.555</td>\n",
       "      <td>0.217</td>\n",
       "      <td>0.411</td>\n",
       "    </tr>\n",
       "    <tr>\n",
       "      <th>153</th>\n",
       "      <td>154</td>\n",
       "      <td>Afghanistan</td>\n",
       "      <td>3.203</td>\n",
       "      <td>0.350</td>\n",
       "      <td>0.517</td>\n",
       "      <td>0.361</td>\n",
       "      <td>0.000</td>\n",
       "      <td>0.158</td>\n",
       "      <td>0.025</td>\n",
       "    </tr>\n",
       "    <tr>\n",
       "      <th>154</th>\n",
       "      <td>155</td>\n",
       "      <td>Central African Republic</td>\n",
       "      <td>3.083</td>\n",
       "      <td>0.026</td>\n",
       "      <td>0.000</td>\n",
       "      <td>0.105</td>\n",
       "      <td>0.225</td>\n",
       "      <td>0.235</td>\n",
       "      <td>0.035</td>\n",
       "    </tr>\n",
       "    <tr>\n",
       "      <th>155</th>\n",
       "      <td>156</td>\n",
       "      <td>South Sudan</td>\n",
       "      <td>2.853</td>\n",
       "      <td>0.306</td>\n",
       "      <td>0.575</td>\n",
       "      <td>0.295</td>\n",
       "      <td>0.010</td>\n",
       "      <td>0.202</td>\n",
       "      <td>0.091</td>\n",
       "    </tr>\n",
       "  </tbody>\n",
       "</table>\n",
       "<p>146 rows × 9 columns</p>\n",
       "</div>"
      ],
      "text/plain": [
       "     Rank                   Country  Score    GDP  Social_support  \\\n",
       "0       1                   Finland  7.769  1.340           1.587   \n",
       "1       2                   Denmark  7.600  1.383           1.573   \n",
       "2       3                    Norway  7.554  1.488           1.582   \n",
       "3       4                   Iceland  7.494  1.380           1.624   \n",
       "4       5               Netherlands  7.488  1.396           1.522   \n",
       "..    ...                       ...    ...    ...             ...   \n",
       "150   151                     Yemen  3.380  0.287           1.163   \n",
       "151   152                    Rwanda  3.334  0.359           0.711   \n",
       "153   154               Afghanistan  3.203  0.350           0.517   \n",
       "154   155  Central African Republic  3.083  0.026           0.000   \n",
       "155   156               South Sudan  2.853  0.306           0.575   \n",
       "\n",
       "     Life_expectancy  Freedom  Generosity  Corruption  \n",
       "0              0.986    0.596       0.153       0.393  \n",
       "1              0.996    0.592       0.252       0.410  \n",
       "2              1.028    0.603       0.271       0.341  \n",
       "3              1.026    0.591       0.354       0.118  \n",
       "4              0.999    0.557       0.322       0.298  \n",
       "..               ...      ...         ...         ...  \n",
       "150            0.463    0.143       0.108       0.077  \n",
       "151            0.614    0.555       0.217       0.411  \n",
       "153            0.361    0.000       0.158       0.025  \n",
       "154            0.105    0.225       0.235       0.035  \n",
       "155            0.295    0.010       0.202       0.091  \n",
       "\n",
       "[146 rows x 9 columns]"
      ]
     },
     "execution_count": 14,
     "metadata": {},
     "output_type": "execute_result"
    }
   ],
   "source": [
    "# Mendrop data yang telah dipilih menjadi inference dari dataset\n",
    "df_train = df_copy.drop(df_inf.index)\n",
    "df_train"
   ]
  },
  {
   "cell_type": "code",
   "execution_count": 15,
   "metadata": {},
   "outputs": [],
   "source": [
    "# Mereset index agar tidak terjadi kesalahan yang disebabkan oleh index yang belum direset\n",
    "df_train.reset_index(drop=True, inplace=True)\n",
    "df_inf.reset_index(drop=True, inplace=True)"
   ]
  },
  {
   "cell_type": "markdown",
   "metadata": {},
   "source": [
    "# Membagi Dataset Menjadi X (feature) dan y (target)"
   ]
  },
  {
   "cell_type": "code",
   "execution_count": 16,
   "metadata": {},
   "outputs": [
    {
     "data": {
      "text/html": [
       "<div>\n",
       "<style scoped>\n",
       "    .dataframe tbody tr th:only-of-type {\n",
       "        vertical-align: middle;\n",
       "    }\n",
       "\n",
       "    .dataframe tbody tr th {\n",
       "        vertical-align: top;\n",
       "    }\n",
       "\n",
       "    .dataframe thead th {\n",
       "        text-align: right;\n",
       "    }\n",
       "</style>\n",
       "<table border=\"1\" class=\"dataframe\">\n",
       "  <thead>\n",
       "    <tr style=\"text-align: right;\">\n",
       "      <th></th>\n",
       "      <th>Rank</th>\n",
       "      <th>Country</th>\n",
       "      <th>GDP</th>\n",
       "      <th>Social_support</th>\n",
       "      <th>Life_expectancy</th>\n",
       "      <th>Freedom</th>\n",
       "      <th>Generosity</th>\n",
       "      <th>Corruption</th>\n",
       "    </tr>\n",
       "  </thead>\n",
       "  <tbody>\n",
       "    <tr>\n",
       "      <th>0</th>\n",
       "      <td>1</td>\n",
       "      <td>Finland</td>\n",
       "      <td>1.340</td>\n",
       "      <td>1.587</td>\n",
       "      <td>0.986</td>\n",
       "      <td>0.596</td>\n",
       "      <td>0.153</td>\n",
       "      <td>0.393</td>\n",
       "    </tr>\n",
       "    <tr>\n",
       "      <th>1</th>\n",
       "      <td>2</td>\n",
       "      <td>Denmark</td>\n",
       "      <td>1.383</td>\n",
       "      <td>1.573</td>\n",
       "      <td>0.996</td>\n",
       "      <td>0.592</td>\n",
       "      <td>0.252</td>\n",
       "      <td>0.410</td>\n",
       "    </tr>\n",
       "    <tr>\n",
       "      <th>2</th>\n",
       "      <td>3</td>\n",
       "      <td>Norway</td>\n",
       "      <td>1.488</td>\n",
       "      <td>1.582</td>\n",
       "      <td>1.028</td>\n",
       "      <td>0.603</td>\n",
       "      <td>0.271</td>\n",
       "      <td>0.341</td>\n",
       "    </tr>\n",
       "    <tr>\n",
       "      <th>3</th>\n",
       "      <td>4</td>\n",
       "      <td>Iceland</td>\n",
       "      <td>1.380</td>\n",
       "      <td>1.624</td>\n",
       "      <td>1.026</td>\n",
       "      <td>0.591</td>\n",
       "      <td>0.354</td>\n",
       "      <td>0.118</td>\n",
       "    </tr>\n",
       "    <tr>\n",
       "      <th>4</th>\n",
       "      <td>5</td>\n",
       "      <td>Netherlands</td>\n",
       "      <td>1.396</td>\n",
       "      <td>1.522</td>\n",
       "      <td>0.999</td>\n",
       "      <td>0.557</td>\n",
       "      <td>0.322</td>\n",
       "      <td>0.298</td>\n",
       "    </tr>\n",
       "    <tr>\n",
       "      <th>...</th>\n",
       "      <td>...</td>\n",
       "      <td>...</td>\n",
       "      <td>...</td>\n",
       "      <td>...</td>\n",
       "      <td>...</td>\n",
       "      <td>...</td>\n",
       "      <td>...</td>\n",
       "      <td>...</td>\n",
       "    </tr>\n",
       "    <tr>\n",
       "      <th>141</th>\n",
       "      <td>151</td>\n",
       "      <td>Yemen</td>\n",
       "      <td>0.287</td>\n",
       "      <td>1.163</td>\n",
       "      <td>0.463</td>\n",
       "      <td>0.143</td>\n",
       "      <td>0.108</td>\n",
       "      <td>0.077</td>\n",
       "    </tr>\n",
       "    <tr>\n",
       "      <th>142</th>\n",
       "      <td>152</td>\n",
       "      <td>Rwanda</td>\n",
       "      <td>0.359</td>\n",
       "      <td>0.711</td>\n",
       "      <td>0.614</td>\n",
       "      <td>0.555</td>\n",
       "      <td>0.217</td>\n",
       "      <td>0.411</td>\n",
       "    </tr>\n",
       "    <tr>\n",
       "      <th>143</th>\n",
       "      <td>154</td>\n",
       "      <td>Afghanistan</td>\n",
       "      <td>0.350</td>\n",
       "      <td>0.517</td>\n",
       "      <td>0.361</td>\n",
       "      <td>0.000</td>\n",
       "      <td>0.158</td>\n",
       "      <td>0.025</td>\n",
       "    </tr>\n",
       "    <tr>\n",
       "      <th>144</th>\n",
       "      <td>155</td>\n",
       "      <td>Central African Republic</td>\n",
       "      <td>0.026</td>\n",
       "      <td>0.000</td>\n",
       "      <td>0.105</td>\n",
       "      <td>0.225</td>\n",
       "      <td>0.235</td>\n",
       "      <td>0.035</td>\n",
       "    </tr>\n",
       "    <tr>\n",
       "      <th>145</th>\n",
       "      <td>156</td>\n",
       "      <td>South Sudan</td>\n",
       "      <td>0.306</td>\n",
       "      <td>0.575</td>\n",
       "      <td>0.295</td>\n",
       "      <td>0.010</td>\n",
       "      <td>0.202</td>\n",
       "      <td>0.091</td>\n",
       "    </tr>\n",
       "  </tbody>\n",
       "</table>\n",
       "<p>146 rows × 8 columns</p>\n",
       "</div>"
      ],
      "text/plain": [
       "     Rank                   Country    GDP  Social_support  Life_expectancy  \\\n",
       "0       1                   Finland  1.340           1.587            0.986   \n",
       "1       2                   Denmark  1.383           1.573            0.996   \n",
       "2       3                    Norway  1.488           1.582            1.028   \n",
       "3       4                   Iceland  1.380           1.624            1.026   \n",
       "4       5               Netherlands  1.396           1.522            0.999   \n",
       "..    ...                       ...    ...             ...              ...   \n",
       "141   151                     Yemen  0.287           1.163            0.463   \n",
       "142   152                    Rwanda  0.359           0.711            0.614   \n",
       "143   154               Afghanistan  0.350           0.517            0.361   \n",
       "144   155  Central African Republic  0.026           0.000            0.105   \n",
       "145   156               South Sudan  0.306           0.575            0.295   \n",
       "\n",
       "     Freedom  Generosity  Corruption  \n",
       "0      0.596       0.153       0.393  \n",
       "1      0.592       0.252       0.410  \n",
       "2      0.603       0.271       0.341  \n",
       "3      0.591       0.354       0.118  \n",
       "4      0.557       0.322       0.298  \n",
       "..       ...         ...         ...  \n",
       "141    0.143       0.108       0.077  \n",
       "142    0.555       0.217       0.411  \n",
       "143    0.000       0.158       0.025  \n",
       "144    0.225       0.235       0.035  \n",
       "145    0.010       0.202       0.091  \n",
       "\n",
       "[146 rows x 8 columns]"
      ]
     },
     "execution_count": 16,
     "metadata": {},
     "output_type": "execute_result"
    }
   ],
   "source": [
    "# Membagi antara X(feature) dengan y(target)\n",
    "X = df_train.drop('Score', axis=1)\n",
    "y = df_train['Score']\n",
    "X"
   ]
  },
  {
   "cell_type": "code",
   "execution_count": 17,
   "metadata": {},
   "outputs": [
    {
     "name": "stdout",
     "output_type": "stream",
     "text": [
      "Train size: (116, 8)\n",
      "Test size: (30, 8)\n"
     ]
    }
   ],
   "source": [
    "# Membagi antara train dan test set, train set presentasenya adalah 80% dan test set presentasenya adalah 20%\n",
    "X_train, X_test, y_train, y_test = train_test_split(X, y, test_size=0.2, random_state=17)\n",
    "\n",
    "print('Train size:' , X_train.shape)\n",
    "print('Test size:', X_test.shape)"
   ]
  },
  {
   "cell_type": "markdown",
   "metadata": {},
   "source": [
    "# Feature Selection"
   ]
  },
  {
   "cell_type": "code",
   "execution_count": 18,
   "metadata": {},
   "outputs": [
    {
     "data": {
      "text/plain": [
       "<AxesSubplot:>"
      ]
     },
     "execution_count": 18,
     "metadata": {},
     "output_type": "execute_result"
    },
    {
     "data": {
      "image/png": "[encoded data removed]",
      "text/plain": [
       "<Figure size 720x720 with 2 Axes>"
      ]
     },
     "metadata": {
      "needs_background": "light"
     },
     "output_type": "display_data"
    }
   ],
   "source": [
    "# Cek korelasi antara target dengan feature menggunakan heatmap\n",
    "plt.figure(figsize=(10,10))\n",
    "sns.heatmap(df_copy.corr(), annot=True, cmap='RdYlGn')"
   ]
  },
  {
   "cell_type": "markdown",
   "metadata": {},
   "source": [
    "Berdasarkan heatmap diatas, semua kategori numerikal yang dapat dijadikan feature memiliki hubungan dengan kolom target yaitu 'Score' \n",
    "Namun demikian yang dipilih menjadi feature adalah kolom yang dengan nilai korelasi yang tinggi yaitu 'GDP', 'Social_support', 'Life_expectancy', 'Freedom', dan 'Corruption' untuk kolom 'Generosity' tidak dipilih menjadi feature karena nilai korelasinya rendah, selain itu berdasarkan scatter plot di bagian EDA, terlihat bahwa tidak ada korelasi yang kuat antara 'Generosity' dengan 'Score'"
   ]
  },
  {
   "cell_type": "code",
   "execution_count": 173,
   "metadata": {},
   "outputs": [
    {
     "data": {
      "text/html": [
       "<div>\n",
       "<style scoped>\n",
       "    .dataframe tbody tr th:only-of-type {\n",
       "        vertical-align: middle;\n",
       "    }\n",
       "\n",
       "    .dataframe tbody tr th {\n",
       "        vertical-align: top;\n",
       "    }\n",
       "\n",
       "    .dataframe thead th {\n",
       "        text-align: right;\n",
       "    }\n",
       "</style>\n",
       "<table border=\"1\" class=\"dataframe\">\n",
       "  <thead>\n",
       "    <tr style=\"text-align: right;\">\n",
       "      <th></th>\n",
       "      <th>GDP</th>\n",
       "      <th>Social_support</th>\n",
       "      <th>Life_expectancy</th>\n",
       "      <th>Freedom</th>\n",
       "      <th>Corruption</th>\n",
       "    </tr>\n",
       "  </thead>\n",
       "  <tbody>\n",
       "    <tr>\n",
       "      <th>103</th>\n",
       "      <td>0.450</td>\n",
       "      <td>1.134</td>\n",
       "      <td>0.571</td>\n",
       "      <td>0.292</td>\n",
       "      <td>0.072</td>\n",
       "    </tr>\n",
       "    <tr>\n",
       "      <th>52</th>\n",
       "      <td>1.237</td>\n",
       "      <td>1.528</td>\n",
       "      <td>0.874</td>\n",
       "      <td>0.495</td>\n",
       "      <td>0.161</td>\n",
       "    </tr>\n",
       "    <tr>\n",
       "      <th>34</th>\n",
       "      <td>1.294</td>\n",
       "      <td>1.488</td>\n",
       "      <td>1.039</td>\n",
       "      <td>0.231</td>\n",
       "      <td>0.030</td>\n",
       "    </tr>\n",
       "    <tr>\n",
       "      <th>37</th>\n",
       "      <td>1.231</td>\n",
       "      <td>1.477</td>\n",
       "      <td>0.713</td>\n",
       "      <td>0.489</td>\n",
       "      <td>0.016</td>\n",
       "    </tr>\n",
       "    <tr>\n",
       "      <th>139</th>\n",
       "      <td>0.619</td>\n",
       "      <td>0.378</td>\n",
       "      <td>0.440</td>\n",
       "      <td>0.013</td>\n",
       "      <td>0.141</td>\n",
       "    </tr>\n",
       "    <tr>\n",
       "      <th>...</th>\n",
       "      <td>...</td>\n",
       "      <td>...</td>\n",
       "      <td>...</td>\n",
       "      <td>...</td>\n",
       "      <td>...</td>\n",
       "    </tr>\n",
       "    <tr>\n",
       "      <th>22</th>\n",
       "      <td>1.324</td>\n",
       "      <td>1.472</td>\n",
       "      <td>1.045</td>\n",
       "      <td>0.436</td>\n",
       "      <td>0.183</td>\n",
       "    </tr>\n",
       "    <tr>\n",
       "      <th>57</th>\n",
       "      <td>0.776</td>\n",
       "      <td>1.209</td>\n",
       "      <td>0.706</td>\n",
       "      <td>0.511</td>\n",
       "      <td>0.064</td>\n",
       "    </tr>\n",
       "    <tr>\n",
       "      <th>134</th>\n",
       "      <td>0.489</td>\n",
       "      <td>1.169</td>\n",
       "      <td>0.168</td>\n",
       "      <td>0.359</td>\n",
       "      <td>0.093</td>\n",
       "    </tr>\n",
       "    <tr>\n",
       "      <th>143</th>\n",
       "      <td>0.350</td>\n",
       "      <td>0.517</td>\n",
       "      <td>0.361</td>\n",
       "      <td>0.000</td>\n",
       "      <td>0.025</td>\n",
       "    </tr>\n",
       "    <tr>\n",
       "      <th>111</th>\n",
       "      <td>0.308</td>\n",
       "      <td>0.939</td>\n",
       "      <td>0.428</td>\n",
       "      <td>0.382</td>\n",
       "      <td>0.167</td>\n",
       "    </tr>\n",
       "  </tbody>\n",
       "</table>\n",
       "<p>116 rows × 5 columns</p>\n",
       "</div>"
      ],
      "text/plain": [
       "       GDP  Social_support  Life_expectancy  Freedom  Corruption\n",
       "103  0.450           1.134            0.571    0.292       0.072\n",
       "52   1.237           1.528            0.874    0.495       0.161\n",
       "34   1.294           1.488            1.039    0.231       0.030\n",
       "37   1.231           1.477            0.713    0.489       0.016\n",
       "139  0.619           0.378            0.440    0.013       0.141\n",
       "..     ...             ...              ...      ...         ...\n",
       "22   1.324           1.472            1.045    0.436       0.183\n",
       "57   0.776           1.209            0.706    0.511       0.064\n",
       "134  0.489           1.169            0.168    0.359       0.093\n",
       "143  0.350           0.517            0.361    0.000       0.025\n",
       "111  0.308           0.939            0.428    0.382       0.167\n",
       "\n",
       "[116 rows x 5 columns]"
      ]
     },
     "execution_count": 173,
     "metadata": {},
     "output_type": "execute_result"
    }
   ],
   "source": [
    "# Membuat variabel yang berisikan kolom-kolom yang dipilih menjadi feature\n",
    "X_train_fix = X_train[['GDP', 'Social_support', 'Life_expectancy', 'Freedom', 'Corruption']]\n",
    "X_test_fix = X_test[['GDP', 'Social_support', 'Life_expectancy', 'Freedom', 'Corruption']]\n",
    "X_train_fix"
   ]
  },
  {
   "cell_type": "markdown",
   "metadata": {},
   "source": [
    "# Handling Missing Values"
   ]
  },
  {
   "cell_type": "code",
   "execution_count": 174,
   "metadata": {},
   "outputs": [
    {
     "data": {
      "text/plain": [
       "GDP                0\n",
       "Social_support     0\n",
       "Life_expectancy    0\n",
       "Freedom            0\n",
       "Corruption         0\n",
       "dtype: int64"
      ]
     },
     "execution_count": 174,
     "metadata": {},
     "output_type": "execute_result"
    }
   ],
   "source": [
    "# Memeriksa missing value dalam train set\n",
    "X_train_fix.isnull().sum()"
   ]
  },
  {
   "cell_type": "code",
   "execution_count": 175,
   "metadata": {},
   "outputs": [
    {
     "data": {
      "text/plain": [
       "0"
      ]
     },
     "execution_count": 175,
     "metadata": {},
     "output_type": "execute_result"
    }
   ],
   "source": [
    "# Memeriksa missing value dalam train set\n",
    "y_train.isnull().sum()"
   ]
  },
  {
   "cell_type": "code",
   "execution_count": 176,
   "metadata": {},
   "outputs": [
    {
     "data": {
      "text/plain": [
       "GDP                0\n",
       "Social_support     0\n",
       "Life_expectancy    0\n",
       "Freedom            0\n",
       "Corruption         0\n",
       "dtype: int64"
      ]
     },
     "execution_count": 176,
     "metadata": {},
     "output_type": "execute_result"
    }
   ],
   "source": [
    "# Memeriksa missing value dalam test set\n",
    "X_test_fix.isnull().sum()"
   ]
  },
  {
   "cell_type": "code",
   "execution_count": 23,
   "metadata": {},
   "outputs": [
    {
     "data": {
      "text/plain": [
       "0"
      ]
     },
     "execution_count": 23,
     "metadata": {},
     "output_type": "execute_result"
    }
   ],
   "source": [
    "# Memeriksa missing value dalam test set\n",
    "y_test.isnull().sum()"
   ]
  },
  {
   "cell_type": "markdown",
   "metadata": {},
   "source": [
    "Tidak terdapat entry yang dengan value null dalam dataset ini. Dengan demikian kita dapat melanjutkan ke proses selanjutnya."
   ]
  },
  {
   "cell_type": "markdown",
   "metadata": {},
   "source": [
    "# Membagi Kolom Numerikal dan Kategorikal"
   ]
  },
  {
   "cell_type": "code",
   "execution_count": 260,
   "metadata": {},
   "outputs": [
    {
     "name": "stdout",
     "output_type": "stream",
     "text": [
      "Numerical Columns :  ['GDP', 'Social_support', 'Life_expectancy', 'Freedom', 'Corruption']\n",
      "Categorical Columns :  []\n"
     ]
    }
   ],
   "source": [
    "# Membuat variabel yang berdasarkan tipe kolom\n",
    "num_cols = X_train_fix.select_dtypes(include=np.number).columns.tolist()\n",
    "cat_cols = X_train_fix.select_dtypes(include=['object']).columns.tolist()\n",
    "\n",
    "print('Numerical Columns : ', num_cols)\n",
    "print('Categorical Columns : ', cat_cols)"
   ]
  },
  {
   "cell_type": "code",
   "execution_count": 261,
   "metadata": {},
   "outputs": [],
   "source": [
    "# Membagi train dan test set berdasarkan tipe kolom\n",
    "X_train_num = X_train_fix[num_cols]\n",
    "X_train_cat = X_train_fix[cat_cols]\n",
    "\n",
    "X_test_num = X_test_fix[num_cols]\n",
    "X_test_cat = X_test_fix[cat_cols]"
   ]
  },
  {
   "cell_type": "markdown",
   "metadata": {},
   "source": [
    "# Handling Outliers\n",
    "\n",
    "Dalam dataset ini tidak akan dilakukan proses handling outliers. Tujuannya untuk menjaga kemurnian dataset, sehingga hasil prediksi yang dikeluarkan juga akan lebih tepat dan sesuai dengan keadaan di lapangan. Selain itu entry dalam dataset ini juga sangat sedikit, sehingga modifikasi data harus sangat diminimalisir."
   ]
  },
  {
   "cell_type": "markdown",
   "metadata": {},
   "source": [
    "# Feature Scaling"
   ]
  },
  {
   "cell_type": "code",
   "execution_count": 262,
   "metadata": {},
   "outputs": [
    {
     "name": "stdout",
     "output_type": "stream",
     "text": [
      "GDP Skewness: -0.4323999215008287\n",
      "Social_support Skewness: -1.1384453442834197\n",
      "Life_expectancy Skewness: -0.6573319484022595\n",
      "Freedom Skewness: -0.7623725649556242\n",
      "Corruption Skewness: 1.531998384494091\n"
     ]
    }
   ],
   "source": [
    "for i in X_train_num.columns:\n",
    "    print(i, 'Skewness:', X_train_num[i].skew())"
   ]
  },
  {
   "cell_type": "markdown",
   "metadata": {},
   "source": [
    "Menentukan skewness dataset untuk memilih scaler yang paling tepat untuk digunakan dalam proses scaling. Disini terlihat bahwa dataset bersifat skewed, sehingga scaler yang digunakan adalah MinMaxScaler. "
   ]
  },
  {
   "cell_type": "code",
   "execution_count": 263,
   "metadata": {},
   "outputs": [
    {
     "data": {
      "text/plain": [
       "array([[0.2672209 , 0.69827586, 0.50043821, 0.46275753, 0.15144766],\n",
       "       [0.73456057, 0.9408867 , 0.76599474, 0.7844691 , 0.34966592],\n",
       "       [0.76840855, 0.91625616, 0.91060473, 0.36608558, 0.05790646],\n",
       "       [0.73099762, 0.90948276, 0.62489045, 0.77496038, 0.02672606],\n",
       "       [0.3675772 , 0.23275862, 0.38562664, 0.02060222, 0.30512249],\n",
       "       [0.62410926, 0.83805419, 0.76336547, 0.31220285, 0.16926503],\n",
       "       [0.57007126, 0.83189655, 0.41104294, 0.61648177, 0.11358575],\n",
       "       [0.72505938, 0.72105911, 0.72567923, 0.80507132, 0.04454343],\n",
       "       [0.33372922, 0.57142857, 0.63365469, 0.83518225, 0.30957684],\n",
       "       [0.56294537, 0.94273399, 0.58457493, 0.50237718, 0.07572383],\n",
       "       [0.3260095 , 0.56034483, 0.29009641, 0.60380349, 0.07349666],\n",
       "       [0.61817102, 0.70504926, 0.47151621, 0.72107765, 0.21380846],\n",
       "       [0.32719715, 0.88546798, 0.63365469, 0.80507132, 0.04231626],\n",
       "       [0.81235154, 0.88054187, 0.80105171, 0.5562599 , 0.20712695],\n",
       "       [0.15914489, 0.51785714, 0.21209465, 0.48969889, 0.09131403],\n",
       "       [0.19714964, 0.65825123, 0.38825592, 0.56418384, 0.1247216 ],\n",
       "       [0.50475059, 0.64963054, 0.71428571, 0.44849445, 0.13363029],\n",
       "       [0.68586698, 0.77955665, 0.80105171, 0.46909667, 0.04008909],\n",
       "       [0.55285036, 0.74076355, 0.57843996, 0.77812995, 0.05345212],\n",
       "       [0.74703088, 0.93780788, 0.83523225, 0.89381933, 0.11804009],\n",
       "       [0.33788599, 0.49753695, 0.20333041, 0.55784469, 0.19153675],\n",
       "       [0.23337292, 0.26908867, 0.3479404 , 0.55309033, 0.17371938],\n",
       "       [0.73515439, 0.93288177, 0.71691499, 0.46117274, 0.08463252],\n",
       "       [0.82897862, 0.93719212, 0.87554777, 0.88272583, 0.65478842],\n",
       "       [0.20783848, 0.47167488, 0.16827344, 0.27575277, 0.16481069],\n",
       "       [0.82125891, 0.96859606, 0.87291849, 0.93819334, 0.90423163],\n",
       "       [0.48159145, 0.70751232, 0.        , 0.49603803, 0.29175947],\n",
       "       [0.56235154, 0.52216749, 0.76599474, 0.60697306, 0.05122494],\n",
       "       [0.75356295, 0.91564039, 0.80631025, 0.72424723, 0.07126949],\n",
       "       [0.16270784, 0.56403941, 0.48641543, 0.23454834, 0.08240535],\n",
       "       [0.4827791 , 0.81342365, 0.52936021, 0.72424723, 0.36302895],\n",
       "       [0.68824228, 0.8429803 , 0.80631025, 0.56576862, 0.11581292],\n",
       "       [0.7915677 , 0.94704433, 0.87291849, 0.71315372, 0.61024499],\n",
       "       [0.72505938, 0.88115764, 0.87554777, 0.80507132, 0.0467706 ],\n",
       "       [0.61935867, 0.70628079, 0.6739702 , 0.5562599 , 0.39643653],\n",
       "       [0.41211401, 0.8158867 , 0.7318142 , 0.68938193, 0.27394209],\n",
       "       [0.69002375, 0.75862069, 0.72304996, 0.73217116, 0.00222717],\n",
       "       [0.47921615, 0.79618227, 0.57581069, 0.88431062, 0.22939866],\n",
       "       [0.64845606, 0.8817734 , 0.77212971, 0.74643423, 0.10244989],\n",
       "       [0.44833729, 0.47105911, 0.51533742, 0.78922345, 0.18040089],\n",
       "       [0.59501188, 0.71428571, 0.68799299, 0.1362916 , 0.24498886],\n",
       "       [0.75      , 0.75307882, 0.91323401, 0.64342314, 0.08240535],\n",
       "       [0.47149644, 0.76477833, 0.69149869, 0.681458  , 0.155902  ],\n",
       "       [0.50771971, 0.90825123, 0.6809816 , 0.81458003, 0.16926503],\n",
       "       [0.4216152 , 0.72721675, 0.48641543, 0.83201268, 0.37416481],\n",
       "       [0.39964371, 0.49199507, 0.44522349, 0.58954041, 0.19821826],\n",
       "       [0.81947743, 1.        , 0.89921122, 0.93660856, 0.25389755],\n",
       "       [0.47505938, 0.78140394, 0.65381245, 0.84786054, 0.16481069],\n",
       "       [0.54216152, 0.63977833, 0.56441718, 0.38193344, 0.1403118 ],\n",
       "       [0.75771971, 0.89593596, 0.90184049, 0.58795563, 0.17371938],\n",
       "       [0.63539192, 0.81465517, 0.75460123, 0.68621236, 0.15367483],\n",
       "       [0.19180523, 0.42364532, 0.39351446, 0.04120444, 0.23608018],\n",
       "       [0.12114014, 0.60714286, 0.34180543, 0.78288431, 0.29844098],\n",
       "       [0.5219715 , 0.80849754, 0.41805434, 0.63549921, 0.11581292],\n",
       "       [0.8087886 , 0.84236453, 0.76336547, 0.84944532, 0.23608018],\n",
       "       [0.        , 0.42980296, 0.23488168, 0.8858954 , 0.59242762],\n",
       "       [0.73990499, 0.92610837, 0.77212971, 0.52931854, 0.02227171],\n",
       "       [0.89014252, 0.95628079, 0.87554777, 0.8177496 , 0.68151448],\n",
       "       [0.7719715 , 0.93596059, 0.87554777, 0.89381933, 0.32739421],\n",
       "       [0.63361045, 0.9020936 , 0.69149869, 0.37242472, 0.30734967],\n",
       "       [0.70249406, 0.89408867, 0.63628396, 0.52931854, 0.06013363],\n",
       "       [0.85391924, 0.78633005, 0.98334794, 0.69730586, 0.63028953],\n",
       "       [0.49703088, 0.75431034, 0.71428571, 0.60697306, 0.28062361],\n",
       "       [0.44002375, 0.82881773, 0.74583699, 0.86053883, 0.15367483],\n",
       "       [0.65320665, 0.51847291, 0.68799299, 0.48335975, 0.26948775],\n",
       "       [0.61935867, 0.60344828, 0.50306748, 0.38193344, 0.18930958],\n",
       "       [0.70249406, 0.83743842, 0.70815074, 0.30903328, 0.22717149],\n",
       "       [0.41330166, 0.6841133 , 0.21472393, 0.67511886, 0.08240535],\n",
       "       [0.2131829 , 0.43780788, 0.53812445, 0.87955626, 0.9064588 ],\n",
       "       [0.33847981, 0.71859606, 0.42857143, 0.10459588, 0.18708241],\n",
       "       [0.64845606, 0.93165025, 0.71428571, 0.49286846, 0.        ],\n",
       "       [0.83313539, 0.83559113, 0.69675723, 0.69572108, 0.28507795],\n",
       "       [0.16270784, 0.466133  , 0.44259422, 0.22503962, 0.16481069],\n",
       "       [0.61104513, 0.69273399, 0.7826468 , 0.82567353, 0.21380846],\n",
       "       [0.304038  , 0.60529557, 0.50920245, 0.68304279, 0.1091314 ],\n",
       "       [0.70486936, 0.9020936 , 0.71165644, 0.41838352, 0.13363029],\n",
       "       [0.81057007, 0.92672414, 0.91060473, 0.92551506, 0.67706013],\n",
       "       [0.75      , 0.77093596, 0.91323401, 0.66085578, 0.3518931 ],\n",
       "       [0.48693587, 0.85591133, 0.64767748, 0.28209192, 0.01336303],\n",
       "       [0.62351544, 0.86761084, 0.72567923, 0.88272583, 0.05345212],\n",
       "       [0.47565321, 0.48152709, 0.68536372, 0.66244057, 0.16035635],\n",
       "       [0.19655582, 0.65024631, 0.33304119, 0.40412044, 0.24276169],\n",
       "       [1.        , 0.80849754, 0.76336547, 0.87955626, 0.36302895],\n",
       "       [0.69655582, 0.92857143, 0.63891323, 0.64976228, 0.20489978],\n",
       "       [0.95546318, 0.91071429, 0.88694128, 0.83359746, 0.69487751],\n",
       "       [0.78800475, 0.87376847, 0.95354952, 0.70522979, 0.30289532],\n",
       "       [0.52375297, 0.75862069, 0.66432954, 0.77496038, 0.00445434],\n",
       "       [0.88361045, 0.97413793, 0.90096407, 0.95562599, 0.75055679],\n",
       "       [0.71615202, 0.88546798, 0.77475898, 0.76545166, 0.10244989],\n",
       "       [0.39014252, 0.76785714, 0.58895706, 0.35657686, 0.13808463],\n",
       "       [0.86223278, 0.93965517, 0.92199825, 0.90649762, 0.75501114],\n",
       "       [0.57007126, 0.78448276, 0.74846626, 0.72107765, 0.05122494],\n",
       "       [0.93349169, 0.90086207, 1.        , 0.88114105, 1.        ],\n",
       "       [0.89073634, 0.81219212, 0.70815074, 0.78129952, 0.20712695],\n",
       "       [0.34085511, 0.6908867 , 0.55828221, 0.96513471, 0.12917595],\n",
       "       [0.22565321, 0.51046798, 0.32865907, 0.52614897, 0.18262806],\n",
       "       [0.52612827, 0.41009852, 0.65907099, 0.54833597, 0.35634744],\n",
       "       [0.02731591, 0.27524631, 0.33304119, 0.34865293, 0.39198218],\n",
       "       [0.59619952, 0.88608374, 0.7028922 , 0.61806656, 0.18262806],\n",
       "       [0.01543943, 0.        , 0.09202454, 0.35657686, 0.06904232],\n",
       "       [0.8236342 , 0.91564039, 0.88431201, 0.90966719, 0.82182628],\n",
       "       [0.402019  , 0.5455665 , 0.46888694, 0.49603803, 0.20935412],\n",
       "       [0.04334917, 0.56773399, 0.38825592, 0.58637084, 0.06458797],\n",
       "       [0.81472684, 0.95320197, 0.90797546, 0.88272583, 0.63697105],\n",
       "       [0.58491686, 0.8682266 , 0.73707274, 0.74484945, 0.06681514],\n",
       "       [0.85095012, 0.89716749, 0.76599474, 0.71949287, 0.27616927],\n",
       "       [0.16330166, 0.35221675, 0.35933392, 0.46434231, 0.18040089],\n",
       "       [0.77375297, 0.95874384, 0.89921122, 0.92709984, 0.83741648],\n",
       "       [0.44239905, 0.94150246, 0.66257669, 1.        , 0.52561247],\n",
       "       [0.61995249, 0.8023399 , 0.58983348, 0.659271  , 0.32962138],\n",
       "       [0.66745843, 0.9020936 , 0.78089395, 0.82884311, 0.32516704],\n",
       "       [0.78622328, 0.90640394, 0.91586328, 0.69096672, 0.3986637 ],\n",
       "       [0.4608076 , 0.74445813, 0.61875548, 0.80982567, 0.13363029],\n",
       "       [0.29038005, 0.71982759, 0.14723926, 0.56893819, 0.19821826],\n",
       "       [0.20783848, 0.31834975, 0.31638913, 0.        , 0.0467706 ],\n",
       "       [0.18289786, 0.57820197, 0.37510955, 0.60538827, 0.36302895]])"
      ]
     },
     "execution_count": 263,
     "metadata": {},
     "output_type": "execute_result"
    }
   ],
   "source": [
    "# Normalisasi menggunakan MinMaxScaler karena dataset bersifat skewed\n",
    "scaler = MinMaxScaler()\n",
    "\n",
    "# Fit hanya untuk train set\n",
    "scaler.fit(X_train_num)\n",
    "\n",
    "# Transfrom train dan test set\n",
    "X_train_num_scaled = scaler.transform(X_train_num)\n",
    "X_test_num_scaled = scaler.transform(X_test_num)\n",
    "X_train_num_scaled"
   ]
  },
  {
   "cell_type": "code",
   "execution_count": 264,
   "metadata": {},
   "outputs": [
    {
     "data": {
      "text/plain": [
       "array([[0.2672209 , 0.69827586, 0.50043821, 0.46275753, 0.15144766],\n",
       "       [0.73456057, 0.9408867 , 0.76599474, 0.7844691 , 0.34966592],\n",
       "       [0.76840855, 0.91625616, 0.91060473, 0.36608558, 0.05790646],\n",
       "       [0.73099762, 0.90948276, 0.62489045, 0.77496038, 0.02672606],\n",
       "       [0.3675772 , 0.23275862, 0.38562664, 0.02060222, 0.30512249],\n",
       "       [0.62410926, 0.83805419, 0.76336547, 0.31220285, 0.16926503],\n",
       "       [0.57007126, 0.83189655, 0.41104294, 0.61648177, 0.11358575],\n",
       "       [0.72505938, 0.72105911, 0.72567923, 0.80507132, 0.04454343],\n",
       "       [0.33372922, 0.57142857, 0.63365469, 0.83518225, 0.30957684],\n",
       "       [0.56294537, 0.94273399, 0.58457493, 0.50237718, 0.07572383],\n",
       "       [0.3260095 , 0.56034483, 0.29009641, 0.60380349, 0.07349666],\n",
       "       [0.61817102, 0.70504926, 0.47151621, 0.72107765, 0.21380846],\n",
       "       [0.32719715, 0.88546798, 0.63365469, 0.80507132, 0.04231626],\n",
       "       [0.81235154, 0.88054187, 0.80105171, 0.5562599 , 0.20712695],\n",
       "       [0.15914489, 0.51785714, 0.21209465, 0.48969889, 0.09131403],\n",
       "       [0.19714964, 0.65825123, 0.38825592, 0.56418384, 0.1247216 ],\n",
       "       [0.50475059, 0.64963054, 0.71428571, 0.44849445, 0.13363029],\n",
       "       [0.68586698, 0.77955665, 0.80105171, 0.46909667, 0.04008909],\n",
       "       [0.55285036, 0.74076355, 0.57843996, 0.77812995, 0.05345212],\n",
       "       [0.74703088, 0.93780788, 0.83523225, 0.89381933, 0.11804009],\n",
       "       [0.33788599, 0.49753695, 0.20333041, 0.55784469, 0.19153675],\n",
       "       [0.23337292, 0.26908867, 0.3479404 , 0.55309033, 0.17371938],\n",
       "       [0.73515439, 0.93288177, 0.71691499, 0.46117274, 0.08463252],\n",
       "       [0.82897862, 0.93719212, 0.87554777, 0.88272583, 0.65478842],\n",
       "       [0.20783848, 0.47167488, 0.16827344, 0.27575277, 0.16481069],\n",
       "       [0.82125891, 0.96859606, 0.87291849, 0.93819334, 0.90423163],\n",
       "       [0.48159145, 0.70751232, 0.        , 0.49603803, 0.29175947],\n",
       "       [0.56235154, 0.52216749, 0.76599474, 0.60697306, 0.05122494],\n",
       "       [0.75356295, 0.91564039, 0.80631025, 0.72424723, 0.07126949],\n",
       "       [0.16270784, 0.56403941, 0.48641543, 0.23454834, 0.08240535],\n",
       "       [0.4827791 , 0.81342365, 0.52936021, 0.72424723, 0.36302895],\n",
       "       [0.68824228, 0.8429803 , 0.80631025, 0.56576862, 0.11581292],\n",
       "       [0.7915677 , 0.94704433, 0.87291849, 0.71315372, 0.61024499],\n",
       "       [0.72505938, 0.88115764, 0.87554777, 0.80507132, 0.0467706 ],\n",
       "       [0.61935867, 0.70628079, 0.6739702 , 0.5562599 , 0.39643653],\n",
       "       [0.41211401, 0.8158867 , 0.7318142 , 0.68938193, 0.27394209],\n",
       "       [0.69002375, 0.75862069, 0.72304996, 0.73217116, 0.00222717],\n",
       "       [0.47921615, 0.79618227, 0.57581069, 0.88431062, 0.22939866],\n",
       "       [0.64845606, 0.8817734 , 0.77212971, 0.74643423, 0.10244989],\n",
       "       [0.44833729, 0.47105911, 0.51533742, 0.78922345, 0.18040089],\n",
       "       [0.59501188, 0.71428571, 0.68799299, 0.1362916 , 0.24498886],\n",
       "       [0.75      , 0.75307882, 0.91323401, 0.64342314, 0.08240535],\n",
       "       [0.47149644, 0.76477833, 0.69149869, 0.681458  , 0.155902  ],\n",
       "       [0.50771971, 0.90825123, 0.6809816 , 0.81458003, 0.16926503],\n",
       "       [0.4216152 , 0.72721675, 0.48641543, 0.83201268, 0.37416481],\n",
       "       [0.39964371, 0.49199507, 0.44522349, 0.58954041, 0.19821826],\n",
       "       [0.81947743, 1.        , 0.89921122, 0.93660856, 0.25389755],\n",
       "       [0.47505938, 0.78140394, 0.65381245, 0.84786054, 0.16481069],\n",
       "       [0.54216152, 0.63977833, 0.56441718, 0.38193344, 0.1403118 ],\n",
       "       [0.75771971, 0.89593596, 0.90184049, 0.58795563, 0.17371938],\n",
       "       [0.63539192, 0.81465517, 0.75460123, 0.68621236, 0.15367483],\n",
       "       [0.19180523, 0.42364532, 0.39351446, 0.04120444, 0.23608018],\n",
       "       [0.12114014, 0.60714286, 0.34180543, 0.78288431, 0.29844098],\n",
       "       [0.5219715 , 0.80849754, 0.41805434, 0.63549921, 0.11581292],\n",
       "       [0.8087886 , 0.84236453, 0.76336547, 0.84944532, 0.23608018],\n",
       "       [0.        , 0.42980296, 0.23488168, 0.8858954 , 0.59242762],\n",
       "       [0.73990499, 0.92610837, 0.77212971, 0.52931854, 0.02227171],\n",
       "       [0.89014252, 0.95628079, 0.87554777, 0.8177496 , 0.68151448],\n",
       "       [0.7719715 , 0.93596059, 0.87554777, 0.89381933, 0.32739421],\n",
       "       [0.63361045, 0.9020936 , 0.69149869, 0.37242472, 0.30734967],\n",
       "       [0.70249406, 0.89408867, 0.63628396, 0.52931854, 0.06013363],\n",
       "       [0.85391924, 0.78633005, 0.98334794, 0.69730586, 0.63028953],\n",
       "       [0.49703088, 0.75431034, 0.71428571, 0.60697306, 0.28062361],\n",
       "       [0.44002375, 0.82881773, 0.74583699, 0.86053883, 0.15367483],\n",
       "       [0.65320665, 0.51847291, 0.68799299, 0.48335975, 0.26948775],\n",
       "       [0.61935867, 0.60344828, 0.50306748, 0.38193344, 0.18930958],\n",
       "       [0.70249406, 0.83743842, 0.70815074, 0.30903328, 0.22717149],\n",
       "       [0.41330166, 0.6841133 , 0.21472393, 0.67511886, 0.08240535],\n",
       "       [0.2131829 , 0.43780788, 0.53812445, 0.87955626, 0.9064588 ],\n",
       "       [0.33847981, 0.71859606, 0.42857143, 0.10459588, 0.18708241],\n",
       "       [0.64845606, 0.93165025, 0.71428571, 0.49286846, 0.        ],\n",
       "       [0.83313539, 0.83559113, 0.69675723, 0.69572108, 0.28507795],\n",
       "       [0.16270784, 0.466133  , 0.44259422, 0.22503962, 0.16481069],\n",
       "       [0.61104513, 0.69273399, 0.7826468 , 0.82567353, 0.21380846],\n",
       "       [0.304038  , 0.60529557, 0.50920245, 0.68304279, 0.1091314 ],\n",
       "       [0.70486936, 0.9020936 , 0.71165644, 0.41838352, 0.13363029],\n",
       "       [0.81057007, 0.92672414, 0.91060473, 0.92551506, 0.67706013],\n",
       "       [0.75      , 0.77093596, 0.91323401, 0.66085578, 0.3518931 ],\n",
       "       [0.48693587, 0.85591133, 0.64767748, 0.28209192, 0.01336303],\n",
       "       [0.62351544, 0.86761084, 0.72567923, 0.88272583, 0.05345212],\n",
       "       [0.47565321, 0.48152709, 0.68536372, 0.66244057, 0.16035635],\n",
       "       [0.19655582, 0.65024631, 0.33304119, 0.40412044, 0.24276169],\n",
       "       [1.        , 0.80849754, 0.76336547, 0.87955626, 0.36302895],\n",
       "       [0.69655582, 0.92857143, 0.63891323, 0.64976228, 0.20489978],\n",
       "       [0.95546318, 0.91071429, 0.88694128, 0.83359746, 0.69487751],\n",
       "       [0.78800475, 0.87376847, 0.95354952, 0.70522979, 0.30289532],\n",
       "       [0.52375297, 0.75862069, 0.66432954, 0.77496038, 0.00445434],\n",
       "       [0.88361045, 0.97413793, 0.90096407, 0.95562599, 0.75055679],\n",
       "       [0.71615202, 0.88546798, 0.77475898, 0.76545166, 0.10244989],\n",
       "       [0.39014252, 0.76785714, 0.58895706, 0.35657686, 0.13808463],\n",
       "       [0.86223278, 0.93965517, 0.92199825, 0.90649762, 0.75501114],\n",
       "       [0.57007126, 0.78448276, 0.74846626, 0.72107765, 0.05122494],\n",
       "       [0.93349169, 0.90086207, 1.        , 0.88114105, 1.        ],\n",
       "       [0.89073634, 0.81219212, 0.70815074, 0.78129952, 0.20712695],\n",
       "       [0.34085511, 0.6908867 , 0.55828221, 0.96513471, 0.12917595],\n",
       "       [0.22565321, 0.51046798, 0.32865907, 0.52614897, 0.18262806],\n",
       "       [0.52612827, 0.41009852, 0.65907099, 0.54833597, 0.35634744],\n",
       "       [0.02731591, 0.27524631, 0.33304119, 0.34865293, 0.39198218],\n",
       "       [0.59619952, 0.88608374, 0.7028922 , 0.61806656, 0.18262806],\n",
       "       [0.01543943, 0.        , 0.09202454, 0.35657686, 0.06904232],\n",
       "       [0.8236342 , 0.91564039, 0.88431201, 0.90966719, 0.82182628],\n",
       "       [0.402019  , 0.5455665 , 0.46888694, 0.49603803, 0.20935412],\n",
       "       [0.04334917, 0.56773399, 0.38825592, 0.58637084, 0.06458797],\n",
       "       [0.81472684, 0.95320197, 0.90797546, 0.88272583, 0.63697105],\n",
       "       [0.58491686, 0.8682266 , 0.73707274, 0.74484945, 0.06681514],\n",
       "       [0.85095012, 0.89716749, 0.76599474, 0.71949287, 0.27616927],\n",
       "       [0.16330166, 0.35221675, 0.35933392, 0.46434231, 0.18040089],\n",
       "       [0.77375297, 0.95874384, 0.89921122, 0.92709984, 0.83741648],\n",
       "       [0.44239905, 0.94150246, 0.66257669, 1.        , 0.52561247],\n",
       "       [0.61995249, 0.8023399 , 0.58983348, 0.659271  , 0.32962138],\n",
       "       [0.66745843, 0.9020936 , 0.78089395, 0.82884311, 0.32516704],\n",
       "       [0.78622328, 0.90640394, 0.91586328, 0.69096672, 0.3986637 ],\n",
       "       [0.4608076 , 0.74445813, 0.61875548, 0.80982567, 0.13363029],\n",
       "       [0.29038005, 0.71982759, 0.14723926, 0.56893819, 0.19821826],\n",
       "       [0.20783848, 0.31834975, 0.31638913, 0.        , 0.0467706 ],\n",
       "       [0.18289786, 0.57820197, 0.37510955, 0.60538827, 0.36302895]])"
      ]
     },
     "execution_count": 264,
     "metadata": {},
     "output_type": "execute_result"
    }
   ],
   "source": [
    "# Concat numerical columns and cetegorical columns \n",
    "X_train_final = np.concatenate([X_train_num_scaled, X_train_cat], axis =1)\n",
    "X_test_final = np.concatenate([X_test_num_scaled, X_test_cat], axis =1)\n",
    "X_train_final\n"
   ]
  },
  {
   "cell_type": "markdown",
   "metadata": {},
   "source": [
    "# Model definition\n",
    "\n",
    "- Menggunakan algoritma Linear Regression, Polynomial Features 2, Polynomial Features 3. Ketiga algoritma akan diuji dan dibandingkan untuk kemudian dilihat algoritma mana yang performanya paling baik.\n",
    "\n",
    "- Metrics yang akan dipakai untuk mengevaluasi adalah MAE dan MAPE untuk melihat jumlah dan presentase errornya, sedangkan r2score untuk melihat tingkat ketepatan."
   ]
  },
  {
   "cell_type": "markdown",
   "metadata": {},
   "source": [
    "# Model I (Linear Regression)"
   ]
  },
  {
   "cell_type": "code",
   "execution_count": 265,
   "metadata": {},
   "outputs": [
    {
     "data": {
      "text/html": [
       "<style>#sk-container-id-15 {color: black;background-color: white;}#sk-container-id-15 pre{padding: 0;}#sk-container-id-15 div.sk-toggleable {background-color: white;}#sk-container-id-15 label.sk-toggleable__label {cursor: pointer;display: block;width: 100%;margin-bottom: 0;padding: 0.3em;box-sizing: border-box;text-align: center;}#sk-container-id-15 label.sk-toggleable__label-arrow:before {content: \"▸\";float: left;margin-right: 0.25em;color: #696969;}#sk-container-id-15 label.sk-toggleable__label-arrow:hover:before {color: black;}#sk-container-id-15 div.sk-estimator:hover label.sk-toggleable__label-arrow:before {color: black;}#sk-container-id-15 div.sk-toggleable__content {max-height: 0;max-width: 0;overflow: hidden;text-align: left;background-color: #f0f8ff;}#sk-container-id-15 div.sk-toggleable__content pre {margin: 0.2em;color: black;border-radius: 0.25em;background-color: #f0f8ff;}#sk-container-id-15 input.sk-toggleable__control:checked~div.sk-toggleable__content {max-height: 200px;max-width: 100%;overflow: auto;}#sk-container-id-15 input.sk-toggleable__control:checked~label.sk-toggleable__label-arrow:before {content: \"▾\";}#sk-container-id-15 div.sk-estimator input.sk-toggleable__control:checked~label.sk-toggleable__label {background-color: #d4ebff;}#sk-container-id-15 div.sk-label input.sk-toggleable__control:checked~label.sk-toggleable__label {background-color: #d4ebff;}#sk-container-id-15 input.sk-hidden--visually {border: 0;clip: rect(1px 1px 1px 1px);clip: rect(1px, 1px, 1px, 1px);height: 1px;margin: -1px;overflow: hidden;padding: 0;position: absolute;width: 1px;}#sk-container-id-15 div.sk-estimator {font-family: monospace;background-color: #f0f8ff;border: 1px dotted black;border-radius: 0.25em;box-sizing: border-box;margin-bottom: 0.5em;}#sk-container-id-15 div.sk-estimator:hover {background-color: #d4ebff;}#sk-container-id-15 div.sk-parallel-item::after {content: \"\";width: 100%;border-bottom: 1px solid gray;flex-grow: 1;}#sk-container-id-15 div.sk-label:hover label.sk-toggleable__label {background-color: #d4ebff;}#sk-container-id-15 div.sk-serial::before {content: \"\";position: absolute;border-left: 1px solid gray;box-sizing: border-box;top: 0;bottom: 0;left: 50%;z-index: 0;}#sk-container-id-15 div.sk-serial {display: flex;flex-direction: column;align-items: center;background-color: white;padding-right: 0.2em;padding-left: 0.2em;position: relative;}#sk-container-id-15 div.sk-item {position: relative;z-index: 1;}#sk-container-id-15 div.sk-parallel {display: flex;align-items: stretch;justify-content: center;background-color: white;position: relative;}#sk-container-id-15 div.sk-item::before, #sk-container-id-15 div.sk-parallel-item::before {content: \"\";position: absolute;border-left: 1px solid gray;box-sizing: border-box;top: 0;bottom: 0;left: 50%;z-index: -1;}#sk-container-id-15 div.sk-parallel-item {display: flex;flex-direction: column;z-index: 1;position: relative;background-color: white;}#sk-container-id-15 div.sk-parallel-item:first-child::after {align-self: flex-end;width: 50%;}#sk-container-id-15 div.sk-parallel-item:last-child::after {align-self: flex-start;width: 50%;}#sk-container-id-15 div.sk-parallel-item:only-child::after {width: 0;}#sk-container-id-15 div.sk-dashed-wrapped {border: 1px dashed gray;margin: 0 0.4em 0.5em 0.4em;box-sizing: border-box;padding-bottom: 0.4em;background-color: white;}#sk-container-id-15 div.sk-label label {font-family: monospace;font-weight: bold;display: inline-block;line-height: 1.2em;}#sk-container-id-15 div.sk-label-container {text-align: center;}#sk-container-id-15 div.sk-container {/* jupyter's `normalize.less` sets `[hidden] { display: none; }` but bootstrap.min.css set `[hidden] { display: none !important; }` so we also need the `!important` here to be able to override the default hidden behavior on the sphinx rendered scikit-learn.org. See: https://github.com/scikit-learn/scikit-learn/issues/21755 */display: inline-block !important;position: relative;}#sk-container-id-15 div.sk-text-repr-fallback {display: none;}</style><div id=\"sk-container-id-15\" class=\"sk-top-container\"><div class=\"sk-text-repr-fallback\"><pre>LinearRegression()</pre><b>In a Jupyter environment, please rerun this cell to show the HTML representation or trust the notebook. <br />On GitHub, the HTML representation is unable to render, please try loading this page with nbviewer.org.</b></div><div class=\"sk-container\" hidden><div class=\"sk-item\"><div class=\"sk-estimator sk-toggleable\"><input class=\"sk-toggleable__control sk-hidden--visually\" id=\"sk-estimator-id-35\" type=\"checkbox\" checked><label for=\"sk-estimator-id-35\" class=\"sk-toggleable__label sk-toggleable__label-arrow\">LinearRegression</label><div class=\"sk-toggleable__content\"><pre>LinearRegression()</pre></div></div></div></div></div>"
      ],
      "text/plain": [
       "LinearRegression()"
      ]
     },
     "execution_count": 265,
     "metadata": {},
     "output_type": "execute_result"
    }
   ],
   "source": [
    "# Modelling\n",
    "model_lin_reg = LinearRegression()\n",
    "\n",
    "# Model Training\n",
    "model_lin_reg.fit(X_train_final, y_train)"
   ]
  },
  {
   "cell_type": "code",
   "execution_count": 266,
   "metadata": {},
   "outputs": [],
   "source": [
    "# Model Evaluation\n",
    "# Predict against train-set and test-set\n",
    "y_pred_train_I = model_lin_reg.predict(X_train_final)\n",
    "y_pred_test_I = model_lin_reg.predict(X_test_final)"
   ]
  },
  {
   "cell_type": "code",
   "execution_count": 267,
   "metadata": {},
   "outputs": [
    {
     "name": "stdout",
     "output_type": "stream",
     "text": [
      "Error - Train Set: 0.41321129819472086\n",
      "Error - Test Set: 0.4499633231572574\n"
     ]
    }
   ],
   "source": [
    "# Model Evaluation using MAE\n",
    "print('Error - Train Set:', mean_absolute_error(y_train, y_pred_train_I))\n",
    "print('Error - Test Set:', mean_absolute_error(y_test, y_pred_test_I))"
   ]
  },
  {
   "cell_type": "code",
   "execution_count": 268,
   "metadata": {},
   "outputs": [
    {
     "name": "stdout",
     "output_type": "stream",
     "text": [
      "Error - Train Set :  0.08090700344738855\n",
      "Error - Test Set  :  0.0940610975879448\n"
     ]
    }
   ],
   "source": [
    "# Model Evaluation using MAPE\n",
    "print('Error - Train Set : ', mean_absolute_percentage_error(y_train, y_pred_train_I))\n",
    "print('Error - Test Set  : ', mean_absolute_percentage_error(y_test, y_pred_test_I))"
   ]
  },
  {
   "cell_type": "code",
   "execution_count": 269,
   "metadata": {},
   "outputs": [
    {
     "name": "stdout",
     "output_type": "stream",
     "text": [
      "Score - train set :  0.7725854350983213\n",
      "Score - test set  :  0.7985314171795328\n"
     ]
    }
   ],
   "source": [
    "# Model Evaluation using r2score\n",
    "print('Score - train set : ', r2_score(y_train, y_pred_train_I))\n",
    "print('Score - test set  : ', r2_score(y_test, y_pred_test_I))"
   ]
  },
  {
   "cell_type": "markdown",
   "metadata": {},
   "source": [
    "Hasil evaluasi Model I dengan Linear Regression biasa ternyata cukup baik. Berdasarkan r2score, model ini merupakan good fit karena score train set 0.77 dan test set 0.79. Jumlah error dalam MAPE dan MAE memang terlihat sangat tinggi. Namun hal ini tidak perlu dikhawatirkan, karena objectives dari project ini adalah memprediksi kolom 'Score' yang outputnya berupa bilangan desimal dengan jumlah angka di belakang koma yang sangat banyak. Sehingga tidak memungkinkan bagi model untuk memberikan output yang 100% sama. Selama modelnya masih good fit, artinya model tersebut masih dapat digunakan."
   ]
  },
  {
   "cell_type": "markdown",
   "metadata": {},
   "source": [
    "# Model II (Polynomial Regression Degree 2)"
   ]
  },
  {
   "cell_type": "code",
   "execution_count": 275,
   "metadata": {},
   "outputs": [
    {
     "data": {
      "text/html": [
       "<style>#sk-container-id-16 {color: black;background-color: white;}#sk-container-id-16 pre{padding: 0;}#sk-container-id-16 div.sk-toggleable {background-color: white;}#sk-container-id-16 label.sk-toggleable__label {cursor: pointer;display: block;width: 100%;margin-bottom: 0;padding: 0.3em;box-sizing: border-box;text-align: center;}#sk-container-id-16 label.sk-toggleable__label-arrow:before {content: \"▸\";float: left;margin-right: 0.25em;color: #696969;}#sk-container-id-16 label.sk-toggleable__label-arrow:hover:before {color: black;}#sk-container-id-16 div.sk-estimator:hover label.sk-toggleable__label-arrow:before {color: black;}#sk-container-id-16 div.sk-toggleable__content {max-height: 0;max-width: 0;overflow: hidden;text-align: left;background-color: #f0f8ff;}#sk-container-id-16 div.sk-toggleable__content pre {margin: 0.2em;color: black;border-radius: 0.25em;background-color: #f0f8ff;}#sk-container-id-16 input.sk-toggleable__control:checked~div.sk-toggleable__content {max-height: 200px;max-width: 100%;overflow: auto;}#sk-container-id-16 input.sk-toggleable__control:checked~label.sk-toggleable__label-arrow:before {content: \"▾\";}#sk-container-id-16 div.sk-estimator input.sk-toggleable__control:checked~label.sk-toggleable__label {background-color: #d4ebff;}#sk-container-id-16 div.sk-label input.sk-toggleable__control:checked~label.sk-toggleable__label {background-color: #d4ebff;}#sk-container-id-16 input.sk-hidden--visually {border: 0;clip: rect(1px 1px 1px 1px);clip: rect(1px, 1px, 1px, 1px);height: 1px;margin: -1px;overflow: hidden;padding: 0;position: absolute;width: 1px;}#sk-container-id-16 div.sk-estimator {font-family: monospace;background-color: #f0f8ff;border: 1px dotted black;border-radius: 0.25em;box-sizing: border-box;margin-bottom: 0.5em;}#sk-container-id-16 div.sk-estimator:hover {background-color: #d4ebff;}#sk-container-id-16 div.sk-parallel-item::after {content: \"\";width: 100%;border-bottom: 1px solid gray;flex-grow: 1;}#sk-container-id-16 div.sk-label:hover label.sk-toggleable__label {background-color: #d4ebff;}#sk-container-id-16 div.sk-serial::before {content: \"\";position: absolute;border-left: 1px solid gray;box-sizing: border-box;top: 0;bottom: 0;left: 50%;z-index: 0;}#sk-container-id-16 div.sk-serial {display: flex;flex-direction: column;align-items: center;background-color: white;padding-right: 0.2em;padding-left: 0.2em;position: relative;}#sk-container-id-16 div.sk-item {position: relative;z-index: 1;}#sk-container-id-16 div.sk-parallel {display: flex;align-items: stretch;justify-content: center;background-color: white;position: relative;}#sk-container-id-16 div.sk-item::before, #sk-container-id-16 div.sk-parallel-item::before {content: \"\";position: absolute;border-left: 1px solid gray;box-sizing: border-box;top: 0;bottom: 0;left: 50%;z-index: -1;}#sk-container-id-16 div.sk-parallel-item {display: flex;flex-direction: column;z-index: 1;position: relative;background-color: white;}#sk-container-id-16 div.sk-parallel-item:first-child::after {align-self: flex-end;width: 50%;}#sk-container-id-16 div.sk-parallel-item:last-child::after {align-self: flex-start;width: 50%;}#sk-container-id-16 div.sk-parallel-item:only-child::after {width: 0;}#sk-container-id-16 div.sk-dashed-wrapped {border: 1px dashed gray;margin: 0 0.4em 0.5em 0.4em;box-sizing: border-box;padding-bottom: 0.4em;background-color: white;}#sk-container-id-16 div.sk-label label {font-family: monospace;font-weight: bold;display: inline-block;line-height: 1.2em;}#sk-container-id-16 div.sk-label-container {text-align: center;}#sk-container-id-16 div.sk-container {/* jupyter's `normalize.less` sets `[hidden] { display: none; }` but bootstrap.min.css set `[hidden] { display: none !important; }` so we also need the `!important` here to be able to override the default hidden behavior on the sphinx rendered scikit-learn.org. See: https://github.com/scikit-learn/scikit-learn/issues/21755 */display: inline-block !important;position: relative;}#sk-container-id-16 div.sk-text-repr-fallback {display: none;}</style><div id=\"sk-container-id-16\" class=\"sk-top-container\"><div class=\"sk-text-repr-fallback\"><pre>Pipeline(steps=[(&#x27;polynomialfeatures&#x27;, PolynomialFeatures()),\n",
       "                (&#x27;linearregression&#x27;, LinearRegression())])</pre><b>In a Jupyter environment, please rerun this cell to show the HTML representation or trust the notebook. <br />On GitHub, the HTML representation is unable to render, please try loading this page with nbviewer.org.</b></div><div class=\"sk-container\" hidden><div class=\"sk-item sk-dashed-wrapped\"><div class=\"sk-label-container\"><div class=\"sk-label sk-toggleable\"><input class=\"sk-toggleable__control sk-hidden--visually\" id=\"sk-estimator-id-36\" type=\"checkbox\" ><label for=\"sk-estimator-id-36\" class=\"sk-toggleable__label sk-toggleable__label-arrow\">Pipeline</label><div class=\"sk-toggleable__content\"><pre>Pipeline(steps=[(&#x27;polynomialfeatures&#x27;, PolynomialFeatures()),\n",
       "                (&#x27;linearregression&#x27;, LinearRegression())])</pre></div></div></div><div class=\"sk-serial\"><div class=\"sk-item\"><div class=\"sk-estimator sk-toggleable\"><input class=\"sk-toggleable__control sk-hidden--visually\" id=\"sk-estimator-id-37\" type=\"checkbox\" ><label for=\"sk-estimator-id-37\" class=\"sk-toggleable__label sk-toggleable__label-arrow\">PolynomialFeatures</label><div class=\"sk-toggleable__content\"><pre>PolynomialFeatures()</pre></div></div></div><div class=\"sk-item\"><div class=\"sk-estimator sk-toggleable\"><input class=\"sk-toggleable__control sk-hidden--visually\" id=\"sk-estimator-id-38\" type=\"checkbox\" ><label for=\"sk-estimator-id-38\" class=\"sk-toggleable__label sk-toggleable__label-arrow\">LinearRegression</label><div class=\"sk-toggleable__content\"><pre>LinearRegression()</pre></div></div></div></div></div></div></div>"
      ],
      "text/plain": [
       "Pipeline(steps=[('polynomialfeatures', PolynomialFeatures()),\n",
       "                ('linearregression', LinearRegression())])"
      ]
     },
     "execution_count": 275,
     "metadata": {},
     "output_type": "execute_result"
    }
   ],
   "source": [
    "# Modelling\n",
    "model_poly_2 = make_pipeline(PolynomialFeatures(2), LinearRegression())\n",
    "\n",
    "# Model training\n",
    "model_poly_2.fit(X_train_final, y_train)"
   ]
  },
  {
   "cell_type": "code",
   "execution_count": 276,
   "metadata": {},
   "outputs": [],
   "source": [
    "# Model Evaluation\n",
    "# Predict against train-set and test-set\n",
    "y_pred_train_II = model_poly_2.predict(X_train_final)\n",
    "y_pred_test_II = model_poly_2.predict(X_test_final)"
   ]
  },
  {
   "cell_type": "code",
   "execution_count": 277,
   "metadata": {},
   "outputs": [
    {
     "name": "stdout",
     "output_type": "stream",
     "text": [
      "Error - Train Set: 0.32917975835647495\n",
      "Error - Test Set: 0.42862959963086306\n"
     ]
    }
   ],
   "source": [
    "# Model Evaluation using MAE\n",
    "print('Error - Train Set:', mean_absolute_error(y_train, y_pred_train_II))\n",
    "print('Error - Test Set:', mean_absolute_error(y_test, y_pred_test_II))"
   ]
  },
  {
   "cell_type": "code",
   "execution_count": 278,
   "metadata": {},
   "outputs": [
    {
     "name": "stdout",
     "output_type": "stream",
     "text": [
      "Error - Train Set :  0.06422437852045351\n",
      "Error - Test Set  :  0.09157500133851881\n"
     ]
    }
   ],
   "source": [
    "# Model Evaluation using MAPE\n",
    "print('Error - Train Set : ', mean_absolute_percentage_error(y_train, y_pred_train_II))\n",
    "print('Error - Test Set  : ', mean_absolute_percentage_error(y_test, y_pred_test_II))"
   ]
  },
  {
   "cell_type": "code",
   "execution_count": 279,
   "metadata": {},
   "outputs": [
    {
     "name": "stdout",
     "output_type": "stream",
     "text": [
      "Score - Train Set :  0.8450861177824635\n",
      "Score - Test Set  :  0.8047488846594234\n"
     ]
    }
   ],
   "source": [
    "# Model Evaluation using r2score\n",
    "print('Score - Train Set : ', r2_score(y_train, y_pred_train_II))\n",
    "print('Score - Test Set  : ', r2_score(y_test, y_pred_test_II))"
   ]
  },
  {
   "cell_type": "markdown",
   "metadata": {},
   "source": [
    "Hasil evaluasi Model II dengan Polynomial Regression degree 2 ternyata cukup overfit. Berdasarkan r2score, terdapat perbedaan sekitar 4% antara train set yang mendapatkan 0.84 dengan test set yang mendapatkan 0.80. Memang perbedaan sekitar 4% tidak terlalu besar, namun menurut saya model ini tetap overfit.\n",
    "\n",
    "Sama dengan Jumlah error dalam MAPE dan MAE Model I, model ini juga memiliki jumlah error dalam MAPE dan MAE yang sangat tinggi. Namun hal ini sebenarnya bukan masalah, karena objectives dari project ini adalah memprediksi kolom 'Score' yang outputnya berupa bilangan desimal dengan jumlah angka di belakang koma yang sangat banyak, tidak memungkinkan bagi model untuk mengeluarkan angka yang 100% sama. Namun demikian model ini tidak akan saya gunakan karena menurut saya model ini overfit."
   ]
  },
  {
   "cell_type": "markdown",
   "metadata": {},
   "source": [
    "# Model III (Polynomial Regression Degree 3)"
   ]
  },
  {
   "cell_type": "code",
   "execution_count": 280,
   "metadata": {},
   "outputs": [
    {
     "data": {
      "text/html": [
       "<style>#sk-container-id-17 {color: black;background-color: white;}#sk-container-id-17 pre{padding: 0;}#sk-container-id-17 div.sk-toggleable {background-color: white;}#sk-container-id-17 label.sk-toggleable__label {cursor: pointer;display: block;width: 100%;margin-bottom: 0;padding: 0.3em;box-sizing: border-box;text-align: center;}#sk-container-id-17 label.sk-toggleable__label-arrow:before {content: \"▸\";float: left;margin-right: 0.25em;color: #696969;}#sk-container-id-17 label.sk-toggleable__label-arrow:hover:before {color: black;}#sk-container-id-17 div.sk-estimator:hover label.sk-toggleable__label-arrow:before {color: black;}#sk-container-id-17 div.sk-toggleable__content {max-height: 0;max-width: 0;overflow: hidden;text-align: left;background-color: #f0f8ff;}#sk-container-id-17 div.sk-toggleable__content pre {margin: 0.2em;color: black;border-radius: 0.25em;background-color: #f0f8ff;}#sk-container-id-17 input.sk-toggleable__control:checked~div.sk-toggleable__content {max-height: 200px;max-width: 100%;overflow: auto;}#sk-container-id-17 input.sk-toggleable__control:checked~label.sk-toggleable__label-arrow:before {content: \"▾\";}#sk-container-id-17 div.sk-estimator input.sk-toggleable__control:checked~label.sk-toggleable__label {background-color: #d4ebff;}#sk-container-id-17 div.sk-label input.sk-toggleable__control:checked~label.sk-toggleable__label {background-color: #d4ebff;}#sk-container-id-17 input.sk-hidden--visually {border: 0;clip: rect(1px 1px 1px 1px);clip: rect(1px, 1px, 1px, 1px);height: 1px;margin: -1px;overflow: hidden;padding: 0;position: absolute;width: 1px;}#sk-container-id-17 div.sk-estimator {font-family: monospace;background-color: #f0f8ff;border: 1px dotted black;border-radius: 0.25em;box-sizing: border-box;margin-bottom: 0.5em;}#sk-container-id-17 div.sk-estimator:hover {background-color: #d4ebff;}#sk-container-id-17 div.sk-parallel-item::after {content: \"\";width: 100%;border-bottom: 1px solid gray;flex-grow: 1;}#sk-container-id-17 div.sk-label:hover label.sk-toggleable__label {background-color: #d4ebff;}#sk-container-id-17 div.sk-serial::before {content: \"\";position: absolute;border-left: 1px solid gray;box-sizing: border-box;top: 0;bottom: 0;left: 50%;z-index: 0;}#sk-container-id-17 div.sk-serial {display: flex;flex-direction: column;align-items: center;background-color: white;padding-right: 0.2em;padding-left: 0.2em;position: relative;}#sk-container-id-17 div.sk-item {position: relative;z-index: 1;}#sk-container-id-17 div.sk-parallel {display: flex;align-items: stretch;justify-content: center;background-color: white;position: relative;}#sk-container-id-17 div.sk-item::before, #sk-container-id-17 div.sk-parallel-item::before {content: \"\";position: absolute;border-left: 1px solid gray;box-sizing: border-box;top: 0;bottom: 0;left: 50%;z-index: -1;}#sk-container-id-17 div.sk-parallel-item {display: flex;flex-direction: column;z-index: 1;position: relative;background-color: white;}#sk-container-id-17 div.sk-parallel-item:first-child::after {align-self: flex-end;width: 50%;}#sk-container-id-17 div.sk-parallel-item:last-child::after {align-self: flex-start;width: 50%;}#sk-container-id-17 div.sk-parallel-item:only-child::after {width: 0;}#sk-container-id-17 div.sk-dashed-wrapped {border: 1px dashed gray;margin: 0 0.4em 0.5em 0.4em;box-sizing: border-box;padding-bottom: 0.4em;background-color: white;}#sk-container-id-17 div.sk-label label {font-family: monospace;font-weight: bold;display: inline-block;line-height: 1.2em;}#sk-container-id-17 div.sk-label-container {text-align: center;}#sk-container-id-17 div.sk-container {/* jupyter's `normalize.less` sets `[hidden] { display: none; }` but bootstrap.min.css set `[hidden] { display: none !important; }` so we also need the `!important` here to be able to override the default hidden behavior on the sphinx rendered scikit-learn.org. See: https://github.com/scikit-learn/scikit-learn/issues/21755 */display: inline-block !important;position: relative;}#sk-container-id-17 div.sk-text-repr-fallback {display: none;}</style><div id=\"sk-container-id-17\" class=\"sk-top-container\"><div class=\"sk-text-repr-fallback\"><pre>Pipeline(steps=[(&#x27;polynomialfeatures&#x27;, PolynomialFeatures(degree=3)),\n",
       "                (&#x27;linearregression&#x27;, LinearRegression())])</pre><b>In a Jupyter environment, please rerun this cell to show the HTML representation or trust the notebook. <br />On GitHub, the HTML representation is unable to render, please try loading this page with nbviewer.org.</b></div><div class=\"sk-container\" hidden><div class=\"sk-item sk-dashed-wrapped\"><div class=\"sk-label-container\"><div class=\"sk-label sk-toggleable\"><input class=\"sk-toggleable__control sk-hidden--visually\" id=\"sk-estimator-id-39\" type=\"checkbox\" ><label for=\"sk-estimator-id-39\" class=\"sk-toggleable__label sk-toggleable__label-arrow\">Pipeline</label><div class=\"sk-toggleable__content\"><pre>Pipeline(steps=[(&#x27;polynomialfeatures&#x27;, PolynomialFeatures(degree=3)),\n",
       "                (&#x27;linearregression&#x27;, LinearRegression())])</pre></div></div></div><div class=\"sk-serial\"><div class=\"sk-item\"><div class=\"sk-estimator sk-toggleable\"><input class=\"sk-toggleable__control sk-hidden--visually\" id=\"sk-estimator-id-40\" type=\"checkbox\" ><label for=\"sk-estimator-id-40\" class=\"sk-toggleable__label sk-toggleable__label-arrow\">PolynomialFeatures</label><div class=\"sk-toggleable__content\"><pre>PolynomialFeatures(degree=3)</pre></div></div></div><div class=\"sk-item\"><div class=\"sk-estimator sk-toggleable\"><input class=\"sk-toggleable__control sk-hidden--visually\" id=\"sk-estimator-id-41\" type=\"checkbox\" ><label for=\"sk-estimator-id-41\" class=\"sk-toggleable__label sk-toggleable__label-arrow\">LinearRegression</label><div class=\"sk-toggleable__content\"><pre>LinearRegression()</pre></div></div></div></div></div></div></div>"
      ],
      "text/plain": [
       "Pipeline(steps=[('polynomialfeatures', PolynomialFeatures(degree=3)),\n",
       "                ('linearregression', LinearRegression())])"
      ]
     },
     "execution_count": 280,
     "metadata": {},
     "output_type": "execute_result"
    }
   ],
   "source": [
    "# Modelling\n",
    "model_poly_3 = make_pipeline(PolynomialFeatures(3), LinearRegression())\n",
    "\n",
    "# Model training\n",
    "model_poly_3.fit(X_train_final, y_train)"
   ]
  },
  {
   "cell_type": "code",
   "execution_count": 281,
   "metadata": {},
   "outputs": [],
   "source": [
    "# Model Evaluation\n",
    "# Predict against train-set and test-set\n",
    "y_pred_train_III = model_poly_3.predict(X_train_final)\n",
    "y_pred_test_III = model_poly_3.predict(X_test_final)"
   ]
  },
  {
   "cell_type": "code",
   "execution_count": 282,
   "metadata": {},
   "outputs": [
    {
     "name": "stdout",
     "output_type": "stream",
     "text": [
      "Error - Train Set: 0.22439698949353445\n",
      "Error - Test Set: 0.6383843749999999\n"
     ]
    }
   ],
   "source": [
    "# Model Evaluation using MAE\n",
    "print('Error - Train Set:', mean_absolute_error(y_train, y_pred_train_III))\n",
    "print('Error - Test Set:', mean_absolute_error(y_test, y_pred_test_III))"
   ]
  },
  {
   "cell_type": "code",
   "execution_count": 283,
   "metadata": {},
   "outputs": [
    {
     "name": "stdout",
     "output_type": "stream",
     "text": [
      "Error - Train Set :  0.041708435733627765\n",
      "Error - Test Set  :  0.13567478368189317\n"
     ]
    }
   ],
   "source": [
    "# Model Evaluation using MAPE\n",
    "print('Error - Train Set : ', mean_absolute_percentage_error(y_train, y_pred_train_III))\n",
    "print('Error - Test Set  : ', mean_absolute_percentage_error(y_test, y_pred_test_III))"
   ]
  },
  {
   "cell_type": "code",
   "execution_count": 284,
   "metadata": {},
   "outputs": [
    {
     "name": "stdout",
     "output_type": "stream",
     "text": [
      "Score - Train Set :  0.9255968259275015\n",
      "Score - Test Set  :  0.5135443007548792\n"
     ]
    }
   ],
   "source": [
    "# Model Evaluation using r2score\n",
    "print('Score - Train Set : ', r2_score(y_train, y_pred_train_III))\n",
    "print('Score - Test Set  : ', r2_score(y_test, y_pred_test_III))"
   ]
  },
  {
   "cell_type": "markdown",
   "metadata": {},
   "source": [
    "Hasil evaluasi Model III dengan Polynomial Regression degree 3 ternyata kurang baik, karena mengalami overfit yang cukup parah. Dimana score train set 0.92 sedangkan score test set hanya 0.51. Model ini tidak bisa digunakan karena hasil prediksi yang dikeluarkan pasti akan melenceng terlalu jauh. \n",
    "\n",
    "Karena Model II merupakan model dengan r2score tertinggi, maka model inilah yang akan digunakan untuk diuji dengan data inference."
   ]
  },
  {
   "cell_type": "markdown",
   "metadata": {},
   "source": [
    "# Grid Search\n",
    "\n",
    "Untuk mendapatkan parameter terbaik dari sebuah model sebenarnya kita dapat melakukan tuning parameter dengan melakukan GridSearch. Namun karena model terbaik berdasarkan hasil hasil uji train dan test set adalah model I (Linear Regression), sepertinya tidak perlu melakukan proses GridSearch. Model Linear Regression tidak memiliki parameter yang dapat di tune, sehingga tidak dapat dilakukan proses GridSearch untuk model ini. Dengan demikian, model akan langsung diuji dengan dataset inference.\n",
    "\n",
    "Sumber: https://stackoverflow.com/questions/60454618/is-it-possible-to-tune-the-linear-regression-hyperparameter-in-sklearn"
   ]
  },
  {
   "cell_type": "markdown",
   "metadata": {},
   "source": [
    "# Model Testing"
   ]
  },
  {
   "cell_type": "code",
   "execution_count": 285,
   "metadata": {},
   "outputs": [
    {
     "data": {
      "text/html": [
       "<div>\n",
       "<style scoped>\n",
       "    .dataframe tbody tr th:only-of-type {\n",
       "        vertical-align: middle;\n",
       "    }\n",
       "\n",
       "    .dataframe tbody tr th {\n",
       "        vertical-align: top;\n",
       "    }\n",
       "\n",
       "    .dataframe thead th {\n",
       "        text-align: right;\n",
       "    }\n",
       "</style>\n",
       "<table border=\"1\" class=\"dataframe\">\n",
       "  <thead>\n",
       "    <tr style=\"text-align: right;\">\n",
       "      <th></th>\n",
       "      <th>Rank</th>\n",
       "      <th>Country</th>\n",
       "      <th>Score</th>\n",
       "      <th>GDP</th>\n",
       "      <th>Social_support</th>\n",
       "      <th>Life_expectancy</th>\n",
       "      <th>Freedom</th>\n",
       "      <th>Generosity</th>\n",
       "      <th>Corruption</th>\n",
       "    </tr>\n",
       "  </thead>\n",
       "  <tbody>\n",
       "    <tr>\n",
       "      <th>0</th>\n",
       "      <td>17</td>\n",
       "      <td>Germany</td>\n",
       "      <td>6.985</td>\n",
       "      <td>1.373</td>\n",
       "      <td>1.454</td>\n",
       "      <td>0.987</td>\n",
       "      <td>0.495</td>\n",
       "      <td>0.261</td>\n",
       "      <td>0.265</td>\n",
       "    </tr>\n",
       "    <tr>\n",
       "      <th>1</th>\n",
       "      <td>82</td>\n",
       "      <td>Greece</td>\n",
       "      <td>5.287</td>\n",
       "      <td>1.181</td>\n",
       "      <td>1.156</td>\n",
       "      <td>0.999</td>\n",
       "      <td>0.067</td>\n",
       "      <td>0.000</td>\n",
       "      <td>0.034</td>\n",
       "    </tr>\n",
       "    <tr>\n",
       "      <th>2</th>\n",
       "      <td>153</td>\n",
       "      <td>Tanzania</td>\n",
       "      <td>3.231</td>\n",
       "      <td>0.476</td>\n",
       "      <td>0.885</td>\n",
       "      <td>0.499</td>\n",
       "      <td>0.417</td>\n",
       "      <td>0.276</td>\n",
       "      <td>0.147</td>\n",
       "    </tr>\n",
       "    <tr>\n",
       "      <th>3</th>\n",
       "      <td>54</td>\n",
       "      <td>South Korea</td>\n",
       "      <td>5.895</td>\n",
       "      <td>1.301</td>\n",
       "      <td>1.219</td>\n",
       "      <td>1.036</td>\n",
       "      <td>0.159</td>\n",
       "      <td>0.175</td>\n",
       "      <td>0.056</td>\n",
       "    </tr>\n",
       "    <tr>\n",
       "      <th>4</th>\n",
       "      <td>56</td>\n",
       "      <td>Jamaica</td>\n",
       "      <td>5.890</td>\n",
       "      <td>0.831</td>\n",
       "      <td>1.478</td>\n",
       "      <td>0.831</td>\n",
       "      <td>0.490</td>\n",
       "      <td>0.107</td>\n",
       "      <td>0.028</td>\n",
       "    </tr>\n",
       "    <tr>\n",
       "      <th>5</th>\n",
       "      <td>78</td>\n",
       "      <td>Bosnia and Herzegovina</td>\n",
       "      <td>5.386</td>\n",
       "      <td>0.945</td>\n",
       "      <td>1.212</td>\n",
       "      <td>0.845</td>\n",
       "      <td>0.212</td>\n",
       "      <td>0.263</td>\n",
       "      <td>0.006</td>\n",
       "    </tr>\n",
       "    <tr>\n",
       "      <th>6</th>\n",
       "      <td>128</td>\n",
       "      <td>Mali</td>\n",
       "      <td>4.390</td>\n",
       "      <td>0.385</td>\n",
       "      <td>1.105</td>\n",
       "      <td>0.308</td>\n",
       "      <td>0.327</td>\n",
       "      <td>0.153</td>\n",
       "      <td>0.052</td>\n",
       "    </tr>\n",
       "    <tr>\n",
       "      <th>7</th>\n",
       "      <td>98</td>\n",
       "      <td>Ghana</td>\n",
       "      <td>4.996</td>\n",
       "      <td>0.611</td>\n",
       "      <td>0.868</td>\n",
       "      <td>0.486</td>\n",
       "      <td>0.381</td>\n",
       "      <td>0.245</td>\n",
       "      <td>0.040</td>\n",
       "    </tr>\n",
       "    <tr>\n",
       "      <th>8</th>\n",
       "      <td>105</td>\n",
       "      <td>Laos</td>\n",
       "      <td>4.796</td>\n",
       "      <td>0.764</td>\n",
       "      <td>1.030</td>\n",
       "      <td>0.551</td>\n",
       "      <td>0.547</td>\n",
       "      <td>0.266</td>\n",
       "      <td>0.164</td>\n",
       "    </tr>\n",
       "    <tr>\n",
       "      <th>9</th>\n",
       "      <td>114</td>\n",
       "      <td>Niger</td>\n",
       "      <td>4.628</td>\n",
       "      <td>0.138</td>\n",
       "      <td>0.774</td>\n",
       "      <td>0.366</td>\n",
       "      <td>0.318</td>\n",
       "      <td>0.188</td>\n",
       "      <td>0.102</td>\n",
       "    </tr>\n",
       "  </tbody>\n",
       "</table>\n",
       "</div>"
      ],
      "text/plain": [
       "   Rank                 Country  Score    GDP  Social_support  \\\n",
       "0    17                 Germany  6.985  1.373           1.454   \n",
       "1    82                  Greece  5.287  1.181           1.156   \n",
       "2   153                Tanzania  3.231  0.476           0.885   \n",
       "3    54             South Korea  5.895  1.301           1.219   \n",
       "4    56                 Jamaica  5.890  0.831           1.478   \n",
       "5    78  Bosnia and Herzegovina  5.386  0.945           1.212   \n",
       "6   128                    Mali  4.390  0.385           1.105   \n",
       "7    98                   Ghana  4.996  0.611           0.868   \n",
       "8   105                    Laos  4.796  0.764           1.030   \n",
       "9   114                   Niger  4.628  0.138           0.774   \n",
       "\n",
       "   Life_expectancy  Freedom  Generosity  Corruption  \n",
       "0            0.987    0.495       0.261       0.265  \n",
       "1            0.999    0.067       0.000       0.034  \n",
       "2            0.499    0.417       0.276       0.147  \n",
       "3            1.036    0.159       0.175       0.056  \n",
       "4            0.831    0.490       0.107       0.028  \n",
       "5            0.845    0.212       0.263       0.006  \n",
       "6            0.308    0.327       0.153       0.052  \n",
       "7            0.486    0.381       0.245       0.040  \n",
       "8            0.551    0.547       0.266       0.164  \n",
       "9            0.366    0.318       0.188       0.102  "
      ]
     },
     "execution_count": 285,
     "metadata": {},
     "output_type": "execute_result"
    }
   ],
   "source": [
    "# menunjukan dataset inference\n",
    "df_inf"
   ]
  },
  {
   "cell_type": "code",
   "execution_count": 286,
   "metadata": {},
   "outputs": [],
   "source": [
    "# split numerical and categorial columns\n",
    "df_inf_num = df_inf[num_cols]\n",
    "df_inf_cat = df_inf[cat_cols]"
   ]
  },
  {
   "cell_type": "code",
   "execution_count": 287,
   "metadata": {},
   "outputs": [],
   "source": [
    "# Feature scaling and encoding\n",
    "df_inf_num_scaled = scaler.transform(df_inf_num)"
   ]
  },
  {
   "cell_type": "code",
   "execution_count": 288,
   "metadata": {},
   "outputs": [
    {
     "data": {
      "text/plain": [
       "array([[0.81532067, 0.8953202 , 0.86503067, 0.7844691 , 0.58129176],\n",
       "       [0.70130641, 0.71182266, 0.87554777, 0.10618067, 0.06681514],\n",
       "       [0.28266033, 0.54495074, 0.43733567, 0.66085578, 0.31848552],\n",
       "       [0.77256532, 0.75061576, 0.90797546, 0.25198098, 0.11581292],\n",
       "       [0.49346793, 0.91009852, 0.7283085 , 0.77654517, 0.05345212],\n",
       "       [0.5611639 , 0.74630542, 0.74057844, 0.33597464, 0.00445434],\n",
       "       [0.22862233, 0.68041872, 0.26993865, 0.51822504, 0.10690423],\n",
       "       [0.3628266 , 0.53448276, 0.42594216, 0.60380349, 0.08017817],\n",
       "       [0.45368171, 0.63423645, 0.48290973, 0.86687797, 0.35634744],\n",
       "       [0.08194774, 0.47660099, 0.32077125, 0.50396197, 0.21826281]])"
      ]
     },
     "execution_count": 288,
     "metadata": {},
     "output_type": "execute_result"
    }
   ],
   "source": [
    "# Concat columns\n",
    "df_inf_final = np.concatenate([df_inf_num_scaled, df_inf_cat], axis=1)\n",
    "df_inf_final"
   ]
  },
  {
   "cell_type": "code",
   "execution_count": 289,
   "metadata": {},
   "outputs": [
    {
     "data": {
      "text/plain": [
       "array([6.5774725 , 5.26847757, 4.60552595, 5.6144163 , 5.8415461 ,\n",
       "       5.20593823, 4.40053298, 4.51559347, 5.22994207, 3.92847836])"
      ]
     },
     "execution_count": 289,
     "metadata": {},
     "output_type": "execute_result"
    }
   ],
   "source": [
    "# Prediksi menggunakan Model I (Linear Regression)\n",
    "y_pred_inf = model_lin_reg.predict(df_inf_final)\n",
    "y_pred_inf"
   ]
  },
  {
   "cell_type": "code",
   "execution_count": 290,
   "metadata": {},
   "outputs": [
    {
     "data": {
      "text/html": [
       "<div>\n",
       "<style scoped>\n",
       "    .dataframe tbody tr th:only-of-type {\n",
       "        vertical-align: middle;\n",
       "    }\n",
       "\n",
       "    .dataframe tbody tr th {\n",
       "        vertical-align: top;\n",
       "    }\n",
       "\n",
       "    .dataframe thead th {\n",
       "        text-align: right;\n",
       "    }\n",
       "</style>\n",
       "<table border=\"1\" class=\"dataframe\">\n",
       "  <thead>\n",
       "    <tr style=\"text-align: right;\">\n",
       "      <th></th>\n",
       "      <th>Score - Prediction</th>\n",
       "    </tr>\n",
       "  </thead>\n",
       "  <tbody>\n",
       "    <tr>\n",
       "      <th>0</th>\n",
       "      <td>6.577472</td>\n",
       "    </tr>\n",
       "    <tr>\n",
       "      <th>1</th>\n",
       "      <td>5.268478</td>\n",
       "    </tr>\n",
       "    <tr>\n",
       "      <th>2</th>\n",
       "      <td>4.605526</td>\n",
       "    </tr>\n",
       "    <tr>\n",
       "      <th>3</th>\n",
       "      <td>5.614416</td>\n",
       "    </tr>\n",
       "    <tr>\n",
       "      <th>4</th>\n",
       "      <td>5.841546</td>\n",
       "    </tr>\n",
       "    <tr>\n",
       "      <th>5</th>\n",
       "      <td>5.205938</td>\n",
       "    </tr>\n",
       "    <tr>\n",
       "      <th>6</th>\n",
       "      <td>4.400533</td>\n",
       "    </tr>\n",
       "    <tr>\n",
       "      <th>7</th>\n",
       "      <td>4.515593</td>\n",
       "    </tr>\n",
       "    <tr>\n",
       "      <th>8</th>\n",
       "      <td>5.229942</td>\n",
       "    </tr>\n",
       "    <tr>\n",
       "      <th>9</th>\n",
       "      <td>3.928478</td>\n",
       "    </tr>\n",
       "  </tbody>\n",
       "</table>\n",
       "</div>"
      ],
      "text/plain": [
       "   Score - Prediction\n",
       "0            6.577472\n",
       "1            5.268478\n",
       "2            4.605526\n",
       "3            5.614416\n",
       "4            5.841546\n",
       "5            5.205938\n",
       "6            4.400533\n",
       "7            4.515593\n",
       "8            5.229942\n",
       "9            3.928478"
      ]
     },
     "execution_count": 290,
     "metadata": {},
     "output_type": "execute_result"
    }
   ],
   "source": [
    "# Membentuk hasil prediksi menjadi sebuah dataframe\n",
    "y_pred_inf_df = pd.DataFrame(y_pred_inf, columns=['Score - Prediction'])\n",
    "y_pred_inf_df"
   ]
  },
  {
   "cell_type": "code",
   "execution_count": 291,
   "metadata": {},
   "outputs": [
    {
     "data": {
      "text/html": [
       "<div>\n",
       "<style scoped>\n",
       "    .dataframe tbody tr th:only-of-type {\n",
       "        vertical-align: middle;\n",
       "    }\n",
       "\n",
       "    .dataframe tbody tr th {\n",
       "        vertical-align: top;\n",
       "    }\n",
       "\n",
       "    .dataframe thead th {\n",
       "        text-align: right;\n",
       "    }\n",
       "</style>\n",
       "<table border=\"1\" class=\"dataframe\">\n",
       "  <thead>\n",
       "    <tr style=\"text-align: right;\">\n",
       "      <th></th>\n",
       "      <th>Rank</th>\n",
       "      <th>Country</th>\n",
       "      <th>Score</th>\n",
       "      <th>GDP</th>\n",
       "      <th>Social_support</th>\n",
       "      <th>Life_expectancy</th>\n",
       "      <th>Freedom</th>\n",
       "      <th>Generosity</th>\n",
       "      <th>Corruption</th>\n",
       "      <th>Score - Prediction</th>\n",
       "    </tr>\n",
       "  </thead>\n",
       "  <tbody>\n",
       "    <tr>\n",
       "      <th>0</th>\n",
       "      <td>17</td>\n",
       "      <td>Germany</td>\n",
       "      <td>6.985</td>\n",
       "      <td>1.373</td>\n",
       "      <td>1.454</td>\n",
       "      <td>0.987</td>\n",
       "      <td>0.495</td>\n",
       "      <td>0.261</td>\n",
       "      <td>0.265</td>\n",
       "      <td>6.577472</td>\n",
       "    </tr>\n",
       "    <tr>\n",
       "      <th>1</th>\n",
       "      <td>82</td>\n",
       "      <td>Greece</td>\n",
       "      <td>5.287</td>\n",
       "      <td>1.181</td>\n",
       "      <td>1.156</td>\n",
       "      <td>0.999</td>\n",
       "      <td>0.067</td>\n",
       "      <td>0.000</td>\n",
       "      <td>0.034</td>\n",
       "      <td>5.268478</td>\n",
       "    </tr>\n",
       "    <tr>\n",
       "      <th>2</th>\n",
       "      <td>153</td>\n",
       "      <td>Tanzania</td>\n",
       "      <td>3.231</td>\n",
       "      <td>0.476</td>\n",
       "      <td>0.885</td>\n",
       "      <td>0.499</td>\n",
       "      <td>0.417</td>\n",
       "      <td>0.276</td>\n",
       "      <td>0.147</td>\n",
       "      <td>4.605526</td>\n",
       "    </tr>\n",
       "    <tr>\n",
       "      <th>3</th>\n",
       "      <td>54</td>\n",
       "      <td>South Korea</td>\n",
       "      <td>5.895</td>\n",
       "      <td>1.301</td>\n",
       "      <td>1.219</td>\n",
       "      <td>1.036</td>\n",
       "      <td>0.159</td>\n",
       "      <td>0.175</td>\n",
       "      <td>0.056</td>\n",
       "      <td>5.614416</td>\n",
       "    </tr>\n",
       "    <tr>\n",
       "      <th>4</th>\n",
       "      <td>56</td>\n",
       "      <td>Jamaica</td>\n",
       "      <td>5.890</td>\n",
       "      <td>0.831</td>\n",
       "      <td>1.478</td>\n",
       "      <td>0.831</td>\n",
       "      <td>0.490</td>\n",
       "      <td>0.107</td>\n",
       "      <td>0.028</td>\n",
       "      <td>5.841546</td>\n",
       "    </tr>\n",
       "    <tr>\n",
       "      <th>5</th>\n",
       "      <td>78</td>\n",
       "      <td>Bosnia and Herzegovina</td>\n",
       "      <td>5.386</td>\n",
       "      <td>0.945</td>\n",
       "      <td>1.212</td>\n",
       "      <td>0.845</td>\n",
       "      <td>0.212</td>\n",
       "      <td>0.263</td>\n",
       "      <td>0.006</td>\n",
       "      <td>5.205938</td>\n",
       "    </tr>\n",
       "    <tr>\n",
       "      <th>6</th>\n",
       "      <td>128</td>\n",
       "      <td>Mali</td>\n",
       "      <td>4.390</td>\n",
       "      <td>0.385</td>\n",
       "      <td>1.105</td>\n",
       "      <td>0.308</td>\n",
       "      <td>0.327</td>\n",
       "      <td>0.153</td>\n",
       "      <td>0.052</td>\n",
       "      <td>4.400533</td>\n",
       "    </tr>\n",
       "    <tr>\n",
       "      <th>7</th>\n",
       "      <td>98</td>\n",
       "      <td>Ghana</td>\n",
       "      <td>4.996</td>\n",
       "      <td>0.611</td>\n",
       "      <td>0.868</td>\n",
       "      <td>0.486</td>\n",
       "      <td>0.381</td>\n",
       "      <td>0.245</td>\n",
       "      <td>0.040</td>\n",
       "      <td>4.515593</td>\n",
       "    </tr>\n",
       "    <tr>\n",
       "      <th>8</th>\n",
       "      <td>105</td>\n",
       "      <td>Laos</td>\n",
       "      <td>4.796</td>\n",
       "      <td>0.764</td>\n",
       "      <td>1.030</td>\n",
       "      <td>0.551</td>\n",
       "      <td>0.547</td>\n",
       "      <td>0.266</td>\n",
       "      <td>0.164</td>\n",
       "      <td>5.229942</td>\n",
       "    </tr>\n",
       "    <tr>\n",
       "      <th>9</th>\n",
       "      <td>114</td>\n",
       "      <td>Niger</td>\n",
       "      <td>4.628</td>\n",
       "      <td>0.138</td>\n",
       "      <td>0.774</td>\n",
       "      <td>0.366</td>\n",
       "      <td>0.318</td>\n",
       "      <td>0.188</td>\n",
       "      <td>0.102</td>\n",
       "      <td>3.928478</td>\n",
       "    </tr>\n",
       "  </tbody>\n",
       "</table>\n",
       "</div>"
      ],
      "text/plain": [
       "   Rank                 Country  Score    GDP  Social_support  \\\n",
       "0    17                 Germany  6.985  1.373           1.454   \n",
       "1    82                  Greece  5.287  1.181           1.156   \n",
       "2   153                Tanzania  3.231  0.476           0.885   \n",
       "3    54             South Korea  5.895  1.301           1.219   \n",
       "4    56                 Jamaica  5.890  0.831           1.478   \n",
       "5    78  Bosnia and Herzegovina  5.386  0.945           1.212   \n",
       "6   128                    Mali  4.390  0.385           1.105   \n",
       "7    98                   Ghana  4.996  0.611           0.868   \n",
       "8   105                    Laos  4.796  0.764           1.030   \n",
       "9   114                   Niger  4.628  0.138           0.774   \n",
       "\n",
       "   Life_expectancy  Freedom  Generosity  Corruption  Score - Prediction  \n",
       "0            0.987    0.495       0.261       0.265            6.577472  \n",
       "1            0.999    0.067       0.000       0.034            5.268478  \n",
       "2            0.499    0.417       0.276       0.147            4.605526  \n",
       "3            1.036    0.159       0.175       0.056            5.614416  \n",
       "4            0.831    0.490       0.107       0.028            5.841546  \n",
       "5            0.845    0.212       0.263       0.006            5.205938  \n",
       "6            0.308    0.327       0.153       0.052            4.400533  \n",
       "7            0.486    0.381       0.245       0.040            4.515593  \n",
       "8            0.551    0.547       0.266       0.164            5.229942  \n",
       "9            0.366    0.318       0.188       0.102            3.928478  "
      ]
     },
     "execution_count": 291,
     "metadata": {},
     "output_type": "execute_result"
    }
   ],
   "source": [
    "pd.concat([df_inf, y_pred_inf_df], axis =1)"
   ]
  },
  {
   "cell_type": "markdown",
   "metadata": {},
   "source": [
    "# Conclusion"
   ]
  },
  {
   "cell_type": "markdown",
   "metadata": {},
   "source": [
    "# Save Model"
   ]
  },
  {
   "cell_type": "code",
   "execution_count": 295,
   "metadata": {},
   "outputs": [],
   "source": [
    "with open('model.pkl', 'wb') as f:\n",
    "    pickle.dump(model_lin_reg, f)"
   ]
  },
  {
   "cell_type": "code",
   "execution_count": 296,
   "metadata": {},
   "outputs": [],
   "source": [
    "with open('scaler.pkl', 'wb') as f:\n",
    "    pickle.dump(scaler, f)"
   ]
  }
 ],
 "metadata": {
  "interpreter": {
   "hash": "c656109590d48192edc5049bd821f9c22d25396e84daa2fca2c0589f5186d14f"
  },
  "kernelspec": {
   "display_name": "Python 3.9.12 ('base')",
   "language": "python",
   "name": "python3"
  },
  "language_info": {
   "codemirror_mode": {
    "name": "ipython",
    "version": 3
   },
   "file_extension": ".py",
   "mimetype": "text/x-python",
   "name": "python",
   "nbconvert_exporter": "python",
   "pygments_lexer": "ipython3",
   "version": "3.9.12"
  },
  "orig_nbformat": 4
 },
 "nbformat": 4,
 "nbformat_minor": 2
}
